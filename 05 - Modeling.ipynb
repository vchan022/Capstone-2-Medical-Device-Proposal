{
 "cells": [
  {
   "cell_type": "markdown",
   "id": "cc56ecbe",
   "metadata": {},
   "source": [
    "# Modeling"
   ]
  },
  {
   "cell_type": "markdown",
   "id": "6ac67c20",
   "metadata": {},
   "source": [
    "In this section, I will develop a final model that will effectively predict whether adding blood glucose test/reagent strips to TG Medical (USA) Inc.'s product line will generate profit for the company."
   ]
  },
  {
   "cell_type": "code",
   "execution_count": 1,
   "id": "440c55e9",
   "metadata": {},
   "outputs": [],
   "source": [
    "import pandas as pd\n",
    "import numpy as np\n",
    "import os\n",
    "import pickle\n",
    "import matplotlib.pyplot as plt\n",
    "import seaborn as sns\n",
    "from sklearn.preprocessing import scale\n",
    "from sklearn.model_selection import train_test_split, cross_validate, GridSearchCV, learning_curve, validation_curve\n",
    "from sklearn.preprocessing import StandardScaler, MinMaxScaler\n",
    "from sklearn.linear_model import LinearRegression\n",
    "from sklearn.metrics import mean_squared_error\n",
    "from sklearn.ensemble import RandomForestRegressor\n",
    "from sklearn.model_selection import cross_val_score\n",
    "from sklearn.metrics import accuracy_score\n",
    "from sklearn import preprocessing\n",
    "import joblib"
   ]
  },
  {
   "cell_type": "markdown",
   "id": "379127c8",
   "metadata": {},
   "source": [
    "Load in the best model which we found in the previous section along with it's testing and training sets."
   ]
  },
  {
   "cell_type": "code",
   "execution_count": 2,
   "id": "d9daffb7",
   "metadata": {},
   "outputs": [],
   "source": [
    "model = joblib.load('medical_device_model.pkl')"
   ]
  },
  {
   "cell_type": "code",
   "execution_count": 3,
   "id": "ffd5fca9",
   "metadata": {},
   "outputs": [],
   "source": [
    "with open('X_train.pkl', 'rb') as file:\n",
    "    X_train = pickle.load(file)"
   ]
  },
  {
   "cell_type": "code",
   "execution_count": 4,
   "id": "0b0f3287",
   "metadata": {},
   "outputs": [],
   "source": [
    "with open('y_train.pkl', 'rb') as file:\n",
    "    y_train = pickle.load(file)"
   ]
  },
  {
   "cell_type": "code",
   "execution_count": 5,
   "id": "d9219d36",
   "metadata": {},
   "outputs": [],
   "source": [
    "with open('X_test.pkl', 'rb') as file:\n",
    "    X_test = pickle.load(file)"
   ]
  },
  {
   "cell_type": "code",
   "execution_count": 6,
   "id": "947fce92",
   "metadata": {},
   "outputs": [],
   "source": [
    "with open('y_test.pkl', 'rb') as file:\n",
    "    y_test = pickle.load(file)"
   ]
  },
  {
   "cell_type": "markdown",
   "id": "c855e9da",
   "metadata": {},
   "source": [
    "Load the data"
   ]
  },
  {
   "cell_type": "code",
   "execution_count": 7,
   "id": "9e326aec",
   "metadata": {},
   "outputs": [
    {
     "name": "stderr",
     "output_type": "stream",
     "text": [
      "C:\\Users\\veron\\AppData\\Local\\Temp\\ipykernel_35340\\2296681516.py:1: DtypeWarning: Columns (2) have mixed types. Specify dtype option on import or set low_memory=False.\n",
      "  df = pd.read_csv('Wrangled.csv')\n"
     ]
    }
   ],
   "source": [
    "df = pd.read_csv('Wrangled.csv')"
   ]
  },
  {
   "cell_type": "markdown",
   "id": "7710dd5e",
   "metadata": {},
   "source": [
    "There seems to be an additional column containing the indexes of the DataFrame, we will remove this Unnamed column using the drop() method."
   ]
  },
  {
   "cell_type": "code",
   "execution_count": 8,
   "id": "e1fb90ff",
   "metadata": {},
   "outputs": [],
   "source": [
    "df = df.drop(df.columns[0], axis=1)"
   ]
  },
  {
   "cell_type": "markdown",
   "id": "512ace2a",
   "metadata": {},
   "source": [
    "We will find the medical device with the most referring providers (most providers ordering this item) using the max() method."
   ]
  },
  {
   "cell_type": "code",
   "execution_count": 9,
   "id": "5eaec954",
   "metadata": {},
   "outputs": [
    {
     "data": {
      "text/html": [
       "<div>\n",
       "<style scoped>\n",
       "    .dataframe tbody tr th:only-of-type {\n",
       "        vertical-align: middle;\n",
       "    }\n",
       "\n",
       "    .dataframe tbody tr th {\n",
       "        vertical-align: top;\n",
       "    }\n",
       "\n",
       "    .dataframe thead th {\n",
       "        text-align: right;\n",
       "    }\n",
       "</style>\n",
       "<table border=\"1\" class=\"dataframe\">\n",
       "  <thead>\n",
       "    <tr style=\"text-align: right;\">\n",
       "      <th></th>\n",
       "      <th>Rfrg_Prvdr_Geo_Lvl</th>\n",
       "      <th>Rfrg_Prvdr_Geo_Cd</th>\n",
       "      <th>Rfrg_Prvdr_Geo_Desc</th>\n",
       "      <th>BETOS_Lvl</th>\n",
       "      <th>BETOS_Cd</th>\n",
       "      <th>BETOS_Desc</th>\n",
       "      <th>HCPCS_Cd</th>\n",
       "      <th>HCPCS_Desc</th>\n",
       "      <th>Suplr_Rentl_Ind</th>\n",
       "      <th>Tot_Rfrg_Prvdrs</th>\n",
       "      <th>Tot_Suplrs</th>\n",
       "      <th>Tot_Suplr_Benes</th>\n",
       "      <th>Tot_Suplr_Clms</th>\n",
       "      <th>Tot_Suplr_Srvcs</th>\n",
       "      <th>Avg_Suplr_Sbmtd_Chrg</th>\n",
       "      <th>Avg_Suplr_Mdcr_Alowd_Amt</th>\n",
       "      <th>Avg_Suplr_Mdcr_Pymt_Amt</th>\n",
       "      <th>Avg_Suplr_Mdcr_Stdzd_Amt</th>\n",
       "    </tr>\n",
       "  </thead>\n",
       "  <tbody>\n",
       "    <tr>\n",
       "      <th>592</th>\n",
       "      <td>National</td>\n",
       "      <td>6.0</td>\n",
       "      <td>National</td>\n",
       "      <td>Durable Medical Equipment</td>\n",
       "      <td>D1E</td>\n",
       "      <td>Other DME</td>\n",
       "      <td>A4253</td>\n",
       "      <td>Blood glucose test or reagent strips for home ...</td>\n",
       "      <td>N</td>\n",
       "      <td>233762</td>\n",
       "      <td>43511</td>\n",
       "      <td>1891407.0</td>\n",
       "      <td>5104070</td>\n",
       "      <td>13931820</td>\n",
       "      <td>61.932717</td>\n",
       "      <td>8.400779</td>\n",
       "      <td>5.964003</td>\n",
       "      <td>5.786099</td>\n",
       "    </tr>\n",
       "  </tbody>\n",
       "</table>\n",
       "</div>"
      ],
      "text/plain": [
       "    Rfrg_Prvdr_Geo_Lvl Rfrg_Prvdr_Geo_Cd Rfrg_Prvdr_Geo_Desc  \\\n",
       "592           National               6.0            National   \n",
       "\n",
       "                     BETOS_Lvl BETOS_Cd BETOS_Desc HCPCS_Cd  \\\n",
       "592  Durable Medical Equipment      D1E  Other DME    A4253   \n",
       "\n",
       "                                            HCPCS_Desc Suplr_Rentl_Ind  \\\n",
       "592  Blood glucose test or reagent strips for home ...               N   \n",
       "\n",
       "     Tot_Rfrg_Prvdrs  Tot_Suplrs  Tot_Suplr_Benes  Tot_Suplr_Clms  \\\n",
       "592           233762       43511        1891407.0         5104070   \n",
       "\n",
       "     Tot_Suplr_Srvcs  Avg_Suplr_Sbmtd_Chrg  Avg_Suplr_Mdcr_Alowd_Amt  \\\n",
       "592         13931820             61.932717                  8.400779   \n",
       "\n",
       "     Avg_Suplr_Mdcr_Pymt_Amt  Avg_Suplr_Mdcr_Stdzd_Amt  \n",
       "592                 5.964003                  5.786099  "
      ]
     },
     "execution_count": 9,
     "metadata": {},
     "output_type": "execute_result"
    }
   ],
   "source": [
    "tot_rfrg_prvdrs_max = df['Tot_Rfrg_Prvdrs'].max()\n",
    "df.loc[df['Tot_Rfrg_Prvdrs'] == tot_rfrg_prvdrs_max]"
   ]
  },
  {
   "cell_type": "markdown",
   "id": "90e461b8",
   "metadata": {},
   "source": [
    "We found that the blood glucose test/reagent strip is the most ordered item, we will create a separate DataFrame for the blood glucose test/reagent strip data."
   ]
  },
  {
   "cell_type": "code",
   "execution_count": 10,
   "id": "b7caa3fe",
   "metadata": {},
   "outputs": [],
   "source": [
    "blood_glucose_test = df[df.HCPCS_Cd == 'A4253']"
   ]
  },
  {
   "cell_type": "markdown",
   "id": "9d2ddf8d",
   "metadata": {},
   "source": [
    "We will drop the unnecessary columns such as product descriptions and rental information."
   ]
  },
  {
   "cell_type": "code",
   "execution_count": 11,
   "id": "aec5f99a",
   "metadata": {},
   "outputs": [],
   "source": [
    "blood_glucose_test = blood_glucose_test.drop(columns=['Rfrg_Prvdr_Geo_Lvl', 'Rfrg_Prvdr_Geo_Cd', 'BETOS_Lvl', 'BETOS_Cd', 'BETOS_Desc', 'HCPCS_Desc', 'Suplr_Rentl_Ind'])"
   ]
  },
  {
   "cell_type": "code",
   "execution_count": 12,
   "id": "b60d81d4",
   "metadata": {},
   "outputs": [
    {
     "data": {
      "text/html": [
       "<div>\n",
       "<style scoped>\n",
       "    .dataframe tbody tr th:only-of-type {\n",
       "        vertical-align: middle;\n",
       "    }\n",
       "\n",
       "    .dataframe tbody tr th {\n",
       "        vertical-align: top;\n",
       "    }\n",
       "\n",
       "    .dataframe thead th {\n",
       "        text-align: right;\n",
       "    }\n",
       "</style>\n",
       "<table border=\"1\" class=\"dataframe\">\n",
       "  <thead>\n",
       "    <tr style=\"text-align: right;\">\n",
       "      <th></th>\n",
       "      <th>Rfrg_Prvdr_Geo_Desc</th>\n",
       "      <th>HCPCS_Cd</th>\n",
       "      <th>Tot_Rfrg_Prvdrs</th>\n",
       "      <th>Tot_Suplrs</th>\n",
       "      <th>Tot_Suplr_Benes</th>\n",
       "      <th>Tot_Suplr_Clms</th>\n",
       "      <th>Tot_Suplr_Srvcs</th>\n",
       "      <th>Avg_Suplr_Sbmtd_Chrg</th>\n",
       "      <th>Avg_Suplr_Mdcr_Alowd_Amt</th>\n",
       "      <th>Avg_Suplr_Mdcr_Pymt_Amt</th>\n",
       "      <th>Avg_Suplr_Mdcr_Stdzd_Amt</th>\n",
       "    </tr>\n",
       "  </thead>\n",
       "  <tbody>\n",
       "    <tr>\n",
       "      <th>592</th>\n",
       "      <td>National</td>\n",
       "      <td>A4253</td>\n",
       "      <td>233762</td>\n",
       "      <td>43511</td>\n",
       "      <td>1891407.0</td>\n",
       "      <td>5104070</td>\n",
       "      <td>13931820</td>\n",
       "      <td>61.932717</td>\n",
       "      <td>8.400779</td>\n",
       "      <td>5.964003</td>\n",
       "      <td>5.786099</td>\n",
       "    </tr>\n",
       "    <tr>\n",
       "      <th>1999</th>\n",
       "      <td>Alabama</td>\n",
       "      <td>A4253</td>\n",
       "      <td>3093</td>\n",
       "      <td>1406</td>\n",
       "      <td>25059.0</td>\n",
       "      <td>64060</td>\n",
       "      <td>181067</td>\n",
       "      <td>56.558110</td>\n",
       "      <td>8.423689</td>\n",
       "      <td>6.055243</td>\n",
       "      <td>5.858798</td>\n",
       "    </tr>\n",
       "    <tr>\n",
       "      <th>2624</th>\n",
       "      <td>Alaska</td>\n",
       "      <td>A4253</td>\n",
       "      <td>509</td>\n",
       "      <td>204</td>\n",
       "      <td>2394.0</td>\n",
       "      <td>5877</td>\n",
       "      <td>16216</td>\n",
       "      <td>64.369821</td>\n",
       "      <td>8.403106</td>\n",
       "      <td>5.852651</td>\n",
       "      <td>5.676490</td>\n",
       "    </tr>\n",
       "    <tr>\n",
       "      <th>3186</th>\n",
       "      <td>Arizona</td>\n",
       "      <td>A4253</td>\n",
       "      <td>4387</td>\n",
       "      <td>2262</td>\n",
       "      <td>29371.0</td>\n",
       "      <td>70945</td>\n",
       "      <td>207369</td>\n",
       "      <td>66.860627</td>\n",
       "      <td>8.386908</td>\n",
       "      <td>6.101452</td>\n",
       "      <td>5.931097</td>\n",
       "    </tr>\n",
       "    <tr>\n",
       "      <th>3987</th>\n",
       "      <td>Arkansas</td>\n",
       "      <td>A4253</td>\n",
       "      <td>2258</td>\n",
       "      <td>924</td>\n",
       "      <td>19444.0</td>\n",
       "      <td>51839</td>\n",
       "      <td>139633</td>\n",
       "      <td>49.084897</td>\n",
       "      <td>8.435714</td>\n",
       "      <td>6.028881</td>\n",
       "      <td>5.825964</td>\n",
       "    </tr>\n",
       "  </tbody>\n",
       "</table>\n",
       "</div>"
      ],
      "text/plain": [
       "     Rfrg_Prvdr_Geo_Desc HCPCS_Cd  Tot_Rfrg_Prvdrs  Tot_Suplrs  \\\n",
       "592             National    A4253           233762       43511   \n",
       "1999             Alabama    A4253             3093        1406   \n",
       "2624              Alaska    A4253              509         204   \n",
       "3186             Arizona    A4253             4387        2262   \n",
       "3987            Arkansas    A4253             2258         924   \n",
       "\n",
       "      Tot_Suplr_Benes  Tot_Suplr_Clms  Tot_Suplr_Srvcs  Avg_Suplr_Sbmtd_Chrg  \\\n",
       "592         1891407.0         5104070         13931820             61.932717   \n",
       "1999          25059.0           64060           181067             56.558110   \n",
       "2624           2394.0            5877            16216             64.369821   \n",
       "3186          29371.0           70945           207369             66.860627   \n",
       "3987          19444.0           51839           139633             49.084897   \n",
       "\n",
       "      Avg_Suplr_Mdcr_Alowd_Amt  Avg_Suplr_Mdcr_Pymt_Amt  \\\n",
       "592                   8.400779                 5.964003   \n",
       "1999                  8.423689                 6.055243   \n",
       "2624                  8.403106                 5.852651   \n",
       "3186                  8.386908                 6.101452   \n",
       "3987                  8.435714                 6.028881   \n",
       "\n",
       "      Avg_Suplr_Mdcr_Stdzd_Amt  \n",
       "592                   5.786099  \n",
       "1999                  5.858798  \n",
       "2624                  5.676490  \n",
       "3186                  5.931097  \n",
       "3987                  5.825964  "
      ]
     },
     "execution_count": 12,
     "metadata": {},
     "output_type": "execute_result"
    }
   ],
   "source": [
    "blood_glucose_test.head()"
   ]
  },
  {
   "cell_type": "markdown",
   "id": "72ae47e6",
   "metadata": {},
   "source": [
    "Create dummy features for the categorical columns using the get_dummies() method."
   ]
  },
  {
   "cell_type": "code",
   "execution_count": 13,
   "id": "17c0756b",
   "metadata": {},
   "outputs": [],
   "source": [
    "dummy_df = pd.get_dummies(blood_glucose_test['Rfrg_Prvdr_Geo_Desc'])"
   ]
  },
  {
   "cell_type": "markdown",
   "id": "7f44cceb",
   "metadata": {},
   "source": [
    "Using the pd.concat() method, we will join the dummy features into the original DataFrame blood_glucose_test."
   ]
  },
  {
   "cell_type": "code",
   "execution_count": 14,
   "id": "112f3a00",
   "metadata": {},
   "outputs": [
    {
     "data": {
      "text/html": [
       "<div>\n",
       "<style scoped>\n",
       "    .dataframe tbody tr th:only-of-type {\n",
       "        vertical-align: middle;\n",
       "    }\n",
       "\n",
       "    .dataframe tbody tr th {\n",
       "        vertical-align: top;\n",
       "    }\n",
       "\n",
       "    .dataframe thead th {\n",
       "        text-align: right;\n",
       "    }\n",
       "</style>\n",
       "<table border=\"1\" class=\"dataframe\">\n",
       "  <thead>\n",
       "    <tr style=\"text-align: right;\">\n",
       "      <th></th>\n",
       "      <th>Rfrg_Prvdr_Geo_Desc</th>\n",
       "      <th>HCPCS_Cd</th>\n",
       "      <th>Tot_Rfrg_Prvdrs</th>\n",
       "      <th>Tot_Suplrs</th>\n",
       "      <th>Tot_Suplr_Benes</th>\n",
       "      <th>Tot_Suplr_Clms</th>\n",
       "      <th>Tot_Suplr_Srvcs</th>\n",
       "      <th>Avg_Suplr_Sbmtd_Chrg</th>\n",
       "      <th>Avg_Suplr_Mdcr_Alowd_Amt</th>\n",
       "      <th>Avg_Suplr_Mdcr_Pymt_Amt</th>\n",
       "      <th>...</th>\n",
       "      <th>Texas</th>\n",
       "      <th>Unknown</th>\n",
       "      <th>Utah</th>\n",
       "      <th>Vermont</th>\n",
       "      <th>Virgin Islands</th>\n",
       "      <th>Virginia</th>\n",
       "      <th>Washington</th>\n",
       "      <th>West Virginia</th>\n",
       "      <th>Wisconsin</th>\n",
       "      <th>Wyoming</th>\n",
       "    </tr>\n",
       "  </thead>\n",
       "  <tbody>\n",
       "    <tr>\n",
       "      <th>592</th>\n",
       "      <td>National</td>\n",
       "      <td>A4253</td>\n",
       "      <td>233762</td>\n",
       "      <td>43511</td>\n",
       "      <td>1891407.0</td>\n",
       "      <td>5104070</td>\n",
       "      <td>13931820</td>\n",
       "      <td>61.932717</td>\n",
       "      <td>8.400779</td>\n",
       "      <td>5.964003</td>\n",
       "      <td>...</td>\n",
       "      <td>0</td>\n",
       "      <td>0</td>\n",
       "      <td>0</td>\n",
       "      <td>0</td>\n",
       "      <td>0</td>\n",
       "      <td>0</td>\n",
       "      <td>0</td>\n",
       "      <td>0</td>\n",
       "      <td>0</td>\n",
       "      <td>0</td>\n",
       "    </tr>\n",
       "    <tr>\n",
       "      <th>1999</th>\n",
       "      <td>Alabama</td>\n",
       "      <td>A4253</td>\n",
       "      <td>3093</td>\n",
       "      <td>1406</td>\n",
       "      <td>25059.0</td>\n",
       "      <td>64060</td>\n",
       "      <td>181067</td>\n",
       "      <td>56.558110</td>\n",
       "      <td>8.423689</td>\n",
       "      <td>6.055243</td>\n",
       "      <td>...</td>\n",
       "      <td>0</td>\n",
       "      <td>0</td>\n",
       "      <td>0</td>\n",
       "      <td>0</td>\n",
       "      <td>0</td>\n",
       "      <td>0</td>\n",
       "      <td>0</td>\n",
       "      <td>0</td>\n",
       "      <td>0</td>\n",
       "      <td>0</td>\n",
       "    </tr>\n",
       "    <tr>\n",
       "      <th>2624</th>\n",
       "      <td>Alaska</td>\n",
       "      <td>A4253</td>\n",
       "      <td>509</td>\n",
       "      <td>204</td>\n",
       "      <td>2394.0</td>\n",
       "      <td>5877</td>\n",
       "      <td>16216</td>\n",
       "      <td>64.369821</td>\n",
       "      <td>8.403106</td>\n",
       "      <td>5.852651</td>\n",
       "      <td>...</td>\n",
       "      <td>0</td>\n",
       "      <td>0</td>\n",
       "      <td>0</td>\n",
       "      <td>0</td>\n",
       "      <td>0</td>\n",
       "      <td>0</td>\n",
       "      <td>0</td>\n",
       "      <td>0</td>\n",
       "      <td>0</td>\n",
       "      <td>0</td>\n",
       "    </tr>\n",
       "    <tr>\n",
       "      <th>3186</th>\n",
       "      <td>Arizona</td>\n",
       "      <td>A4253</td>\n",
       "      <td>4387</td>\n",
       "      <td>2262</td>\n",
       "      <td>29371.0</td>\n",
       "      <td>70945</td>\n",
       "      <td>207369</td>\n",
       "      <td>66.860627</td>\n",
       "      <td>8.386908</td>\n",
       "      <td>6.101452</td>\n",
       "      <td>...</td>\n",
       "      <td>0</td>\n",
       "      <td>0</td>\n",
       "      <td>0</td>\n",
       "      <td>0</td>\n",
       "      <td>0</td>\n",
       "      <td>0</td>\n",
       "      <td>0</td>\n",
       "      <td>0</td>\n",
       "      <td>0</td>\n",
       "      <td>0</td>\n",
       "    </tr>\n",
       "    <tr>\n",
       "      <th>3987</th>\n",
       "      <td>Arkansas</td>\n",
       "      <td>A4253</td>\n",
       "      <td>2258</td>\n",
       "      <td>924</td>\n",
       "      <td>19444.0</td>\n",
       "      <td>51839</td>\n",
       "      <td>139633</td>\n",
       "      <td>49.084897</td>\n",
       "      <td>8.435714</td>\n",
       "      <td>6.028881</td>\n",
       "      <td>...</td>\n",
       "      <td>0</td>\n",
       "      <td>0</td>\n",
       "      <td>0</td>\n",
       "      <td>0</td>\n",
       "      <td>0</td>\n",
       "      <td>0</td>\n",
       "      <td>0</td>\n",
       "      <td>0</td>\n",
       "      <td>0</td>\n",
       "      <td>0</td>\n",
       "    </tr>\n",
       "  </tbody>\n",
       "</table>\n",
       "<p>5 rows × 70 columns</p>\n",
       "</div>"
      ],
      "text/plain": [
       "     Rfrg_Prvdr_Geo_Desc HCPCS_Cd  Tot_Rfrg_Prvdrs  Tot_Suplrs  \\\n",
       "592             National    A4253           233762       43511   \n",
       "1999             Alabama    A4253             3093        1406   \n",
       "2624              Alaska    A4253              509         204   \n",
       "3186             Arizona    A4253             4387        2262   \n",
       "3987            Arkansas    A4253             2258         924   \n",
       "\n",
       "      Tot_Suplr_Benes  Tot_Suplr_Clms  Tot_Suplr_Srvcs  Avg_Suplr_Sbmtd_Chrg  \\\n",
       "592         1891407.0         5104070         13931820             61.932717   \n",
       "1999          25059.0           64060           181067             56.558110   \n",
       "2624           2394.0            5877            16216             64.369821   \n",
       "3186          29371.0           70945           207369             66.860627   \n",
       "3987          19444.0           51839           139633             49.084897   \n",
       "\n",
       "      Avg_Suplr_Mdcr_Alowd_Amt  Avg_Suplr_Mdcr_Pymt_Amt  ...  Texas  Unknown  \\\n",
       "592                   8.400779                 5.964003  ...      0        0   \n",
       "1999                  8.423689                 6.055243  ...      0        0   \n",
       "2624                  8.403106                 5.852651  ...      0        0   \n",
       "3186                  8.386908                 6.101452  ...      0        0   \n",
       "3987                  8.435714                 6.028881  ...      0        0   \n",
       "\n",
       "      Utah  Vermont  Virgin Islands  Virginia  Washington  West Virginia  \\\n",
       "592      0        0               0         0           0              0   \n",
       "1999     0        0               0         0           0              0   \n",
       "2624     0        0               0         0           0              0   \n",
       "3186     0        0               0         0           0              0   \n",
       "3987     0        0               0         0           0              0   \n",
       "\n",
       "      Wisconsin  Wyoming  \n",
       "592           0        0  \n",
       "1999          0        0  \n",
       "2624          0        0  \n",
       "3186          0        0  \n",
       "3987          0        0  \n",
       "\n",
       "[5 rows x 70 columns]"
      ]
     },
     "execution_count": 14,
     "metadata": {},
     "output_type": "execute_result"
    }
   ],
   "source": [
    "blood_glucose_test = pd.concat([blood_glucose_test, dummy_df], axis=1)\n",
    "blood_glucose_test.head()"
   ]
  },
  {
   "cell_type": "markdown",
   "id": "dd75e3bd",
   "metadata": {},
   "source": [
    "Then drop the original Rfrg_Prvdr_Geo_Desc column containing the categorical values."
   ]
  },
  {
   "cell_type": "code",
   "execution_count": 15,
   "id": "7b29079a",
   "metadata": {},
   "outputs": [
    {
     "data": {
      "text/html": [
       "<div>\n",
       "<style scoped>\n",
       "    .dataframe tbody tr th:only-of-type {\n",
       "        vertical-align: middle;\n",
       "    }\n",
       "\n",
       "    .dataframe tbody tr th {\n",
       "        vertical-align: top;\n",
       "    }\n",
       "\n",
       "    .dataframe thead th {\n",
       "        text-align: right;\n",
       "    }\n",
       "</style>\n",
       "<table border=\"1\" class=\"dataframe\">\n",
       "  <thead>\n",
       "    <tr style=\"text-align: right;\">\n",
       "      <th></th>\n",
       "      <th>HCPCS_Cd</th>\n",
       "      <th>Tot_Rfrg_Prvdrs</th>\n",
       "      <th>Tot_Suplrs</th>\n",
       "      <th>Tot_Suplr_Benes</th>\n",
       "      <th>Tot_Suplr_Clms</th>\n",
       "      <th>Tot_Suplr_Srvcs</th>\n",
       "      <th>Avg_Suplr_Sbmtd_Chrg</th>\n",
       "      <th>Avg_Suplr_Mdcr_Alowd_Amt</th>\n",
       "      <th>Avg_Suplr_Mdcr_Pymt_Amt</th>\n",
       "      <th>Avg_Suplr_Mdcr_Stdzd_Amt</th>\n",
       "      <th>...</th>\n",
       "      <th>Texas</th>\n",
       "      <th>Unknown</th>\n",
       "      <th>Utah</th>\n",
       "      <th>Vermont</th>\n",
       "      <th>Virgin Islands</th>\n",
       "      <th>Virginia</th>\n",
       "      <th>Washington</th>\n",
       "      <th>West Virginia</th>\n",
       "      <th>Wisconsin</th>\n",
       "      <th>Wyoming</th>\n",
       "    </tr>\n",
       "  </thead>\n",
       "  <tbody>\n",
       "    <tr>\n",
       "      <th>592</th>\n",
       "      <td>A4253</td>\n",
       "      <td>233762</td>\n",
       "      <td>43511</td>\n",
       "      <td>1891407.0</td>\n",
       "      <td>5104070</td>\n",
       "      <td>13931820</td>\n",
       "      <td>61.932717</td>\n",
       "      <td>8.400779</td>\n",
       "      <td>5.964003</td>\n",
       "      <td>5.786099</td>\n",
       "      <td>...</td>\n",
       "      <td>0</td>\n",
       "      <td>0</td>\n",
       "      <td>0</td>\n",
       "      <td>0</td>\n",
       "      <td>0</td>\n",
       "      <td>0</td>\n",
       "      <td>0</td>\n",
       "      <td>0</td>\n",
       "      <td>0</td>\n",
       "      <td>0</td>\n",
       "    </tr>\n",
       "    <tr>\n",
       "      <th>1999</th>\n",
       "      <td>A4253</td>\n",
       "      <td>3093</td>\n",
       "      <td>1406</td>\n",
       "      <td>25059.0</td>\n",
       "      <td>64060</td>\n",
       "      <td>181067</td>\n",
       "      <td>56.558110</td>\n",
       "      <td>8.423689</td>\n",
       "      <td>6.055243</td>\n",
       "      <td>5.858798</td>\n",
       "      <td>...</td>\n",
       "      <td>0</td>\n",
       "      <td>0</td>\n",
       "      <td>0</td>\n",
       "      <td>0</td>\n",
       "      <td>0</td>\n",
       "      <td>0</td>\n",
       "      <td>0</td>\n",
       "      <td>0</td>\n",
       "      <td>0</td>\n",
       "      <td>0</td>\n",
       "    </tr>\n",
       "    <tr>\n",
       "      <th>2624</th>\n",
       "      <td>A4253</td>\n",
       "      <td>509</td>\n",
       "      <td>204</td>\n",
       "      <td>2394.0</td>\n",
       "      <td>5877</td>\n",
       "      <td>16216</td>\n",
       "      <td>64.369821</td>\n",
       "      <td>8.403106</td>\n",
       "      <td>5.852651</td>\n",
       "      <td>5.676490</td>\n",
       "      <td>...</td>\n",
       "      <td>0</td>\n",
       "      <td>0</td>\n",
       "      <td>0</td>\n",
       "      <td>0</td>\n",
       "      <td>0</td>\n",
       "      <td>0</td>\n",
       "      <td>0</td>\n",
       "      <td>0</td>\n",
       "      <td>0</td>\n",
       "      <td>0</td>\n",
       "    </tr>\n",
       "    <tr>\n",
       "      <th>3186</th>\n",
       "      <td>A4253</td>\n",
       "      <td>4387</td>\n",
       "      <td>2262</td>\n",
       "      <td>29371.0</td>\n",
       "      <td>70945</td>\n",
       "      <td>207369</td>\n",
       "      <td>66.860627</td>\n",
       "      <td>8.386908</td>\n",
       "      <td>6.101452</td>\n",
       "      <td>5.931097</td>\n",
       "      <td>...</td>\n",
       "      <td>0</td>\n",
       "      <td>0</td>\n",
       "      <td>0</td>\n",
       "      <td>0</td>\n",
       "      <td>0</td>\n",
       "      <td>0</td>\n",
       "      <td>0</td>\n",
       "      <td>0</td>\n",
       "      <td>0</td>\n",
       "      <td>0</td>\n",
       "    </tr>\n",
       "    <tr>\n",
       "      <th>3987</th>\n",
       "      <td>A4253</td>\n",
       "      <td>2258</td>\n",
       "      <td>924</td>\n",
       "      <td>19444.0</td>\n",
       "      <td>51839</td>\n",
       "      <td>139633</td>\n",
       "      <td>49.084897</td>\n",
       "      <td>8.435714</td>\n",
       "      <td>6.028881</td>\n",
       "      <td>5.825964</td>\n",
       "      <td>...</td>\n",
       "      <td>0</td>\n",
       "      <td>0</td>\n",
       "      <td>0</td>\n",
       "      <td>0</td>\n",
       "      <td>0</td>\n",
       "      <td>0</td>\n",
       "      <td>0</td>\n",
       "      <td>0</td>\n",
       "      <td>0</td>\n",
       "      <td>0</td>\n",
       "    </tr>\n",
       "  </tbody>\n",
       "</table>\n",
       "<p>5 rows × 69 columns</p>\n",
       "</div>"
      ],
      "text/plain": [
       "     HCPCS_Cd  Tot_Rfrg_Prvdrs  Tot_Suplrs  Tot_Suplr_Benes  Tot_Suplr_Clms  \\\n",
       "592     A4253           233762       43511        1891407.0         5104070   \n",
       "1999    A4253             3093        1406          25059.0           64060   \n",
       "2624    A4253              509         204           2394.0            5877   \n",
       "3186    A4253             4387        2262          29371.0           70945   \n",
       "3987    A4253             2258         924          19444.0           51839   \n",
       "\n",
       "      Tot_Suplr_Srvcs  Avg_Suplr_Sbmtd_Chrg  Avg_Suplr_Mdcr_Alowd_Amt  \\\n",
       "592          13931820             61.932717                  8.400779   \n",
       "1999           181067             56.558110                  8.423689   \n",
       "2624            16216             64.369821                  8.403106   \n",
       "3186           207369             66.860627                  8.386908   \n",
       "3987           139633             49.084897                  8.435714   \n",
       "\n",
       "      Avg_Suplr_Mdcr_Pymt_Amt  Avg_Suplr_Mdcr_Stdzd_Amt  ...  Texas  Unknown  \\\n",
       "592                  5.964003                  5.786099  ...      0        0   \n",
       "1999                 6.055243                  5.858798  ...      0        0   \n",
       "2624                 5.852651                  5.676490  ...      0        0   \n",
       "3186                 6.101452                  5.931097  ...      0        0   \n",
       "3987                 6.028881                  5.825964  ...      0        0   \n",
       "\n",
       "      Utah  Vermont  Virgin Islands  Virginia  Washington  West Virginia  \\\n",
       "592      0        0               0         0           0              0   \n",
       "1999     0        0               0         0           0              0   \n",
       "2624     0        0               0         0           0              0   \n",
       "3186     0        0               0         0           0              0   \n",
       "3987     0        0               0         0           0              0   \n",
       "\n",
       "      Wisconsin  Wyoming  \n",
       "592           0        0  \n",
       "1999          0        0  \n",
       "2624          0        0  \n",
       "3186          0        0  \n",
       "3987          0        0  \n",
       "\n",
       "[5 rows x 69 columns]"
      ]
     },
     "execution_count": 15,
     "metadata": {},
     "output_type": "execute_result"
    }
   ],
   "source": [
    "blood_glucose_test.drop(['Rfrg_Prvdr_Geo_Desc'], axis=1, inplace=True)\n",
    "blood_glucose_test.head()"
   ]
  },
  {
   "cell_type": "markdown",
   "id": "396c032c",
   "metadata": {},
   "source": [
    "Using LabelEncoder() method to convert the HCPCS_Cd column to a numerical value."
   ]
  },
  {
   "cell_type": "code",
   "execution_count": 16,
   "id": "82c0bf0f",
   "metadata": {},
   "outputs": [],
   "source": [
    "from sklearn.preprocessing import LabelEncoder\n",
    "\n",
    "label_encoder = LabelEncoder()\n",
    "blood_glucose_test['HCPCS_Cd'] = label_encoder.fit_transform(blood_glucose_test['HCPCS_Cd'])"
   ]
  },
  {
   "cell_type": "markdown",
   "id": "63d1fc09",
   "metadata": {},
   "source": [
    "We will now split our dataset into features (X) and the target variable - purchasing price (y)"
   ]
  },
  {
   "cell_type": "code",
   "execution_count": 17,
   "id": "20406f83",
   "metadata": {},
   "outputs": [],
   "source": [
    "X = blood_glucose_test.drop(columns='Avg_Suplr_Sbmtd_Chrg')\n",
    "y = blood_glucose_test['Avg_Suplr_Sbmtd_Chrg']"
   ]
  },
  {
   "cell_type": "markdown",
   "id": "1f501fe1",
   "metadata": {},
   "source": [
    "Refit model on all avaiable data"
   ]
  },
  {
   "cell_type": "code",
   "execution_count": 18,
   "id": "2a0dac02",
   "metadata": {},
   "outputs": [
    {
     "data": {
      "text/plain": [
       "(59, 59)"
      ]
     },
     "execution_count": 18,
     "metadata": {},
     "output_type": "execute_result"
    }
   ],
   "source": [
    "len(X), len(y)"
   ]
  },
  {
   "cell_type": "code",
   "execution_count": 19,
   "id": "6cfcf77a",
   "metadata": {},
   "outputs": [
    {
     "data": {
      "text/html": [
       "<style>#sk-container-id-1 {color: black;}#sk-container-id-1 pre{padding: 0;}#sk-container-id-1 div.sk-toggleable {background-color: white;}#sk-container-id-1 label.sk-toggleable__label {cursor: pointer;display: block;width: 100%;margin-bottom: 0;padding: 0.3em;box-sizing: border-box;text-align: center;}#sk-container-id-1 label.sk-toggleable__label-arrow:before {content: \"▸\";float: left;margin-right: 0.25em;color: #696969;}#sk-container-id-1 label.sk-toggleable__label-arrow:hover:before {color: black;}#sk-container-id-1 div.sk-estimator:hover label.sk-toggleable__label-arrow:before {color: black;}#sk-container-id-1 div.sk-toggleable__content {max-height: 0;max-width: 0;overflow: hidden;text-align: left;background-color: #f0f8ff;}#sk-container-id-1 div.sk-toggleable__content pre {margin: 0.2em;color: black;border-radius: 0.25em;background-color: #f0f8ff;}#sk-container-id-1 input.sk-toggleable__control:checked~div.sk-toggleable__content {max-height: 200px;max-width: 100%;overflow: auto;}#sk-container-id-1 input.sk-toggleable__control:checked~label.sk-toggleable__label-arrow:before {content: \"▾\";}#sk-container-id-1 div.sk-estimator input.sk-toggleable__control:checked~label.sk-toggleable__label {background-color: #d4ebff;}#sk-container-id-1 div.sk-label input.sk-toggleable__control:checked~label.sk-toggleable__label {background-color: #d4ebff;}#sk-container-id-1 input.sk-hidden--visually {border: 0;clip: rect(1px 1px 1px 1px);clip: rect(1px, 1px, 1px, 1px);height: 1px;margin: -1px;overflow: hidden;padding: 0;position: absolute;width: 1px;}#sk-container-id-1 div.sk-estimator {font-family: monospace;background-color: #f0f8ff;border: 1px dotted black;border-radius: 0.25em;box-sizing: border-box;margin-bottom: 0.5em;}#sk-container-id-1 div.sk-estimator:hover {background-color: #d4ebff;}#sk-container-id-1 div.sk-parallel-item::after {content: \"\";width: 100%;border-bottom: 1px solid gray;flex-grow: 1;}#sk-container-id-1 div.sk-label:hover label.sk-toggleable__label {background-color: #d4ebff;}#sk-container-id-1 div.sk-serial::before {content: \"\";position: absolute;border-left: 1px solid gray;box-sizing: border-box;top: 0;bottom: 0;left: 50%;z-index: 0;}#sk-container-id-1 div.sk-serial {display: flex;flex-direction: column;align-items: center;background-color: white;padding-right: 0.2em;padding-left: 0.2em;position: relative;}#sk-container-id-1 div.sk-item {position: relative;z-index: 1;}#sk-container-id-1 div.sk-parallel {display: flex;align-items: stretch;justify-content: center;background-color: white;position: relative;}#sk-container-id-1 div.sk-item::before, #sk-container-id-1 div.sk-parallel-item::before {content: \"\";position: absolute;border-left: 1px solid gray;box-sizing: border-box;top: 0;bottom: 0;left: 50%;z-index: -1;}#sk-container-id-1 div.sk-parallel-item {display: flex;flex-direction: column;z-index: 1;position: relative;background-color: white;}#sk-container-id-1 div.sk-parallel-item:first-child::after {align-self: flex-end;width: 50%;}#sk-container-id-1 div.sk-parallel-item:last-child::after {align-self: flex-start;width: 50%;}#sk-container-id-1 div.sk-parallel-item:only-child::after {width: 0;}#sk-container-id-1 div.sk-dashed-wrapped {border: 1px dashed gray;margin: 0 0.4em 0.5em 0.4em;box-sizing: border-box;padding-bottom: 0.4em;background-color: white;}#sk-container-id-1 div.sk-label label {font-family: monospace;font-weight: bold;display: inline-block;line-height: 1.2em;}#sk-container-id-1 div.sk-label-container {text-align: center;}#sk-container-id-1 div.sk-container {/* jupyter's `normalize.less` sets `[hidden] { display: none; }` but bootstrap.min.css set `[hidden] { display: none !important; }` so we also need the `!important` here to be able to override the default hidden behavior on the sphinx rendered scikit-learn.org. See: https://github.com/scikit-learn/scikit-learn/issues/21755 */display: inline-block !important;position: relative;}#sk-container-id-1 div.sk-text-repr-fallback {display: none;}</style><div id=\"sk-container-id-1\" class=\"sk-top-container\"><div class=\"sk-text-repr-fallback\"><pre>Pipeline(steps=[(&#x27;simpleimputer&#x27;, SimpleImputer()),\n",
       "                (&#x27;standardscaler&#x27;, StandardScaler()),\n",
       "                (&#x27;randomforestregressor&#x27;,\n",
       "                 RandomForestRegressor(n_estimators=10, random_state=47))])</pre><b>In a Jupyter environment, please rerun this cell to show the HTML representation or trust the notebook. <br />On GitHub, the HTML representation is unable to render, please try loading this page with nbviewer.org.</b></div><div class=\"sk-container\" hidden><div class=\"sk-item sk-dashed-wrapped\"><div class=\"sk-label-container\"><div class=\"sk-label sk-toggleable\"><input class=\"sk-toggleable__control sk-hidden--visually\" id=\"sk-estimator-id-1\" type=\"checkbox\" ><label for=\"sk-estimator-id-1\" class=\"sk-toggleable__label sk-toggleable__label-arrow\">Pipeline</label><div class=\"sk-toggleable__content\"><pre>Pipeline(steps=[(&#x27;simpleimputer&#x27;, SimpleImputer()),\n",
       "                (&#x27;standardscaler&#x27;, StandardScaler()),\n",
       "                (&#x27;randomforestregressor&#x27;,\n",
       "                 RandomForestRegressor(n_estimators=10, random_state=47))])</pre></div></div></div><div class=\"sk-serial\"><div class=\"sk-item\"><div class=\"sk-estimator sk-toggleable\"><input class=\"sk-toggleable__control sk-hidden--visually\" id=\"sk-estimator-id-2\" type=\"checkbox\" ><label for=\"sk-estimator-id-2\" class=\"sk-toggleable__label sk-toggleable__label-arrow\">SimpleImputer</label><div class=\"sk-toggleable__content\"><pre>SimpleImputer()</pre></div></div></div><div class=\"sk-item\"><div class=\"sk-estimator sk-toggleable\"><input class=\"sk-toggleable__control sk-hidden--visually\" id=\"sk-estimator-id-3\" type=\"checkbox\" ><label for=\"sk-estimator-id-3\" class=\"sk-toggleable__label sk-toggleable__label-arrow\">StandardScaler</label><div class=\"sk-toggleable__content\"><pre>StandardScaler()</pre></div></div></div><div class=\"sk-item\"><div class=\"sk-estimator sk-toggleable\"><input class=\"sk-toggleable__control sk-hidden--visually\" id=\"sk-estimator-id-4\" type=\"checkbox\" ><label for=\"sk-estimator-id-4\" class=\"sk-toggleable__label sk-toggleable__label-arrow\">RandomForestRegressor</label><div class=\"sk-toggleable__content\"><pre>RandomForestRegressor(n_estimators=10, random_state=47)</pre></div></div></div></div></div></div></div>"
      ],
      "text/plain": [
       "Pipeline(steps=[('simpleimputer', SimpleImputer()),\n",
       "                ('standardscaler', StandardScaler()),\n",
       "                ('randomforestregressor',\n",
       "                 RandomForestRegressor(n_estimators=10, random_state=47))])"
      ]
     },
     "execution_count": 19,
     "metadata": {},
     "output_type": "execute_result"
    }
   ],
   "source": [
    "model.fit(X, y)"
   ]
  },
  {
   "cell_type": "code",
   "execution_count": 20,
   "id": "a9811673",
   "metadata": {},
   "outputs": [],
   "source": [
    "cv_results = cross_validate(model, X, y, scoring='neg_mean_absolute_error', cv=5, n_jobs=-1)"
   ]
  },
  {
   "cell_type": "code",
   "execution_count": 21,
   "id": "07e4c3ba",
   "metadata": {},
   "outputs": [
    {
     "data": {
      "text/plain": [
       "array([-4.32113698, -3.8112677 , -4.11292416, -2.52980359, -4.2021928 ])"
      ]
     },
     "execution_count": 21,
     "metadata": {},
     "output_type": "execute_result"
    }
   ],
   "source": [
    "cv_results['test_score']"
   ]
  },
  {
   "cell_type": "code",
   "execution_count": 22,
   "id": "298649f7",
   "metadata": {},
   "outputs": [
    {
     "data": {
      "text/plain": [
       "(3.795465049697726, 0.6549331840211458)"
      ]
     },
     "execution_count": 22,
     "metadata": {},
     "output_type": "execute_result"
    }
   ],
   "source": [
    "mae_mean, mae_std = np.mean(-1 * cv_results['test_score']), np.std(-1 * cv_results['test_score'])\n",
    "mae_mean, mae_std"
   ]
  },
  {
   "cell_type": "markdown",
   "id": "eaaa7885",
   "metadata": {},
   "source": [
    "### Linear Regression Model"
   ]
  },
  {
   "cell_type": "code",
   "execution_count": 23,
   "id": "7c9767e1",
   "metadata": {},
   "outputs": [
    {
     "name": "stdout",
     "output_type": "stream",
     "text": [
      "Mean Squared Error: 12.991051627034118\n"
     ]
    }
   ],
   "source": [
    "LR_model = LinearRegression()\n",
    "LR_model.fit(X_train, y_train)\n",
    "y_pred_lr = LR_model.predict(X_test)\n",
    "mean_mse_lr = mean_squared_error(y_test, y_pred_lr)\n",
    "print(\"Mean Squared Error:\", mean_mse_lr)"
   ]
  },
  {
   "cell_type": "code",
   "execution_count": 24,
   "id": "787daf61",
   "metadata": {},
   "outputs": [
    {
     "name": "stdout",
     "output_type": "stream",
     "text": [
      "Root Mean Square Error (RMSE): 3.604310145788528\n"
     ]
    }
   ],
   "source": [
    "rmse_lr = np.sqrt(mean_mse_lr)\n",
    "print(\"Root Mean Square Error (RMSE):\", rmse_lr)"
   ]
  },
  {
   "cell_type": "markdown",
   "id": "8ae9f176",
   "metadata": {},
   "source": [
    "### Gradient Boosting Regression Model"
   ]
  },
  {
   "cell_type": "code",
   "execution_count": 25,
   "id": "f8fefd9c",
   "metadata": {},
   "outputs": [
    {
     "name": "stdout",
     "output_type": "stream",
     "text": [
      "{'learning_rate': 0.01, 'max_depth': 5, 'n_estimators': 100}\n"
     ]
    }
   ],
   "source": [
    "from sklearn.ensemble import GradientBoostingRegressor\n",
    "\n",
    "param_grid_gbr = {\n",
    "    'n_estimators': [50, 100, 150],\n",
    "    'learning_rate': [0.01, 0.1, 0.5],\n",
    "    'max_depth': [3, 5, 7]\n",
    "}\n",
    "grid_search_gbr = GridSearchCV(GradientBoostingRegressor(random_state=47), param_grid_gbr, cv=5, scoring='neg_mean_squared_error')\n",
    "grid_search_gbr.fit(X_train, y_train)\n",
    "best_params_gbr = grid_search_gbr.best_params_\n",
    "print(best_params_gbr)"
   ]
  },
  {
   "cell_type": "code",
   "execution_count": 26,
   "id": "39b70ded",
   "metadata": {},
   "outputs": [
    {
     "name": "stdout",
     "output_type": "stream",
     "text": [
      "Mean Squared Error: 17.130138010571216\n"
     ]
    }
   ],
   "source": [
    "gbr_model = GradientBoostingRegressor(n_estimators=150, learning_rate=0.01, max_depth=3, random_state=47)\n",
    "gbr_model.fit(X_train, y_train)\n",
    "y_pred_gbr = gbr_model.predict(X_test)\n",
    "mean_mse_gbr = mean_squared_error(y_test, y_pred_gbr)\n",
    "print(\"Mean Squared Error:\", mean_mse_gbr)"
   ]
  },
  {
   "cell_type": "code",
   "execution_count": 27,
   "id": "f2cdb542",
   "metadata": {},
   "outputs": [
    {
     "name": "stdout",
     "output_type": "stream",
     "text": [
      "Root Mean Square Error (RMSE): 4.138857089894651\n"
     ]
    }
   ],
   "source": [
    "rmse_gbr = np.sqrt(mean_mse_gbr)\n",
    "print(\"Root Mean Square Error (RMSE):\", rmse_gbr)"
   ]
  },
  {
   "cell_type": "markdown",
   "id": "72230562",
   "metadata": {},
   "source": [
    "### Random Forest Regression Model"
   ]
  },
  {
   "cell_type": "code",
   "execution_count": 28,
   "id": "99972f26",
   "metadata": {},
   "outputs": [
    {
     "name": "stdout",
     "output_type": "stream",
     "text": [
      "{'max_depth': 7, 'min_samples_split': 10, 'n_estimators': 150}\n"
     ]
    }
   ],
   "source": [
    "param_grid_rf = {\n",
    "    'n_estimators': [50, 100, 150],\n",
    "    'max_depth': [3, 5, 7],\n",
    "    'min_samples_split': [2, 5, 10]\n",
    "}\n",
    "grid_search_rf = GridSearchCV(RandomForestRegressor(random_state=47), param_grid_rf, cv=5, scoring='neg_mean_squared_error')\n",
    "grid_search_rf.fit(X_train, y_train)\n",
    "best_params_rf = grid_search_rf.best_params_\n",
    "print(best_params_rf)"
   ]
  },
  {
   "cell_type": "code",
   "execution_count": 29,
   "id": "2023d17a",
   "metadata": {},
   "outputs": [
    {
     "name": "stdout",
     "output_type": "stream",
     "text": [
      "Mean Squared Error: 17.553440650364823\n"
     ]
    }
   ],
   "source": [
    "rf_model = RandomForestRegressor(n_estimators=150, max_depth=7, min_samples_split=10, random_state=47)\n",
    "rf_model.fit(X_train, y_train)\n",
    "y_pred_rf = rf_model.predict(X_test)\n",
    "mean_mse_rf = mean_squared_error(y_test, y_pred_rf)\n",
    "print(\"Mean Squared Error:\", mean_mse_rf)"
   ]
  },
  {
   "cell_type": "code",
   "execution_count": 30,
   "id": "30839411",
   "metadata": {},
   "outputs": [
    {
     "name": "stdout",
     "output_type": "stream",
     "text": [
      "Root Mean Square Error (RMSE): 4.18968264315626\n"
     ]
    }
   ],
   "source": [
    "rmse_rf = np.sqrt(mean_mse_rf)\n",
    "print(\"Root Mean Square Error (RMSE):\", rmse_rf)"
   ]
  },
  {
   "cell_type": "code",
   "execution_count": 31,
   "id": "9d68ba87",
   "metadata": {},
   "outputs": [
    {
     "name": "stdout",
     "output_type": "stream",
     "text": [
      "           Algorithm  Model accuracy score\n",
      "0  Linear Regression             12.991052\n",
      "1     Gradient Boost             17.130138\n",
      "2      Random Forest             17.553441\n"
     ]
    },
    {
     "data": {
      "text/html": [
       "<div>\n",
       "<style scoped>\n",
       "    .dataframe tbody tr th:only-of-type {\n",
       "        vertical-align: middle;\n",
       "    }\n",
       "\n",
       "    .dataframe tbody tr th {\n",
       "        vertical-align: top;\n",
       "    }\n",
       "\n",
       "    .dataframe thead th {\n",
       "        text-align: right;\n",
       "    }\n",
       "</style>\n",
       "<table border=\"1\" class=\"dataframe\">\n",
       "  <thead>\n",
       "    <tr style=\"text-align: right;\">\n",
       "      <th></th>\n",
       "      <th>Algorithm</th>\n",
       "      <th>CV_Score</th>\n",
       "    </tr>\n",
       "  </thead>\n",
       "  <tbody>\n",
       "    <tr>\n",
       "      <th>0</th>\n",
       "      <td>Linear Regression</td>\n",
       "      <td>3.604310</td>\n",
       "    </tr>\n",
       "    <tr>\n",
       "      <th>1</th>\n",
       "      <td>Gradient Boost</td>\n",
       "      <td>4.138857</td>\n",
       "    </tr>\n",
       "    <tr>\n",
       "      <th>2</th>\n",
       "      <td>Random Forest</td>\n",
       "      <td>4.189683</td>\n",
       "    </tr>\n",
       "  </tbody>\n",
       "</table>\n",
       "</div>"
      ],
      "text/plain": [
       "           Algorithm  CV_Score\n",
       "0  Linear Regression  3.604310\n",
       "1     Gradient Boost  4.138857\n",
       "2      Random Forest  4.189683"
      ]
     },
     "execution_count": 31,
     "metadata": {},
     "output_type": "execute_result"
    }
   ],
   "source": [
    "myLabels = [ 'Linear Regression','Gradient Boost','Random Forest']\n",
    "score = [  rmse_lr,rmse_gbr,rmse_rf]\n",
    "Accuracy_score = [mean_mse_lr,mean_mse_gbr,mean_mse_rf]\n",
    "\n",
    "score_tab_acc = pd.DataFrame(list(zip(myLabels, Accuracy_score)), \n",
    "               columns =['Algorithm', 'Model accuracy score']) \n",
    "\n",
    "score_tab = pd.DataFrame(list(zip(myLabels, score)), \n",
    "               columns =['Algorithm', 'CV_Score' ]) \n",
    "print(score_tab_acc)\n",
    "\n",
    "score_tab"
   ]
  },
  {
   "cell_type": "markdown",
   "id": "9e464693",
   "metadata": {},
   "source": [
    "Linear Regression appears to perform the best among the three algorithms as it has the lowest score. However, when considering cross-validated scores, Gradient Boost and Random Forest seem to perform better than Linear Regression as they have higher cv_scores but higher cv_scores also indicate slightly worse generalization performance compared to Linear Regression."
   ]
  },
  {
   "cell_type": "code",
   "execution_count": 32,
   "id": "8ff68eff",
   "metadata": {},
   "outputs": [
    {
     "data": {
      "image/png": "[encoded data removed]",
      "text/plain": [
       "<Figure size 1200x600 with 1 Axes>"
      ]
     },
     "metadata": {},
     "output_type": "display_data"
    }
   ],
   "source": [
    "bar_width = 0.35\n",
    "r1 = np.arange(len(myLabels))\n",
    "r2 = [x + bar_width for x in r1]\n",
    "plt.figure(figsize=(12, 6))\n",
    "plt.bar(r1, Accuracy_score, color='coral', width=bar_width, edgecolor='k', alpha=0.8, label='Model accuracy score')\n",
    "plt.bar(r2, score, color='skyblue', width=bar_width, edgecolor='k', alpha=0.8, label='CV score')\n",
    "plt.xlabel('Models', fontsize=15)\n",
    "plt.ylabel('Scores', fontsize=15)\n",
    "plt.title('Comparison of Model Accuracy Scores and CV Scores', fontsize=15)\n",
    "plt.xticks([r + bar_width/2 for r in range(len(myLabels))], myLabels, rotation=45, ha='right')\n",
    "plt.legend()\n",
    "plt.tight_layout()\n",
    "plt.show()"
   ]
  },
  {
   "cell_type": "code",
   "execution_count": 33,
   "id": "fd8f104b",
   "metadata": {},
   "outputs": [],
   "source": [
    "X_train, X_val, y_train, y_val = train_test_split(X, y, test_size=0.2, random_state=42)"
   ]
  },
  {
   "cell_type": "markdown",
   "id": "8f2986c1",
   "metadata": {},
   "source": [
    "Finding the feature coefficients"
   ]
  },
  {
   "cell_type": "code",
   "execution_count": 34,
   "id": "7e3bdc69",
   "metadata": {},
   "outputs": [
    {
     "name": "stdout",
     "output_type": "stream",
     "text": [
      "Feature 0: 0.004749339307335926\n",
      "Feature 1: -0.0011913148993221024\n",
      "Feature 2: 0.0012396449647345098\n",
      "Feature 3: -0.00020049927059757276\n",
      "Feature 4: 8.78146307437184e-05\n",
      "Feature 5: 1.1295702996912127e-05\n",
      "Feature 6: -4.312981736012178\n",
      "Feature 7: -7.308999043871914\n",
      "Feature 8: -4.091287491198739\n",
      "Feature 9: -2.806563070362122\n",
      "Feature 10: 3.5285572058833443\n",
      "Feature 11: 8.414126637672721\n",
      "Feature 12: -10.536759013304176\n",
      "Feature 13: -1.9179526258824486\n",
      "Feature 14: 5.508134945241974\n",
      "Feature 15: 0.15458796637400507\n",
      "Feature 16: -1.4792786490581271\n",
      "Feature 17: 8.152568063294165\n",
      "Feature 18: 8.718133249529586\n",
      "Feature 19: -2.418607342027196\n",
      "Feature 20: -1.1820801724294254\n",
      "Feature 21: 0.6420787013270584\n",
      "Feature 22: -0.1106610185813055\n",
      "Feature 23: 6.70254548922244\n",
      "Feature 24: 2.4424906541753444e-15\n",
      "Feature 25: -1.7841784076785223\n",
      "Feature 26: 8.881784197001252e-16\n",
      "Feature 27: 0.6412218825992944\n",
      "Feature 28: -4.725240392476794\n",
      "Feature 29: -4.920399590338272\n",
      "Feature 30: -1.7763568394002505e-15\n",
      "Feature 31: -5.604367648104442\n",
      "Feature 32: 2.1073180555348117\n",
      "Feature 33: -1.3081472870238422\n",
      "Feature 34: 10.620416739106735\n",
      "Feature 35: -9.795729624728526\n",
      "Feature 36: 2.220446049250313e-15\n",
      "Feature 37: -9.503330838172708\n",
      "Feature 38: -2.7832079072315\n",
      "Feature 39: 0.32836066222109256\n",
      "Feature 40: 0.39945782686123893\n",
      "Feature 41: -7.197047149035267\n",
      "Feature 42: 2.1075563960485697\n",
      "Feature 43: 4.744085175995348\n",
      "Feature 44: 4.134010957238652\n",
      "Feature 45: -0.6589532133388428\n",
      "Feature 46: 0.0\n",
      "Feature 47: 0.7850913534393837\n",
      "Feature 48: 0.0\n",
      "Feature 49: 0.0\n",
      "Feature 50: -2.450989288128649\n",
      "Feature 51: 2.4595625660277296\n",
      "Feature 52: -1.161430676185348\n",
      "Feature 53: -8.13742585315536\n",
      "Feature 54: 4.802948749171865\n",
      "Feature 55: 1.6149833011801822\n",
      "Feature 56: 0.0\n",
      "Feature 57: 1.8322326981414112\n",
      "Feature 58: -4.131444732626881\n",
      "Feature 59: -2.0756949145164696\n",
      "Feature 60: 5.106467899855813\n",
      "Feature 61: 0.0\n",
      "Feature 62: 1.950807890815483\n",
      "Feature 63: 0.0\n",
      "Feature 64: 0.0\n",
      "Feature 65: 0.7683446611861043\n",
      "Feature 66: 0.0\n",
      "Feature 67: 0.4658903422010958\n"
     ]
    }
   ],
   "source": [
    "feature_coefficients = LR_model.coef_\n",
    "for i, coefficient in enumerate(feature_coefficients):\n",
    "    print(f\"Feature {i}: {coefficient}\")"
   ]
  },
  {
   "cell_type": "code",
   "execution_count": 36,
   "id": "6a087a13",
   "metadata": {},
   "outputs": [],
   "source": [
    "X_train_array = X_train.to_numpy()\n",
    "top_features_indices = feature_coefficients.argsort()[-5:]\n",
    "selected_features = X_train.iloc[:, top_features_indices]"
   ]
  },
  {
   "cell_type": "code",
   "execution_count": 37,
   "id": "973feae8",
   "metadata": {},
   "outputs": [],
   "source": [
    "from sklearn.pipeline import Pipeline\n",
    "from sklearn.impute import SimpleImputer\n",
    "from sklearn.preprocessing import StandardScaler\n",
    "from sklearn.feature_selection import SelectKBest, f_regression\n",
    "from sklearn.linear_model import LinearRegression\n",
    "from sklearn.compose import ColumnTransformer"
   ]
  },
  {
   "cell_type": "code",
   "execution_count": 38,
   "id": "560acd94",
   "metadata": {},
   "outputs": [],
   "source": [
    "preprocessor = Pipeline(steps=[\n",
    "    ('imputer', SimpleImputer()),\n",
    "    ('scaler', StandardScaler())\n",
    "])\n",
    "\n",
    "pipeline = Pipeline(steps=[\n",
    "    ('preprocessor', preprocessor),\n",
    "    ('feature_selection', SelectKBest(score_func=f_regression, k=5)),\n",
    "    ('model', LinearRegression())\n",
    "])"
   ]
  },
  {
   "cell_type": "code",
   "execution_count": 39,
   "id": "18562af2",
   "metadata": {},
   "outputs": [],
   "source": [
    "pipeline.fit(X_train, y_train)\n",
    "val_predictions = pipeline.predict(X_val)"
   ]
  },
  {
   "cell_type": "code",
   "execution_count": 40,
   "id": "15def226",
   "metadata": {},
   "outputs": [
    {
     "name": "stdout",
     "output_type": "stream",
     "text": [
      "Validation MSE: 25.976890440617325\n"
     ]
    }
   ],
   "source": [
    "val_mse = mean_squared_error(y_val, val_predictions)\n",
    "print(\"Validation MSE:\", val_mse)"
   ]
  },
  {
   "cell_type": "code",
   "execution_count": 41,
   "id": "12eef62b",
   "metadata": {},
   "outputs": [
    {
     "name": "stdout",
     "output_type": "stream",
     "text": [
      "Test MSE: 3.7461880052871277\n"
     ]
    }
   ],
   "source": [
    "test_predictions = model.predict(X_test)\n",
    "test_mse = mean_squared_error(y_test, test_predictions)\n",
    "print(\"Test MSE:\", test_mse)"
   ]
  },
  {
   "cell_type": "code",
   "execution_count": 42,
   "id": "293e1828",
   "metadata": {},
   "outputs": [
    {
     "name": "stdout",
     "output_type": "stream",
     "text": [
      "Cross-Validation MSE Scores: [35.67667425 15.09170926 18.09767668 33.0219246  16.19851031]\n",
      "Mean MSE: 23.617299018203152\n",
      "Standard Deviation of MSE: 8.85512112449033\n"
     ]
    }
   ],
   "source": [
    "cv_scores = cross_val_score(pipeline, X_train, y_train, cv=5, scoring='neg_mean_squared_error')\n",
    "cv_scores = -cv_scores\n",
    "print(\"Cross-Validation MSE Scores:\", cv_scores)\n",
    "print(\"Mean MSE:\", np.mean(cv_scores))\n",
    "print(\"Standard Deviation of MSE:\", np.std(cv_scores))"
   ]
  },
  {
   "cell_type": "code",
   "execution_count": 43,
   "id": "fecfbadc",
   "metadata": {},
   "outputs": [],
   "source": [
    "from sklearn.metrics import r2_score"
   ]
  },
  {
   "cell_type": "code",
   "execution_count": 44,
   "id": "ecc831a1",
   "metadata": {},
   "outputs": [
    {
     "name": "stdout",
     "output_type": "stream",
     "text": [
      "Train MSE: 3.866538869605473\n",
      "Validation MSE: 5.111203427959549\n",
      "Test MSE: 3.7461880052871277\n",
      "Train R2 Score: 0.8463407132970207\n",
      "Validation R2 Score: 0.8899563587190521\n",
      "Test R2 Score: 0.7593648624604183\n"
     ]
    }
   ],
   "source": [
    "train_predictions = model.predict(X_train)\n",
    "val_predictions = model.predict(X_val)\n",
    "test_predictions = model.predict(X_test)\n",
    "\n",
    "train_mse = mean_squared_error(y_train, train_predictions)\n",
    "val_mse = mean_squared_error(y_val, val_predictions)\n",
    "test_mse = mean_squared_error(y_test, test_predictions)\n",
    "\n",
    "train_r2 = r2_score(y_train, train_predictions)\n",
    "val_r2 = r2_score(y_val, val_predictions)\n",
    "test_r2 = r2_score(y_test, test_predictions)\n",
    "\n",
    "print(\"Train MSE:\", train_mse)\n",
    "print(\"Validation MSE:\", val_mse)\n",
    "print(\"Test MSE:\", test_mse)\n",
    "\n",
    "print(\"Train R2 Score:\", train_r2)\n",
    "print(\"Validation R2 Score:\", val_r2)\n",
    "print(\"Test R2 Score:\", test_r2)"
   ]
  },
  {
   "cell_type": "markdown",
   "id": "78244cea",
   "metadata": {},
   "source": [
    "The model appears to perform well on the training set as indicated by the relatively low training MSE and high training R2 score. This suggests that the model explains approximately 81% of the variance in the training data. The similar R2 scores for the validation and test sets indicate that the model's performance generalizes well to unseen data."
   ]
  }
 ],
 "metadata": {
  "kernelspec": {
   "display_name": "Python 3 (ipykernel)",
   "language": "python",
   "name": "python3"
  },
  "language_info": {
   "codemirror_mode": {
    "name": "ipython",
    "version": 3
   },
   "file_extension": ".py",
   "mimetype": "text/x-python",
   "name": "python",
   "nbconvert_exporter": "python",
   "pygments_lexer": "ipython3",
   "version": "3.11.5"
  }
 },
 "nbformat": 4,
 "nbformat_minor": 5
}

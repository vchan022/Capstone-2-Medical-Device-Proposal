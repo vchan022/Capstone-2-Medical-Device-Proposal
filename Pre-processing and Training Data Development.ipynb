{
 "cells": [
  {
   "cell_type": "code",
   "execution_count": 1,
   "id": "b536dae4",
   "metadata": {},
   "outputs": [],
   "source": [
    "import pandas as pd\n",
    "import numpy as np\n",
    "import os\n",
    "import pickle\n",
    "import matplotlib.pyplot as plt\n",
    "import seaborn as sns\n",
    "from sklearn import __version__ as sklearn_version\n",
    "from sklearn.decomposition import PCA\n",
    "from sklearn.preprocessing import scale\n",
    "from sklearn.model_selection import train_test_split, cross_validate, GridSearchCV, learning_curve\n",
    "from sklearn.preprocessing import StandardScaler, MinMaxScaler\n",
    "from sklearn.dummy import DummyRegressor\n",
    "from sklearn.linear_model import LinearRegression\n",
    "from sklearn.ensemble import RandomForestRegressor\n",
    "from sklearn.metrics import r2_score, mean_squared_error, mean_absolute_error\n",
    "from sklearn.pipeline import make_pipeline\n",
    "from sklearn.impute import SimpleImputer\n",
    "from sklearn.feature_selection import SelectKBest, f_regression\n",
    "from sklearn import preprocessing"
   ]
  },
  {
   "cell_type": "code",
   "execution_count": 2,
   "id": "f15d5bf4",
   "metadata": {},
   "outputs": [
    {
     "name": "stdout",
     "output_type": "stream",
     "text": [
      "Requirement already satisfied: joblib in c:\\users\\veron\\anaconda3\\lib\\site-packages (1.1.1)\n"
     ]
    }
   ],
   "source": [
    "!pip install joblib"
   ]
  },
  {
   "cell_type": "code",
   "execution_count": 3,
   "id": "83f5f37e",
   "metadata": {},
   "outputs": [],
   "source": [
    "import joblib"
   ]
  },
  {
   "cell_type": "code",
   "execution_count": 4,
   "id": "8cc1df2b",
   "metadata": {
    "scrolled": true
   },
   "outputs": [
    {
     "name": "stderr",
     "output_type": "stream",
     "text": [
      "C:\\Users\\veron\\AppData\\Local\\Temp\\ipykernel_13772\\2296681516.py:1: DtypeWarning: Columns (2) have mixed types. Specify dtype option on import or set low_memory=False.\n",
      "  df = pd.read_csv('Wrangled.csv')\n"
     ]
    }
   ],
   "source": [
    "df = pd.read_csv('Wrangled.csv')"
   ]
  },
  {
   "cell_type": "code",
   "execution_count": 5,
   "id": "1ae55125",
   "metadata": {},
   "outputs": [
    {
     "data": {
      "text/html": [
       "<div>\n",
       "<style scoped>\n",
       "    .dataframe tbody tr th:only-of-type {\n",
       "        vertical-align: middle;\n",
       "    }\n",
       "\n",
       "    .dataframe tbody tr th {\n",
       "        vertical-align: top;\n",
       "    }\n",
       "\n",
       "    .dataframe thead th {\n",
       "        text-align: right;\n",
       "    }\n",
       "</style>\n",
       "<table border=\"1\" class=\"dataframe\">\n",
       "  <thead>\n",
       "    <tr style=\"text-align: right;\">\n",
       "      <th></th>\n",
       "      <th>Unnamed: 0</th>\n",
       "      <th>Rfrg_Prvdr_Geo_Lvl</th>\n",
       "      <th>Rfrg_Prvdr_Geo_Cd</th>\n",
       "      <th>Rfrg_Prvdr_Geo_Desc</th>\n",
       "      <th>BETOS_Lvl</th>\n",
       "      <th>BETOS_Cd</th>\n",
       "      <th>BETOS_Desc</th>\n",
       "      <th>HCPCS_Cd</th>\n",
       "      <th>HCPCS_Desc</th>\n",
       "      <th>Suplr_Rentl_Ind</th>\n",
       "      <th>Tot_Rfrg_Prvdrs</th>\n",
       "      <th>Tot_Suplrs</th>\n",
       "      <th>Tot_Suplr_Benes</th>\n",
       "      <th>Tot_Suplr_Clms</th>\n",
       "      <th>Tot_Suplr_Srvcs</th>\n",
       "      <th>Avg_Suplr_Sbmtd_Chrg</th>\n",
       "      <th>Avg_Suplr_Mdcr_Alowd_Amt</th>\n",
       "      <th>Avg_Suplr_Mdcr_Pymt_Amt</th>\n",
       "      <th>Avg_Suplr_Mdcr_Stdzd_Amt</th>\n",
       "    </tr>\n",
       "  </thead>\n",
       "  <tbody>\n",
       "    <tr>\n",
       "      <th>0</th>\n",
       "      <td>0</td>\n",
       "      <td>National</td>\n",
       "      <td>6.0</td>\n",
       "      <td>National</td>\n",
       "      <td>Drugs and Nutritional Products</td>\n",
       "      <td>O1C</td>\n",
       "      <td>Enteral and parenteral</td>\n",
       "      <td>B4034</td>\n",
       "      <td>Enteral feeding supply kit; syringe fed, per d...</td>\n",
       "      <td>N</td>\n",
       "      <td>28183</td>\n",
       "      <td>1745</td>\n",
       "      <td>33451.0</td>\n",
       "      <td>171371</td>\n",
       "      <td>4627387</td>\n",
       "      <td>58.266520</td>\n",
       "      <td>3.718512</td>\n",
       "      <td>2.918066</td>\n",
       "      <td>3.047039</td>\n",
       "    </tr>\n",
       "    <tr>\n",
       "      <th>1</th>\n",
       "      <td>1</td>\n",
       "      <td>National</td>\n",
       "      <td>6.0</td>\n",
       "      <td>National</td>\n",
       "      <td>Drugs and Nutritional Products</td>\n",
       "      <td>O1C</td>\n",
       "      <td>Enteral and parenteral</td>\n",
       "      <td>B4035</td>\n",
       "      <td>Enteral feeding supply kit; pump fed, per day,...</td>\n",
       "      <td>N</td>\n",
       "      <td>27342</td>\n",
       "      <td>1758</td>\n",
       "      <td>39110.0</td>\n",
       "      <td>271836</td>\n",
       "      <td>7050743</td>\n",
       "      <td>75.495042</td>\n",
       "      <td>6.433860</td>\n",
       "      <td>5.067509</td>\n",
       "      <td>5.552222</td>\n",
       "    </tr>\n",
       "    <tr>\n",
       "      <th>2</th>\n",
       "      <td>2</td>\n",
       "      <td>National</td>\n",
       "      <td>6.0</td>\n",
       "      <td>National</td>\n",
       "      <td>Drugs and Nutritional Products</td>\n",
       "      <td>O1C</td>\n",
       "      <td>Enteral and parenteral</td>\n",
       "      <td>B4036</td>\n",
       "      <td>Enteral feeding supply kit; gravity fed, per d...</td>\n",
       "      <td>N</td>\n",
       "      <td>6166</td>\n",
       "      <td>933</td>\n",
       "      <td>7171.0</td>\n",
       "      <td>41181</td>\n",
       "      <td>1116382</td>\n",
       "      <td>75.172639</td>\n",
       "      <td>5.036933</td>\n",
       "      <td>3.959289</td>\n",
       "      <td>4.100195</td>\n",
       "    </tr>\n",
       "    <tr>\n",
       "      <th>3</th>\n",
       "      <td>3</td>\n",
       "      <td>National</td>\n",
       "      <td>6.0</td>\n",
       "      <td>National</td>\n",
       "      <td>Drugs and Nutritional Products</td>\n",
       "      <td>O1C</td>\n",
       "      <td>Enteral and parenteral</td>\n",
       "      <td>B4081</td>\n",
       "      <td>Nasogastric tubing with stylet</td>\n",
       "      <td>N</td>\n",
       "      <td>14</td>\n",
       "      <td>12</td>\n",
       "      <td>13.0</td>\n",
       "      <td>20</td>\n",
       "      <td>33</td>\n",
       "      <td>113.736061</td>\n",
       "      <td>17.292727</td>\n",
       "      <td>13.833939</td>\n",
       "      <td>13.579697</td>\n",
       "    </tr>\n",
       "    <tr>\n",
       "      <th>4</th>\n",
       "      <td>4</td>\n",
       "      <td>National</td>\n",
       "      <td>6.0</td>\n",
       "      <td>National</td>\n",
       "      <td>Drugs and Nutritional Products</td>\n",
       "      <td>O1C</td>\n",
       "      <td>Enteral and parenteral</td>\n",
       "      <td>B4082</td>\n",
       "      <td>Nasogastric tubing without stylet</td>\n",
       "      <td>N</td>\n",
       "      <td>16</td>\n",
       "      <td>16</td>\n",
       "      <td>16.0</td>\n",
       "      <td>21</td>\n",
       "      <td>43</td>\n",
       "      <td>99.110930</td>\n",
       "      <td>12.532093</td>\n",
       "      <td>9.502326</td>\n",
       "      <td>9.463488</td>\n",
       "    </tr>\n",
       "  </tbody>\n",
       "</table>\n",
       "</div>"
      ],
      "text/plain": [
       "   Unnamed: 0 Rfrg_Prvdr_Geo_Lvl Rfrg_Prvdr_Geo_Cd Rfrg_Prvdr_Geo_Desc  \\\n",
       "0           0           National               6.0            National   \n",
       "1           1           National               6.0            National   \n",
       "2           2           National               6.0            National   \n",
       "3           3           National               6.0            National   \n",
       "4           4           National               6.0            National   \n",
       "\n",
       "                        BETOS_Lvl BETOS_Cd              BETOS_Desc HCPCS_Cd  \\\n",
       "0  Drugs and Nutritional Products      O1C  Enteral and parenteral    B4034   \n",
       "1  Drugs and Nutritional Products      O1C  Enteral and parenteral    B4035   \n",
       "2  Drugs and Nutritional Products      O1C  Enteral and parenteral    B4036   \n",
       "3  Drugs and Nutritional Products      O1C  Enteral and parenteral    B4081   \n",
       "4  Drugs and Nutritional Products      O1C  Enteral and parenteral    B4082   \n",
       "\n",
       "                                          HCPCS_Desc Suplr_Rentl_Ind  \\\n",
       "0  Enteral feeding supply kit; syringe fed, per d...               N   \n",
       "1  Enteral feeding supply kit; pump fed, per day,...               N   \n",
       "2  Enteral feeding supply kit; gravity fed, per d...               N   \n",
       "3                     Nasogastric tubing with stylet               N   \n",
       "4                  Nasogastric tubing without stylet               N   \n",
       "\n",
       "   Tot_Rfrg_Prvdrs  Tot_Suplrs  Tot_Suplr_Benes  Tot_Suplr_Clms  \\\n",
       "0            28183        1745          33451.0          171371   \n",
       "1            27342        1758          39110.0          271836   \n",
       "2             6166         933           7171.0           41181   \n",
       "3               14          12             13.0              20   \n",
       "4               16          16             16.0              21   \n",
       "\n",
       "   Tot_Suplr_Srvcs  Avg_Suplr_Sbmtd_Chrg  Avg_Suplr_Mdcr_Alowd_Amt  \\\n",
       "0          4627387             58.266520                  3.718512   \n",
       "1          7050743             75.495042                  6.433860   \n",
       "2          1116382             75.172639                  5.036933   \n",
       "3               33            113.736061                 17.292727   \n",
       "4               43             99.110930                 12.532093   \n",
       "\n",
       "   Avg_Suplr_Mdcr_Pymt_Amt  Avg_Suplr_Mdcr_Stdzd_Amt  \n",
       "0                 2.918066                  3.047039  \n",
       "1                 5.067509                  5.552222  \n",
       "2                 3.959289                  4.100195  \n",
       "3                13.833939                 13.579697  \n",
       "4                 9.502326                  9.463488  "
      ]
     },
     "execution_count": 5,
     "metadata": {},
     "output_type": "execute_result"
    }
   ],
   "source": [
    "df.head()"
   ]
  },
  {
   "cell_type": "code",
   "execution_count": 6,
   "id": "2a60691a",
   "metadata": {},
   "outputs": [
    {
     "data": {
      "text/html": [
       "<div>\n",
       "<style scoped>\n",
       "    .dataframe tbody tr th:only-of-type {\n",
       "        vertical-align: middle;\n",
       "    }\n",
       "\n",
       "    .dataframe tbody tr th {\n",
       "        vertical-align: top;\n",
       "    }\n",
       "\n",
       "    .dataframe thead th {\n",
       "        text-align: right;\n",
       "    }\n",
       "</style>\n",
       "<table border=\"1\" class=\"dataframe\">\n",
       "  <thead>\n",
       "    <tr style=\"text-align: right;\">\n",
       "      <th></th>\n",
       "      <th>Unnamed: 0</th>\n",
       "      <th>Rfrg_Prvdr_Geo_Lvl</th>\n",
       "      <th>Rfrg_Prvdr_Geo_Cd</th>\n",
       "      <th>Rfrg_Prvdr_Geo_Desc</th>\n",
       "      <th>BETOS_Lvl</th>\n",
       "      <th>BETOS_Cd</th>\n",
       "      <th>BETOS_Desc</th>\n",
       "      <th>HCPCS_Cd</th>\n",
       "      <th>HCPCS_Desc</th>\n",
       "      <th>Suplr_Rentl_Ind</th>\n",
       "      <th>Tot_Rfrg_Prvdrs</th>\n",
       "      <th>Tot_Suplrs</th>\n",
       "      <th>Tot_Suplr_Benes</th>\n",
       "      <th>Tot_Suplr_Clms</th>\n",
       "      <th>Tot_Suplr_Srvcs</th>\n",
       "      <th>Avg_Suplr_Sbmtd_Chrg</th>\n",
       "      <th>Avg_Suplr_Mdcr_Alowd_Amt</th>\n",
       "      <th>Avg_Suplr_Mdcr_Pymt_Amt</th>\n",
       "      <th>Avg_Suplr_Mdcr_Stdzd_Amt</th>\n",
       "    </tr>\n",
       "  </thead>\n",
       "  <tbody>\n",
       "    <tr>\n",
       "      <th>592</th>\n",
       "      <td>592</td>\n",
       "      <td>National</td>\n",
       "      <td>6.0</td>\n",
       "      <td>National</td>\n",
       "      <td>Durable Medical Equipment</td>\n",
       "      <td>D1E</td>\n",
       "      <td>Other DME</td>\n",
       "      <td>A4253</td>\n",
       "      <td>Blood glucose test or reagent strips for home ...</td>\n",
       "      <td>N</td>\n",
       "      <td>233762</td>\n",
       "      <td>43511</td>\n",
       "      <td>1891407.0</td>\n",
       "      <td>5104070</td>\n",
       "      <td>13931820</td>\n",
       "      <td>61.932717</td>\n",
       "      <td>8.400779</td>\n",
       "      <td>5.964003</td>\n",
       "      <td>5.786099</td>\n",
       "    </tr>\n",
       "  </tbody>\n",
       "</table>\n",
       "</div>"
      ],
      "text/plain": [
       "     Unnamed: 0 Rfrg_Prvdr_Geo_Lvl Rfrg_Prvdr_Geo_Cd Rfrg_Prvdr_Geo_Desc  \\\n",
       "592         592           National               6.0            National   \n",
       "\n",
       "                     BETOS_Lvl BETOS_Cd BETOS_Desc HCPCS_Cd  \\\n",
       "592  Durable Medical Equipment      D1E  Other DME    A4253   \n",
       "\n",
       "                                            HCPCS_Desc Suplr_Rentl_Ind  \\\n",
       "592  Blood glucose test or reagent strips for home ...               N   \n",
       "\n",
       "     Tot_Rfrg_Prvdrs  Tot_Suplrs  Tot_Suplr_Benes  Tot_Suplr_Clms  \\\n",
       "592           233762       43511        1891407.0         5104070   \n",
       "\n",
       "     Tot_Suplr_Srvcs  Avg_Suplr_Sbmtd_Chrg  Avg_Suplr_Mdcr_Alowd_Amt  \\\n",
       "592         13931820             61.932717                  8.400779   \n",
       "\n",
       "     Avg_Suplr_Mdcr_Pymt_Amt  Avg_Suplr_Mdcr_Stdzd_Amt  \n",
       "592                 5.964003                  5.786099  "
      ]
     },
     "execution_count": 6,
     "metadata": {},
     "output_type": "execute_result"
    }
   ],
   "source": [
    "tot_rfrg_prvdrs_max = df['Tot_Rfrg_Prvdrs'].max()\n",
    "df.loc[df['Tot_Rfrg_Prvdrs'] == tot_rfrg_prvdrs_max]"
   ]
  },
  {
   "cell_type": "code",
   "execution_count": 7,
   "id": "2e93660a",
   "metadata": {},
   "outputs": [
    {
     "data": {
      "text/html": [
       "<div>\n",
       "<style scoped>\n",
       "    .dataframe tbody tr th:only-of-type {\n",
       "        vertical-align: middle;\n",
       "    }\n",
       "\n",
       "    .dataframe tbody tr th {\n",
       "        vertical-align: top;\n",
       "    }\n",
       "\n",
       "    .dataframe thead th {\n",
       "        text-align: right;\n",
       "    }\n",
       "</style>\n",
       "<table border=\"1\" class=\"dataframe\">\n",
       "  <thead>\n",
       "    <tr style=\"text-align: right;\">\n",
       "      <th></th>\n",
       "      <th>592</th>\n",
       "      <th>1999</th>\n",
       "      <th>2624</th>\n",
       "      <th>3186</th>\n",
       "      <th>3987</th>\n",
       "      <th>4884</th>\n",
       "      <th>5882</th>\n",
       "      <th>6642</th>\n",
       "      <th>7284</th>\n",
       "      <th>7821</th>\n",
       "      <th>...</th>\n",
       "      <th>38072</th>\n",
       "      <th>38787</th>\n",
       "      <th>39428</th>\n",
       "      <th>39723</th>\n",
       "      <th>39856</th>\n",
       "      <th>40037</th>\n",
       "      <th>40109</th>\n",
       "      <th>40154</th>\n",
       "      <th>40206</th>\n",
       "      <th>40228</th>\n",
       "    </tr>\n",
       "  </thead>\n",
       "  <tbody>\n",
       "    <tr>\n",
       "      <th>Unnamed: 0</th>\n",
       "      <td>592</td>\n",
       "      <td>1999</td>\n",
       "      <td>2624</td>\n",
       "      <td>3186</td>\n",
       "      <td>3987</td>\n",
       "      <td>4884</td>\n",
       "      <td>5882</td>\n",
       "      <td>6642</td>\n",
       "      <td>7284</td>\n",
       "      <td>7821</td>\n",
       "      <td>...</td>\n",
       "      <td>38072</td>\n",
       "      <td>38787</td>\n",
       "      <td>39428</td>\n",
       "      <td>39723</td>\n",
       "      <td>39856</td>\n",
       "      <td>40037</td>\n",
       "      <td>40109</td>\n",
       "      <td>40154</td>\n",
       "      <td>40206</td>\n",
       "      <td>40228</td>\n",
       "    </tr>\n",
       "    <tr>\n",
       "      <th>Rfrg_Prvdr_Geo_Lvl</th>\n",
       "      <td>National</td>\n",
       "      <td>State</td>\n",
       "      <td>State</td>\n",
       "      <td>State</td>\n",
       "      <td>State</td>\n",
       "      <td>State</td>\n",
       "      <td>State</td>\n",
       "      <td>State</td>\n",
       "      <td>State</td>\n",
       "      <td>State</td>\n",
       "      <td>...</td>\n",
       "      <td>State</td>\n",
       "      <td>State</td>\n",
       "      <td>State</td>\n",
       "      <td>State</td>\n",
       "      <td>State</td>\n",
       "      <td>State</td>\n",
       "      <td>State</td>\n",
       "      <td>State</td>\n",
       "      <td>State</td>\n",
       "      <td>State</td>\n",
       "    </tr>\n",
       "    <tr>\n",
       "      <th>Rfrg_Prvdr_Geo_Cd</th>\n",
       "      <td>6.0</td>\n",
       "      <td>1.0</td>\n",
       "      <td>2.0</td>\n",
       "      <td>4.0</td>\n",
       "      <td>5.0</td>\n",
       "      <td>6.0</td>\n",
       "      <td>8.0</td>\n",
       "      <td>9.0</td>\n",
       "      <td>10.0</td>\n",
       "      <td>11.0</td>\n",
       "      <td>...</td>\n",
       "      <td>54</td>\n",
       "      <td>55</td>\n",
       "      <td>56</td>\n",
       "      <td>66</td>\n",
       "      <td>72</td>\n",
       "      <td>78</td>\n",
       "      <td>9B</td>\n",
       "      <td>9C</td>\n",
       "      <td>9D</td>\n",
       "      <td>9E</td>\n",
       "    </tr>\n",
       "    <tr>\n",
       "      <th>Rfrg_Prvdr_Geo_Desc</th>\n",
       "      <td>National</td>\n",
       "      <td>Alabama</td>\n",
       "      <td>Alaska</td>\n",
       "      <td>Arizona</td>\n",
       "      <td>Arkansas</td>\n",
       "      <td>California</td>\n",
       "      <td>Colorado</td>\n",
       "      <td>Connecticut</td>\n",
       "      <td>Delaware</td>\n",
       "      <td>District of Columbia</td>\n",
       "      <td>...</td>\n",
       "      <td>West Virginia</td>\n",
       "      <td>Wisconsin</td>\n",
       "      <td>Wyoming</td>\n",
       "      <td>Guam</td>\n",
       "      <td>Puerto Rico</td>\n",
       "      <td>Virgin Islands</td>\n",
       "      <td>Armed Forces Europe</td>\n",
       "      <td>Armed Forces Pacific</td>\n",
       "      <td>Unknown</td>\n",
       "      <td>Foreign Country</td>\n",
       "    </tr>\n",
       "    <tr>\n",
       "      <th>BETOS_Lvl</th>\n",
       "      <td>Durable Medical Equipment</td>\n",
       "      <td>Durable Medical Equipment</td>\n",
       "      <td>Durable Medical Equipment</td>\n",
       "      <td>Durable Medical Equipment</td>\n",
       "      <td>Durable Medical Equipment</td>\n",
       "      <td>Durable Medical Equipment</td>\n",
       "      <td>Durable Medical Equipment</td>\n",
       "      <td>Durable Medical Equipment</td>\n",
       "      <td>Durable Medical Equipment</td>\n",
       "      <td>Durable Medical Equipment</td>\n",
       "      <td>...</td>\n",
       "      <td>Durable Medical Equipment</td>\n",
       "      <td>Durable Medical Equipment</td>\n",
       "      <td>Durable Medical Equipment</td>\n",
       "      <td>Durable Medical Equipment</td>\n",
       "      <td>Durable Medical Equipment</td>\n",
       "      <td>Durable Medical Equipment</td>\n",
       "      <td>Durable Medical Equipment</td>\n",
       "      <td>Durable Medical Equipment</td>\n",
       "      <td>Durable Medical Equipment</td>\n",
       "      <td>Durable Medical Equipment</td>\n",
       "    </tr>\n",
       "    <tr>\n",
       "      <th>BETOS_Cd</th>\n",
       "      <td>D1E</td>\n",
       "      <td>D1E</td>\n",
       "      <td>D1E</td>\n",
       "      <td>D1E</td>\n",
       "      <td>D1E</td>\n",
       "      <td>D1E</td>\n",
       "      <td>D1E</td>\n",
       "      <td>D1E</td>\n",
       "      <td>D1E</td>\n",
       "      <td>D1E</td>\n",
       "      <td>...</td>\n",
       "      <td>D1E</td>\n",
       "      <td>D1E</td>\n",
       "      <td>D1E</td>\n",
       "      <td>D1E</td>\n",
       "      <td>D1E</td>\n",
       "      <td>D1E</td>\n",
       "      <td>D1E</td>\n",
       "      <td>D1E</td>\n",
       "      <td>D1E</td>\n",
       "      <td>D1E</td>\n",
       "    </tr>\n",
       "    <tr>\n",
       "      <th>BETOS_Desc</th>\n",
       "      <td>Other DME</td>\n",
       "      <td>Other DME</td>\n",
       "      <td>Other DME</td>\n",
       "      <td>Other DME</td>\n",
       "      <td>Other DME</td>\n",
       "      <td>Other DME</td>\n",
       "      <td>Other DME</td>\n",
       "      <td>Other DME</td>\n",
       "      <td>Other DME</td>\n",
       "      <td>Other DME</td>\n",
       "      <td>...</td>\n",
       "      <td>Other DME</td>\n",
       "      <td>Other DME</td>\n",
       "      <td>Other DME</td>\n",
       "      <td>Other DME</td>\n",
       "      <td>Other DME</td>\n",
       "      <td>Other DME</td>\n",
       "      <td>Other DME</td>\n",
       "      <td>Other DME</td>\n",
       "      <td>Other DME</td>\n",
       "      <td>Other DME</td>\n",
       "    </tr>\n",
       "    <tr>\n",
       "      <th>HCPCS_Cd</th>\n",
       "      <td>A4253</td>\n",
       "      <td>A4253</td>\n",
       "      <td>A4253</td>\n",
       "      <td>A4253</td>\n",
       "      <td>A4253</td>\n",
       "      <td>A4253</td>\n",
       "      <td>A4253</td>\n",
       "      <td>A4253</td>\n",
       "      <td>A4253</td>\n",
       "      <td>A4253</td>\n",
       "      <td>...</td>\n",
       "      <td>A4253</td>\n",
       "      <td>A4253</td>\n",
       "      <td>A4253</td>\n",
       "      <td>A4253</td>\n",
       "      <td>A4253</td>\n",
       "      <td>A4253</td>\n",
       "      <td>A4253</td>\n",
       "      <td>A4253</td>\n",
       "      <td>A4253</td>\n",
       "      <td>A4253</td>\n",
       "    </tr>\n",
       "    <tr>\n",
       "      <th>HCPCS_Desc</th>\n",
       "      <td>Blood glucose test or reagent strips for home ...</td>\n",
       "      <td>Blood glucose test or reagent strips for home ...</td>\n",
       "      <td>Blood glucose test or reagent strips for home ...</td>\n",
       "      <td>Blood glucose test or reagent strips for home ...</td>\n",
       "      <td>Blood glucose test or reagent strips for home ...</td>\n",
       "      <td>Blood glucose test or reagent strips for home ...</td>\n",
       "      <td>Blood glucose test or reagent strips for home ...</td>\n",
       "      <td>Blood glucose test or reagent strips for home ...</td>\n",
       "      <td>Blood glucose test or reagent strips for home ...</td>\n",
       "      <td>Blood glucose test or reagent strips for home ...</td>\n",
       "      <td>...</td>\n",
       "      <td>Blood glucose test or reagent strips for home ...</td>\n",
       "      <td>Blood glucose test or reagent strips for home ...</td>\n",
       "      <td>Blood glucose test or reagent strips for home ...</td>\n",
       "      <td>Blood glucose test or reagent strips for home ...</td>\n",
       "      <td>Blood glucose test or reagent strips for home ...</td>\n",
       "      <td>Blood glucose test or reagent strips for home ...</td>\n",
       "      <td>Blood glucose test or reagent strips for home ...</td>\n",
       "      <td>Blood glucose test or reagent strips for home ...</td>\n",
       "      <td>Blood glucose test or reagent strips for home ...</td>\n",
       "      <td>Blood glucose test or reagent strips for home ...</td>\n",
       "    </tr>\n",
       "    <tr>\n",
       "      <th>Suplr_Rentl_Ind</th>\n",
       "      <td>N</td>\n",
       "      <td>N</td>\n",
       "      <td>N</td>\n",
       "      <td>N</td>\n",
       "      <td>N</td>\n",
       "      <td>N</td>\n",
       "      <td>N</td>\n",
       "      <td>N</td>\n",
       "      <td>N</td>\n",
       "      <td>N</td>\n",
       "      <td>...</td>\n",
       "      <td>N</td>\n",
       "      <td>N</td>\n",
       "      <td>N</td>\n",
       "      <td>N</td>\n",
       "      <td>N</td>\n",
       "      <td>N</td>\n",
       "      <td>N</td>\n",
       "      <td>N</td>\n",
       "      <td>N</td>\n",
       "      <td>N</td>\n",
       "    </tr>\n",
       "    <tr>\n",
       "      <th>Tot_Rfrg_Prvdrs</th>\n",
       "      <td>233762</td>\n",
       "      <td>3093</td>\n",
       "      <td>509</td>\n",
       "      <td>4387</td>\n",
       "      <td>2258</td>\n",
       "      <td>22583</td>\n",
       "      <td>3630</td>\n",
       "      <td>2900</td>\n",
       "      <td>821</td>\n",
       "      <td>649</td>\n",
       "      <td>...</td>\n",
       "      <td>1872</td>\n",
       "      <td>4895</td>\n",
       "      <td>470</td>\n",
       "      <td>41</td>\n",
       "      <td>1093</td>\n",
       "      <td>59</td>\n",
       "      <td>8</td>\n",
       "      <td>7</td>\n",
       "      <td>7</td>\n",
       "      <td>9</td>\n",
       "    </tr>\n",
       "    <tr>\n",
       "      <th>Tot_Suplrs</th>\n",
       "      <td>43511</td>\n",
       "      <td>1406</td>\n",
       "      <td>204</td>\n",
       "      <td>2262</td>\n",
       "      <td>924</td>\n",
       "      <td>6656</td>\n",
       "      <td>1746</td>\n",
       "      <td>1825</td>\n",
       "      <td>543</td>\n",
       "      <td>853</td>\n",
       "      <td>...</td>\n",
       "      <td>843</td>\n",
       "      <td>2288</td>\n",
       "      <td>251</td>\n",
       "      <td>17</td>\n",
       "      <td>244</td>\n",
       "      <td>42</td>\n",
       "      <td>68</td>\n",
       "      <td>47</td>\n",
       "      <td>51</td>\n",
       "      <td>30</td>\n",
       "    </tr>\n",
       "    <tr>\n",
       "      <th>Tot_Suplr_Benes</th>\n",
       "      <td>1891407.0</td>\n",
       "      <td>25059.0</td>\n",
       "      <td>2394.0</td>\n",
       "      <td>29371.0</td>\n",
       "      <td>19444.0</td>\n",
       "      <td>182625.0</td>\n",
       "      <td>17642.0</td>\n",
       "      <td>19898.0</td>\n",
       "      <td>10485.0</td>\n",
       "      <td>3564.0</td>\n",
       "      <td>...</td>\n",
       "      <td>16745.0</td>\n",
       "      <td>45344.0</td>\n",
       "      <td>3649.0</td>\n",
       "      <td>447.0</td>\n",
       "      <td>2640.0</td>\n",
       "      <td>662.0</td>\n",
       "      <td>102.0</td>\n",
       "      <td>103.0</td>\n",
       "      <td>59.0</td>\n",
       "      <td>29.0</td>\n",
       "    </tr>\n",
       "    <tr>\n",
       "      <th>Tot_Suplr_Clms</th>\n",
       "      <td>5104070</td>\n",
       "      <td>64060</td>\n",
       "      <td>5877</td>\n",
       "      <td>70945</td>\n",
       "      <td>51839</td>\n",
       "      <td>509731</td>\n",
       "      <td>45470</td>\n",
       "      <td>51313</td>\n",
       "      <td>24463</td>\n",
       "      <td>9167</td>\n",
       "      <td>...</td>\n",
       "      <td>44957</td>\n",
       "      <td>120135</td>\n",
       "      <td>9873</td>\n",
       "      <td>1495</td>\n",
       "      <td>7680</td>\n",
       "      <td>1519</td>\n",
       "      <td>312</td>\n",
       "      <td>210</td>\n",
       "      <td>138</td>\n",
       "      <td>69</td>\n",
       "    </tr>\n",
       "    <tr>\n",
       "      <th>Tot_Suplr_Srvcs</th>\n",
       "      <td>13931820</td>\n",
       "      <td>181067</td>\n",
       "      <td>16216</td>\n",
       "      <td>207369</td>\n",
       "      <td>139633</td>\n",
       "      <td>1233200</td>\n",
       "      <td>128382</td>\n",
       "      <td>146280</td>\n",
       "      <td>76354</td>\n",
       "      <td>25495</td>\n",
       "      <td>...</td>\n",
       "      <td>119773</td>\n",
       "      <td>353698</td>\n",
       "      <td>24946</td>\n",
       "      <td>2658</td>\n",
       "      <td>26141</td>\n",
       "      <td>3842</td>\n",
       "      <td>832</td>\n",
       "      <td>691</td>\n",
       "      <td>329</td>\n",
       "      <td>143</td>\n",
       "    </tr>\n",
       "    <tr>\n",
       "      <th>Avg_Suplr_Sbmtd_Chrg</th>\n",
       "      <td>61.932717</td>\n",
       "      <td>56.55811</td>\n",
       "      <td>64.369821</td>\n",
       "      <td>66.860627</td>\n",
       "      <td>49.084897</td>\n",
       "      <td>66.023182</td>\n",
       "      <td>58.680633</td>\n",
       "      <td>69.086442</td>\n",
       "      <td>69.558235</td>\n",
       "      <td>59.030813</td>\n",
       "      <td>...</td>\n",
       "      <td>62.519122</td>\n",
       "      <td>66.743051</td>\n",
       "      <td>62.289233</td>\n",
       "      <td>72.101268</td>\n",
       "      <td>45.837617</td>\n",
       "      <td>62.153743</td>\n",
       "      <td>56.325625</td>\n",
       "      <td>65.26864</td>\n",
       "      <td>63.750638</td>\n",
       "      <td>63.44035</td>\n",
       "    </tr>\n",
       "    <tr>\n",
       "      <th>Avg_Suplr_Mdcr_Alowd_Amt</th>\n",
       "      <td>8.400779</td>\n",
       "      <td>8.423689</td>\n",
       "      <td>8.403106</td>\n",
       "      <td>8.386908</td>\n",
       "      <td>8.435714</td>\n",
       "      <td>8.382516</td>\n",
       "      <td>8.381079</td>\n",
       "      <td>8.372945</td>\n",
       "      <td>8.3847</td>\n",
       "      <td>8.433528</td>\n",
       "      <td>...</td>\n",
       "      <td>8.388365</td>\n",
       "      <td>8.35278</td>\n",
       "      <td>8.414037</td>\n",
       "      <td>8.352735</td>\n",
       "      <td>8.59744</td>\n",
       "      <td>8.512199</td>\n",
       "      <td>8.390986</td>\n",
       "      <td>8.350072</td>\n",
       "      <td>8.392614</td>\n",
       "      <td>8.363497</td>\n",
       "    </tr>\n",
       "    <tr>\n",
       "      <th>Avg_Suplr_Mdcr_Pymt_Amt</th>\n",
       "      <td>5.964003</td>\n",
       "      <td>6.055243</td>\n",
       "      <td>5.852651</td>\n",
       "      <td>6.101452</td>\n",
       "      <td>6.028881</td>\n",
       "      <td>5.72536</td>\n",
       "      <td>5.90487</td>\n",
       "      <td>5.946769</td>\n",
       "      <td>5.920637</td>\n",
       "      <td>5.865191</td>\n",
       "      <td>...</td>\n",
       "      <td>5.853243</td>\n",
       "      <td>5.870895</td>\n",
       "      <td>5.790986</td>\n",
       "      <td>5.472257</td>\n",
       "      <td>6.401464</td>\n",
       "      <td>5.90848</td>\n",
       "      <td>6.103714</td>\n",
       "      <td>5.972258</td>\n",
       "      <td>5.428663</td>\n",
       "      <td>5.696853</td>\n",
       "    </tr>\n",
       "    <tr>\n",
       "      <th>Avg_Suplr_Mdcr_Stdzd_Amt</th>\n",
       "      <td>5.786099</td>\n",
       "      <td>5.858798</td>\n",
       "      <td>5.67649</td>\n",
       "      <td>5.931097</td>\n",
       "      <td>5.825964</td>\n",
       "      <td>5.566306</td>\n",
       "      <td>5.743645</td>\n",
       "      <td>5.788965</td>\n",
       "      <td>5.755039</td>\n",
       "      <td>5.668146</td>\n",
       "      <td>...</td>\n",
       "      <td>5.686826</td>\n",
       "      <td>5.729933</td>\n",
       "      <td>5.609055</td>\n",
       "      <td>5.338755</td>\n",
       "      <td>6.065551</td>\n",
       "      <td>5.656892</td>\n",
       "      <td>5.930757</td>\n",
       "      <td>5.829262</td>\n",
       "      <td>5.273739</td>\n",
       "      <td>5.557972</td>\n",
       "    </tr>\n",
       "  </tbody>\n",
       "</table>\n",
       "<p>19 rows × 59 columns</p>\n",
       "</div>"
      ],
      "text/plain": [
       "                                                                      592    \\\n",
       "Unnamed: 0                                                              592   \n",
       "Rfrg_Prvdr_Geo_Lvl                                                 National   \n",
       "Rfrg_Prvdr_Geo_Cd                                                       6.0   \n",
       "Rfrg_Prvdr_Geo_Desc                                                National   \n",
       "BETOS_Lvl                                         Durable Medical Equipment   \n",
       "BETOS_Cd                                                                D1E   \n",
       "BETOS_Desc                                                        Other DME   \n",
       "HCPCS_Cd                                                              A4253   \n",
       "HCPCS_Desc                Blood glucose test or reagent strips for home ...   \n",
       "Suplr_Rentl_Ind                                                           N   \n",
       "Tot_Rfrg_Prvdrs                                                      233762   \n",
       "Tot_Suplrs                                                            43511   \n",
       "Tot_Suplr_Benes                                                   1891407.0   \n",
       "Tot_Suplr_Clms                                                      5104070   \n",
       "Tot_Suplr_Srvcs                                                    13931820   \n",
       "Avg_Suplr_Sbmtd_Chrg                                              61.932717   \n",
       "Avg_Suplr_Mdcr_Alowd_Amt                                           8.400779   \n",
       "Avg_Suplr_Mdcr_Pymt_Amt                                            5.964003   \n",
       "Avg_Suplr_Mdcr_Stdzd_Amt                                           5.786099   \n",
       "\n",
       "                                                                      1999   \\\n",
       "Unnamed: 0                                                             1999   \n",
       "Rfrg_Prvdr_Geo_Lvl                                                    State   \n",
       "Rfrg_Prvdr_Geo_Cd                                                       1.0   \n",
       "Rfrg_Prvdr_Geo_Desc                                                 Alabama   \n",
       "BETOS_Lvl                                         Durable Medical Equipment   \n",
       "BETOS_Cd                                                                D1E   \n",
       "BETOS_Desc                                                        Other DME   \n",
       "HCPCS_Cd                                                              A4253   \n",
       "HCPCS_Desc                Blood glucose test or reagent strips for home ...   \n",
       "Suplr_Rentl_Ind                                                           N   \n",
       "Tot_Rfrg_Prvdrs                                                        3093   \n",
       "Tot_Suplrs                                                             1406   \n",
       "Tot_Suplr_Benes                                                     25059.0   \n",
       "Tot_Suplr_Clms                                                        64060   \n",
       "Tot_Suplr_Srvcs                                                      181067   \n",
       "Avg_Suplr_Sbmtd_Chrg                                               56.55811   \n",
       "Avg_Suplr_Mdcr_Alowd_Amt                                           8.423689   \n",
       "Avg_Suplr_Mdcr_Pymt_Amt                                            6.055243   \n",
       "Avg_Suplr_Mdcr_Stdzd_Amt                                           5.858798   \n",
       "\n",
       "                                                                      2624   \\\n",
       "Unnamed: 0                                                             2624   \n",
       "Rfrg_Prvdr_Geo_Lvl                                                    State   \n",
       "Rfrg_Prvdr_Geo_Cd                                                       2.0   \n",
       "Rfrg_Prvdr_Geo_Desc                                                  Alaska   \n",
       "BETOS_Lvl                                         Durable Medical Equipment   \n",
       "BETOS_Cd                                                                D1E   \n",
       "BETOS_Desc                                                        Other DME   \n",
       "HCPCS_Cd                                                              A4253   \n",
       "HCPCS_Desc                Blood glucose test or reagent strips for home ...   \n",
       "Suplr_Rentl_Ind                                                           N   \n",
       "Tot_Rfrg_Prvdrs                                                         509   \n",
       "Tot_Suplrs                                                              204   \n",
       "Tot_Suplr_Benes                                                      2394.0   \n",
       "Tot_Suplr_Clms                                                         5877   \n",
       "Tot_Suplr_Srvcs                                                       16216   \n",
       "Avg_Suplr_Sbmtd_Chrg                                              64.369821   \n",
       "Avg_Suplr_Mdcr_Alowd_Amt                                           8.403106   \n",
       "Avg_Suplr_Mdcr_Pymt_Amt                                            5.852651   \n",
       "Avg_Suplr_Mdcr_Stdzd_Amt                                            5.67649   \n",
       "\n",
       "                                                                      3186   \\\n",
       "Unnamed: 0                                                             3186   \n",
       "Rfrg_Prvdr_Geo_Lvl                                                    State   \n",
       "Rfrg_Prvdr_Geo_Cd                                                       4.0   \n",
       "Rfrg_Prvdr_Geo_Desc                                                 Arizona   \n",
       "BETOS_Lvl                                         Durable Medical Equipment   \n",
       "BETOS_Cd                                                                D1E   \n",
       "BETOS_Desc                                                        Other DME   \n",
       "HCPCS_Cd                                                              A4253   \n",
       "HCPCS_Desc                Blood glucose test or reagent strips for home ...   \n",
       "Suplr_Rentl_Ind                                                           N   \n",
       "Tot_Rfrg_Prvdrs                                                        4387   \n",
       "Tot_Suplrs                                                             2262   \n",
       "Tot_Suplr_Benes                                                     29371.0   \n",
       "Tot_Suplr_Clms                                                        70945   \n",
       "Tot_Suplr_Srvcs                                                      207369   \n",
       "Avg_Suplr_Sbmtd_Chrg                                              66.860627   \n",
       "Avg_Suplr_Mdcr_Alowd_Amt                                           8.386908   \n",
       "Avg_Suplr_Mdcr_Pymt_Amt                                            6.101452   \n",
       "Avg_Suplr_Mdcr_Stdzd_Amt                                           5.931097   \n",
       "\n",
       "                                                                      3987   \\\n",
       "Unnamed: 0                                                             3987   \n",
       "Rfrg_Prvdr_Geo_Lvl                                                    State   \n",
       "Rfrg_Prvdr_Geo_Cd                                                       5.0   \n",
       "Rfrg_Prvdr_Geo_Desc                                                Arkansas   \n",
       "BETOS_Lvl                                         Durable Medical Equipment   \n",
       "BETOS_Cd                                                                D1E   \n",
       "BETOS_Desc                                                        Other DME   \n",
       "HCPCS_Cd                                                              A4253   \n",
       "HCPCS_Desc                Blood glucose test or reagent strips for home ...   \n",
       "Suplr_Rentl_Ind                                                           N   \n",
       "Tot_Rfrg_Prvdrs                                                        2258   \n",
       "Tot_Suplrs                                                              924   \n",
       "Tot_Suplr_Benes                                                     19444.0   \n",
       "Tot_Suplr_Clms                                                        51839   \n",
       "Tot_Suplr_Srvcs                                                      139633   \n",
       "Avg_Suplr_Sbmtd_Chrg                                              49.084897   \n",
       "Avg_Suplr_Mdcr_Alowd_Amt                                           8.435714   \n",
       "Avg_Suplr_Mdcr_Pymt_Amt                                            6.028881   \n",
       "Avg_Suplr_Mdcr_Stdzd_Amt                                           5.825964   \n",
       "\n",
       "                                                                      4884   \\\n",
       "Unnamed: 0                                                             4884   \n",
       "Rfrg_Prvdr_Geo_Lvl                                                    State   \n",
       "Rfrg_Prvdr_Geo_Cd                                                       6.0   \n",
       "Rfrg_Prvdr_Geo_Desc                                              California   \n",
       "BETOS_Lvl                                         Durable Medical Equipment   \n",
       "BETOS_Cd                                                                D1E   \n",
       "BETOS_Desc                                                        Other DME   \n",
       "HCPCS_Cd                                                              A4253   \n",
       "HCPCS_Desc                Blood glucose test or reagent strips for home ...   \n",
       "Suplr_Rentl_Ind                                                           N   \n",
       "Tot_Rfrg_Prvdrs                                                       22583   \n",
       "Tot_Suplrs                                                             6656   \n",
       "Tot_Suplr_Benes                                                    182625.0   \n",
       "Tot_Suplr_Clms                                                       509731   \n",
       "Tot_Suplr_Srvcs                                                     1233200   \n",
       "Avg_Suplr_Sbmtd_Chrg                                              66.023182   \n",
       "Avg_Suplr_Mdcr_Alowd_Amt                                           8.382516   \n",
       "Avg_Suplr_Mdcr_Pymt_Amt                                             5.72536   \n",
       "Avg_Suplr_Mdcr_Stdzd_Amt                                           5.566306   \n",
       "\n",
       "                                                                      5882   \\\n",
       "Unnamed: 0                                                             5882   \n",
       "Rfrg_Prvdr_Geo_Lvl                                                    State   \n",
       "Rfrg_Prvdr_Geo_Cd                                                       8.0   \n",
       "Rfrg_Prvdr_Geo_Desc                                                Colorado   \n",
       "BETOS_Lvl                                         Durable Medical Equipment   \n",
       "BETOS_Cd                                                                D1E   \n",
       "BETOS_Desc                                                        Other DME   \n",
       "HCPCS_Cd                                                              A4253   \n",
       "HCPCS_Desc                Blood glucose test or reagent strips for home ...   \n",
       "Suplr_Rentl_Ind                                                           N   \n",
       "Tot_Rfrg_Prvdrs                                                        3630   \n",
       "Tot_Suplrs                                                             1746   \n",
       "Tot_Suplr_Benes                                                     17642.0   \n",
       "Tot_Suplr_Clms                                                        45470   \n",
       "Tot_Suplr_Srvcs                                                      128382   \n",
       "Avg_Suplr_Sbmtd_Chrg                                              58.680633   \n",
       "Avg_Suplr_Mdcr_Alowd_Amt                                           8.381079   \n",
       "Avg_Suplr_Mdcr_Pymt_Amt                                             5.90487   \n",
       "Avg_Suplr_Mdcr_Stdzd_Amt                                           5.743645   \n",
       "\n",
       "                                                                      6642   \\\n",
       "Unnamed: 0                                                             6642   \n",
       "Rfrg_Prvdr_Geo_Lvl                                                    State   \n",
       "Rfrg_Prvdr_Geo_Cd                                                       9.0   \n",
       "Rfrg_Prvdr_Geo_Desc                                             Connecticut   \n",
       "BETOS_Lvl                                         Durable Medical Equipment   \n",
       "BETOS_Cd                                                                D1E   \n",
       "BETOS_Desc                                                        Other DME   \n",
       "HCPCS_Cd                                                              A4253   \n",
       "HCPCS_Desc                Blood glucose test or reagent strips for home ...   \n",
       "Suplr_Rentl_Ind                                                           N   \n",
       "Tot_Rfrg_Prvdrs                                                        2900   \n",
       "Tot_Suplrs                                                             1825   \n",
       "Tot_Suplr_Benes                                                     19898.0   \n",
       "Tot_Suplr_Clms                                                        51313   \n",
       "Tot_Suplr_Srvcs                                                      146280   \n",
       "Avg_Suplr_Sbmtd_Chrg                                              69.086442   \n",
       "Avg_Suplr_Mdcr_Alowd_Amt                                           8.372945   \n",
       "Avg_Suplr_Mdcr_Pymt_Amt                                            5.946769   \n",
       "Avg_Suplr_Mdcr_Stdzd_Amt                                           5.788965   \n",
       "\n",
       "                                                                      7284   \\\n",
       "Unnamed: 0                                                             7284   \n",
       "Rfrg_Prvdr_Geo_Lvl                                                    State   \n",
       "Rfrg_Prvdr_Geo_Cd                                                      10.0   \n",
       "Rfrg_Prvdr_Geo_Desc                                                Delaware   \n",
       "BETOS_Lvl                                         Durable Medical Equipment   \n",
       "BETOS_Cd                                                                D1E   \n",
       "BETOS_Desc                                                        Other DME   \n",
       "HCPCS_Cd                                                              A4253   \n",
       "HCPCS_Desc                Blood glucose test or reagent strips for home ...   \n",
       "Suplr_Rentl_Ind                                                           N   \n",
       "Tot_Rfrg_Prvdrs                                                         821   \n",
       "Tot_Suplrs                                                              543   \n",
       "Tot_Suplr_Benes                                                     10485.0   \n",
       "Tot_Suplr_Clms                                                        24463   \n",
       "Tot_Suplr_Srvcs                                                       76354   \n",
       "Avg_Suplr_Sbmtd_Chrg                                              69.558235   \n",
       "Avg_Suplr_Mdcr_Alowd_Amt                                             8.3847   \n",
       "Avg_Suplr_Mdcr_Pymt_Amt                                            5.920637   \n",
       "Avg_Suplr_Mdcr_Stdzd_Amt                                           5.755039   \n",
       "\n",
       "                                                                      7821   \\\n",
       "Unnamed: 0                                                             7821   \n",
       "Rfrg_Prvdr_Geo_Lvl                                                    State   \n",
       "Rfrg_Prvdr_Geo_Cd                                                      11.0   \n",
       "Rfrg_Prvdr_Geo_Desc                                    District of Columbia   \n",
       "BETOS_Lvl                                         Durable Medical Equipment   \n",
       "BETOS_Cd                                                                D1E   \n",
       "BETOS_Desc                                                        Other DME   \n",
       "HCPCS_Cd                                                              A4253   \n",
       "HCPCS_Desc                Blood glucose test or reagent strips for home ...   \n",
       "Suplr_Rentl_Ind                                                           N   \n",
       "Tot_Rfrg_Prvdrs                                                         649   \n",
       "Tot_Suplrs                                                              853   \n",
       "Tot_Suplr_Benes                                                      3564.0   \n",
       "Tot_Suplr_Clms                                                         9167   \n",
       "Tot_Suplr_Srvcs                                                       25495   \n",
       "Avg_Suplr_Sbmtd_Chrg                                              59.030813   \n",
       "Avg_Suplr_Mdcr_Alowd_Amt                                           8.433528   \n",
       "Avg_Suplr_Mdcr_Pymt_Amt                                            5.865191   \n",
       "Avg_Suplr_Mdcr_Stdzd_Amt                                           5.668146   \n",
       "\n",
       "                          ...  \\\n",
       "Unnamed: 0                ...   \n",
       "Rfrg_Prvdr_Geo_Lvl        ...   \n",
       "Rfrg_Prvdr_Geo_Cd         ...   \n",
       "Rfrg_Prvdr_Geo_Desc       ...   \n",
       "BETOS_Lvl                 ...   \n",
       "BETOS_Cd                  ...   \n",
       "BETOS_Desc                ...   \n",
       "HCPCS_Cd                  ...   \n",
       "HCPCS_Desc                ...   \n",
       "Suplr_Rentl_Ind           ...   \n",
       "Tot_Rfrg_Prvdrs           ...   \n",
       "Tot_Suplrs                ...   \n",
       "Tot_Suplr_Benes           ...   \n",
       "Tot_Suplr_Clms            ...   \n",
       "Tot_Suplr_Srvcs           ...   \n",
       "Avg_Suplr_Sbmtd_Chrg      ...   \n",
       "Avg_Suplr_Mdcr_Alowd_Amt  ...   \n",
       "Avg_Suplr_Mdcr_Pymt_Amt   ...   \n",
       "Avg_Suplr_Mdcr_Stdzd_Amt  ...   \n",
       "\n",
       "                                                                      38072  \\\n",
       "Unnamed: 0                                                            38072   \n",
       "Rfrg_Prvdr_Geo_Lvl                                                    State   \n",
       "Rfrg_Prvdr_Geo_Cd                                                        54   \n",
       "Rfrg_Prvdr_Geo_Desc                                           West Virginia   \n",
       "BETOS_Lvl                                         Durable Medical Equipment   \n",
       "BETOS_Cd                                                                D1E   \n",
       "BETOS_Desc                                                        Other DME   \n",
       "HCPCS_Cd                                                              A4253   \n",
       "HCPCS_Desc                Blood glucose test or reagent strips for home ...   \n",
       "Suplr_Rentl_Ind                                                           N   \n",
       "Tot_Rfrg_Prvdrs                                                        1872   \n",
       "Tot_Suplrs                                                              843   \n",
       "Tot_Suplr_Benes                                                     16745.0   \n",
       "Tot_Suplr_Clms                                                        44957   \n",
       "Tot_Suplr_Srvcs                                                      119773   \n",
       "Avg_Suplr_Sbmtd_Chrg                                              62.519122   \n",
       "Avg_Suplr_Mdcr_Alowd_Amt                                           8.388365   \n",
       "Avg_Suplr_Mdcr_Pymt_Amt                                            5.853243   \n",
       "Avg_Suplr_Mdcr_Stdzd_Amt                                           5.686826   \n",
       "\n",
       "                                                                      38787  \\\n",
       "Unnamed: 0                                                            38787   \n",
       "Rfrg_Prvdr_Geo_Lvl                                                    State   \n",
       "Rfrg_Prvdr_Geo_Cd                                                        55   \n",
       "Rfrg_Prvdr_Geo_Desc                                               Wisconsin   \n",
       "BETOS_Lvl                                         Durable Medical Equipment   \n",
       "BETOS_Cd                                                                D1E   \n",
       "BETOS_Desc                                                        Other DME   \n",
       "HCPCS_Cd                                                              A4253   \n",
       "HCPCS_Desc                Blood glucose test or reagent strips for home ...   \n",
       "Suplr_Rentl_Ind                                                           N   \n",
       "Tot_Rfrg_Prvdrs                                                        4895   \n",
       "Tot_Suplrs                                                             2288   \n",
       "Tot_Suplr_Benes                                                     45344.0   \n",
       "Tot_Suplr_Clms                                                       120135   \n",
       "Tot_Suplr_Srvcs                                                      353698   \n",
       "Avg_Suplr_Sbmtd_Chrg                                              66.743051   \n",
       "Avg_Suplr_Mdcr_Alowd_Amt                                            8.35278   \n",
       "Avg_Suplr_Mdcr_Pymt_Amt                                            5.870895   \n",
       "Avg_Suplr_Mdcr_Stdzd_Amt                                           5.729933   \n",
       "\n",
       "                                                                      39428  \\\n",
       "Unnamed: 0                                                            39428   \n",
       "Rfrg_Prvdr_Geo_Lvl                                                    State   \n",
       "Rfrg_Prvdr_Geo_Cd                                                        56   \n",
       "Rfrg_Prvdr_Geo_Desc                                                 Wyoming   \n",
       "BETOS_Lvl                                         Durable Medical Equipment   \n",
       "BETOS_Cd                                                                D1E   \n",
       "BETOS_Desc                                                        Other DME   \n",
       "HCPCS_Cd                                                              A4253   \n",
       "HCPCS_Desc                Blood glucose test or reagent strips for home ...   \n",
       "Suplr_Rentl_Ind                                                           N   \n",
       "Tot_Rfrg_Prvdrs                                                         470   \n",
       "Tot_Suplrs                                                              251   \n",
       "Tot_Suplr_Benes                                                      3649.0   \n",
       "Tot_Suplr_Clms                                                         9873   \n",
       "Tot_Suplr_Srvcs                                                       24946   \n",
       "Avg_Suplr_Sbmtd_Chrg                                              62.289233   \n",
       "Avg_Suplr_Mdcr_Alowd_Amt                                           8.414037   \n",
       "Avg_Suplr_Mdcr_Pymt_Amt                                            5.790986   \n",
       "Avg_Suplr_Mdcr_Stdzd_Amt                                           5.609055   \n",
       "\n",
       "                                                                      39723  \\\n",
       "Unnamed: 0                                                            39723   \n",
       "Rfrg_Prvdr_Geo_Lvl                                                    State   \n",
       "Rfrg_Prvdr_Geo_Cd                                                        66   \n",
       "Rfrg_Prvdr_Geo_Desc                                                    Guam   \n",
       "BETOS_Lvl                                         Durable Medical Equipment   \n",
       "BETOS_Cd                                                                D1E   \n",
       "BETOS_Desc                                                        Other DME   \n",
       "HCPCS_Cd                                                              A4253   \n",
       "HCPCS_Desc                Blood glucose test or reagent strips for home ...   \n",
       "Suplr_Rentl_Ind                                                           N   \n",
       "Tot_Rfrg_Prvdrs                                                          41   \n",
       "Tot_Suplrs                                                               17   \n",
       "Tot_Suplr_Benes                                                       447.0   \n",
       "Tot_Suplr_Clms                                                         1495   \n",
       "Tot_Suplr_Srvcs                                                        2658   \n",
       "Avg_Suplr_Sbmtd_Chrg                                              72.101268   \n",
       "Avg_Suplr_Mdcr_Alowd_Amt                                           8.352735   \n",
       "Avg_Suplr_Mdcr_Pymt_Amt                                            5.472257   \n",
       "Avg_Suplr_Mdcr_Stdzd_Amt                                           5.338755   \n",
       "\n",
       "                                                                      39856  \\\n",
       "Unnamed: 0                                                            39856   \n",
       "Rfrg_Prvdr_Geo_Lvl                                                    State   \n",
       "Rfrg_Prvdr_Geo_Cd                                                        72   \n",
       "Rfrg_Prvdr_Geo_Desc                                             Puerto Rico   \n",
       "BETOS_Lvl                                         Durable Medical Equipment   \n",
       "BETOS_Cd                                                                D1E   \n",
       "BETOS_Desc                                                        Other DME   \n",
       "HCPCS_Cd                                                              A4253   \n",
       "HCPCS_Desc                Blood glucose test or reagent strips for home ...   \n",
       "Suplr_Rentl_Ind                                                           N   \n",
       "Tot_Rfrg_Prvdrs                                                        1093   \n",
       "Tot_Suplrs                                                              244   \n",
       "Tot_Suplr_Benes                                                      2640.0   \n",
       "Tot_Suplr_Clms                                                         7680   \n",
       "Tot_Suplr_Srvcs                                                       26141   \n",
       "Avg_Suplr_Sbmtd_Chrg                                              45.837617   \n",
       "Avg_Suplr_Mdcr_Alowd_Amt                                            8.59744   \n",
       "Avg_Suplr_Mdcr_Pymt_Amt                                            6.401464   \n",
       "Avg_Suplr_Mdcr_Stdzd_Amt                                           6.065551   \n",
       "\n",
       "                                                                      40037  \\\n",
       "Unnamed: 0                                                            40037   \n",
       "Rfrg_Prvdr_Geo_Lvl                                                    State   \n",
       "Rfrg_Prvdr_Geo_Cd                                                        78   \n",
       "Rfrg_Prvdr_Geo_Desc                                          Virgin Islands   \n",
       "BETOS_Lvl                                         Durable Medical Equipment   \n",
       "BETOS_Cd                                                                D1E   \n",
       "BETOS_Desc                                                        Other DME   \n",
       "HCPCS_Cd                                                              A4253   \n",
       "HCPCS_Desc                Blood glucose test or reagent strips for home ...   \n",
       "Suplr_Rentl_Ind                                                           N   \n",
       "Tot_Rfrg_Prvdrs                                                          59   \n",
       "Tot_Suplrs                                                               42   \n",
       "Tot_Suplr_Benes                                                       662.0   \n",
       "Tot_Suplr_Clms                                                         1519   \n",
       "Tot_Suplr_Srvcs                                                        3842   \n",
       "Avg_Suplr_Sbmtd_Chrg                                              62.153743   \n",
       "Avg_Suplr_Mdcr_Alowd_Amt                                           8.512199   \n",
       "Avg_Suplr_Mdcr_Pymt_Amt                                             5.90848   \n",
       "Avg_Suplr_Mdcr_Stdzd_Amt                                           5.656892   \n",
       "\n",
       "                                                                      40109  \\\n",
       "Unnamed: 0                                                            40109   \n",
       "Rfrg_Prvdr_Geo_Lvl                                                    State   \n",
       "Rfrg_Prvdr_Geo_Cd                                                        9B   \n",
       "Rfrg_Prvdr_Geo_Desc                                     Armed Forces Europe   \n",
       "BETOS_Lvl                                         Durable Medical Equipment   \n",
       "BETOS_Cd                                                                D1E   \n",
       "BETOS_Desc                                                        Other DME   \n",
       "HCPCS_Cd                                                              A4253   \n",
       "HCPCS_Desc                Blood glucose test or reagent strips for home ...   \n",
       "Suplr_Rentl_Ind                                                           N   \n",
       "Tot_Rfrg_Prvdrs                                                           8   \n",
       "Tot_Suplrs                                                               68   \n",
       "Tot_Suplr_Benes                                                       102.0   \n",
       "Tot_Suplr_Clms                                                          312   \n",
       "Tot_Suplr_Srvcs                                                         832   \n",
       "Avg_Suplr_Sbmtd_Chrg                                              56.325625   \n",
       "Avg_Suplr_Mdcr_Alowd_Amt                                           8.390986   \n",
       "Avg_Suplr_Mdcr_Pymt_Amt                                            6.103714   \n",
       "Avg_Suplr_Mdcr_Stdzd_Amt                                           5.930757   \n",
       "\n",
       "                                                                      40154  \\\n",
       "Unnamed: 0                                                            40154   \n",
       "Rfrg_Prvdr_Geo_Lvl                                                    State   \n",
       "Rfrg_Prvdr_Geo_Cd                                                        9C   \n",
       "Rfrg_Prvdr_Geo_Desc                                    Armed Forces Pacific   \n",
       "BETOS_Lvl                                         Durable Medical Equipment   \n",
       "BETOS_Cd                                                                D1E   \n",
       "BETOS_Desc                                                        Other DME   \n",
       "HCPCS_Cd                                                              A4253   \n",
       "HCPCS_Desc                Blood glucose test or reagent strips for home ...   \n",
       "Suplr_Rentl_Ind                                                           N   \n",
       "Tot_Rfrg_Prvdrs                                                           7   \n",
       "Tot_Suplrs                                                               47   \n",
       "Tot_Suplr_Benes                                                       103.0   \n",
       "Tot_Suplr_Clms                                                          210   \n",
       "Tot_Suplr_Srvcs                                                         691   \n",
       "Avg_Suplr_Sbmtd_Chrg                                               65.26864   \n",
       "Avg_Suplr_Mdcr_Alowd_Amt                                           8.350072   \n",
       "Avg_Suplr_Mdcr_Pymt_Amt                                            5.972258   \n",
       "Avg_Suplr_Mdcr_Stdzd_Amt                                           5.829262   \n",
       "\n",
       "                                                                      40206  \\\n",
       "Unnamed: 0                                                            40206   \n",
       "Rfrg_Prvdr_Geo_Lvl                                                    State   \n",
       "Rfrg_Prvdr_Geo_Cd                                                        9D   \n",
       "Rfrg_Prvdr_Geo_Desc                                                 Unknown   \n",
       "BETOS_Lvl                                         Durable Medical Equipment   \n",
       "BETOS_Cd                                                                D1E   \n",
       "BETOS_Desc                                                        Other DME   \n",
       "HCPCS_Cd                                                              A4253   \n",
       "HCPCS_Desc                Blood glucose test or reagent strips for home ...   \n",
       "Suplr_Rentl_Ind                                                           N   \n",
       "Tot_Rfrg_Prvdrs                                                           7   \n",
       "Tot_Suplrs                                                               51   \n",
       "Tot_Suplr_Benes                                                        59.0   \n",
       "Tot_Suplr_Clms                                                          138   \n",
       "Tot_Suplr_Srvcs                                                         329   \n",
       "Avg_Suplr_Sbmtd_Chrg                                              63.750638   \n",
       "Avg_Suplr_Mdcr_Alowd_Amt                                           8.392614   \n",
       "Avg_Suplr_Mdcr_Pymt_Amt                                            5.428663   \n",
       "Avg_Suplr_Mdcr_Stdzd_Amt                                           5.273739   \n",
       "\n",
       "                                                                      40228  \n",
       "Unnamed: 0                                                            40228  \n",
       "Rfrg_Prvdr_Geo_Lvl                                                    State  \n",
       "Rfrg_Prvdr_Geo_Cd                                                        9E  \n",
       "Rfrg_Prvdr_Geo_Desc                                         Foreign Country  \n",
       "BETOS_Lvl                                         Durable Medical Equipment  \n",
       "BETOS_Cd                                                                D1E  \n",
       "BETOS_Desc                                                        Other DME  \n",
       "HCPCS_Cd                                                              A4253  \n",
       "HCPCS_Desc                Blood glucose test or reagent strips for home ...  \n",
       "Suplr_Rentl_Ind                                                           N  \n",
       "Tot_Rfrg_Prvdrs                                                           9  \n",
       "Tot_Suplrs                                                               30  \n",
       "Tot_Suplr_Benes                                                        29.0  \n",
       "Tot_Suplr_Clms                                                           69  \n",
       "Tot_Suplr_Srvcs                                                         143  \n",
       "Avg_Suplr_Sbmtd_Chrg                                               63.44035  \n",
       "Avg_Suplr_Mdcr_Alowd_Amt                                           8.363497  \n",
       "Avg_Suplr_Mdcr_Pymt_Amt                                            5.696853  \n",
       "Avg_Suplr_Mdcr_Stdzd_Amt                                           5.557972  \n",
       "\n",
       "[19 rows x 59 columns]"
      ]
     },
     "execution_count": 7,
     "metadata": {},
     "output_type": "execute_result"
    }
   ],
   "source": [
    "blood_glucose_test = df[df.HCPCS_Cd == 'A4253']\n",
    "blood_glucose_test.T"
   ]
  },
  {
   "cell_type": "code",
   "execution_count": 8,
   "id": "2a9115a9",
   "metadata": {},
   "outputs": [
    {
     "data": {
      "text/plain": [
       "(59, 19)"
      ]
     },
     "execution_count": 8,
     "metadata": {},
     "output_type": "execute_result"
    }
   ],
   "source": [
    "blood_glucose_test.shape"
   ]
  },
  {
   "cell_type": "code",
   "execution_count": 9,
   "id": "9f4a899a",
   "metadata": {},
   "outputs": [
    {
     "data": {
      "text/plain": [
       "(40208, 19)"
      ]
     },
     "execution_count": 9,
     "metadata": {},
     "output_type": "execute_result"
    }
   ],
   "source": [
    "others = df[df.HCPCS_Cd != 'A4253']\n",
    "others.shape"
   ]
  },
  {
   "cell_type": "code",
   "execution_count": 10,
   "id": "ac6f5ef7",
   "metadata": {},
   "outputs": [],
   "source": [
    "dummy_df = pd.get_dummies(blood_glucose_test)"
   ]
  },
  {
   "cell_type": "code",
   "execution_count": 11,
   "id": "7240fb2f",
   "metadata": {},
   "outputs": [
    {
     "data": {
      "text/plain": [
       "Unnamed: 0                                                                                         int64\n",
       "Tot_Rfrg_Prvdrs                                                                                    int64\n",
       "Tot_Suplrs                                                                                         int64\n",
       "Tot_Suplr_Benes                                                                                  float64\n",
       "Tot_Suplr_Clms                                                                                     int64\n",
       "                                                                                                  ...   \n",
       "BETOS_Cd_D1E                                                                                       uint8\n",
       "BETOS_Desc_Other DME                                                                               uint8\n",
       "HCPCS_Cd_A4253                                                                                     uint8\n",
       "HCPCS_Desc_Blood glucose test or reagent strips for home blood glucose monitor, per 50 strips      uint8\n",
       "Suplr_Rentl_Ind_N                                                                                  uint8\n",
       "Length: 135, dtype: object"
      ]
     },
     "execution_count": 11,
     "metadata": {},
     "output_type": "execute_result"
    }
   ],
   "source": [
    "dummy_df.dtypes"
   ]
  },
  {
   "cell_type": "code",
   "execution_count": 12,
   "id": "05391056",
   "metadata": {},
   "outputs": [
    {
     "data": {
      "text/html": [
       "<div>\n",
       "<style scoped>\n",
       "    .dataframe tbody tr th:only-of-type {\n",
       "        vertical-align: middle;\n",
       "    }\n",
       "\n",
       "    .dataframe tbody tr th {\n",
       "        vertical-align: top;\n",
       "    }\n",
       "\n",
       "    .dataframe thead th {\n",
       "        text-align: right;\n",
       "    }\n",
       "</style>\n",
       "<table border=\"1\" class=\"dataframe\">\n",
       "  <thead>\n",
       "    <tr style=\"text-align: right;\">\n",
       "      <th></th>\n",
       "      <th>Unnamed: 0</th>\n",
       "      <th>Tot_Rfrg_Prvdrs</th>\n",
       "      <th>Tot_Suplrs</th>\n",
       "      <th>Tot_Suplr_Benes</th>\n",
       "      <th>Tot_Suplr_Clms</th>\n",
       "      <th>Tot_Suplr_Srvcs</th>\n",
       "      <th>Avg_Suplr_Sbmtd_Chrg</th>\n",
       "      <th>Avg_Suplr_Mdcr_Alowd_Amt</th>\n",
       "      <th>Avg_Suplr_Mdcr_Pymt_Amt</th>\n",
       "      <th>Avg_Suplr_Mdcr_Stdzd_Amt</th>\n",
       "      <th>...</th>\n",
       "      <th>Rfrg_Prvdr_Geo_Desc_Washington</th>\n",
       "      <th>Rfrg_Prvdr_Geo_Desc_West Virginia</th>\n",
       "      <th>Rfrg_Prvdr_Geo_Desc_Wisconsin</th>\n",
       "      <th>Rfrg_Prvdr_Geo_Desc_Wyoming</th>\n",
       "      <th>BETOS_Lvl_Durable Medical Equipment</th>\n",
       "      <th>BETOS_Cd_D1E</th>\n",
       "      <th>BETOS_Desc_Other DME</th>\n",
       "      <th>HCPCS_Cd_A4253</th>\n",
       "      <th>HCPCS_Desc_Blood glucose test or reagent strips for home blood glucose monitor, per 50 strips</th>\n",
       "      <th>Suplr_Rentl_Ind_N</th>\n",
       "    </tr>\n",
       "  </thead>\n",
       "  <tbody>\n",
       "    <tr>\n",
       "      <th>592</th>\n",
       "      <td>592</td>\n",
       "      <td>233762</td>\n",
       "      <td>43511</td>\n",
       "      <td>1891407.0</td>\n",
       "      <td>5104070</td>\n",
       "      <td>13931820</td>\n",
       "      <td>61.932717</td>\n",
       "      <td>8.400779</td>\n",
       "      <td>5.964003</td>\n",
       "      <td>5.786099</td>\n",
       "      <td>...</td>\n",
       "      <td>0</td>\n",
       "      <td>0</td>\n",
       "      <td>0</td>\n",
       "      <td>0</td>\n",
       "      <td>1</td>\n",
       "      <td>1</td>\n",
       "      <td>1</td>\n",
       "      <td>1</td>\n",
       "      <td>1</td>\n",
       "      <td>1</td>\n",
       "    </tr>\n",
       "    <tr>\n",
       "      <th>1999</th>\n",
       "      <td>1999</td>\n",
       "      <td>3093</td>\n",
       "      <td>1406</td>\n",
       "      <td>25059.0</td>\n",
       "      <td>64060</td>\n",
       "      <td>181067</td>\n",
       "      <td>56.558110</td>\n",
       "      <td>8.423689</td>\n",
       "      <td>6.055243</td>\n",
       "      <td>5.858798</td>\n",
       "      <td>...</td>\n",
       "      <td>0</td>\n",
       "      <td>0</td>\n",
       "      <td>0</td>\n",
       "      <td>0</td>\n",
       "      <td>1</td>\n",
       "      <td>1</td>\n",
       "      <td>1</td>\n",
       "      <td>1</td>\n",
       "      <td>1</td>\n",
       "      <td>1</td>\n",
       "    </tr>\n",
       "    <tr>\n",
       "      <th>2624</th>\n",
       "      <td>2624</td>\n",
       "      <td>509</td>\n",
       "      <td>204</td>\n",
       "      <td>2394.0</td>\n",
       "      <td>5877</td>\n",
       "      <td>16216</td>\n",
       "      <td>64.369821</td>\n",
       "      <td>8.403106</td>\n",
       "      <td>5.852651</td>\n",
       "      <td>5.676490</td>\n",
       "      <td>...</td>\n",
       "      <td>0</td>\n",
       "      <td>0</td>\n",
       "      <td>0</td>\n",
       "      <td>0</td>\n",
       "      <td>1</td>\n",
       "      <td>1</td>\n",
       "      <td>1</td>\n",
       "      <td>1</td>\n",
       "      <td>1</td>\n",
       "      <td>1</td>\n",
       "    </tr>\n",
       "    <tr>\n",
       "      <th>3186</th>\n",
       "      <td>3186</td>\n",
       "      <td>4387</td>\n",
       "      <td>2262</td>\n",
       "      <td>29371.0</td>\n",
       "      <td>70945</td>\n",
       "      <td>207369</td>\n",
       "      <td>66.860627</td>\n",
       "      <td>8.386908</td>\n",
       "      <td>6.101452</td>\n",
       "      <td>5.931097</td>\n",
       "      <td>...</td>\n",
       "      <td>0</td>\n",
       "      <td>0</td>\n",
       "      <td>0</td>\n",
       "      <td>0</td>\n",
       "      <td>1</td>\n",
       "      <td>1</td>\n",
       "      <td>1</td>\n",
       "      <td>1</td>\n",
       "      <td>1</td>\n",
       "      <td>1</td>\n",
       "    </tr>\n",
       "    <tr>\n",
       "      <th>3987</th>\n",
       "      <td>3987</td>\n",
       "      <td>2258</td>\n",
       "      <td>924</td>\n",
       "      <td>19444.0</td>\n",
       "      <td>51839</td>\n",
       "      <td>139633</td>\n",
       "      <td>49.084897</td>\n",
       "      <td>8.435714</td>\n",
       "      <td>6.028881</td>\n",
       "      <td>5.825964</td>\n",
       "      <td>...</td>\n",
       "      <td>0</td>\n",
       "      <td>0</td>\n",
       "      <td>0</td>\n",
       "      <td>0</td>\n",
       "      <td>1</td>\n",
       "      <td>1</td>\n",
       "      <td>1</td>\n",
       "      <td>1</td>\n",
       "      <td>1</td>\n",
       "      <td>1</td>\n",
       "    </tr>\n",
       "  </tbody>\n",
       "</table>\n",
       "<p>5 rows × 135 columns</p>\n",
       "</div>"
      ],
      "text/plain": [
       "      Unnamed: 0  Tot_Rfrg_Prvdrs  Tot_Suplrs  Tot_Suplr_Benes  \\\n",
       "592          592           233762       43511        1891407.0   \n",
       "1999        1999             3093        1406          25059.0   \n",
       "2624        2624              509         204           2394.0   \n",
       "3186        3186             4387        2262          29371.0   \n",
       "3987        3987             2258         924          19444.0   \n",
       "\n",
       "      Tot_Suplr_Clms  Tot_Suplr_Srvcs  Avg_Suplr_Sbmtd_Chrg  \\\n",
       "592          5104070         13931820             61.932717   \n",
       "1999           64060           181067             56.558110   \n",
       "2624            5877            16216             64.369821   \n",
       "3186           70945           207369             66.860627   \n",
       "3987           51839           139633             49.084897   \n",
       "\n",
       "      Avg_Suplr_Mdcr_Alowd_Amt  Avg_Suplr_Mdcr_Pymt_Amt  \\\n",
       "592                   8.400779                 5.964003   \n",
       "1999                  8.423689                 6.055243   \n",
       "2624                  8.403106                 5.852651   \n",
       "3186                  8.386908                 6.101452   \n",
       "3987                  8.435714                 6.028881   \n",
       "\n",
       "      Avg_Suplr_Mdcr_Stdzd_Amt  ...  Rfrg_Prvdr_Geo_Desc_Washington  \\\n",
       "592                   5.786099  ...                               0   \n",
       "1999                  5.858798  ...                               0   \n",
       "2624                  5.676490  ...                               0   \n",
       "3186                  5.931097  ...                               0   \n",
       "3987                  5.825964  ...                               0   \n",
       "\n",
       "      Rfrg_Prvdr_Geo_Desc_West Virginia  Rfrg_Prvdr_Geo_Desc_Wisconsin  \\\n",
       "592                                   0                              0   \n",
       "1999                                  0                              0   \n",
       "2624                                  0                              0   \n",
       "3186                                  0                              0   \n",
       "3987                                  0                              0   \n",
       "\n",
       "      Rfrg_Prvdr_Geo_Desc_Wyoming  BETOS_Lvl_Durable Medical Equipment  \\\n",
       "592                             0                                    1   \n",
       "1999                            0                                    1   \n",
       "2624                            0                                    1   \n",
       "3186                            0                                    1   \n",
       "3987                            0                                    1   \n",
       "\n",
       "      BETOS_Cd_D1E  BETOS_Desc_Other DME  HCPCS_Cd_A4253  \\\n",
       "592              1                     1               1   \n",
       "1999             1                     1               1   \n",
       "2624             1                     1               1   \n",
       "3186             1                     1               1   \n",
       "3987             1                     1               1   \n",
       "\n",
       "      HCPCS_Desc_Blood glucose test or reagent strips for home blood glucose monitor, per 50 strips  \\\n",
       "592                                                   1                                               \n",
       "1999                                                  1                                               \n",
       "2624                                                  1                                               \n",
       "3186                                                  1                                               \n",
       "3987                                                  1                                               \n",
       "\n",
       "      Suplr_Rentl_Ind_N  \n",
       "592                   1  \n",
       "1999                  1  \n",
       "2624                  1  \n",
       "3186                  1  \n",
       "3987                  1  \n",
       "\n",
       "[5 rows x 135 columns]"
      ]
     },
     "execution_count": 12,
     "metadata": {},
     "output_type": "execute_result"
    }
   ],
   "source": [
    "dummy_df.head()"
   ]
  },
  {
   "cell_type": "code",
   "execution_count": 13,
   "id": "3a406ba6",
   "metadata": {},
   "outputs": [],
   "source": [
    "X = dummy_df.drop(columns='Avg_Suplr_Sbmtd_Chrg')\n",
    "y = dummy_df['Avg_Suplr_Sbmtd_Chrg']"
   ]
  },
  {
   "cell_type": "code",
   "execution_count": 14,
   "id": "f62a3231",
   "metadata": {},
   "outputs": [],
   "source": [
    "X_train, X_test, y_train, y_test = train_test_split(X, y, test_size=0.2, random_state=42)"
   ]
  },
  {
   "cell_type": "code",
   "execution_count": 15,
   "id": "65748ee4",
   "metadata": {},
   "outputs": [
    {
     "data": {
      "text/plain": [
       "((47, 134), (12, 134))"
      ]
     },
     "execution_count": 15,
     "metadata": {},
     "output_type": "execute_result"
    }
   ],
   "source": [
    "X_train.shape, X_test.shape"
   ]
  },
  {
   "cell_type": "code",
   "execution_count": 16,
   "id": "a3e1214d",
   "metadata": {},
   "outputs": [
    {
     "data": {
      "text/plain": [
       "((47,), (12,))"
      ]
     },
     "execution_count": 16,
     "metadata": {},
     "output_type": "execute_result"
    }
   ],
   "source": [
    "y_train.shape, y_test.shape"
   ]
  },
  {
   "cell_type": "code",
   "execution_count": 17,
   "id": "29f0f0e5",
   "metadata": {},
   "outputs": [
    {
     "data": {
      "text/html": [
       "<div>\n",
       "<style scoped>\n",
       "    .dataframe tbody tr th:only-of-type {\n",
       "        vertical-align: middle;\n",
       "    }\n",
       "\n",
       "    .dataframe tbody tr th {\n",
       "        vertical-align: top;\n",
       "    }\n",
       "\n",
       "    .dataframe thead th {\n",
       "        text-align: right;\n",
       "    }\n",
       "</style>\n",
       "<table border=\"1\" class=\"dataframe\">\n",
       "  <thead>\n",
       "    <tr style=\"text-align: right;\">\n",
       "      <th></th>\n",
       "      <th>Unnamed: 0</th>\n",
       "      <th>Tot_Rfrg_Prvdrs</th>\n",
       "      <th>Tot_Suplrs</th>\n",
       "      <th>Tot_Suplr_Benes</th>\n",
       "      <th>Tot_Suplr_Clms</th>\n",
       "      <th>Tot_Suplr_Srvcs</th>\n",
       "      <th>Avg_Suplr_Mdcr_Alowd_Amt</th>\n",
       "      <th>Avg_Suplr_Mdcr_Pymt_Amt</th>\n",
       "      <th>Avg_Suplr_Mdcr_Stdzd_Amt</th>\n",
       "      <th>Rfrg_Prvdr_Geo_Lvl_National</th>\n",
       "      <th>...</th>\n",
       "      <th>Rfrg_Prvdr_Geo_Desc_Washington</th>\n",
       "      <th>Rfrg_Prvdr_Geo_Desc_West Virginia</th>\n",
       "      <th>Rfrg_Prvdr_Geo_Desc_Wisconsin</th>\n",
       "      <th>Rfrg_Prvdr_Geo_Desc_Wyoming</th>\n",
       "      <th>BETOS_Lvl_Durable Medical Equipment</th>\n",
       "      <th>BETOS_Cd_D1E</th>\n",
       "      <th>BETOS_Desc_Other DME</th>\n",
       "      <th>HCPCS_Cd_A4253</th>\n",
       "      <th>HCPCS_Desc_Blood glucose test or reagent strips for home blood glucose monitor, per 50 strips</th>\n",
       "      <th>Suplr_Rentl_Ind_N</th>\n",
       "    </tr>\n",
       "  </thead>\n",
       "  <tbody>\n",
       "    <tr>\n",
       "      <th>28314</th>\n",
       "      <td>28314</td>\n",
       "      <td>8973</td>\n",
       "      <td>3846</td>\n",
       "      <td>77232.0</td>\n",
       "      <td>218435</td>\n",
       "      <td>560257</td>\n",
       "      <td>8.385775</td>\n",
       "      <td>5.948461</td>\n",
       "      <td>5.782229</td>\n",
       "      <td>0</td>\n",
       "      <td>...</td>\n",
       "      <td>0</td>\n",
       "      <td>0</td>\n",
       "      <td>0</td>\n",
       "      <td>0</td>\n",
       "      <td>1</td>\n",
       "      <td>1</td>\n",
       "      <td>1</td>\n",
       "      <td>1</td>\n",
       "      <td>1</td>\n",
       "      <td>1</td>\n",
       "    </tr>\n",
       "    <tr>\n",
       "      <th>24350</th>\n",
       "      <td>24350</td>\n",
       "      <td>6304</td>\n",
       "      <td>3170</td>\n",
       "      <td>62156.0</td>\n",
       "      <td>163140</td>\n",
       "      <td>446873</td>\n",
       "      <td>8.397616</td>\n",
       "      <td>6.000170</td>\n",
       "      <td>5.823271</td>\n",
       "      <td>0</td>\n",
       "      <td>...</td>\n",
       "      <td>0</td>\n",
       "      <td>0</td>\n",
       "      <td>0</td>\n",
       "      <td>0</td>\n",
       "      <td>1</td>\n",
       "      <td>1</td>\n",
       "      <td>1</td>\n",
       "      <td>1</td>\n",
       "      <td>1</td>\n",
       "      <td>1</td>\n",
       "    </tr>\n",
       "    <tr>\n",
       "      <th>7284</th>\n",
       "      <td>7284</td>\n",
       "      <td>821</td>\n",
       "      <td>543</td>\n",
       "      <td>10485.0</td>\n",
       "      <td>24463</td>\n",
       "      <td>76354</td>\n",
       "      <td>8.384700</td>\n",
       "      <td>5.920637</td>\n",
       "      <td>5.755039</td>\n",
       "      <td>0</td>\n",
       "      <td>...</td>\n",
       "      <td>0</td>\n",
       "      <td>0</td>\n",
       "      <td>0</td>\n",
       "      <td>0</td>\n",
       "      <td>1</td>\n",
       "      <td>1</td>\n",
       "      <td>1</td>\n",
       "      <td>1</td>\n",
       "      <td>1</td>\n",
       "      <td>1</td>\n",
       "    </tr>\n",
       "    <tr>\n",
       "      <th>13880</th>\n",
       "      <td>13880</td>\n",
       "      <td>2401</td>\n",
       "      <td>1015</td>\n",
       "      <td>23174.0</td>\n",
       "      <td>65794</td>\n",
       "      <td>162717</td>\n",
       "      <td>8.377859</td>\n",
       "      <td>5.937027</td>\n",
       "      <td>5.777270</td>\n",
       "      <td>0</td>\n",
       "      <td>...</td>\n",
       "      <td>0</td>\n",
       "      <td>0</td>\n",
       "      <td>0</td>\n",
       "      <td>0</td>\n",
       "      <td>1</td>\n",
       "      <td>1</td>\n",
       "      <td>1</td>\n",
       "      <td>1</td>\n",
       "      <td>1</td>\n",
       "      <td>1</td>\n",
       "    </tr>\n",
       "    <tr>\n",
       "      <th>5882</th>\n",
       "      <td>5882</td>\n",
       "      <td>3630</td>\n",
       "      <td>1746</td>\n",
       "      <td>17642.0</td>\n",
       "      <td>45470</td>\n",
       "      <td>128382</td>\n",
       "      <td>8.381079</td>\n",
       "      <td>5.904870</td>\n",
       "      <td>5.743645</td>\n",
       "      <td>0</td>\n",
       "      <td>...</td>\n",
       "      <td>0</td>\n",
       "      <td>0</td>\n",
       "      <td>0</td>\n",
       "      <td>0</td>\n",
       "      <td>1</td>\n",
       "      <td>1</td>\n",
       "      <td>1</td>\n",
       "      <td>1</td>\n",
       "      <td>1</td>\n",
       "      <td>1</td>\n",
       "    </tr>\n",
       "  </tbody>\n",
       "</table>\n",
       "<p>5 rows × 134 columns</p>\n",
       "</div>"
      ],
      "text/plain": [
       "       Unnamed: 0  Tot_Rfrg_Prvdrs  Tot_Suplrs  Tot_Suplr_Benes  \\\n",
       "28314       28314             8973        3846          77232.0   \n",
       "24350       24350             6304        3170          62156.0   \n",
       "7284         7284              821         543          10485.0   \n",
       "13880       13880             2401        1015          23174.0   \n",
       "5882         5882             3630        1746          17642.0   \n",
       "\n",
       "       Tot_Suplr_Clms  Tot_Suplr_Srvcs  Avg_Suplr_Mdcr_Alowd_Amt  \\\n",
       "28314          218435           560257                  8.385775   \n",
       "24350          163140           446873                  8.397616   \n",
       "7284            24463            76354                  8.384700   \n",
       "13880           65794           162717                  8.377859   \n",
       "5882            45470           128382                  8.381079   \n",
       "\n",
       "       Avg_Suplr_Mdcr_Pymt_Amt  Avg_Suplr_Mdcr_Stdzd_Amt  \\\n",
       "28314                 5.948461                  5.782229   \n",
       "24350                 6.000170                  5.823271   \n",
       "7284                  5.920637                  5.755039   \n",
       "13880                 5.937027                  5.777270   \n",
       "5882                  5.904870                  5.743645   \n",
       "\n",
       "       Rfrg_Prvdr_Geo_Lvl_National  ...  Rfrg_Prvdr_Geo_Desc_Washington  \\\n",
       "28314                            0  ...                               0   \n",
       "24350                            0  ...                               0   \n",
       "7284                             0  ...                               0   \n",
       "13880                            0  ...                               0   \n",
       "5882                             0  ...                               0   \n",
       "\n",
       "       Rfrg_Prvdr_Geo_Desc_West Virginia  Rfrg_Prvdr_Geo_Desc_Wisconsin  \\\n",
       "28314                                  0                              0   \n",
       "24350                                  0                              0   \n",
       "7284                                   0                              0   \n",
       "13880                                  0                              0   \n",
       "5882                                   0                              0   \n",
       "\n",
       "       Rfrg_Prvdr_Geo_Desc_Wyoming  BETOS_Lvl_Durable Medical Equipment  \\\n",
       "28314                            0                                    1   \n",
       "24350                            0                                    1   \n",
       "7284                             0                                    1   \n",
       "13880                            0                                    1   \n",
       "5882                             0                                    1   \n",
       "\n",
       "       BETOS_Cd_D1E  BETOS_Desc_Other DME  HCPCS_Cd_A4253  \\\n",
       "28314             1                     1               1   \n",
       "24350             1                     1               1   \n",
       "7284              1                     1               1   \n",
       "13880             1                     1               1   \n",
       "5882              1                     1               1   \n",
       "\n",
       "       HCPCS_Desc_Blood glucose test or reagent strips for home blood glucose monitor, per 50 strips  \\\n",
       "28314                                                  1                                               \n",
       "24350                                                  1                                               \n",
       "7284                                                   1                                               \n",
       "13880                                                  1                                               \n",
       "5882                                                   1                                               \n",
       "\n",
       "       Suplr_Rentl_Ind_N  \n",
       "28314                  1  \n",
       "24350                  1  \n",
       "7284                   1  \n",
       "13880                  1  \n",
       "5882                   1  \n",
       "\n",
       "[5 rows x 134 columns]"
      ]
     },
     "execution_count": 17,
     "metadata": {},
     "output_type": "execute_result"
    }
   ],
   "source": [
    "X_train.head()"
   ]
  },
  {
   "cell_type": "code",
   "execution_count": 18,
   "id": "5667a035",
   "metadata": {},
   "outputs": [
    {
     "data": {
      "text/plain": [
       "Unnamed: 0                                                                                         int64\n",
       "Tot_Rfrg_Prvdrs                                                                                    int64\n",
       "Tot_Suplrs                                                                                         int64\n",
       "Tot_Suplr_Benes                                                                                  float64\n",
       "Tot_Suplr_Clms                                                                                     int64\n",
       "                                                                                                  ...   \n",
       "BETOS_Cd_D1E                                                                                       uint8\n",
       "BETOS_Desc_Other DME                                                                               uint8\n",
       "HCPCS_Cd_A4253                                                                                     uint8\n",
       "HCPCS_Desc_Blood glucose test or reagent strips for home blood glucose monitor, per 50 strips      uint8\n",
       "Suplr_Rentl_Ind_N                                                                                  uint8\n",
       "Length: 134, dtype: object"
      ]
     },
     "execution_count": 18,
     "metadata": {},
     "output_type": "execute_result"
    }
   ],
   "source": [
    "X_train.dtypes"
   ]
  },
  {
   "cell_type": "code",
   "execution_count": 19,
   "id": "772e4a3b",
   "metadata": {},
   "outputs": [
    {
     "data": {
      "text/plain": [
       "Unnamed: 0                                                                                         int64\n",
       "Tot_Rfrg_Prvdrs                                                                                    int64\n",
       "Tot_Suplrs                                                                                         int64\n",
       "Tot_Suplr_Benes                                                                                  float64\n",
       "Tot_Suplr_Clms                                                                                     int64\n",
       "                                                                                                  ...   \n",
       "BETOS_Cd_D1E                                                                                       uint8\n",
       "BETOS_Desc_Other DME                                                                               uint8\n",
       "HCPCS_Cd_A4253                                                                                     uint8\n",
       "HCPCS_Desc_Blood glucose test or reagent strips for home blood glucose monitor, per 50 strips      uint8\n",
       "Suplr_Rentl_Ind_N                                                                                  uint8\n",
       "Length: 134, dtype: object"
      ]
     },
     "execution_count": 19,
     "metadata": {},
     "output_type": "execute_result"
    }
   ],
   "source": [
    "X_test.dtypes"
   ]
  },
  {
   "cell_type": "code",
   "execution_count": 20,
   "id": "2e346ae2",
   "metadata": {},
   "outputs": [
    {
     "data": {
      "text/plain": [
       "61.51597250034043"
      ]
     },
     "execution_count": 20,
     "metadata": {},
     "output_type": "execute_result"
    }
   ],
   "source": [
    "train_mean = y_train.mean()\n",
    "train_mean"
   ]
  },
  {
   "cell_type": "code",
   "execution_count": 21,
   "id": "7e91a624",
   "metadata": {},
   "outputs": [
    {
     "data": {
      "text/plain": [
       "array([[61.5159725]])"
      ]
     },
     "execution_count": 21,
     "metadata": {},
     "output_type": "execute_result"
    }
   ],
   "source": [
    "dumb_reg = DummyRegressor(strategy='mean')\n",
    "dumb_reg.fit(X_train, y_train)\n",
    "dumb_reg.constant_"
   ]
  },
  {
   "cell_type": "code",
   "execution_count": 22,
   "id": "bc5ac578",
   "metadata": {},
   "outputs": [],
   "source": [
    "def r_squared(y, ypred):\n",
    "    ybar = np.sum(y) / len(y)\n",
    "    sum_sq_tot = np.sum((y - ybar)**2)\n",
    "    sum_sq_res = np.sum((y - ypred)**2)\n",
    "    R2 = 1.0 - sum_sq_tot / sum_sq_res\n",
    "    return R2"
   ]
  },
  {
   "cell_type": "code",
   "execution_count": 23,
   "id": "e199ee24",
   "metadata": {},
   "outputs": [
    {
     "data": {
      "text/plain": [
       "array([61.5159725, 61.5159725, 61.5159725, 61.5159725, 61.5159725])"
      ]
     },
     "execution_count": 23,
     "metadata": {},
     "output_type": "execute_result"
    }
   ],
   "source": [
    "y_tr_pred_ = train_mean * np.ones(len(y_train))\n",
    "y_tr_pred_[:5]"
   ]
  },
  {
   "cell_type": "code",
   "execution_count": 24,
   "id": "76da8776",
   "metadata": {},
   "outputs": [
    {
     "data": {
      "text/plain": [
       "array([61.5159725, 61.5159725, 61.5159725, 61.5159725, 61.5159725])"
      ]
     },
     "execution_count": 24,
     "metadata": {},
     "output_type": "execute_result"
    }
   ],
   "source": [
    "y_tr_pred = dumb_reg.predict(X_train)\n",
    "y_tr_pred[:5]"
   ]
  },
  {
   "cell_type": "code",
   "execution_count": 25,
   "id": "14a2d098",
   "metadata": {},
   "outputs": [
    {
     "data": {
      "text/plain": [
       "0.0"
      ]
     },
     "execution_count": 25,
     "metadata": {},
     "output_type": "execute_result"
    }
   ],
   "source": [
    "r_squared(y_train, y_tr_pred)"
   ]
  },
  {
   "cell_type": "code",
   "execution_count": 26,
   "id": "ba1bbae5",
   "metadata": {},
   "outputs": [
    {
     "data": {
      "text/plain": [
       "0.002650912416152229"
      ]
     },
     "execution_count": 26,
     "metadata": {},
     "output_type": "execute_result"
    }
   ],
   "source": [
    "y_te_pred = train_mean * np.ones(len(y_test))\n",
    "r_squared(y_test, y_te_pred)"
   ]
  },
  {
   "cell_type": "code",
   "execution_count": 27,
   "id": "5c50257d",
   "metadata": {},
   "outputs": [],
   "source": [
    "def mae(y, ypred):\n",
    "    abs_error = np.abs(y - ypred)\n",
    "    mae = np.mean(abs_error)\n",
    "    return mae"
   ]
  },
  {
   "cell_type": "code",
   "execution_count": 28,
   "id": "33f30b6f",
   "metadata": {},
   "outputs": [
    {
     "data": {
      "text/plain": [
       "3.8805666297519243"
      ]
     },
     "execution_count": 28,
     "metadata": {},
     "output_type": "execute_result"
    }
   ],
   "source": [
    "mae(y_train, y_tr_pred)"
   ]
  },
  {
   "cell_type": "code",
   "execution_count": 29,
   "id": "198d9b06",
   "metadata": {},
   "outputs": [
    {
     "data": {
      "text/plain": [
       "4.877790833193259"
      ]
     },
     "execution_count": 29,
     "metadata": {},
     "output_type": "execute_result"
    }
   ],
   "source": [
    "mae(y_test, y_te_pred)"
   ]
  },
  {
   "cell_type": "code",
   "execution_count": 30,
   "id": "a0027dd9",
   "metadata": {},
   "outputs": [],
   "source": [
    "def mse(y, ypred):\n",
    "    sq_error = (y - ypred)**2\n",
    "    mse = np.mean(sq_error)\n",
    "    return mse"
   ]
  },
  {
   "cell_type": "code",
   "execution_count": 31,
   "id": "61fdba0b",
   "metadata": {},
   "outputs": [
    {
     "data": {
      "text/plain": [
       "25.163066629870684"
      ]
     },
     "execution_count": 31,
     "metadata": {},
     "output_type": "execute_result"
    }
   ],
   "source": [
    "mse(y_train, y_tr_pred)"
   ]
  },
  {
   "cell_type": "code",
   "execution_count": 32,
   "id": "c55a5c59",
   "metadata": {},
   "outputs": [
    {
     "data": {
      "text/plain": [
       "46.570512703413506"
      ]
     },
     "execution_count": 32,
     "metadata": {},
     "output_type": "execute_result"
    }
   ],
   "source": [
    "mse(y_test, y_te_pred)"
   ]
  },
  {
   "cell_type": "code",
   "execution_count": 33,
   "id": "53196a76",
   "metadata": {},
   "outputs": [
    {
     "data": {
      "text/plain": [
       "array([5.01628016, 6.82425913])"
      ]
     },
     "execution_count": 33,
     "metadata": {},
     "output_type": "execute_result"
    }
   ],
   "source": [
    "np.sqrt([mse(y_train, y_tr_pred), mse(y_test, y_te_pred)])"
   ]
  },
  {
   "cell_type": "code",
   "execution_count": 34,
   "id": "fb0b8e7d",
   "metadata": {},
   "outputs": [
    {
     "data": {
      "text/plain": [
       "(0.0, -0.002657958431159013)"
      ]
     },
     "execution_count": 34,
     "metadata": {},
     "output_type": "execute_result"
    }
   ],
   "source": [
    "r2_score(y_train, y_tr_pred), r2_score(y_test, y_te_pred)"
   ]
  },
  {
   "cell_type": "code",
   "execution_count": 35,
   "id": "ab02ef6f",
   "metadata": {},
   "outputs": [
    {
     "data": {
      "text/plain": [
       "(3.8805666297519243, 4.877790833193259)"
      ]
     },
     "execution_count": 35,
     "metadata": {},
     "output_type": "execute_result"
    }
   ],
   "source": [
    "mean_absolute_error(y_train, y_tr_pred), mean_absolute_error(y_test, y_te_pred)"
   ]
  },
  {
   "cell_type": "code",
   "execution_count": 36,
   "id": "2241dafe",
   "metadata": {},
   "outputs": [
    {
     "data": {
      "text/plain": [
       "(25.163066629870684, 46.570512703413506)"
      ]
     },
     "execution_count": 36,
     "metadata": {},
     "output_type": "execute_result"
    }
   ],
   "source": [
    "mean_squared_error(y_train, y_tr_pred), mean_squared_error(y_test, y_te_pred)"
   ]
  },
  {
   "cell_type": "code",
   "execution_count": 37,
   "id": "c927ca33",
   "metadata": {},
   "outputs": [
    {
     "data": {
      "text/plain": [
       "(0.0, -4.984058830771641e+29)"
      ]
     },
     "execution_count": 37,
     "metadata": {},
     "output_type": "execute_result"
    }
   ],
   "source": [
    "r2_score(y_train, y_tr_pred), r2_score(y_tr_pred, y_train)"
   ]
  },
  {
   "cell_type": "code",
   "execution_count": 38,
   "id": "abb694e7",
   "metadata": {},
   "outputs": [
    {
     "data": {
      "text/plain": [
       "(-0.002657958431159013, -9.224240372096643e+29)"
      ]
     },
     "execution_count": 38,
     "metadata": {},
     "output_type": "execute_result"
    }
   ],
   "source": [
    "r2_score(y_test, y_te_pred), r2_score(y_te_pred, y_test)"
   ]
  },
  {
   "cell_type": "code",
   "execution_count": 39,
   "id": "d046ec63",
   "metadata": {},
   "outputs": [
    {
     "data": {
      "text/plain": [
       "(0.0, 1.0)"
      ]
     },
     "execution_count": 39,
     "metadata": {},
     "output_type": "execute_result"
    }
   ],
   "source": [
    "r_squared(y_train, y_tr_pred), r_squared(y_tr_pred, y_train)"
   ]
  },
  {
   "cell_type": "code",
   "execution_count": 40,
   "id": "2452322b",
   "metadata": {},
   "outputs": [
    {
     "data": {
      "text/plain": [
       "(0.002650912416152229, 1.0)"
      ]
     },
     "execution_count": 40,
     "metadata": {},
     "output_type": "execute_result"
    }
   ],
   "source": [
    "r_squared(y_test, y_te_pred), r_squared(y_te_pred, y_test)"
   ]
  },
  {
   "cell_type": "code",
   "execution_count": 41,
   "id": "49bd63fa",
   "metadata": {},
   "outputs": [
    {
     "data": {
      "text/plain": [
       "Unnamed: 0                                                                                       23050.0\n",
       "Tot_Rfrg_Prvdrs                                                                                   2900.0\n",
       "Tot_Suplrs                                                                                        1313.0\n",
       "Tot_Suplr_Benes                                                                                  22299.0\n",
       "Tot_Suplr_Clms                                                                                   55874.0\n",
       "                                                                                                  ...   \n",
       "BETOS_Cd_D1E                                                                                         1.0\n",
       "BETOS_Desc_Other DME                                                                                 1.0\n",
       "HCPCS_Cd_A4253                                                                                       1.0\n",
       "HCPCS_Desc_Blood glucose test or reagent strips for home blood glucose monitor, per 50 strips        1.0\n",
       "Suplr_Rentl_Ind_N                                                                                    1.0\n",
       "Length: 134, dtype: float64"
      ]
     },
     "execution_count": 41,
     "metadata": {},
     "output_type": "execute_result"
    }
   ],
   "source": [
    "X_defaults_median = X_train.median()\n",
    "X_defaults_median"
   ]
  },
  {
   "cell_type": "code",
   "execution_count": 42,
   "id": "10e8b556",
   "metadata": {},
   "outputs": [],
   "source": [
    "X_tr = X_train.fillna(X_defaults_median)\n",
    "X_te = X_test.fillna(X_defaults_median)"
   ]
  },
  {
   "cell_type": "code",
   "execution_count": 43,
   "id": "d3e378fb",
   "metadata": {},
   "outputs": [],
   "source": [
    "scaler = StandardScaler()\n",
    "scaler.fit(X_tr)\n",
    "X_tr_scaled = scaler.transform(X_tr)\n",
    "X_te_scaled = scaler.transform(X_te)"
   ]
  },
  {
   "cell_type": "code",
   "execution_count": 44,
   "id": "f9849e46",
   "metadata": {},
   "outputs": [],
   "source": [
    "lm = LinearRegression().fit(X_tr_scaled, y_train)"
   ]
  },
  {
   "cell_type": "code",
   "execution_count": 45,
   "id": "e68a1895",
   "metadata": {},
   "outputs": [],
   "source": [
    "y_tr_pred = lm.predict(X_tr_scaled)\n",
    "y_te_pred = lm.predict(X_te_scaled)"
   ]
  },
  {
   "cell_type": "code",
   "execution_count": 46,
   "id": "a10b259e",
   "metadata": {},
   "outputs": [
    {
     "data": {
      "text/plain": [
       "(1.0, -0.3042769865388033)"
      ]
     },
     "execution_count": 46,
     "metadata": {},
     "output_type": "execute_result"
    }
   ],
   "source": [
    "median_r2 = r2_score(y_train, y_tr_pred), r2_score(y_test, y_te_pred)\n",
    "median_r2"
   ]
  },
  {
   "cell_type": "code",
   "execution_count": 47,
   "id": "70d88009",
   "metadata": {},
   "outputs": [
    {
     "data": {
      "text/plain": [
       "(6.651889441158385e-15, 5.281020844913176)"
      ]
     },
     "execution_count": 47,
     "metadata": {},
     "output_type": "execute_result"
    }
   ],
   "source": [
    "median_mae = mean_absolute_error(y_train, y_tr_pred), mean_absolute_error(y_test, y_te_pred)\n",
    "median_mae"
   ]
  },
  {
   "cell_type": "code",
   "execution_count": 48,
   "id": "83ec3710",
   "metadata": {},
   "outputs": [
    {
     "data": {
      "text/plain": [
       "(7.73419372608175e-29, 5.281020844913176)"
      ]
     },
     "execution_count": 48,
     "metadata": {},
     "output_type": "execute_result"
    }
   ],
   "source": [
    "median_mse = mean_squared_error(y_train, y_tr_pred), mean_absolute_error(y_test, y_te_pred)\n",
    "median_mse"
   ]
  },
  {
   "cell_type": "code",
   "execution_count": 49,
   "id": "261ab382",
   "metadata": {},
   "outputs": [
    {
     "data": {
      "text/plain": [
       "Unnamed: 0                                                                                       22819.765957\n",
       "Tot_Rfrg_Prvdrs                                                                                   3920.255319\n",
       "Tot_Suplrs                                                                                        1824.191489\n",
       "Tot_Suplr_Benes                                                                                  32260.638298\n",
       "Tot_Suplr_Clms                                                                                   85974.702128\n",
       "                                                                                                     ...     \n",
       "BETOS_Cd_D1E                                                                                         1.000000\n",
       "BETOS_Desc_Other DME                                                                                 1.000000\n",
       "HCPCS_Cd_A4253                                                                                       1.000000\n",
       "HCPCS_Desc_Blood glucose test or reagent strips for home blood glucose monitor, per 50 strips        1.000000\n",
       "Suplr_Rentl_Ind_N                                                                                    1.000000\n",
       "Length: 134, dtype: float64"
      ]
     },
     "execution_count": 49,
     "metadata": {},
     "output_type": "execute_result"
    }
   ],
   "source": [
    "X_defaults_mean = X_train.mean()\n",
    "X_defaults_mean"
   ]
  },
  {
   "cell_type": "code",
   "execution_count": 50,
   "id": "830476d6",
   "metadata": {},
   "outputs": [],
   "source": [
    "X_tr = X_train.fillna(X_defaults_mean)\n",
    "X_te = X_test.fillna(X_defaults_mean)"
   ]
  },
  {
   "cell_type": "code",
   "execution_count": 51,
   "id": "3657fa4f",
   "metadata": {},
   "outputs": [],
   "source": [
    "scaler = StandardScaler()\n",
    "scaler.fit(X_tr)\n",
    "X_tr_scaled = scaler.transform(X_tr)\n",
    "X_te_scaled = scaler.transform(X_te)"
   ]
  },
  {
   "cell_type": "code",
   "execution_count": 52,
   "id": "b7584486",
   "metadata": {},
   "outputs": [],
   "source": [
    "lm = LinearRegression().fit(X_tr_scaled, y_train)"
   ]
  },
  {
   "cell_type": "code",
   "execution_count": 53,
   "id": "3ce91f4f",
   "metadata": {},
   "outputs": [],
   "source": [
    "y_tr_pred = lm.predict(X_tr_scaled)\n",
    "y_te_pred = lm.predict(X_te_scaled)"
   ]
  },
  {
   "cell_type": "code",
   "execution_count": 54,
   "id": "19843d4a",
   "metadata": {},
   "outputs": [
    {
     "data": {
      "text/plain": [
       "(1.0, -0.3042769865388033)"
      ]
     },
     "execution_count": 54,
     "metadata": {},
     "output_type": "execute_result"
    }
   ],
   "source": [
    "r2_score(y_train, y_tr_pred), r2_score(y_test, y_te_pred)"
   ]
  },
  {
   "cell_type": "code",
   "execution_count": 55,
   "id": "0c9c50a9",
   "metadata": {},
   "outputs": [
    {
     "data": {
      "text/plain": [
       "(6.651889441158385e-15, 5.281020844913176)"
      ]
     },
     "execution_count": 55,
     "metadata": {},
     "output_type": "execute_result"
    }
   ],
   "source": [
    "mean_absolute_error(y_train, y_tr_pred), mean_absolute_error(y_test, y_te_pred)"
   ]
  },
  {
   "cell_type": "code",
   "execution_count": 56,
   "id": "7414dda8",
   "metadata": {},
   "outputs": [
    {
     "data": {
      "text/plain": [
       "(7.73419372608175e-29, 60.57982930232294)"
      ]
     },
     "execution_count": 56,
     "metadata": {},
     "output_type": "execute_result"
    }
   ],
   "source": [
    "mean_squared_error(y_train, y_tr_pred), mean_squared_error(y_test, y_te_pred)"
   ]
  },
  {
   "cell_type": "code",
   "execution_count": 57,
   "id": "88ef4a40",
   "metadata": {},
   "outputs": [],
   "source": [
    "pipe = make_pipeline(\n",
    "    SimpleImputer(strategy='median'), \n",
    "    StandardScaler(), \n",
    "    LinearRegression()\n",
    ")"
   ]
  },
  {
   "cell_type": "code",
   "execution_count": 58,
   "id": "50bc8cd1",
   "metadata": {},
   "outputs": [
    {
     "data": {
      "text/plain": [
       "sklearn.pipeline.Pipeline"
      ]
     },
     "execution_count": 58,
     "metadata": {},
     "output_type": "execute_result"
    }
   ],
   "source": [
    "type(pipe)"
   ]
  },
  {
   "cell_type": "code",
   "execution_count": 59,
   "id": "2b8604b9",
   "metadata": {},
   "outputs": [
    {
     "data": {
      "text/plain": [
       "(True, True)"
      ]
     },
     "execution_count": 59,
     "metadata": {},
     "output_type": "execute_result"
    }
   ],
   "source": [
    "hasattr(pipe, 'fit'), hasattr(pipe, 'predict')"
   ]
  },
  {
   "cell_type": "code",
   "execution_count": 60,
   "id": "8f312186",
   "metadata": {},
   "outputs": [
    {
     "data": {
      "text/html": [
       "<style>#sk-container-id-1 {color: black;}#sk-container-id-1 pre{padding: 0;}#sk-container-id-1 div.sk-toggleable {background-color: white;}#sk-container-id-1 label.sk-toggleable__label {cursor: pointer;display: block;width: 100%;margin-bottom: 0;padding: 0.3em;box-sizing: border-box;text-align: center;}#sk-container-id-1 label.sk-toggleable__label-arrow:before {content: \"▸\";float: left;margin-right: 0.25em;color: #696969;}#sk-container-id-1 label.sk-toggleable__label-arrow:hover:before {color: black;}#sk-container-id-1 div.sk-estimator:hover label.sk-toggleable__label-arrow:before {color: black;}#sk-container-id-1 div.sk-toggleable__content {max-height: 0;max-width: 0;overflow: hidden;text-align: left;background-color: #f0f8ff;}#sk-container-id-1 div.sk-toggleable__content pre {margin: 0.2em;color: black;border-radius: 0.25em;background-color: #f0f8ff;}#sk-container-id-1 input.sk-toggleable__control:checked~div.sk-toggleable__content {max-height: 200px;max-width: 100%;overflow: auto;}#sk-container-id-1 input.sk-toggleable__control:checked~label.sk-toggleable__label-arrow:before {content: \"▾\";}#sk-container-id-1 div.sk-estimator input.sk-toggleable__control:checked~label.sk-toggleable__label {background-color: #d4ebff;}#sk-container-id-1 div.sk-label input.sk-toggleable__control:checked~label.sk-toggleable__label {background-color: #d4ebff;}#sk-container-id-1 input.sk-hidden--visually {border: 0;clip: rect(1px 1px 1px 1px);clip: rect(1px, 1px, 1px, 1px);height: 1px;margin: -1px;overflow: hidden;padding: 0;position: absolute;width: 1px;}#sk-container-id-1 div.sk-estimator {font-family: monospace;background-color: #f0f8ff;border: 1px dotted black;border-radius: 0.25em;box-sizing: border-box;margin-bottom: 0.5em;}#sk-container-id-1 div.sk-estimator:hover {background-color: #d4ebff;}#sk-container-id-1 div.sk-parallel-item::after {content: \"\";width: 100%;border-bottom: 1px solid gray;flex-grow: 1;}#sk-container-id-1 div.sk-label:hover label.sk-toggleable__label {background-color: #d4ebff;}#sk-container-id-1 div.sk-serial::before {content: \"\";position: absolute;border-left: 1px solid gray;box-sizing: border-box;top: 0;bottom: 0;left: 50%;z-index: 0;}#sk-container-id-1 div.sk-serial {display: flex;flex-direction: column;align-items: center;background-color: white;padding-right: 0.2em;padding-left: 0.2em;position: relative;}#sk-container-id-1 div.sk-item {position: relative;z-index: 1;}#sk-container-id-1 div.sk-parallel {display: flex;align-items: stretch;justify-content: center;background-color: white;position: relative;}#sk-container-id-1 div.sk-item::before, #sk-container-id-1 div.sk-parallel-item::before {content: \"\";position: absolute;border-left: 1px solid gray;box-sizing: border-box;top: 0;bottom: 0;left: 50%;z-index: -1;}#sk-container-id-1 div.sk-parallel-item {display: flex;flex-direction: column;z-index: 1;position: relative;background-color: white;}#sk-container-id-1 div.sk-parallel-item:first-child::after {align-self: flex-end;width: 50%;}#sk-container-id-1 div.sk-parallel-item:last-child::after {align-self: flex-start;width: 50%;}#sk-container-id-1 div.sk-parallel-item:only-child::after {width: 0;}#sk-container-id-1 div.sk-dashed-wrapped {border: 1px dashed gray;margin: 0 0.4em 0.5em 0.4em;box-sizing: border-box;padding-bottom: 0.4em;background-color: white;}#sk-container-id-1 div.sk-label label {font-family: monospace;font-weight: bold;display: inline-block;line-height: 1.2em;}#sk-container-id-1 div.sk-label-container {text-align: center;}#sk-container-id-1 div.sk-container {/* jupyter's `normalize.less` sets `[hidden] { display: none; }` but bootstrap.min.css set `[hidden] { display: none !important; }` so we also need the `!important` here to be able to override the default hidden behavior on the sphinx rendered scikit-learn.org. See: https://github.com/scikit-learn/scikit-learn/issues/21755 */display: inline-block !important;position: relative;}#sk-container-id-1 div.sk-text-repr-fallback {display: none;}</style><div id=\"sk-container-id-1\" class=\"sk-top-container\"><div class=\"sk-text-repr-fallback\"><pre>Pipeline(steps=[(&#x27;simpleimputer&#x27;, SimpleImputer(strategy=&#x27;median&#x27;)),\n",
       "                (&#x27;standardscaler&#x27;, StandardScaler()),\n",
       "                (&#x27;linearregression&#x27;, LinearRegression())])</pre><b>In a Jupyter environment, please rerun this cell to show the HTML representation or trust the notebook. <br />On GitHub, the HTML representation is unable to render, please try loading this page with nbviewer.org.</b></div><div class=\"sk-container\" hidden><div class=\"sk-item sk-dashed-wrapped\"><div class=\"sk-label-container\"><div class=\"sk-label sk-toggleable\"><input class=\"sk-toggleable__control sk-hidden--visually\" id=\"sk-estimator-id-1\" type=\"checkbox\" ><label for=\"sk-estimator-id-1\" class=\"sk-toggleable__label sk-toggleable__label-arrow\">Pipeline</label><div class=\"sk-toggleable__content\"><pre>Pipeline(steps=[(&#x27;simpleimputer&#x27;, SimpleImputer(strategy=&#x27;median&#x27;)),\n",
       "                (&#x27;standardscaler&#x27;, StandardScaler()),\n",
       "                (&#x27;linearregression&#x27;, LinearRegression())])</pre></div></div></div><div class=\"sk-serial\"><div class=\"sk-item\"><div class=\"sk-estimator sk-toggleable\"><input class=\"sk-toggleable__control sk-hidden--visually\" id=\"sk-estimator-id-2\" type=\"checkbox\" ><label for=\"sk-estimator-id-2\" class=\"sk-toggleable__label sk-toggleable__label-arrow\">SimpleImputer</label><div class=\"sk-toggleable__content\"><pre>SimpleImputer(strategy=&#x27;median&#x27;)</pre></div></div></div><div class=\"sk-item\"><div class=\"sk-estimator sk-toggleable\"><input class=\"sk-toggleable__control sk-hidden--visually\" id=\"sk-estimator-id-3\" type=\"checkbox\" ><label for=\"sk-estimator-id-3\" class=\"sk-toggleable__label sk-toggleable__label-arrow\">StandardScaler</label><div class=\"sk-toggleable__content\"><pre>StandardScaler()</pre></div></div></div><div class=\"sk-item\"><div class=\"sk-estimator sk-toggleable\"><input class=\"sk-toggleable__control sk-hidden--visually\" id=\"sk-estimator-id-4\" type=\"checkbox\" ><label for=\"sk-estimator-id-4\" class=\"sk-toggleable__label sk-toggleable__label-arrow\">LinearRegression</label><div class=\"sk-toggleable__content\"><pre>LinearRegression()</pre></div></div></div></div></div></div></div>"
      ],
      "text/plain": [
       "Pipeline(steps=[('simpleimputer', SimpleImputer(strategy='median')),\n",
       "                ('standardscaler', StandardScaler()),\n",
       "                ('linearregression', LinearRegression())])"
      ]
     },
     "execution_count": 60,
     "metadata": {},
     "output_type": "execute_result"
    }
   ],
   "source": [
    "pipe.fit(X_train, y_train)"
   ]
  },
  {
   "cell_type": "code",
   "execution_count": 61,
   "id": "80ea8ca7",
   "metadata": {},
   "outputs": [],
   "source": [
    "y_tr_pred = pipe.predict(X_train)\n",
    "y_te_pred = pipe.predict(X_test)"
   ]
  },
  {
   "cell_type": "code",
   "execution_count": 62,
   "id": "e2d7aa9d",
   "metadata": {},
   "outputs": [
    {
     "data": {
      "text/plain": [
       "(1.0, -0.3042769865388033)"
      ]
     },
     "execution_count": 62,
     "metadata": {},
     "output_type": "execute_result"
    }
   ],
   "source": [
    "r2_score(y_train, y_tr_pred), r2_score(y_test, y_te_pred)"
   ]
  },
  {
   "cell_type": "code",
   "execution_count": 63,
   "id": "8e3b428f",
   "metadata": {},
   "outputs": [
    {
     "data": {
      "text/plain": [
       "(1.0, -0.3042769865388033)"
      ]
     },
     "execution_count": 63,
     "metadata": {},
     "output_type": "execute_result"
    }
   ],
   "source": [
    "median_r2"
   ]
  },
  {
   "cell_type": "code",
   "execution_count": 64,
   "id": "41828586",
   "metadata": {},
   "outputs": [
    {
     "data": {
      "text/plain": [
       "(6.651889441158385e-15, 5.281020844913176)"
      ]
     },
     "execution_count": 64,
     "metadata": {},
     "output_type": "execute_result"
    }
   ],
   "source": [
    "mean_absolute_error(y_train, y_tr_pred), mean_absolute_error(y_test, y_te_pred)"
   ]
  },
  {
   "cell_type": "code",
   "execution_count": 65,
   "id": "84ffb02d",
   "metadata": {},
   "outputs": [
    {
     "data": {
      "text/plain": [
       "(6.651889441158385e-15, 5.281020844913176)"
      ]
     },
     "execution_count": 65,
     "metadata": {},
     "output_type": "execute_result"
    }
   ],
   "source": [
    "median_mae"
   ]
  },
  {
   "cell_type": "code",
   "execution_count": 66,
   "id": "a1b2a9fb",
   "metadata": {},
   "outputs": [
    {
     "data": {
      "text/plain": [
       "(7.73419372608175e-29, 60.57982930232294)"
      ]
     },
     "execution_count": 66,
     "metadata": {},
     "output_type": "execute_result"
    }
   ],
   "source": [
    "mean_squared_error(y_train, y_tr_pred), mean_squared_error(y_test, y_te_pred)"
   ]
  },
  {
   "cell_type": "code",
   "execution_count": 67,
   "id": "5afb59b6",
   "metadata": {},
   "outputs": [
    {
     "data": {
      "text/plain": [
       "(7.73419372608175e-29, 5.281020844913176)"
      ]
     },
     "execution_count": 67,
     "metadata": {},
     "output_type": "execute_result"
    }
   ],
   "source": [
    "median_mse"
   ]
  },
  {
   "cell_type": "code",
   "execution_count": 68,
   "id": "65ceb7e9",
   "metadata": {},
   "outputs": [],
   "source": [
    "pipe = make_pipeline(\n",
    "    SimpleImputer(strategy='median'), \n",
    "    StandardScaler(),\n",
    "    SelectKBest(score_func=f_regression),\n",
    "    LinearRegression()\n",
    ")"
   ]
  },
  {
   "cell_type": "code",
   "execution_count": 69,
   "id": "52a854a7",
   "metadata": {},
   "outputs": [
    {
     "data": {
      "text/html": [
       "<style>#sk-container-id-2 {color: black;}#sk-container-id-2 pre{padding: 0;}#sk-container-id-2 div.sk-toggleable {background-color: white;}#sk-container-id-2 label.sk-toggleable__label {cursor: pointer;display: block;width: 100%;margin-bottom: 0;padding: 0.3em;box-sizing: border-box;text-align: center;}#sk-container-id-2 label.sk-toggleable__label-arrow:before {content: \"▸\";float: left;margin-right: 0.25em;color: #696969;}#sk-container-id-2 label.sk-toggleable__label-arrow:hover:before {color: black;}#sk-container-id-2 div.sk-estimator:hover label.sk-toggleable__label-arrow:before {color: black;}#sk-container-id-2 div.sk-toggleable__content {max-height: 0;max-width: 0;overflow: hidden;text-align: left;background-color: #f0f8ff;}#sk-container-id-2 div.sk-toggleable__content pre {margin: 0.2em;color: black;border-radius: 0.25em;background-color: #f0f8ff;}#sk-container-id-2 input.sk-toggleable__control:checked~div.sk-toggleable__content {max-height: 200px;max-width: 100%;overflow: auto;}#sk-container-id-2 input.sk-toggleable__control:checked~label.sk-toggleable__label-arrow:before {content: \"▾\";}#sk-container-id-2 div.sk-estimator input.sk-toggleable__control:checked~label.sk-toggleable__label {background-color: #d4ebff;}#sk-container-id-2 div.sk-label input.sk-toggleable__control:checked~label.sk-toggleable__label {background-color: #d4ebff;}#sk-container-id-2 input.sk-hidden--visually {border: 0;clip: rect(1px 1px 1px 1px);clip: rect(1px, 1px, 1px, 1px);height: 1px;margin: -1px;overflow: hidden;padding: 0;position: absolute;width: 1px;}#sk-container-id-2 div.sk-estimator {font-family: monospace;background-color: #f0f8ff;border: 1px dotted black;border-radius: 0.25em;box-sizing: border-box;margin-bottom: 0.5em;}#sk-container-id-2 div.sk-estimator:hover {background-color: #d4ebff;}#sk-container-id-2 div.sk-parallel-item::after {content: \"\";width: 100%;border-bottom: 1px solid gray;flex-grow: 1;}#sk-container-id-2 div.sk-label:hover label.sk-toggleable__label {background-color: #d4ebff;}#sk-container-id-2 div.sk-serial::before {content: \"\";position: absolute;border-left: 1px solid gray;box-sizing: border-box;top: 0;bottom: 0;left: 50%;z-index: 0;}#sk-container-id-2 div.sk-serial {display: flex;flex-direction: column;align-items: center;background-color: white;padding-right: 0.2em;padding-left: 0.2em;position: relative;}#sk-container-id-2 div.sk-item {position: relative;z-index: 1;}#sk-container-id-2 div.sk-parallel {display: flex;align-items: stretch;justify-content: center;background-color: white;position: relative;}#sk-container-id-2 div.sk-item::before, #sk-container-id-2 div.sk-parallel-item::before {content: \"\";position: absolute;border-left: 1px solid gray;box-sizing: border-box;top: 0;bottom: 0;left: 50%;z-index: -1;}#sk-container-id-2 div.sk-parallel-item {display: flex;flex-direction: column;z-index: 1;position: relative;background-color: white;}#sk-container-id-2 div.sk-parallel-item:first-child::after {align-self: flex-end;width: 50%;}#sk-container-id-2 div.sk-parallel-item:last-child::after {align-self: flex-start;width: 50%;}#sk-container-id-2 div.sk-parallel-item:only-child::after {width: 0;}#sk-container-id-2 div.sk-dashed-wrapped {border: 1px dashed gray;margin: 0 0.4em 0.5em 0.4em;box-sizing: border-box;padding-bottom: 0.4em;background-color: white;}#sk-container-id-2 div.sk-label label {font-family: monospace;font-weight: bold;display: inline-block;line-height: 1.2em;}#sk-container-id-2 div.sk-label-container {text-align: center;}#sk-container-id-2 div.sk-container {/* jupyter's `normalize.less` sets `[hidden] { display: none; }` but bootstrap.min.css set `[hidden] { display: none !important; }` so we also need the `!important` here to be able to override the default hidden behavior on the sphinx rendered scikit-learn.org. See: https://github.com/scikit-learn/scikit-learn/issues/21755 */display: inline-block !important;position: relative;}#sk-container-id-2 div.sk-text-repr-fallback {display: none;}</style><div id=\"sk-container-id-2\" class=\"sk-top-container\"><div class=\"sk-text-repr-fallback\"><pre>Pipeline(steps=[(&#x27;simpleimputer&#x27;, SimpleImputer(strategy=&#x27;median&#x27;)),\n",
       "                (&#x27;standardscaler&#x27;, StandardScaler()),\n",
       "                (&#x27;selectkbest&#x27;,\n",
       "                 SelectKBest(score_func=&lt;function f_regression at 0x00000241EEEB6F20&gt;)),\n",
       "                (&#x27;linearregression&#x27;, LinearRegression())])</pre><b>In a Jupyter environment, please rerun this cell to show the HTML representation or trust the notebook. <br />On GitHub, the HTML representation is unable to render, please try loading this page with nbviewer.org.</b></div><div class=\"sk-container\" hidden><div class=\"sk-item sk-dashed-wrapped\"><div class=\"sk-label-container\"><div class=\"sk-label sk-toggleable\"><input class=\"sk-toggleable__control sk-hidden--visually\" id=\"sk-estimator-id-5\" type=\"checkbox\" ><label for=\"sk-estimator-id-5\" class=\"sk-toggleable__label sk-toggleable__label-arrow\">Pipeline</label><div class=\"sk-toggleable__content\"><pre>Pipeline(steps=[(&#x27;simpleimputer&#x27;, SimpleImputer(strategy=&#x27;median&#x27;)),\n",
       "                (&#x27;standardscaler&#x27;, StandardScaler()),\n",
       "                (&#x27;selectkbest&#x27;,\n",
       "                 SelectKBest(score_func=&lt;function f_regression at 0x00000241EEEB6F20&gt;)),\n",
       "                (&#x27;linearregression&#x27;, LinearRegression())])</pre></div></div></div><div class=\"sk-serial\"><div class=\"sk-item\"><div class=\"sk-estimator sk-toggleable\"><input class=\"sk-toggleable__control sk-hidden--visually\" id=\"sk-estimator-id-6\" type=\"checkbox\" ><label for=\"sk-estimator-id-6\" class=\"sk-toggleable__label sk-toggleable__label-arrow\">SimpleImputer</label><div class=\"sk-toggleable__content\"><pre>SimpleImputer(strategy=&#x27;median&#x27;)</pre></div></div></div><div class=\"sk-item\"><div class=\"sk-estimator sk-toggleable\"><input class=\"sk-toggleable__control sk-hidden--visually\" id=\"sk-estimator-id-7\" type=\"checkbox\" ><label for=\"sk-estimator-id-7\" class=\"sk-toggleable__label sk-toggleable__label-arrow\">StandardScaler</label><div class=\"sk-toggleable__content\"><pre>StandardScaler()</pre></div></div></div><div class=\"sk-item\"><div class=\"sk-estimator sk-toggleable\"><input class=\"sk-toggleable__control sk-hidden--visually\" id=\"sk-estimator-id-8\" type=\"checkbox\" ><label for=\"sk-estimator-id-8\" class=\"sk-toggleable__label sk-toggleable__label-arrow\">SelectKBest</label><div class=\"sk-toggleable__content\"><pre>SelectKBest(score_func=&lt;function f_regression at 0x00000241EEEB6F20&gt;)</pre></div></div></div><div class=\"sk-item\"><div class=\"sk-estimator sk-toggleable\"><input class=\"sk-toggleable__control sk-hidden--visually\" id=\"sk-estimator-id-9\" type=\"checkbox\" ><label for=\"sk-estimator-id-9\" class=\"sk-toggleable__label sk-toggleable__label-arrow\">LinearRegression</label><div class=\"sk-toggleable__content\"><pre>LinearRegression()</pre></div></div></div></div></div></div></div>"
      ],
      "text/plain": [
       "Pipeline(steps=[('simpleimputer', SimpleImputer(strategy='median')),\n",
       "                ('standardscaler', StandardScaler()),\n",
       "                ('selectkbest',\n",
       "                 SelectKBest(score_func=<function f_regression at 0x00000241EEEB6F20>)),\n",
       "                ('linearregression', LinearRegression())])"
      ]
     },
     "execution_count": 69,
     "metadata": {},
     "output_type": "execute_result"
    }
   ],
   "source": [
    "pipe.fit(X_train, y_train)"
   ]
  },
  {
   "cell_type": "code",
   "execution_count": 70,
   "id": "c2e0df4e",
   "metadata": {},
   "outputs": [],
   "source": [
    "y_tr_pred = pipe.predict(X_train)\n",
    "y_te_pred = pipe.predict(X_test)"
   ]
  },
  {
   "cell_type": "code",
   "execution_count": 71,
   "id": "5a465e1c",
   "metadata": {},
   "outputs": [
    {
     "data": {
      "text/plain": [
       "(0.5243101925023075, 0.08853396595326013)"
      ]
     },
     "execution_count": 71,
     "metadata": {},
     "output_type": "execute_result"
    }
   ],
   "source": [
    "r2_score(y_train, y_tr_pred), r2_score(y_test, y_te_pred)"
   ]
  },
  {
   "cell_type": "code",
   "execution_count": 72,
   "id": "a0b4b2ab",
   "metadata": {},
   "outputs": [
    {
     "data": {
      "text/plain": [
       "(2.616798887487849, 4.377302374308254)"
      ]
     },
     "execution_count": 72,
     "metadata": {},
     "output_type": "execute_result"
    }
   ],
   "source": [
    "mean_absolute_error(y_train, y_tr_pred), mean_absolute_error(y_test, y_te_pred)"
   ]
  },
  {
   "cell_type": "code",
   "execution_count": 73,
   "id": "a0d42d87",
   "metadata": {},
   "outputs": [],
   "source": [
    "pipe15 = make_pipeline(\n",
    "    SimpleImputer(strategy='median'), \n",
    "    StandardScaler(),\n",
    "    SelectKBest(score_func=f_regression, k=15),\n",
    "    LinearRegression()\n",
    ")"
   ]
  },
  {
   "cell_type": "code",
   "execution_count": 74,
   "id": "4d33cca4",
   "metadata": {},
   "outputs": [
    {
     "data": {
      "text/html": [
       "<style>#sk-container-id-3 {color: black;}#sk-container-id-3 pre{padding: 0;}#sk-container-id-3 div.sk-toggleable {background-color: white;}#sk-container-id-3 label.sk-toggleable__label {cursor: pointer;display: block;width: 100%;margin-bottom: 0;padding: 0.3em;box-sizing: border-box;text-align: center;}#sk-container-id-3 label.sk-toggleable__label-arrow:before {content: \"▸\";float: left;margin-right: 0.25em;color: #696969;}#sk-container-id-3 label.sk-toggleable__label-arrow:hover:before {color: black;}#sk-container-id-3 div.sk-estimator:hover label.sk-toggleable__label-arrow:before {color: black;}#sk-container-id-3 div.sk-toggleable__content {max-height: 0;max-width: 0;overflow: hidden;text-align: left;background-color: #f0f8ff;}#sk-container-id-3 div.sk-toggleable__content pre {margin: 0.2em;color: black;border-radius: 0.25em;background-color: #f0f8ff;}#sk-container-id-3 input.sk-toggleable__control:checked~div.sk-toggleable__content {max-height: 200px;max-width: 100%;overflow: auto;}#sk-container-id-3 input.sk-toggleable__control:checked~label.sk-toggleable__label-arrow:before {content: \"▾\";}#sk-container-id-3 div.sk-estimator input.sk-toggleable__control:checked~label.sk-toggleable__label {background-color: #d4ebff;}#sk-container-id-3 div.sk-label input.sk-toggleable__control:checked~label.sk-toggleable__label {background-color: #d4ebff;}#sk-container-id-3 input.sk-hidden--visually {border: 0;clip: rect(1px 1px 1px 1px);clip: rect(1px, 1px, 1px, 1px);height: 1px;margin: -1px;overflow: hidden;padding: 0;position: absolute;width: 1px;}#sk-container-id-3 div.sk-estimator {font-family: monospace;background-color: #f0f8ff;border: 1px dotted black;border-radius: 0.25em;box-sizing: border-box;margin-bottom: 0.5em;}#sk-container-id-3 div.sk-estimator:hover {background-color: #d4ebff;}#sk-container-id-3 div.sk-parallel-item::after {content: \"\";width: 100%;border-bottom: 1px solid gray;flex-grow: 1;}#sk-container-id-3 div.sk-label:hover label.sk-toggleable__label {background-color: #d4ebff;}#sk-container-id-3 div.sk-serial::before {content: \"\";position: absolute;border-left: 1px solid gray;box-sizing: border-box;top: 0;bottom: 0;left: 50%;z-index: 0;}#sk-container-id-3 div.sk-serial {display: flex;flex-direction: column;align-items: center;background-color: white;padding-right: 0.2em;padding-left: 0.2em;position: relative;}#sk-container-id-3 div.sk-item {position: relative;z-index: 1;}#sk-container-id-3 div.sk-parallel {display: flex;align-items: stretch;justify-content: center;background-color: white;position: relative;}#sk-container-id-3 div.sk-item::before, #sk-container-id-3 div.sk-parallel-item::before {content: \"\";position: absolute;border-left: 1px solid gray;box-sizing: border-box;top: 0;bottom: 0;left: 50%;z-index: -1;}#sk-container-id-3 div.sk-parallel-item {display: flex;flex-direction: column;z-index: 1;position: relative;background-color: white;}#sk-container-id-3 div.sk-parallel-item:first-child::after {align-self: flex-end;width: 50%;}#sk-container-id-3 div.sk-parallel-item:last-child::after {align-self: flex-start;width: 50%;}#sk-container-id-3 div.sk-parallel-item:only-child::after {width: 0;}#sk-container-id-3 div.sk-dashed-wrapped {border: 1px dashed gray;margin: 0 0.4em 0.5em 0.4em;box-sizing: border-box;padding-bottom: 0.4em;background-color: white;}#sk-container-id-3 div.sk-label label {font-family: monospace;font-weight: bold;display: inline-block;line-height: 1.2em;}#sk-container-id-3 div.sk-label-container {text-align: center;}#sk-container-id-3 div.sk-container {/* jupyter's `normalize.less` sets `[hidden] { display: none; }` but bootstrap.min.css set `[hidden] { display: none !important; }` so we also need the `!important` here to be able to override the default hidden behavior on the sphinx rendered scikit-learn.org. See: https://github.com/scikit-learn/scikit-learn/issues/21755 */display: inline-block !important;position: relative;}#sk-container-id-3 div.sk-text-repr-fallback {display: none;}</style><div id=\"sk-container-id-3\" class=\"sk-top-container\"><div class=\"sk-text-repr-fallback\"><pre>Pipeline(steps=[(&#x27;simpleimputer&#x27;, SimpleImputer(strategy=&#x27;median&#x27;)),\n",
       "                (&#x27;standardscaler&#x27;, StandardScaler()),\n",
       "                (&#x27;selectkbest&#x27;,\n",
       "                 SelectKBest(k=15,\n",
       "                             score_func=&lt;function f_regression at 0x00000241EEEB6F20&gt;)),\n",
       "                (&#x27;linearregression&#x27;, LinearRegression())])</pre><b>In a Jupyter environment, please rerun this cell to show the HTML representation or trust the notebook. <br />On GitHub, the HTML representation is unable to render, please try loading this page with nbviewer.org.</b></div><div class=\"sk-container\" hidden><div class=\"sk-item sk-dashed-wrapped\"><div class=\"sk-label-container\"><div class=\"sk-label sk-toggleable\"><input class=\"sk-toggleable__control sk-hidden--visually\" id=\"sk-estimator-id-10\" type=\"checkbox\" ><label for=\"sk-estimator-id-10\" class=\"sk-toggleable__label sk-toggleable__label-arrow\">Pipeline</label><div class=\"sk-toggleable__content\"><pre>Pipeline(steps=[(&#x27;simpleimputer&#x27;, SimpleImputer(strategy=&#x27;median&#x27;)),\n",
       "                (&#x27;standardscaler&#x27;, StandardScaler()),\n",
       "                (&#x27;selectkbest&#x27;,\n",
       "                 SelectKBest(k=15,\n",
       "                             score_func=&lt;function f_regression at 0x00000241EEEB6F20&gt;)),\n",
       "                (&#x27;linearregression&#x27;, LinearRegression())])</pre></div></div></div><div class=\"sk-serial\"><div class=\"sk-item\"><div class=\"sk-estimator sk-toggleable\"><input class=\"sk-toggleable__control sk-hidden--visually\" id=\"sk-estimator-id-11\" type=\"checkbox\" ><label for=\"sk-estimator-id-11\" class=\"sk-toggleable__label sk-toggleable__label-arrow\">SimpleImputer</label><div class=\"sk-toggleable__content\"><pre>SimpleImputer(strategy=&#x27;median&#x27;)</pre></div></div></div><div class=\"sk-item\"><div class=\"sk-estimator sk-toggleable\"><input class=\"sk-toggleable__control sk-hidden--visually\" id=\"sk-estimator-id-12\" type=\"checkbox\" ><label for=\"sk-estimator-id-12\" class=\"sk-toggleable__label sk-toggleable__label-arrow\">StandardScaler</label><div class=\"sk-toggleable__content\"><pre>StandardScaler()</pre></div></div></div><div class=\"sk-item\"><div class=\"sk-estimator sk-toggleable\"><input class=\"sk-toggleable__control sk-hidden--visually\" id=\"sk-estimator-id-13\" type=\"checkbox\" ><label for=\"sk-estimator-id-13\" class=\"sk-toggleable__label sk-toggleable__label-arrow\">SelectKBest</label><div class=\"sk-toggleable__content\"><pre>SelectKBest(k=15, score_func=&lt;function f_regression at 0x00000241EEEB6F20&gt;)</pre></div></div></div><div class=\"sk-item\"><div class=\"sk-estimator sk-toggleable\"><input class=\"sk-toggleable__control sk-hidden--visually\" id=\"sk-estimator-id-14\" type=\"checkbox\" ><label for=\"sk-estimator-id-14\" class=\"sk-toggleable__label sk-toggleable__label-arrow\">LinearRegression</label><div class=\"sk-toggleable__content\"><pre>LinearRegression()</pre></div></div></div></div></div></div></div>"
      ],
      "text/plain": [
       "Pipeline(steps=[('simpleimputer', SimpleImputer(strategy='median')),\n",
       "                ('standardscaler', StandardScaler()),\n",
       "                ('selectkbest',\n",
       "                 SelectKBest(k=15,\n",
       "                             score_func=<function f_regression at 0x00000241EEEB6F20>)),\n",
       "                ('linearregression', LinearRegression())])"
      ]
     },
     "execution_count": 74,
     "metadata": {},
     "output_type": "execute_result"
    }
   ],
   "source": [
    "pipe15.fit(X_train, y_train)"
   ]
  },
  {
   "cell_type": "code",
   "execution_count": 75,
   "id": "c5dcb61a",
   "metadata": {},
   "outputs": [],
   "source": [
    "y_tr_pred = pipe15.predict(X_train)\n",
    "y_te_pred = pipe15.predict(X_test)"
   ]
  },
  {
   "cell_type": "code",
   "execution_count": 76,
   "id": "55560a3d",
   "metadata": {},
   "outputs": [
    {
     "data": {
      "text/plain": [
       "(0.6156775646870818, 0.007215485318574966)"
      ]
     },
     "execution_count": 76,
     "metadata": {},
     "output_type": "execute_result"
    }
   ],
   "source": [
    "r2_score(y_train, y_tr_pred), r2_score(y_test, y_te_pred)"
   ]
  },
  {
   "cell_type": "code",
   "execution_count": 77,
   "id": "4b42983b",
   "metadata": {},
   "outputs": [
    {
     "data": {
      "text/plain": [
       "(2.2998168058030277, 4.4778459231447725)"
      ]
     },
     "execution_count": 77,
     "metadata": {},
     "output_type": "execute_result"
    }
   ],
   "source": [
    "mean_absolute_error(y_train, y_tr_pred), mean_absolute_error(y_test, y_te_pred)"
   ]
  },
  {
   "cell_type": "code",
   "execution_count": 78,
   "id": "4be35e6c",
   "metadata": {},
   "outputs": [],
   "source": [
    "cv_results = cross_validate(pipe15, X_train, y_train, cv=5)"
   ]
  },
  {
   "cell_type": "code",
   "execution_count": 79,
   "id": "d9b54273",
   "metadata": {},
   "outputs": [
    {
     "data": {
      "text/plain": [
       "array([ 0.1489762 ,  0.15008727,  0.17545839,  0.08682713, -0.18623765])"
      ]
     },
     "execution_count": 79,
     "metadata": {},
     "output_type": "execute_result"
    }
   ],
   "source": [
    "cv_scores = cv_results['test_score']\n",
    "cv_scores"
   ]
  },
  {
   "cell_type": "code",
   "execution_count": 80,
   "id": "25a9e715",
   "metadata": {},
   "outputs": [
    {
     "data": {
      "text/plain": [
       "(0.07502227041490657, 0.13385623069566613)"
      ]
     },
     "execution_count": 80,
     "metadata": {},
     "output_type": "execute_result"
    }
   ],
   "source": [
    "np.mean(cv_scores), np.std(cv_scores)"
   ]
  },
  {
   "cell_type": "code",
   "execution_count": 81,
   "id": "d0c43c6b",
   "metadata": {},
   "outputs": [
    {
     "data": {
      "text/plain": [
       "array([-0.19,  0.34])"
      ]
     },
     "execution_count": 81,
     "metadata": {},
     "output_type": "execute_result"
    }
   ],
   "source": [
    "np.round((np.mean(cv_scores) - 2 * np.std(cv_scores), np.mean(cv_scores) + 2 * np.std(cv_scores)), 2)"
   ]
  },
  {
   "cell_type": "code",
   "execution_count": 82,
   "id": "f70c007f",
   "metadata": {},
   "outputs": [
    {
     "data": {
      "text/plain": [
       "dict_keys(['memory', 'steps', 'verbose', 'simpleimputer', 'standardscaler', 'selectkbest', 'linearregression', 'simpleimputer__add_indicator', 'simpleimputer__copy', 'simpleimputer__fill_value', 'simpleimputer__keep_empty_features', 'simpleimputer__missing_values', 'simpleimputer__strategy', 'standardscaler__copy', 'standardscaler__with_mean', 'standardscaler__with_std', 'selectkbest__k', 'selectkbest__score_func', 'linearregression__copy_X', 'linearregression__fit_intercept', 'linearregression__n_jobs', 'linearregression__positive'])"
      ]
     },
     "execution_count": 82,
     "metadata": {},
     "output_type": "execute_result"
    }
   ],
   "source": [
    "pipe.get_params().keys()"
   ]
  },
  {
   "cell_type": "code",
   "execution_count": 83,
   "id": "67e649ac",
   "metadata": {},
   "outputs": [],
   "source": [
    "k = [k+1 for k in range(len(X_train.columns))]\n",
    "grid_params = {'selectkbest__k': k}"
   ]
  },
  {
   "cell_type": "code",
   "execution_count": 84,
   "id": "166223c2",
   "metadata": {},
   "outputs": [],
   "source": [
    "lr_grid_cv = GridSearchCV(pipe, param_grid=grid_params, cv=5, n_jobs=-1)"
   ]
  },
  {
   "cell_type": "code",
   "execution_count": 85,
   "id": "ab023ec1",
   "metadata": {},
   "outputs": [
    {
     "data": {
      "text/html": [
       "<style>#sk-container-id-4 {color: black;}#sk-container-id-4 pre{padding: 0;}#sk-container-id-4 div.sk-toggleable {background-color: white;}#sk-container-id-4 label.sk-toggleable__label {cursor: pointer;display: block;width: 100%;margin-bottom: 0;padding: 0.3em;box-sizing: border-box;text-align: center;}#sk-container-id-4 label.sk-toggleable__label-arrow:before {content: \"▸\";float: left;margin-right: 0.25em;color: #696969;}#sk-container-id-4 label.sk-toggleable__label-arrow:hover:before {color: black;}#sk-container-id-4 div.sk-estimator:hover label.sk-toggleable__label-arrow:before {color: black;}#sk-container-id-4 div.sk-toggleable__content {max-height: 0;max-width: 0;overflow: hidden;text-align: left;background-color: #f0f8ff;}#sk-container-id-4 div.sk-toggleable__content pre {margin: 0.2em;color: black;border-radius: 0.25em;background-color: #f0f8ff;}#sk-container-id-4 input.sk-toggleable__control:checked~div.sk-toggleable__content {max-height: 200px;max-width: 100%;overflow: auto;}#sk-container-id-4 input.sk-toggleable__control:checked~label.sk-toggleable__label-arrow:before {content: \"▾\";}#sk-container-id-4 div.sk-estimator input.sk-toggleable__control:checked~label.sk-toggleable__label {background-color: #d4ebff;}#sk-container-id-4 div.sk-label input.sk-toggleable__control:checked~label.sk-toggleable__label {background-color: #d4ebff;}#sk-container-id-4 input.sk-hidden--visually {border: 0;clip: rect(1px 1px 1px 1px);clip: rect(1px, 1px, 1px, 1px);height: 1px;margin: -1px;overflow: hidden;padding: 0;position: absolute;width: 1px;}#sk-container-id-4 div.sk-estimator {font-family: monospace;background-color: #f0f8ff;border: 1px dotted black;border-radius: 0.25em;box-sizing: border-box;margin-bottom: 0.5em;}#sk-container-id-4 div.sk-estimator:hover {background-color: #d4ebff;}#sk-container-id-4 div.sk-parallel-item::after {content: \"\";width: 100%;border-bottom: 1px solid gray;flex-grow: 1;}#sk-container-id-4 div.sk-label:hover label.sk-toggleable__label {background-color: #d4ebff;}#sk-container-id-4 div.sk-serial::before {content: \"\";position: absolute;border-left: 1px solid gray;box-sizing: border-box;top: 0;bottom: 0;left: 50%;z-index: 0;}#sk-container-id-4 div.sk-serial {display: flex;flex-direction: column;align-items: center;background-color: white;padding-right: 0.2em;padding-left: 0.2em;position: relative;}#sk-container-id-4 div.sk-item {position: relative;z-index: 1;}#sk-container-id-4 div.sk-parallel {display: flex;align-items: stretch;justify-content: center;background-color: white;position: relative;}#sk-container-id-4 div.sk-item::before, #sk-container-id-4 div.sk-parallel-item::before {content: \"\";position: absolute;border-left: 1px solid gray;box-sizing: border-box;top: 0;bottom: 0;left: 50%;z-index: -1;}#sk-container-id-4 div.sk-parallel-item {display: flex;flex-direction: column;z-index: 1;position: relative;background-color: white;}#sk-container-id-4 div.sk-parallel-item:first-child::after {align-self: flex-end;width: 50%;}#sk-container-id-4 div.sk-parallel-item:last-child::after {align-self: flex-start;width: 50%;}#sk-container-id-4 div.sk-parallel-item:only-child::after {width: 0;}#sk-container-id-4 div.sk-dashed-wrapped {border: 1px dashed gray;margin: 0 0.4em 0.5em 0.4em;box-sizing: border-box;padding-bottom: 0.4em;background-color: white;}#sk-container-id-4 div.sk-label label {font-family: monospace;font-weight: bold;display: inline-block;line-height: 1.2em;}#sk-container-id-4 div.sk-label-container {text-align: center;}#sk-container-id-4 div.sk-container {/* jupyter's `normalize.less` sets `[hidden] { display: none; }` but bootstrap.min.css set `[hidden] { display: none !important; }` so we also need the `!important` here to be able to override the default hidden behavior on the sphinx rendered scikit-learn.org. See: https://github.com/scikit-learn/scikit-learn/issues/21755 */display: inline-block !important;position: relative;}#sk-container-id-4 div.sk-text-repr-fallback {display: none;}</style><div id=\"sk-container-id-4\" class=\"sk-top-container\"><div class=\"sk-text-repr-fallback\"><pre>GridSearchCV(cv=5,\n",
       "             estimator=Pipeline(steps=[(&#x27;simpleimputer&#x27;,\n",
       "                                        SimpleImputer(strategy=&#x27;median&#x27;)),\n",
       "                                       (&#x27;standardscaler&#x27;, StandardScaler()),\n",
       "                                       (&#x27;selectkbest&#x27;,\n",
       "                                        SelectKBest(score_func=&lt;function f_regression at 0x00000241EEEB6F20&gt;)),\n",
       "                                       (&#x27;linearregression&#x27;,\n",
       "                                        LinearRegression())]),\n",
       "             n_jobs=-1,\n",
       "             param_grid={&#x27;selectkbest__k&#x27;: [1, 2, 3, 4, 5, 6, 7, 8, 9, 10, 11,\n",
       "                                            12, 13, 14, 15, 16, 17, 18, 19, 20,\n",
       "                                            21, 22, 23, 24, 25, 26, 27, 28, 29,\n",
       "                                            30, ...]})</pre><b>In a Jupyter environment, please rerun this cell to show the HTML representation or trust the notebook. <br />On GitHub, the HTML representation is unable to render, please try loading this page with nbviewer.org.</b></div><div class=\"sk-container\" hidden><div class=\"sk-item sk-dashed-wrapped\"><div class=\"sk-label-container\"><div class=\"sk-label sk-toggleable\"><input class=\"sk-toggleable__control sk-hidden--visually\" id=\"sk-estimator-id-15\" type=\"checkbox\" ><label for=\"sk-estimator-id-15\" class=\"sk-toggleable__label sk-toggleable__label-arrow\">GridSearchCV</label><div class=\"sk-toggleable__content\"><pre>GridSearchCV(cv=5,\n",
       "             estimator=Pipeline(steps=[(&#x27;simpleimputer&#x27;,\n",
       "                                        SimpleImputer(strategy=&#x27;median&#x27;)),\n",
       "                                       (&#x27;standardscaler&#x27;, StandardScaler()),\n",
       "                                       (&#x27;selectkbest&#x27;,\n",
       "                                        SelectKBest(score_func=&lt;function f_regression at 0x00000241EEEB6F20&gt;)),\n",
       "                                       (&#x27;linearregression&#x27;,\n",
       "                                        LinearRegression())]),\n",
       "             n_jobs=-1,\n",
       "             param_grid={&#x27;selectkbest__k&#x27;: [1, 2, 3, 4, 5, 6, 7, 8, 9, 10, 11,\n",
       "                                            12, 13, 14, 15, 16, 17, 18, 19, 20,\n",
       "                                            21, 22, 23, 24, 25, 26, 27, 28, 29,\n",
       "                                            30, ...]})</pre></div></div></div><div class=\"sk-parallel\"><div class=\"sk-parallel-item\"><div class=\"sk-item\"><div class=\"sk-label-container\"><div class=\"sk-label sk-toggleable\"><input class=\"sk-toggleable__control sk-hidden--visually\" id=\"sk-estimator-id-16\" type=\"checkbox\" ><label for=\"sk-estimator-id-16\" class=\"sk-toggleable__label sk-toggleable__label-arrow\">estimator: Pipeline</label><div class=\"sk-toggleable__content\"><pre>Pipeline(steps=[(&#x27;simpleimputer&#x27;, SimpleImputer(strategy=&#x27;median&#x27;)),\n",
       "                (&#x27;standardscaler&#x27;, StandardScaler()),\n",
       "                (&#x27;selectkbest&#x27;,\n",
       "                 SelectKBest(score_func=&lt;function f_regression at 0x00000241EEEB6F20&gt;)),\n",
       "                (&#x27;linearregression&#x27;, LinearRegression())])</pre></div></div></div><div class=\"sk-serial\"><div class=\"sk-item\"><div class=\"sk-serial\"><div class=\"sk-item\"><div class=\"sk-estimator sk-toggleable\"><input class=\"sk-toggleable__control sk-hidden--visually\" id=\"sk-estimator-id-17\" type=\"checkbox\" ><label for=\"sk-estimator-id-17\" class=\"sk-toggleable__label sk-toggleable__label-arrow\">SimpleImputer</label><div class=\"sk-toggleable__content\"><pre>SimpleImputer(strategy=&#x27;median&#x27;)</pre></div></div></div><div class=\"sk-item\"><div class=\"sk-estimator sk-toggleable\"><input class=\"sk-toggleable__control sk-hidden--visually\" id=\"sk-estimator-id-18\" type=\"checkbox\" ><label for=\"sk-estimator-id-18\" class=\"sk-toggleable__label sk-toggleable__label-arrow\">StandardScaler</label><div class=\"sk-toggleable__content\"><pre>StandardScaler()</pre></div></div></div><div class=\"sk-item\"><div class=\"sk-estimator sk-toggleable\"><input class=\"sk-toggleable__control sk-hidden--visually\" id=\"sk-estimator-id-19\" type=\"checkbox\" ><label for=\"sk-estimator-id-19\" class=\"sk-toggleable__label sk-toggleable__label-arrow\">SelectKBest</label><div class=\"sk-toggleable__content\"><pre>SelectKBest(score_func=&lt;function f_regression at 0x00000241EEEB6F20&gt;)</pre></div></div></div><div class=\"sk-item\"><div class=\"sk-estimator sk-toggleable\"><input class=\"sk-toggleable__control sk-hidden--visually\" id=\"sk-estimator-id-20\" type=\"checkbox\" ><label for=\"sk-estimator-id-20\" class=\"sk-toggleable__label sk-toggleable__label-arrow\">LinearRegression</label><div class=\"sk-toggleable__content\"><pre>LinearRegression()</pre></div></div></div></div></div></div></div></div></div></div></div></div>"
      ],
      "text/plain": [
       "GridSearchCV(cv=5,\n",
       "             estimator=Pipeline(steps=[('simpleimputer',\n",
       "                                        SimpleImputer(strategy='median')),\n",
       "                                       ('standardscaler', StandardScaler()),\n",
       "                                       ('selectkbest',\n",
       "                                        SelectKBest(score_func=<function f_regression at 0x00000241EEEB6F20>)),\n",
       "                                       ('linearregression',\n",
       "                                        LinearRegression())]),\n",
       "             n_jobs=-1,\n",
       "             param_grid={'selectkbest__k': [1, 2, 3, 4, 5, 6, 7, 8, 9, 10, 11,\n",
       "                                            12, 13, 14, 15, 16, 17, 18, 19, 20,\n",
       "                                            21, 22, 23, 24, 25, 26, 27, 28, 29,\n",
       "                                            30, ...]})"
      ]
     },
     "execution_count": 85,
     "metadata": {},
     "output_type": "execute_result"
    }
   ],
   "source": [
    "lr_grid_cv.fit(X_train, y_train)"
   ]
  },
  {
   "cell_type": "code",
   "execution_count": 86,
   "id": "9c6df5b0",
   "metadata": {},
   "outputs": [],
   "source": [
    "score_mean = lr_grid_cv.cv_results_['mean_test_score']\n",
    "score_std = lr_grid_cv.cv_results_['std_test_score']\n",
    "cv_k = [k for k in lr_grid_cv.cv_results_['param_selectkbest__k']]"
   ]
  },
  {
   "cell_type": "code",
   "execution_count": 87,
   "id": "9d28a76f",
   "metadata": {},
   "outputs": [
    {
     "data": {
      "text/plain": [
       "{'selectkbest__k': 113}"
      ]
     },
     "execution_count": 87,
     "metadata": {},
     "output_type": "execute_result"
    }
   ],
   "source": [
    "lr_grid_cv.best_params_"
   ]
  },
  {
   "cell_type": "code",
   "execution_count": 88,
   "id": "b8fa3f2e",
   "metadata": {},
   "outputs": [
    {
     "data": {
      "image/png": "[encoded data removed]",
      "text/plain": [
       "<Figure size 1000x500 with 1 Axes>"
      ]
     },
     "metadata": {},
     "output_type": "display_data"
    }
   ],
   "source": [
    "best_k = lr_grid_cv.best_params_['selectkbest__k']\n",
    "plt.subplots(figsize=(10, 5))\n",
    "plt.errorbar(cv_k, score_mean, yerr=score_std)\n",
    "plt.axvline(x=best_k, c='r', ls='--', alpha=.5)\n",
    "plt.xlabel('k')\n",
    "plt.ylabel('CV score (r-squared)')\n",
    "plt.title('Pipeline mean CV score (error bars +/- 1sd)');"
   ]
  },
  {
   "cell_type": "code",
   "execution_count": 89,
   "id": "1444514e",
   "metadata": {},
   "outputs": [],
   "source": [
    "selected = lr_grid_cv.best_estimator_.named_steps.selectkbest.get_support()"
   ]
  },
  {
   "cell_type": "code",
   "execution_count": 90,
   "id": "ddb0b9a6",
   "metadata": {},
   "outputs": [
    {
     "data": {
      "text/plain": [
       "Rfrg_Prvdr_Geo_Desc_Massachusetts    0.797839\n",
       "Rfrg_Prvdr_Geo_Cd_25.0               0.791076\n",
       "Rfrg_Prvdr_Geo_Cd_10.0               0.625306\n",
       "Rfrg_Prvdr_Geo_Desc_Delaware         0.601477\n",
       "Rfrg_Prvdr_Geo_Cd_9.0                0.569826\n",
       "                                       ...   \n",
       "Avg_Suplr_Mdcr_Alowd_Amt            -0.581630\n",
       "Rfrg_Prvdr_Geo_Cd_26.0              -0.705476\n",
       "Rfrg_Prvdr_Geo_Desc_Michigan        -0.712057\n",
       "Rfrg_Prvdr_Geo_Desc_Arkansas        -0.753777\n",
       "Rfrg_Prvdr_Geo_Cd_5.0               -0.792116\n",
       "Length: 113, dtype: float64"
      ]
     },
     "execution_count": 90,
     "metadata": {},
     "output_type": "execute_result"
    }
   ],
   "source": [
    "coefs = lr_grid_cv.best_estimator_.named_steps.linearregression.coef_\n",
    "features = X_train.columns[selected]\n",
    "pd.Series(coefs, index=features).sort_values(ascending=False)"
   ]
  },
  {
   "cell_type": "code",
   "execution_count": 91,
   "id": "bbf70c42",
   "metadata": {},
   "outputs": [],
   "source": [
    "RF_pipe = make_pipeline(\n",
    "    SimpleImputer(strategy='median'),\n",
    "    StandardScaler(),\n",
    "    RandomForestRegressor(random_state=47)\n",
    ")"
   ]
  },
  {
   "cell_type": "code",
   "execution_count": 92,
   "id": "d84ecb11",
   "metadata": {},
   "outputs": [],
   "source": [
    "rf_default_cv_results = cross_validate(RF_pipe, X_train, y_train, cv=5)"
   ]
  },
  {
   "cell_type": "code",
   "execution_count": 93,
   "id": "d04aeaf5",
   "metadata": {},
   "outputs": [
    {
     "data": {
      "text/plain": [
       "array([ 0.20771358,  0.22669567,  0.30272349,  0.01073388, -0.10499691])"
      ]
     },
     "execution_count": 93,
     "metadata": {},
     "output_type": "execute_result"
    }
   ],
   "source": [
    "rf_cv_scores = rf_default_cv_results['test_score']\n",
    "rf_cv_scores"
   ]
  },
  {
   "cell_type": "code",
   "execution_count": 94,
   "id": "f407242d",
   "metadata": {},
   "outputs": [
    {
     "data": {
      "text/plain": [
       "(0.12857394208846723, 0.15143357849264055)"
      ]
     },
     "execution_count": 94,
     "metadata": {},
     "output_type": "execute_result"
    }
   ],
   "source": [
    "np.mean(rf_cv_scores), np.std(rf_cv_scores)"
   ]
  },
  {
   "cell_type": "code",
   "execution_count": 95,
   "id": "2c69e030",
   "metadata": {},
   "outputs": [
    {
     "data": {
      "text/plain": [
       "{'randomforestregressor__n_estimators': [10,\n",
       "  12,\n",
       "  16,\n",
       "  20,\n",
       "  26,\n",
       "  33,\n",
       "  42,\n",
       "  54,\n",
       "  69,\n",
       "  88,\n",
       "  112,\n",
       "  143,\n",
       "  183,\n",
       "  233,\n",
       "  297,\n",
       "  379,\n",
       "  483,\n",
       "  615,\n",
       "  784,\n",
       "  1000],\n",
       " 'standardscaler': [StandardScaler(), None],\n",
       " 'simpleimputer__strategy': ['mean', 'median']}"
      ]
     },
     "execution_count": 95,
     "metadata": {},
     "output_type": "execute_result"
    }
   ],
   "source": [
    "n_est = [int(n) for n in np.logspace(start=1, stop=3, num=20)]\n",
    "grid_params = {\n",
    "        'randomforestregressor__n_estimators': n_est,\n",
    "        'standardscaler': [StandardScaler(), None],\n",
    "        'simpleimputer__strategy': ['mean', 'median']\n",
    "}\n",
    "grid_params"
   ]
  },
  {
   "cell_type": "code",
   "execution_count": 96,
   "id": "ca2ad791",
   "metadata": {},
   "outputs": [],
   "source": [
    "rf_grid_cv = GridSearchCV(RF_pipe, param_grid=grid_params, cv=5, n_jobs=-1)"
   ]
  },
  {
   "cell_type": "code",
   "execution_count": 97,
   "id": "5b67a5db",
   "metadata": {},
   "outputs": [
    {
     "data": {
      "text/html": [
       "<style>#sk-container-id-5 {color: black;}#sk-container-id-5 pre{padding: 0;}#sk-container-id-5 div.sk-toggleable {background-color: white;}#sk-container-id-5 label.sk-toggleable__label {cursor: pointer;display: block;width: 100%;margin-bottom: 0;padding: 0.3em;box-sizing: border-box;text-align: center;}#sk-container-id-5 label.sk-toggleable__label-arrow:before {content: \"▸\";float: left;margin-right: 0.25em;color: #696969;}#sk-container-id-5 label.sk-toggleable__label-arrow:hover:before {color: black;}#sk-container-id-5 div.sk-estimator:hover label.sk-toggleable__label-arrow:before {color: black;}#sk-container-id-5 div.sk-toggleable__content {max-height: 0;max-width: 0;overflow: hidden;text-align: left;background-color: #f0f8ff;}#sk-container-id-5 div.sk-toggleable__content pre {margin: 0.2em;color: black;border-radius: 0.25em;background-color: #f0f8ff;}#sk-container-id-5 input.sk-toggleable__control:checked~div.sk-toggleable__content {max-height: 200px;max-width: 100%;overflow: auto;}#sk-container-id-5 input.sk-toggleable__control:checked~label.sk-toggleable__label-arrow:before {content: \"▾\";}#sk-container-id-5 div.sk-estimator input.sk-toggleable__control:checked~label.sk-toggleable__label {background-color: #d4ebff;}#sk-container-id-5 div.sk-label input.sk-toggleable__control:checked~label.sk-toggleable__label {background-color: #d4ebff;}#sk-container-id-5 input.sk-hidden--visually {border: 0;clip: rect(1px 1px 1px 1px);clip: rect(1px, 1px, 1px, 1px);height: 1px;margin: -1px;overflow: hidden;padding: 0;position: absolute;width: 1px;}#sk-container-id-5 div.sk-estimator {font-family: monospace;background-color: #f0f8ff;border: 1px dotted black;border-radius: 0.25em;box-sizing: border-box;margin-bottom: 0.5em;}#sk-container-id-5 div.sk-estimator:hover {background-color: #d4ebff;}#sk-container-id-5 div.sk-parallel-item::after {content: \"\";width: 100%;border-bottom: 1px solid gray;flex-grow: 1;}#sk-container-id-5 div.sk-label:hover label.sk-toggleable__label {background-color: #d4ebff;}#sk-container-id-5 div.sk-serial::before {content: \"\";position: absolute;border-left: 1px solid gray;box-sizing: border-box;top: 0;bottom: 0;left: 50%;z-index: 0;}#sk-container-id-5 div.sk-serial {display: flex;flex-direction: column;align-items: center;background-color: white;padding-right: 0.2em;padding-left: 0.2em;position: relative;}#sk-container-id-5 div.sk-item {position: relative;z-index: 1;}#sk-container-id-5 div.sk-parallel {display: flex;align-items: stretch;justify-content: center;background-color: white;position: relative;}#sk-container-id-5 div.sk-item::before, #sk-container-id-5 div.sk-parallel-item::before {content: \"\";position: absolute;border-left: 1px solid gray;box-sizing: border-box;top: 0;bottom: 0;left: 50%;z-index: -1;}#sk-container-id-5 div.sk-parallel-item {display: flex;flex-direction: column;z-index: 1;position: relative;background-color: white;}#sk-container-id-5 div.sk-parallel-item:first-child::after {align-self: flex-end;width: 50%;}#sk-container-id-5 div.sk-parallel-item:last-child::after {align-self: flex-start;width: 50%;}#sk-container-id-5 div.sk-parallel-item:only-child::after {width: 0;}#sk-container-id-5 div.sk-dashed-wrapped {border: 1px dashed gray;margin: 0 0.4em 0.5em 0.4em;box-sizing: border-box;padding-bottom: 0.4em;background-color: white;}#sk-container-id-5 div.sk-label label {font-family: monospace;font-weight: bold;display: inline-block;line-height: 1.2em;}#sk-container-id-5 div.sk-label-container {text-align: center;}#sk-container-id-5 div.sk-container {/* jupyter's `normalize.less` sets `[hidden] { display: none; }` but bootstrap.min.css set `[hidden] { display: none !important; }` so we also need the `!important` here to be able to override the default hidden behavior on the sphinx rendered scikit-learn.org. See: https://github.com/scikit-learn/scikit-learn/issues/21755 */display: inline-block !important;position: relative;}#sk-container-id-5 div.sk-text-repr-fallback {display: none;}</style><div id=\"sk-container-id-5\" class=\"sk-top-container\"><div class=\"sk-text-repr-fallback\"><pre>GridSearchCV(cv=5,\n",
       "             estimator=Pipeline(steps=[(&#x27;simpleimputer&#x27;,\n",
       "                                        SimpleImputer(strategy=&#x27;median&#x27;)),\n",
       "                                       (&#x27;standardscaler&#x27;, StandardScaler()),\n",
       "                                       (&#x27;randomforestregressor&#x27;,\n",
       "                                        RandomForestRegressor(random_state=47))]),\n",
       "             n_jobs=-1,\n",
       "             param_grid={&#x27;randomforestregressor__n_estimators&#x27;: [10, 12, 16, 20,\n",
       "                                                                 26, 33, 42, 54,\n",
       "                                                                 69, 88, 112,\n",
       "                                                                 143, 183, 233,\n",
       "                                                                 297, 379, 483,\n",
       "                                                                 615, 784,\n",
       "                                                                 1000],\n",
       "                         &#x27;simpleimputer__strategy&#x27;: [&#x27;mean&#x27;, &#x27;median&#x27;],\n",
       "                         &#x27;standardscaler&#x27;: [StandardScaler(), None]})</pre><b>In a Jupyter environment, please rerun this cell to show the HTML representation or trust the notebook. <br />On GitHub, the HTML representation is unable to render, please try loading this page with nbviewer.org.</b></div><div class=\"sk-container\" hidden><div class=\"sk-item sk-dashed-wrapped\"><div class=\"sk-label-container\"><div class=\"sk-label sk-toggleable\"><input class=\"sk-toggleable__control sk-hidden--visually\" id=\"sk-estimator-id-21\" type=\"checkbox\" ><label for=\"sk-estimator-id-21\" class=\"sk-toggleable__label sk-toggleable__label-arrow\">GridSearchCV</label><div class=\"sk-toggleable__content\"><pre>GridSearchCV(cv=5,\n",
       "             estimator=Pipeline(steps=[(&#x27;simpleimputer&#x27;,\n",
       "                                        SimpleImputer(strategy=&#x27;median&#x27;)),\n",
       "                                       (&#x27;standardscaler&#x27;, StandardScaler()),\n",
       "                                       (&#x27;randomforestregressor&#x27;,\n",
       "                                        RandomForestRegressor(random_state=47))]),\n",
       "             n_jobs=-1,\n",
       "             param_grid={&#x27;randomforestregressor__n_estimators&#x27;: [10, 12, 16, 20,\n",
       "                                                                 26, 33, 42, 54,\n",
       "                                                                 69, 88, 112,\n",
       "                                                                 143, 183, 233,\n",
       "                                                                 297, 379, 483,\n",
       "                                                                 615, 784,\n",
       "                                                                 1000],\n",
       "                         &#x27;simpleimputer__strategy&#x27;: [&#x27;mean&#x27;, &#x27;median&#x27;],\n",
       "                         &#x27;standardscaler&#x27;: [StandardScaler(), None]})</pre></div></div></div><div class=\"sk-parallel\"><div class=\"sk-parallel-item\"><div class=\"sk-item\"><div class=\"sk-label-container\"><div class=\"sk-label sk-toggleable\"><input class=\"sk-toggleable__control sk-hidden--visually\" id=\"sk-estimator-id-22\" type=\"checkbox\" ><label for=\"sk-estimator-id-22\" class=\"sk-toggleable__label sk-toggleable__label-arrow\">estimator: Pipeline</label><div class=\"sk-toggleable__content\"><pre>Pipeline(steps=[(&#x27;simpleimputer&#x27;, SimpleImputer(strategy=&#x27;median&#x27;)),\n",
       "                (&#x27;standardscaler&#x27;, StandardScaler()),\n",
       "                (&#x27;randomforestregressor&#x27;,\n",
       "                 RandomForestRegressor(random_state=47))])</pre></div></div></div><div class=\"sk-serial\"><div class=\"sk-item\"><div class=\"sk-serial\"><div class=\"sk-item\"><div class=\"sk-estimator sk-toggleable\"><input class=\"sk-toggleable__control sk-hidden--visually\" id=\"sk-estimator-id-23\" type=\"checkbox\" ><label for=\"sk-estimator-id-23\" class=\"sk-toggleable__label sk-toggleable__label-arrow\">SimpleImputer</label><div class=\"sk-toggleable__content\"><pre>SimpleImputer(strategy=&#x27;median&#x27;)</pre></div></div></div><div class=\"sk-item\"><div class=\"sk-estimator sk-toggleable\"><input class=\"sk-toggleable__control sk-hidden--visually\" id=\"sk-estimator-id-24\" type=\"checkbox\" ><label for=\"sk-estimator-id-24\" class=\"sk-toggleable__label sk-toggleable__label-arrow\">StandardScaler</label><div class=\"sk-toggleable__content\"><pre>StandardScaler()</pre></div></div></div><div class=\"sk-item\"><div class=\"sk-estimator sk-toggleable\"><input class=\"sk-toggleable__control sk-hidden--visually\" id=\"sk-estimator-id-25\" type=\"checkbox\" ><label for=\"sk-estimator-id-25\" class=\"sk-toggleable__label sk-toggleable__label-arrow\">RandomForestRegressor</label><div class=\"sk-toggleable__content\"><pre>RandomForestRegressor(random_state=47)</pre></div></div></div></div></div></div></div></div></div></div></div></div>"
      ],
      "text/plain": [
       "GridSearchCV(cv=5,\n",
       "             estimator=Pipeline(steps=[('simpleimputer',\n",
       "                                        SimpleImputer(strategy='median')),\n",
       "                                       ('standardscaler', StandardScaler()),\n",
       "                                       ('randomforestregressor',\n",
       "                                        RandomForestRegressor(random_state=47))]),\n",
       "             n_jobs=-1,\n",
       "             param_grid={'randomforestregressor__n_estimators': [10, 12, 16, 20,\n",
       "                                                                 26, 33, 42, 54,\n",
       "                                                                 69, 88, 112,\n",
       "                                                                 143, 183, 233,\n",
       "                                                                 297, 379, 483,\n",
       "                                                                 615, 784,\n",
       "                                                                 1000],\n",
       "                         'simpleimputer__strategy': ['mean', 'median'],\n",
       "                         'standardscaler': [StandardScaler(), None]})"
      ]
     },
     "execution_count": 97,
     "metadata": {},
     "output_type": "execute_result"
    }
   ],
   "source": [
    "rf_grid_cv.fit(X_train, y_train)"
   ]
  },
  {
   "cell_type": "code",
   "execution_count": 98,
   "id": "78b7a3c2",
   "metadata": {},
   "outputs": [
    {
     "data": {
      "text/plain": [
       "{'randomforestregressor__n_estimators': 12,\n",
       " 'simpleimputer__strategy': 'mean',\n",
       " 'standardscaler': StandardScaler()}"
      ]
     },
     "execution_count": 98,
     "metadata": {},
     "output_type": "execute_result"
    }
   ],
   "source": [
    "rf_grid_cv.best_params_"
   ]
  },
  {
   "cell_type": "code",
   "execution_count": 99,
   "id": "a0a84585",
   "metadata": {},
   "outputs": [
    {
     "data": {
      "text/plain": [
       "array([0.11100258, 0.26773666, 0.27101184, 0.06525318, 0.03005543])"
      ]
     },
     "execution_count": 99,
     "metadata": {},
     "output_type": "execute_result"
    }
   ],
   "source": [
    "rf_best_cv_results = cross_validate(rf_grid_cv.best_estimator_, X_train, y_train, cv=5)\n",
    "rf_best_scores = rf_best_cv_results['test_score']\n",
    "rf_best_scores"
   ]
  },
  {
   "cell_type": "code",
   "execution_count": 100,
   "id": "cf9e2133",
   "metadata": {},
   "outputs": [
    {
     "data": {
      "text/plain": [
       "(0.14901193819157438, 0.10157797625410055)"
      ]
     },
     "execution_count": 100,
     "metadata": {},
     "output_type": "execute_result"
    }
   ],
   "source": [
    "np.mean(rf_best_scores), np.std(rf_best_scores)"
   ]
  },
  {
   "cell_type": "code",
   "execution_count": 101,
   "id": "e35f5776",
   "metadata": {},
   "outputs": [
    {
     "data": {
      "image/png": "[encoded data removed]",
      "text/plain": [
       "<Figure size 2000x500 with 1 Axes>"
      ]
     },
     "metadata": {},
     "output_type": "display_data"
    }
   ],
   "source": [
    "plt.subplots(figsize=(20, 5))\n",
    "imps = rf_grid_cv.best_estimator_.named_steps.randomforestregressor.feature_importances_\n",
    "rf_feat_imps = pd.Series(imps, index=X_train.columns).sort_values(ascending=False)\n",
    "rf_feat_imps.plot(kind='bar')\n",
    "plt.xlabel('features')\n",
    "plt.ylabel('importance')\n",
    "plt.title('Best random forest regressor feature importances');"
   ]
  },
  {
   "cell_type": "code",
   "execution_count": 102,
   "id": "87c158c6",
   "metadata": {},
   "outputs": [],
   "source": [
    "lr_neg_mae = cross_validate(lr_grid_cv.best_estimator_, X_train, y_train, \n",
    "                            scoring='neg_mean_absolute_error', cv=5, n_jobs=-1)"
   ]
  },
  {
   "cell_type": "code",
   "execution_count": 103,
   "id": "d62db274",
   "metadata": {},
   "outputs": [
    {
     "data": {
      "text/plain": [
       "(3.381689379863611, 1.062210888049772)"
      ]
     },
     "execution_count": 103,
     "metadata": {},
     "output_type": "execute_result"
    }
   ],
   "source": [
    "lr_mae_mean = np.mean(-1 * lr_neg_mae['test_score'])\n",
    "lr_mae_std = np.std(-1 * lr_neg_mae['test_score'])\n",
    "lr_mae_mean, lr_mae_std"
   ]
  },
  {
   "cell_type": "code",
   "execution_count": 104,
   "id": "d7e6a321",
   "metadata": {},
   "outputs": [
    {
     "data": {
      "text/plain": [
       "5.288759949612167"
      ]
     },
     "execution_count": 104,
     "metadata": {},
     "output_type": "execute_result"
    }
   ],
   "source": [
    "mean_absolute_error(y_test, lr_grid_cv.best_estimator_.predict(X_test))"
   ]
  },
  {
   "cell_type": "code",
   "execution_count": 105,
   "id": "5cc0ddad",
   "metadata": {},
   "outputs": [],
   "source": [
    "rf_neg_mae = cross_validate(rf_grid_cv.best_estimator_, X_train, y_train, \n",
    "                            scoring='neg_mean_absolute_error', cv=5, n_jobs=-1)"
   ]
  },
  {
   "cell_type": "code",
   "execution_count": 106,
   "id": "b239f3a3",
   "metadata": {},
   "outputs": [
    {
     "data": {
      "text/plain": [
       "(3.529295111449817, 1.0294423214214885)"
      ]
     },
     "execution_count": 106,
     "metadata": {},
     "output_type": "execute_result"
    }
   ],
   "source": [
    "rf_mae_mean = np.mean(-1 * rf_neg_mae['test_score'])\n",
    "rf_mae_std = np.std(-1 * rf_neg_mae['test_score'])\n",
    "rf_mae_mean, rf_mae_std"
   ]
  },
  {
   "cell_type": "code",
   "execution_count": 107,
   "id": "2b601668",
   "metadata": {},
   "outputs": [
    {
     "data": {
      "text/plain": [
       "3.95416371248611"
      ]
     },
     "execution_count": 107,
     "metadata": {},
     "output_type": "execute_result"
    }
   ],
   "source": [
    "mean_absolute_error(y_test, rf_grid_cv.best_estimator_.predict(X_test))"
   ]
  },
  {
   "cell_type": "code",
   "execution_count": 108,
   "id": "8f5297ad",
   "metadata": {},
   "outputs": [],
   "source": [
    "fractions = [.2, .25, .3, .35, .4, .45, .5, .6, .75, .8, 1.0]\n",
    "train_size, train_scores, test_scores = learning_curve(pipe, X_train, y_train, train_sizes=fractions)\n",
    "train_scores_mean = np.mean(train_scores, axis=1)\n",
    "train_scores_std = np.std(train_scores, axis=1)\n",
    "test_scores_mean = np.mean(test_scores, axis=1)\n",
    "test_scores_std = np.std(test_scores, axis=1)"
   ]
  },
  {
   "cell_type": "code",
   "execution_count": 109,
   "id": "978f6f5e",
   "metadata": {},
   "outputs": [
    {
     "data": {
      "image/png": "[encoded data removed]",
      "text/plain": [
       "<Figure size 1000x500 with 1 Axes>"
      ]
     },
     "metadata": {},
     "output_type": "display_data"
    }
   ],
   "source": [
    "plt.subplots(figsize=(10, 5))\n",
    "plt.errorbar(train_size, test_scores_mean, yerr=test_scores_std)\n",
    "plt.xlabel('Training set size')\n",
    "plt.ylabel('CV scores')\n",
    "plt.title('Cross-validation score as training set size increases');"
   ]
  },
  {
   "cell_type": "code",
   "execution_count": 110,
   "id": "f83dd01c",
   "metadata": {},
   "outputs": [],
   "source": [
    "best_model = rf_grid_cv.best_estimator_\n",
    "best_model.version = '1.0'\n",
    "best_model.pandas_version = pd.__version__\n",
    "best_model.numpy_version = np.__version__\n",
    "best_model.sklearn_version = sklearn_version\n",
    "best_model.X_columns = [col for col in X_train.columns]"
   ]
  },
  {
   "cell_type": "code",
   "execution_count": 111,
   "id": "d4585dd1",
   "metadata": {},
   "outputs": [
    {
     "data": {
      "text/plain": [
       "['medical_device_model.pkl']"
      ]
     },
     "execution_count": 111,
     "metadata": {},
     "output_type": "execute_result"
    }
   ],
   "source": [
    "joblib.dump(best_model, 'medical_device_model.pkl')"
   ]
  },
  {
   "cell_type": "code",
   "execution_count": 112,
   "id": "f1942120",
   "metadata": {},
   "outputs": [],
   "source": [
    "with open('X_train.pkl', 'wb') as file:\n",
    "    pickle.dump(X_train, file)\n",
    "with open('y_train.pkl', 'wb') as file:\n",
    "    pickle.dump(y_train, file)"
   ]
  },
  {
   "cell_type": "code",
   "execution_count": 113,
   "id": "6b115692",
   "metadata": {},
   "outputs": [],
   "source": [
    "with open('X_test.pkl', 'wb') as file:\n",
    "    pickle.dump(X_test, file)\n",
    "with open('y_test.pkl', 'wb') as file:\n",
    "    pickle.dump(y_test, file)"
   ]
  }
 ],
 "metadata": {
  "kernelspec": {
   "display_name": "Python 3 (ipykernel)",
   "language": "python",
   "name": "python3"
  },
  "language_info": {
   "codemirror_mode": {
    "name": "ipython",
    "version": 3
   },
   "file_extension": ".py",
   "mimetype": "text/x-python",
   "name": "python",
   "nbconvert_exporter": "python",
   "pygments_lexer": "ipython3",
   "version": "3.11.5"
  }
 },
 "nbformat": 4,
 "nbformat_minor": 5
}

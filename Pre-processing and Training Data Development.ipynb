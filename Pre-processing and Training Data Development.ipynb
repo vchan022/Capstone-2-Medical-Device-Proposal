{
 "cells": [
  {
   "cell_type": "code",
   "execution_count": 1,
   "id": "b536dae4",
   "metadata": {},
   "outputs": [],
   "source": [
    "import pandas as pd\n",
    "import numpy as np\n",
    "import os\n",
    "from sklearn.preprocessing import scale\n",
    "from sklearn.model_selection import train_test_split\n",
    "from sklearn.preprocessing import StandardScaler\n",
    "from sklearn import preprocessing"
   ]
  },
  {
   "cell_type": "code",
   "execution_count": 2,
   "id": "8cc1df2b",
   "metadata": {},
   "outputs": [
    {
     "name": "stderr",
     "output_type": "stream",
     "text": [
      "C:\\Users\\veron\\AppData\\Local\\Temp\\ipykernel_12452\\2296681516.py:1: DtypeWarning: Columns (2) have mixed types. Specify dtype option on import or set low_memory=False.\n",
      "  df = pd.read_csv('Wrangled.csv')\n"
     ]
    }
   ],
   "source": [
    "df = pd.read_csv('Wrangled.csv')"
   ]
  },
  {
   "cell_type": "code",
   "execution_count": 3,
   "id": "1ae55125",
   "metadata": {},
   "outputs": [
    {
     "data": {
      "text/html": [
       "<div>\n",
       "<style scoped>\n",
       "    .dataframe tbody tr th:only-of-type {\n",
       "        vertical-align: middle;\n",
       "    }\n",
       "\n",
       "    .dataframe tbody tr th {\n",
       "        vertical-align: top;\n",
       "    }\n",
       "\n",
       "    .dataframe thead th {\n",
       "        text-align: right;\n",
       "    }\n",
       "</style>\n",
       "<table border=\"1\" class=\"dataframe\">\n",
       "  <thead>\n",
       "    <tr style=\"text-align: right;\">\n",
       "      <th></th>\n",
       "      <th>Unnamed: 0</th>\n",
       "      <th>Rfrg_Prvdr_Geo_Lvl</th>\n",
       "      <th>Rfrg_Prvdr_Geo_Cd</th>\n",
       "      <th>Rfrg_Prvdr_Geo_Desc</th>\n",
       "      <th>BETOS_Lvl</th>\n",
       "      <th>BETOS_Cd</th>\n",
       "      <th>BETOS_Desc</th>\n",
       "      <th>HCPCS_Cd</th>\n",
       "      <th>HCPCS_Desc</th>\n",
       "      <th>Suplr_Rentl_Ind</th>\n",
       "      <th>Tot_Rfrg_Prvdrs</th>\n",
       "      <th>Tot_Suplrs</th>\n",
       "      <th>Tot_Suplr_Benes</th>\n",
       "      <th>Tot_Suplr_Clms</th>\n",
       "      <th>Tot_Suplr_Srvcs</th>\n",
       "      <th>Avg_Suplr_Sbmtd_Chrg</th>\n",
       "      <th>Avg_Suplr_Mdcr_Alowd_Amt</th>\n",
       "      <th>Avg_Suplr_Mdcr_Pymt_Amt</th>\n",
       "      <th>Avg_Suplr_Mdcr_Stdzd_Amt</th>\n",
       "    </tr>\n",
       "  </thead>\n",
       "  <tbody>\n",
       "    <tr>\n",
       "      <th>0</th>\n",
       "      <td>0</td>\n",
       "      <td>National</td>\n",
       "      <td>6.0</td>\n",
       "      <td>National</td>\n",
       "      <td>Drugs and Nutritional Products</td>\n",
       "      <td>O1C</td>\n",
       "      <td>Enteral and parenteral</td>\n",
       "      <td>B4034</td>\n",
       "      <td>Enteral feeding supply kit; syringe fed, per d...</td>\n",
       "      <td>N</td>\n",
       "      <td>28183</td>\n",
       "      <td>1745</td>\n",
       "      <td>33451.0</td>\n",
       "      <td>171371</td>\n",
       "      <td>4627387</td>\n",
       "      <td>58.266520</td>\n",
       "      <td>3.718512</td>\n",
       "      <td>2.918066</td>\n",
       "      <td>3.047039</td>\n",
       "    </tr>\n",
       "    <tr>\n",
       "      <th>1</th>\n",
       "      <td>1</td>\n",
       "      <td>National</td>\n",
       "      <td>6.0</td>\n",
       "      <td>National</td>\n",
       "      <td>Drugs and Nutritional Products</td>\n",
       "      <td>O1C</td>\n",
       "      <td>Enteral and parenteral</td>\n",
       "      <td>B4035</td>\n",
       "      <td>Enteral feeding supply kit; pump fed, per day,...</td>\n",
       "      <td>N</td>\n",
       "      <td>27342</td>\n",
       "      <td>1758</td>\n",
       "      <td>39110.0</td>\n",
       "      <td>271836</td>\n",
       "      <td>7050743</td>\n",
       "      <td>75.495042</td>\n",
       "      <td>6.433860</td>\n",
       "      <td>5.067509</td>\n",
       "      <td>5.552222</td>\n",
       "    </tr>\n",
       "    <tr>\n",
       "      <th>2</th>\n",
       "      <td>2</td>\n",
       "      <td>National</td>\n",
       "      <td>6.0</td>\n",
       "      <td>National</td>\n",
       "      <td>Drugs and Nutritional Products</td>\n",
       "      <td>O1C</td>\n",
       "      <td>Enteral and parenteral</td>\n",
       "      <td>B4036</td>\n",
       "      <td>Enteral feeding supply kit; gravity fed, per d...</td>\n",
       "      <td>N</td>\n",
       "      <td>6166</td>\n",
       "      <td>933</td>\n",
       "      <td>7171.0</td>\n",
       "      <td>41181</td>\n",
       "      <td>1116382</td>\n",
       "      <td>75.172639</td>\n",
       "      <td>5.036933</td>\n",
       "      <td>3.959289</td>\n",
       "      <td>4.100195</td>\n",
       "    </tr>\n",
       "    <tr>\n",
       "      <th>3</th>\n",
       "      <td>3</td>\n",
       "      <td>National</td>\n",
       "      <td>6.0</td>\n",
       "      <td>National</td>\n",
       "      <td>Drugs and Nutritional Products</td>\n",
       "      <td>O1C</td>\n",
       "      <td>Enteral and parenteral</td>\n",
       "      <td>B4081</td>\n",
       "      <td>Nasogastric tubing with stylet</td>\n",
       "      <td>N</td>\n",
       "      <td>14</td>\n",
       "      <td>12</td>\n",
       "      <td>13.0</td>\n",
       "      <td>20</td>\n",
       "      <td>33</td>\n",
       "      <td>113.736061</td>\n",
       "      <td>17.292727</td>\n",
       "      <td>13.833939</td>\n",
       "      <td>13.579697</td>\n",
       "    </tr>\n",
       "    <tr>\n",
       "      <th>4</th>\n",
       "      <td>4</td>\n",
       "      <td>National</td>\n",
       "      <td>6.0</td>\n",
       "      <td>National</td>\n",
       "      <td>Drugs and Nutritional Products</td>\n",
       "      <td>O1C</td>\n",
       "      <td>Enteral and parenteral</td>\n",
       "      <td>B4082</td>\n",
       "      <td>Nasogastric tubing without stylet</td>\n",
       "      <td>N</td>\n",
       "      <td>16</td>\n",
       "      <td>16</td>\n",
       "      <td>16.0</td>\n",
       "      <td>21</td>\n",
       "      <td>43</td>\n",
       "      <td>99.110930</td>\n",
       "      <td>12.532093</td>\n",
       "      <td>9.502326</td>\n",
       "      <td>9.463488</td>\n",
       "    </tr>\n",
       "  </tbody>\n",
       "</table>\n",
       "</div>"
      ],
      "text/plain": [
       "   Unnamed: 0 Rfrg_Prvdr_Geo_Lvl Rfrg_Prvdr_Geo_Cd Rfrg_Prvdr_Geo_Desc  \\\n",
       "0           0           National               6.0            National   \n",
       "1           1           National               6.0            National   \n",
       "2           2           National               6.0            National   \n",
       "3           3           National               6.0            National   \n",
       "4           4           National               6.0            National   \n",
       "\n",
       "                        BETOS_Lvl BETOS_Cd              BETOS_Desc HCPCS_Cd  \\\n",
       "0  Drugs and Nutritional Products      O1C  Enteral and parenteral    B4034   \n",
       "1  Drugs and Nutritional Products      O1C  Enteral and parenteral    B4035   \n",
       "2  Drugs and Nutritional Products      O1C  Enteral and parenteral    B4036   \n",
       "3  Drugs and Nutritional Products      O1C  Enteral and parenteral    B4081   \n",
       "4  Drugs and Nutritional Products      O1C  Enteral and parenteral    B4082   \n",
       "\n",
       "                                          HCPCS_Desc Suplr_Rentl_Ind  \\\n",
       "0  Enteral feeding supply kit; syringe fed, per d...               N   \n",
       "1  Enteral feeding supply kit; pump fed, per day,...               N   \n",
       "2  Enteral feeding supply kit; gravity fed, per d...               N   \n",
       "3                     Nasogastric tubing with stylet               N   \n",
       "4                  Nasogastric tubing without stylet               N   \n",
       "\n",
       "   Tot_Rfrg_Prvdrs  Tot_Suplrs  Tot_Suplr_Benes  Tot_Suplr_Clms  \\\n",
       "0            28183        1745          33451.0          171371   \n",
       "1            27342        1758          39110.0          271836   \n",
       "2             6166         933           7171.0           41181   \n",
       "3               14          12             13.0              20   \n",
       "4               16          16             16.0              21   \n",
       "\n",
       "   Tot_Suplr_Srvcs  Avg_Suplr_Sbmtd_Chrg  Avg_Suplr_Mdcr_Alowd_Amt  \\\n",
       "0          4627387             58.266520                  3.718512   \n",
       "1          7050743             75.495042                  6.433860   \n",
       "2          1116382             75.172639                  5.036933   \n",
       "3               33            113.736061                 17.292727   \n",
       "4               43             99.110930                 12.532093   \n",
       "\n",
       "   Avg_Suplr_Mdcr_Pymt_Amt  Avg_Suplr_Mdcr_Stdzd_Amt  \n",
       "0                 2.918066                  3.047039  \n",
       "1                 5.067509                  5.552222  \n",
       "2                 3.959289                  4.100195  \n",
       "3                13.833939                 13.579697  \n",
       "4                 9.502326                  9.463488  "
      ]
     },
     "execution_count": 3,
     "metadata": {},
     "output_type": "execute_result"
    }
   ],
   "source": [
    "df.head()"
   ]
  },
  {
   "cell_type": "code",
   "execution_count": 4,
   "id": "3ee7cf16",
   "metadata": {},
   "outputs": [],
   "source": [
    "df = df[['HCPCS_Cd', 'Tot_Rfrg_Prvdrs', 'Tot_Suplrs', 'Avg_Suplr_Sbmtd_Chrg']]"
   ]
  },
  {
   "cell_type": "code",
   "execution_count": 5,
   "id": "d8bc86c3",
   "metadata": {},
   "outputs": [
    {
     "data": {
      "text/html": [
       "<div>\n",
       "<style scoped>\n",
       "    .dataframe tbody tr th:only-of-type {\n",
       "        vertical-align: middle;\n",
       "    }\n",
       "\n",
       "    .dataframe tbody tr th {\n",
       "        vertical-align: top;\n",
       "    }\n",
       "\n",
       "    .dataframe thead th {\n",
       "        text-align: right;\n",
       "    }\n",
       "</style>\n",
       "<table border=\"1\" class=\"dataframe\">\n",
       "  <thead>\n",
       "    <tr style=\"text-align: right;\">\n",
       "      <th></th>\n",
       "      <th>HCPCS_Cd</th>\n",
       "      <th>Tot_Rfrg_Prvdrs</th>\n",
       "      <th>Tot_Suplrs</th>\n",
       "      <th>Avg_Suplr_Sbmtd_Chrg</th>\n",
       "    </tr>\n",
       "  </thead>\n",
       "  <tbody>\n",
       "    <tr>\n",
       "      <th>0</th>\n",
       "      <td>B4034</td>\n",
       "      <td>28183</td>\n",
       "      <td>1745</td>\n",
       "      <td>58.266520</td>\n",
       "    </tr>\n",
       "    <tr>\n",
       "      <th>1</th>\n",
       "      <td>B4035</td>\n",
       "      <td>27342</td>\n",
       "      <td>1758</td>\n",
       "      <td>75.495042</td>\n",
       "    </tr>\n",
       "    <tr>\n",
       "      <th>2</th>\n",
       "      <td>B4036</td>\n",
       "      <td>6166</td>\n",
       "      <td>933</td>\n",
       "      <td>75.172639</td>\n",
       "    </tr>\n",
       "    <tr>\n",
       "      <th>3</th>\n",
       "      <td>B4081</td>\n",
       "      <td>14</td>\n",
       "      <td>12</td>\n",
       "      <td>113.736061</td>\n",
       "    </tr>\n",
       "    <tr>\n",
       "      <th>4</th>\n",
       "      <td>B4082</td>\n",
       "      <td>16</td>\n",
       "      <td>16</td>\n",
       "      <td>99.110930</td>\n",
       "    </tr>\n",
       "  </tbody>\n",
       "</table>\n",
       "</div>"
      ],
      "text/plain": [
       "  HCPCS_Cd  Tot_Rfrg_Prvdrs  Tot_Suplrs  Avg_Suplr_Sbmtd_Chrg\n",
       "0    B4034            28183        1745             58.266520\n",
       "1    B4035            27342        1758             75.495042\n",
       "2    B4036             6166         933             75.172639\n",
       "3    B4081               14          12            113.736061\n",
       "4    B4082               16          16             99.110930"
      ]
     },
     "execution_count": 5,
     "metadata": {},
     "output_type": "execute_result"
    }
   ],
   "source": [
    "df.head()"
   ]
  },
  {
   "cell_type": "code",
   "execution_count": 6,
   "id": "e3fa8f82",
   "metadata": {},
   "outputs": [
    {
     "data": {
      "text/html": [
       "<div>\n",
       "<style scoped>\n",
       "    .dataframe tbody tr th:only-of-type {\n",
       "        vertical-align: middle;\n",
       "    }\n",
       "\n",
       "    .dataframe tbody tr th {\n",
       "        vertical-align: top;\n",
       "    }\n",
       "\n",
       "    .dataframe thead th {\n",
       "        text-align: right;\n",
       "    }\n",
       "</style>\n",
       "<table border=\"1\" class=\"dataframe\">\n",
       "  <thead>\n",
       "    <tr style=\"text-align: right;\">\n",
       "      <th></th>\n",
       "      <th>HCPCS_Cd</th>\n",
       "      <th>Tot_Rfrg_Prvdrs</th>\n",
       "      <th>Tot_Suplrs</th>\n",
       "      <th>Avg_Suplr_Sbmtd_Chrg</th>\n",
       "    </tr>\n",
       "  </thead>\n",
       "  <tbody>\n",
       "    <tr>\n",
       "      <th>592</th>\n",
       "      <td>A4253</td>\n",
       "      <td>233762</td>\n",
       "      <td>43511</td>\n",
       "      <td>61.932717</td>\n",
       "    </tr>\n",
       "  </tbody>\n",
       "</table>\n",
       "</div>"
      ],
      "text/plain": [
       "    HCPCS_Cd  Tot_Rfrg_Prvdrs  Tot_Suplrs  Avg_Suplr_Sbmtd_Chrg\n",
       "592    A4253           233762       43511             61.932717"
      ]
     },
     "execution_count": 6,
     "metadata": {},
     "output_type": "execute_result"
    }
   ],
   "source": [
    "tot_rfrg_prvdrs_max = df['Tot_Rfrg_Prvdrs'].max()\n",
    "df.loc[df['Tot_Rfrg_Prvdrs'] == tot_rfrg_prvdrs_max]"
   ]
  },
  {
   "cell_type": "code",
   "execution_count": 7,
   "id": "7313eda2",
   "metadata": {},
   "outputs": [
    {
     "data": {
      "text/html": [
       "<div>\n",
       "<style scoped>\n",
       "    .dataframe tbody tr th:only-of-type {\n",
       "        vertical-align: middle;\n",
       "    }\n",
       "\n",
       "    .dataframe tbody tr th {\n",
       "        vertical-align: top;\n",
       "    }\n",
       "\n",
       "    .dataframe thead th {\n",
       "        text-align: right;\n",
       "    }\n",
       "</style>\n",
       "<table border=\"1\" class=\"dataframe\">\n",
       "  <thead>\n",
       "    <tr style=\"text-align: right;\">\n",
       "      <th></th>\n",
       "      <th>592</th>\n",
       "      <th>1999</th>\n",
       "      <th>2624</th>\n",
       "      <th>3186</th>\n",
       "      <th>3987</th>\n",
       "      <th>4884</th>\n",
       "      <th>5882</th>\n",
       "      <th>6642</th>\n",
       "      <th>7284</th>\n",
       "      <th>7821</th>\n",
       "      <th>...</th>\n",
       "      <th>38072</th>\n",
       "      <th>38787</th>\n",
       "      <th>39428</th>\n",
       "      <th>39723</th>\n",
       "      <th>39856</th>\n",
       "      <th>40037</th>\n",
       "      <th>40109</th>\n",
       "      <th>40154</th>\n",
       "      <th>40206</th>\n",
       "      <th>40228</th>\n",
       "    </tr>\n",
       "  </thead>\n",
       "  <tbody>\n",
       "    <tr>\n",
       "      <th>HCPCS_Cd</th>\n",
       "      <td>A4253</td>\n",
       "      <td>A4253</td>\n",
       "      <td>A4253</td>\n",
       "      <td>A4253</td>\n",
       "      <td>A4253</td>\n",
       "      <td>A4253</td>\n",
       "      <td>A4253</td>\n",
       "      <td>A4253</td>\n",
       "      <td>A4253</td>\n",
       "      <td>A4253</td>\n",
       "      <td>...</td>\n",
       "      <td>A4253</td>\n",
       "      <td>A4253</td>\n",
       "      <td>A4253</td>\n",
       "      <td>A4253</td>\n",
       "      <td>A4253</td>\n",
       "      <td>A4253</td>\n",
       "      <td>A4253</td>\n",
       "      <td>A4253</td>\n",
       "      <td>A4253</td>\n",
       "      <td>A4253</td>\n",
       "    </tr>\n",
       "    <tr>\n",
       "      <th>Tot_Rfrg_Prvdrs</th>\n",
       "      <td>233762</td>\n",
       "      <td>3093</td>\n",
       "      <td>509</td>\n",
       "      <td>4387</td>\n",
       "      <td>2258</td>\n",
       "      <td>22583</td>\n",
       "      <td>3630</td>\n",
       "      <td>2900</td>\n",
       "      <td>821</td>\n",
       "      <td>649</td>\n",
       "      <td>...</td>\n",
       "      <td>1872</td>\n",
       "      <td>4895</td>\n",
       "      <td>470</td>\n",
       "      <td>41</td>\n",
       "      <td>1093</td>\n",
       "      <td>59</td>\n",
       "      <td>8</td>\n",
       "      <td>7</td>\n",
       "      <td>7</td>\n",
       "      <td>9</td>\n",
       "    </tr>\n",
       "    <tr>\n",
       "      <th>Tot_Suplrs</th>\n",
       "      <td>43511</td>\n",
       "      <td>1406</td>\n",
       "      <td>204</td>\n",
       "      <td>2262</td>\n",
       "      <td>924</td>\n",
       "      <td>6656</td>\n",
       "      <td>1746</td>\n",
       "      <td>1825</td>\n",
       "      <td>543</td>\n",
       "      <td>853</td>\n",
       "      <td>...</td>\n",
       "      <td>843</td>\n",
       "      <td>2288</td>\n",
       "      <td>251</td>\n",
       "      <td>17</td>\n",
       "      <td>244</td>\n",
       "      <td>42</td>\n",
       "      <td>68</td>\n",
       "      <td>47</td>\n",
       "      <td>51</td>\n",
       "      <td>30</td>\n",
       "    </tr>\n",
       "    <tr>\n",
       "      <th>Avg_Suplr_Sbmtd_Chrg</th>\n",
       "      <td>61.932717</td>\n",
       "      <td>56.55811</td>\n",
       "      <td>64.369821</td>\n",
       "      <td>66.860627</td>\n",
       "      <td>49.084897</td>\n",
       "      <td>66.023182</td>\n",
       "      <td>58.680633</td>\n",
       "      <td>69.086442</td>\n",
       "      <td>69.558235</td>\n",
       "      <td>59.030813</td>\n",
       "      <td>...</td>\n",
       "      <td>62.519122</td>\n",
       "      <td>66.743051</td>\n",
       "      <td>62.289233</td>\n",
       "      <td>72.101268</td>\n",
       "      <td>45.837617</td>\n",
       "      <td>62.153743</td>\n",
       "      <td>56.325625</td>\n",
       "      <td>65.26864</td>\n",
       "      <td>63.750638</td>\n",
       "      <td>63.44035</td>\n",
       "    </tr>\n",
       "  </tbody>\n",
       "</table>\n",
       "<p>4 rows × 59 columns</p>\n",
       "</div>"
      ],
      "text/plain": [
       "                          592       1999       2624       3186       3987   \\\n",
       "HCPCS_Cd                  A4253     A4253      A4253      A4253      A4253   \n",
       "Tot_Rfrg_Prvdrs          233762      3093        509       4387       2258   \n",
       "Tot_Suplrs                43511      1406        204       2262        924   \n",
       "Avg_Suplr_Sbmtd_Chrg  61.932717  56.55811  64.369821  66.860627  49.084897   \n",
       "\n",
       "                          4884       5882       6642       7284       7821   \\\n",
       "HCPCS_Cd                  A4253      A4253      A4253      A4253      A4253   \n",
       "Tot_Rfrg_Prvdrs           22583       3630       2900        821        649   \n",
       "Tot_Suplrs                 6656       1746       1825        543        853   \n",
       "Avg_Suplr_Sbmtd_Chrg  66.023182  58.680633  69.086442  69.558235  59.030813   \n",
       "\n",
       "                      ...      38072      38787      39428      39723  \\\n",
       "HCPCS_Cd              ...      A4253      A4253      A4253      A4253   \n",
       "Tot_Rfrg_Prvdrs       ...       1872       4895        470         41   \n",
       "Tot_Suplrs            ...        843       2288        251         17   \n",
       "Avg_Suplr_Sbmtd_Chrg  ...  62.519122  66.743051  62.289233  72.101268   \n",
       "\n",
       "                          39856      40037      40109     40154      40206  \\\n",
       "HCPCS_Cd                  A4253      A4253      A4253     A4253      A4253   \n",
       "Tot_Rfrg_Prvdrs            1093         59          8         7          7   \n",
       "Tot_Suplrs                  244         42         68        47         51   \n",
       "Avg_Suplr_Sbmtd_Chrg  45.837617  62.153743  56.325625  65.26864  63.750638   \n",
       "\n",
       "                         40228  \n",
       "HCPCS_Cd                 A4253  \n",
       "Tot_Rfrg_Prvdrs              9  \n",
       "Tot_Suplrs                  30  \n",
       "Avg_Suplr_Sbmtd_Chrg  63.44035  \n",
       "\n",
       "[4 rows x 59 columns]"
      ]
     },
     "execution_count": 7,
     "metadata": {},
     "output_type": "execute_result"
    }
   ],
   "source": [
    "blood_glucose_test = df[df.HCPCS_Cd == 'A4253']\n",
    "blood_glucose_test.T"
   ]
  },
  {
   "cell_type": "code",
   "execution_count": 8,
   "id": "c16e347a",
   "metadata": {},
   "outputs": [
    {
     "data": {
      "text/plain": [
       "(59, 4)"
      ]
     },
     "execution_count": 8,
     "metadata": {},
     "output_type": "execute_result"
    }
   ],
   "source": [
    "blood_glucose_test.shape"
   ]
  },
  {
   "cell_type": "code",
   "execution_count": 9,
   "id": "2fa4ce82",
   "metadata": {},
   "outputs": [
    {
     "data": {
      "text/plain": [
       "(40208, 4)"
      ]
     },
     "execution_count": 9,
     "metadata": {},
     "output_type": "execute_result"
    }
   ],
   "source": [
    "others = df[df.HCPCS_Cd != 'A4253']\n",
    "others.shape"
   ]
  },
  {
   "cell_type": "code",
   "execution_count": 10,
   "id": "9ce18a9f",
   "metadata": {},
   "outputs": [],
   "source": [
    "dummy_df = pd.get_dummies(blood_glucose_test)"
   ]
  },
  {
   "cell_type": "code",
   "execution_count": 11,
   "id": "560cf044",
   "metadata": {},
   "outputs": [
    {
     "data": {
      "text/plain": [
       "Tot_Rfrg_Prvdrs           int64\n",
       "Tot_Suplrs                int64\n",
       "Avg_Suplr_Sbmtd_Chrg    float64\n",
       "HCPCS_Cd_A4253            uint8\n",
       "dtype: object"
      ]
     },
     "execution_count": 11,
     "metadata": {},
     "output_type": "execute_result"
    }
   ],
   "source": [
    "dummy_df.dtypes"
   ]
  },
  {
   "cell_type": "code",
   "execution_count": 12,
   "id": "028469cb",
   "metadata": {},
   "outputs": [
    {
     "data": {
      "text/html": [
       "<div>\n",
       "<style scoped>\n",
       "    .dataframe tbody tr th:only-of-type {\n",
       "        vertical-align: middle;\n",
       "    }\n",
       "\n",
       "    .dataframe tbody tr th {\n",
       "        vertical-align: top;\n",
       "    }\n",
       "\n",
       "    .dataframe thead th {\n",
       "        text-align: right;\n",
       "    }\n",
       "</style>\n",
       "<table border=\"1\" class=\"dataframe\">\n",
       "  <thead>\n",
       "    <tr style=\"text-align: right;\">\n",
       "      <th></th>\n",
       "      <th>Tot_Rfrg_Prvdrs</th>\n",
       "      <th>Tot_Suplrs</th>\n",
       "      <th>Avg_Suplr_Sbmtd_Chrg</th>\n",
       "      <th>HCPCS_Cd_A4253</th>\n",
       "    </tr>\n",
       "  </thead>\n",
       "  <tbody>\n",
       "    <tr>\n",
       "      <th>592</th>\n",
       "      <td>233762</td>\n",
       "      <td>43511</td>\n",
       "      <td>61.932717</td>\n",
       "      <td>1</td>\n",
       "    </tr>\n",
       "    <tr>\n",
       "      <th>1999</th>\n",
       "      <td>3093</td>\n",
       "      <td>1406</td>\n",
       "      <td>56.558110</td>\n",
       "      <td>1</td>\n",
       "    </tr>\n",
       "    <tr>\n",
       "      <th>2624</th>\n",
       "      <td>509</td>\n",
       "      <td>204</td>\n",
       "      <td>64.369821</td>\n",
       "      <td>1</td>\n",
       "    </tr>\n",
       "    <tr>\n",
       "      <th>3186</th>\n",
       "      <td>4387</td>\n",
       "      <td>2262</td>\n",
       "      <td>66.860627</td>\n",
       "      <td>1</td>\n",
       "    </tr>\n",
       "    <tr>\n",
       "      <th>3987</th>\n",
       "      <td>2258</td>\n",
       "      <td>924</td>\n",
       "      <td>49.084897</td>\n",
       "      <td>1</td>\n",
       "    </tr>\n",
       "  </tbody>\n",
       "</table>\n",
       "</div>"
      ],
      "text/plain": [
       "      Tot_Rfrg_Prvdrs  Tot_Suplrs  Avg_Suplr_Sbmtd_Chrg  HCPCS_Cd_A4253\n",
       "592            233762       43511             61.932717               1\n",
       "1999             3093        1406             56.558110               1\n",
       "2624              509         204             64.369821               1\n",
       "3186             4387        2262             66.860627               1\n",
       "3987             2258         924             49.084897               1"
      ]
     },
     "execution_count": 12,
     "metadata": {},
     "output_type": "execute_result"
    }
   ],
   "source": [
    "dummy_df.head()"
   ]
  },
  {
   "cell_type": "code",
   "execution_count": 13,
   "id": "acc662e9",
   "metadata": {},
   "outputs": [],
   "source": [
    "X = dummy_df.drop(columns='Avg_Suplr_Sbmtd_Chrg')\n",
    "y = dummy_df['Avg_Suplr_Sbmtd_Chrg']"
   ]
  },
  {
   "cell_type": "code",
   "execution_count": 14,
   "id": "f62a3231",
   "metadata": {},
   "outputs": [],
   "source": [
    "X_train, X_test, y_train, y_test = train_test_split(X, y, test_size=.2, random_state=1)"
   ]
  },
  {
   "cell_type": "code",
   "execution_count": 15,
   "id": "65748ee4",
   "metadata": {},
   "outputs": [
    {
     "data": {
      "text/plain": [
       "((47, 3), (12, 3))"
      ]
     },
     "execution_count": 15,
     "metadata": {},
     "output_type": "execute_result"
    }
   ],
   "source": [
    "X_train.shape, X_test.shape"
   ]
  },
  {
   "cell_type": "code",
   "execution_count": 16,
   "id": "a3e1214d",
   "metadata": {},
   "outputs": [
    {
     "data": {
      "text/plain": [
       "((47,), (12,))"
      ]
     },
     "execution_count": 16,
     "metadata": {},
     "output_type": "execute_result"
    }
   ],
   "source": [
    "y_train.shape, y_test.shape"
   ]
  },
  {
   "cell_type": "code",
   "execution_count": 17,
   "id": "29f0f0e5",
   "metadata": {},
   "outputs": [
    {
     "data": {
      "text/html": [
       "<div>\n",
       "<style scoped>\n",
       "    .dataframe tbody tr th:only-of-type {\n",
       "        vertical-align: middle;\n",
       "    }\n",
       "\n",
       "    .dataframe tbody tr th {\n",
       "        vertical-align: top;\n",
       "    }\n",
       "\n",
       "    .dataframe thead th {\n",
       "        text-align: right;\n",
       "    }\n",
       "</style>\n",
       "<table border=\"1\" class=\"dataframe\">\n",
       "  <thead>\n",
       "    <tr style=\"text-align: right;\">\n",
       "      <th></th>\n",
       "      <th>Tot_Rfrg_Prvdrs</th>\n",
       "      <th>Tot_Suplrs</th>\n",
       "      <th>HCPCS_Cd_A4253</th>\n",
       "    </tr>\n",
       "  </thead>\n",
       "  <tbody>\n",
       "    <tr>\n",
       "      <th>28314</th>\n",
       "      <td>8973</td>\n",
       "      <td>3846</td>\n",
       "      <td>1</td>\n",
       "    </tr>\n",
       "    <tr>\n",
       "      <th>31531</th>\n",
       "      <td>930</td>\n",
       "      <td>624</td>\n",
       "      <td>1</td>\n",
       "    </tr>\n",
       "    <tr>\n",
       "      <th>19393</th>\n",
       "      <td>5016</td>\n",
       "      <td>2355</td>\n",
       "      <td>1</td>\n",
       "    </tr>\n",
       "    <tr>\n",
       "      <th>8531</th>\n",
       "      <td>13999</td>\n",
       "      <td>7699</td>\n",
       "      <td>1</td>\n",
       "    </tr>\n",
       "    <tr>\n",
       "      <th>39428</th>\n",
       "      <td>470</td>\n",
       "      <td>251</td>\n",
       "      <td>1</td>\n",
       "    </tr>\n",
       "  </tbody>\n",
       "</table>\n",
       "</div>"
      ],
      "text/plain": [
       "       Tot_Rfrg_Prvdrs  Tot_Suplrs  HCPCS_Cd_A4253\n",
       "28314             8973        3846               1\n",
       "31531              930         624               1\n",
       "19393             5016        2355               1\n",
       "8531             13999        7699               1\n",
       "39428              470         251               1"
      ]
     },
     "execution_count": 17,
     "metadata": {},
     "output_type": "execute_result"
    }
   ],
   "source": [
    "X_train.head()"
   ]
  },
  {
   "cell_type": "code",
   "execution_count": 18,
   "id": "772e4a3b",
   "metadata": {},
   "outputs": [
    {
     "data": {
      "text/plain": [
       "Tot_Rfrg_Prvdrs    int64\n",
       "Tot_Suplrs         int64\n",
       "HCPCS_Cd_A4253     uint8\n",
       "dtype: object"
      ]
     },
     "execution_count": 18,
     "metadata": {},
     "output_type": "execute_result"
    }
   ],
   "source": [
    "X_test.dtypes"
   ]
  },
  {
   "cell_type": "code",
   "execution_count": 19,
   "id": "0223e00f",
   "metadata": {},
   "outputs": [],
   "source": [
    "scaler = preprocessing.StandardScaler()\n",
    "X_train_scaled = scaler.fit_transform(X_train)\n",
    "X_test_scaled = scaler.fit_transform(X_test)"
   ]
  }
 ],
 "metadata": {
  "kernelspec": {
   "display_name": "Python 3 (ipykernel)",
   "language": "python",
   "name": "python3"
  },
  "language_info": {
   "codemirror_mode": {
    "name": "ipython",
    "version": 3
   },
   "file_extension": ".py",
   "mimetype": "text/x-python",
   "name": "python",
   "nbconvert_exporter": "python",
   "pygments_lexer": "ipython3",
   "version": "3.11.5"
  }
 },
 "nbformat": 4,
 "nbformat_minor": 5
}

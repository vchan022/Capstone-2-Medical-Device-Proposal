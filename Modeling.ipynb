{
 "cells": [
  {
   "cell_type": "code",
   "execution_count": 1,
   "id": "440c55e9",
   "metadata": {},
   "outputs": [],
   "source": [
    "import pandas as pd\n",
    "import numpy as np\n",
    "import os\n",
    "import pickle\n",
    "import matplotlib.pyplot as plt\n",
    "import seaborn as sns\n",
    "from sklearn.preprocessing import scale\n",
    "from sklearn.model_selection import train_test_split, cross_validate, GridSearchCV, learning_curve, validation_curve\n",
    "from sklearn.preprocessing import StandardScaler, MinMaxScaler\n",
    "from sklearn.linear_model import LinearRegression\n",
    "from sklearn.metrics import mean_squared_error\n",
    "from sklearn.ensemble import RandomForestRegressor\n",
    "from sklearn.model_selection import cross_val_score\n",
    "from sklearn.metrics import accuracy_score\n",
    "from sklearn import preprocessing"
   ]
  },
  {
   "cell_type": "code",
   "execution_count": 2,
   "id": "9e326aec",
   "metadata": {},
   "outputs": [
    {
     "name": "stderr",
     "output_type": "stream",
     "text": [
      "C:\\Users\\veron\\AppData\\Local\\Temp\\ipykernel_5304\\2296681516.py:1: DtypeWarning: Columns (2) have mixed types. Specify dtype option on import or set low_memory=False.\n",
      "  df = pd.read_csv('Wrangled.csv')\n"
     ]
    }
   ],
   "source": [
    "df = pd.read_csv('Wrangled.csv')"
   ]
  },
  {
   "cell_type": "code",
   "execution_count": 3,
   "id": "b84a0d6f",
   "metadata": {},
   "outputs": [],
   "source": [
    "df = df[['HCPCS_Cd', 'Tot_Rfrg_Prvdrs', 'Tot_Suplrs', 'Avg_Suplr_Sbmtd_Chrg']]"
   ]
  },
  {
   "cell_type": "code",
   "execution_count": 4,
   "id": "5eaec954",
   "metadata": {},
   "outputs": [
    {
     "data": {
      "text/html": [
       "<div>\n",
       "<style scoped>\n",
       "    .dataframe tbody tr th:only-of-type {\n",
       "        vertical-align: middle;\n",
       "    }\n",
       "\n",
       "    .dataframe tbody tr th {\n",
       "        vertical-align: top;\n",
       "    }\n",
       "\n",
       "    .dataframe thead th {\n",
       "        text-align: right;\n",
       "    }\n",
       "</style>\n",
       "<table border=\"1\" class=\"dataframe\">\n",
       "  <thead>\n",
       "    <tr style=\"text-align: right;\">\n",
       "      <th></th>\n",
       "      <th>HCPCS_Cd</th>\n",
       "      <th>Tot_Rfrg_Prvdrs</th>\n",
       "      <th>Tot_Suplrs</th>\n",
       "      <th>Avg_Suplr_Sbmtd_Chrg</th>\n",
       "    </tr>\n",
       "  </thead>\n",
       "  <tbody>\n",
       "    <tr>\n",
       "      <th>592</th>\n",
       "      <td>A4253</td>\n",
       "      <td>233762</td>\n",
       "      <td>43511</td>\n",
       "      <td>61.932717</td>\n",
       "    </tr>\n",
       "  </tbody>\n",
       "</table>\n",
       "</div>"
      ],
      "text/plain": [
       "    HCPCS_Cd  Tot_Rfrg_Prvdrs  Tot_Suplrs  Avg_Suplr_Sbmtd_Chrg\n",
       "592    A4253           233762       43511             61.932717"
      ]
     },
     "execution_count": 4,
     "metadata": {},
     "output_type": "execute_result"
    }
   ],
   "source": [
    "tot_rfrg_prvdrs_max = df['Tot_Rfrg_Prvdrs'].max()\n",
    "df.loc[df['Tot_Rfrg_Prvdrs'] == tot_rfrg_prvdrs_max]"
   ]
  },
  {
   "cell_type": "code",
   "execution_count": 5,
   "id": "b7caa3fe",
   "metadata": {},
   "outputs": [
    {
     "data": {
      "text/html": [
       "<div>\n",
       "<style scoped>\n",
       "    .dataframe tbody tr th:only-of-type {\n",
       "        vertical-align: middle;\n",
       "    }\n",
       "\n",
       "    .dataframe tbody tr th {\n",
       "        vertical-align: top;\n",
       "    }\n",
       "\n",
       "    .dataframe thead th {\n",
       "        text-align: right;\n",
       "    }\n",
       "</style>\n",
       "<table border=\"1\" class=\"dataframe\">\n",
       "  <thead>\n",
       "    <tr style=\"text-align: right;\">\n",
       "      <th></th>\n",
       "      <th>592</th>\n",
       "      <th>1999</th>\n",
       "      <th>2624</th>\n",
       "      <th>3186</th>\n",
       "      <th>3987</th>\n",
       "      <th>4884</th>\n",
       "      <th>5882</th>\n",
       "      <th>6642</th>\n",
       "      <th>7284</th>\n",
       "      <th>7821</th>\n",
       "      <th>...</th>\n",
       "      <th>38072</th>\n",
       "      <th>38787</th>\n",
       "      <th>39428</th>\n",
       "      <th>39723</th>\n",
       "      <th>39856</th>\n",
       "      <th>40037</th>\n",
       "      <th>40109</th>\n",
       "      <th>40154</th>\n",
       "      <th>40206</th>\n",
       "      <th>40228</th>\n",
       "    </tr>\n",
       "  </thead>\n",
       "  <tbody>\n",
       "    <tr>\n",
       "      <th>HCPCS_Cd</th>\n",
       "      <td>A4253</td>\n",
       "      <td>A4253</td>\n",
       "      <td>A4253</td>\n",
       "      <td>A4253</td>\n",
       "      <td>A4253</td>\n",
       "      <td>A4253</td>\n",
       "      <td>A4253</td>\n",
       "      <td>A4253</td>\n",
       "      <td>A4253</td>\n",
       "      <td>A4253</td>\n",
       "      <td>...</td>\n",
       "      <td>A4253</td>\n",
       "      <td>A4253</td>\n",
       "      <td>A4253</td>\n",
       "      <td>A4253</td>\n",
       "      <td>A4253</td>\n",
       "      <td>A4253</td>\n",
       "      <td>A4253</td>\n",
       "      <td>A4253</td>\n",
       "      <td>A4253</td>\n",
       "      <td>A4253</td>\n",
       "    </tr>\n",
       "    <tr>\n",
       "      <th>Tot_Rfrg_Prvdrs</th>\n",
       "      <td>233762</td>\n",
       "      <td>3093</td>\n",
       "      <td>509</td>\n",
       "      <td>4387</td>\n",
       "      <td>2258</td>\n",
       "      <td>22583</td>\n",
       "      <td>3630</td>\n",
       "      <td>2900</td>\n",
       "      <td>821</td>\n",
       "      <td>649</td>\n",
       "      <td>...</td>\n",
       "      <td>1872</td>\n",
       "      <td>4895</td>\n",
       "      <td>470</td>\n",
       "      <td>41</td>\n",
       "      <td>1093</td>\n",
       "      <td>59</td>\n",
       "      <td>8</td>\n",
       "      <td>7</td>\n",
       "      <td>7</td>\n",
       "      <td>9</td>\n",
       "    </tr>\n",
       "    <tr>\n",
       "      <th>Tot_Suplrs</th>\n",
       "      <td>43511</td>\n",
       "      <td>1406</td>\n",
       "      <td>204</td>\n",
       "      <td>2262</td>\n",
       "      <td>924</td>\n",
       "      <td>6656</td>\n",
       "      <td>1746</td>\n",
       "      <td>1825</td>\n",
       "      <td>543</td>\n",
       "      <td>853</td>\n",
       "      <td>...</td>\n",
       "      <td>843</td>\n",
       "      <td>2288</td>\n",
       "      <td>251</td>\n",
       "      <td>17</td>\n",
       "      <td>244</td>\n",
       "      <td>42</td>\n",
       "      <td>68</td>\n",
       "      <td>47</td>\n",
       "      <td>51</td>\n",
       "      <td>30</td>\n",
       "    </tr>\n",
       "    <tr>\n",
       "      <th>Avg_Suplr_Sbmtd_Chrg</th>\n",
       "      <td>61.932717</td>\n",
       "      <td>56.55811</td>\n",
       "      <td>64.369821</td>\n",
       "      <td>66.860627</td>\n",
       "      <td>49.084897</td>\n",
       "      <td>66.023182</td>\n",
       "      <td>58.680633</td>\n",
       "      <td>69.086442</td>\n",
       "      <td>69.558235</td>\n",
       "      <td>59.030813</td>\n",
       "      <td>...</td>\n",
       "      <td>62.519122</td>\n",
       "      <td>66.743051</td>\n",
       "      <td>62.289233</td>\n",
       "      <td>72.101268</td>\n",
       "      <td>45.837617</td>\n",
       "      <td>62.153743</td>\n",
       "      <td>56.325625</td>\n",
       "      <td>65.26864</td>\n",
       "      <td>63.750638</td>\n",
       "      <td>63.44035</td>\n",
       "    </tr>\n",
       "  </tbody>\n",
       "</table>\n",
       "<p>4 rows × 59 columns</p>\n",
       "</div>"
      ],
      "text/plain": [
       "                          592       1999       2624       3186       3987   \\\n",
       "HCPCS_Cd                  A4253     A4253      A4253      A4253      A4253   \n",
       "Tot_Rfrg_Prvdrs          233762      3093        509       4387       2258   \n",
       "Tot_Suplrs                43511      1406        204       2262        924   \n",
       "Avg_Suplr_Sbmtd_Chrg  61.932717  56.55811  64.369821  66.860627  49.084897   \n",
       "\n",
       "                          4884       5882       6642       7284       7821   \\\n",
       "HCPCS_Cd                  A4253      A4253      A4253      A4253      A4253   \n",
       "Tot_Rfrg_Prvdrs           22583       3630       2900        821        649   \n",
       "Tot_Suplrs                 6656       1746       1825        543        853   \n",
       "Avg_Suplr_Sbmtd_Chrg  66.023182  58.680633  69.086442  69.558235  59.030813   \n",
       "\n",
       "                      ...      38072      38787      39428      39723  \\\n",
       "HCPCS_Cd              ...      A4253      A4253      A4253      A4253   \n",
       "Tot_Rfrg_Prvdrs       ...       1872       4895        470         41   \n",
       "Tot_Suplrs            ...        843       2288        251         17   \n",
       "Avg_Suplr_Sbmtd_Chrg  ...  62.519122  66.743051  62.289233  72.101268   \n",
       "\n",
       "                          39856      40037      40109     40154      40206  \\\n",
       "HCPCS_Cd                  A4253      A4253      A4253     A4253      A4253   \n",
       "Tot_Rfrg_Prvdrs            1093         59          8         7          7   \n",
       "Tot_Suplrs                  244         42         68        47         51   \n",
       "Avg_Suplr_Sbmtd_Chrg  45.837617  62.153743  56.325625  65.26864  63.750638   \n",
       "\n",
       "                         40228  \n",
       "HCPCS_Cd                 A4253  \n",
       "Tot_Rfrg_Prvdrs              9  \n",
       "Tot_Suplrs                  30  \n",
       "Avg_Suplr_Sbmtd_Chrg  63.44035  \n",
       "\n",
       "[4 rows x 59 columns]"
      ]
     },
     "execution_count": 5,
     "metadata": {},
     "output_type": "execute_result"
    }
   ],
   "source": [
    "blood_glucose_test = df[df.HCPCS_Cd == 'A4253']\n",
    "blood_glucose_test.T"
   ]
  },
  {
   "cell_type": "code",
   "execution_count": 6,
   "id": "b0080d09",
   "metadata": {},
   "outputs": [],
   "source": [
    "dummy_df = pd.get_dummies(blood_glucose_test)"
   ]
  },
  {
   "cell_type": "code",
   "execution_count": 7,
   "id": "2a0dac02",
   "metadata": {},
   "outputs": [],
   "source": [
    "X = dummy_df.drop(columns='Avg_Suplr_Sbmtd_Chrg')\n",
    "y = dummy_df['Avg_Suplr_Sbmtd_Chrg']"
   ]
  },
  {
   "cell_type": "code",
   "execution_count": 8,
   "id": "a9811673",
   "metadata": {},
   "outputs": [],
   "source": [
    "X_train, X_test, y_train, y_test = train_test_split(X, y, test_size=0.2, random_state=42)"
   ]
  },
  {
   "cell_type": "code",
   "execution_count": 9,
   "id": "85edc4ef",
   "metadata": {},
   "outputs": [],
   "source": [
    "scaler = preprocessing.StandardScaler()\n",
    "X_train_scaled = scaler.fit_transform(X_train)\n",
    "X_test_scaled = scaler.fit_transform(X_test)"
   ]
  },
  {
   "cell_type": "code",
   "execution_count": 10,
   "id": "7c9767e1",
   "metadata": {},
   "outputs": [
    {
     "name": "stdout",
     "output_type": "stream",
     "text": [
      "Mean Squared Error: 6405.543795617111\n"
     ]
    }
   ],
   "source": [
    "#Linear Regression\n",
    "\n",
    "LR_model = LinearRegression()\n",
    "LR_model.fit(X_train, y_train)\n",
    "y_pred_lr = LR_model.predict(X_test)\n",
    "mean_mse_lr = mean_squared_error(y_test, y_pred_lr)\n",
    "print(\"Mean Squared Error:\", mean_mse_lr)"
   ]
  },
  {
   "cell_type": "code",
   "execution_count": 11,
   "id": "787daf61",
   "metadata": {},
   "outputs": [
    {
     "name": "stdout",
     "output_type": "stream",
     "text": [
      "Mean Squared Error (Cross-Validation): 5886.326085509364\n"
     ]
    }
   ],
   "source": [
    "cv_scores_lr = cross_val_score(LR_model, X, y, cv=5, scoring='neg_mean_squared_error')\n",
    "cv_scores_lr= -cv_scores_lr\n",
    "cv_mean_mse_lr = cv_scores_lr.mean()\n",
    "print(\"Mean Squared Error (Cross-Validation):\", cv_mean_mse_lr)"
   ]
  },
  {
   "cell_type": "code",
   "execution_count": 12,
   "id": "d57bafab",
   "metadata": {},
   "outputs": [],
   "source": [
    "#KNN Regression\n",
    "\n",
    "from sklearn.neighbors import KNeighborsRegressor\n",
    "\n",
    "param_grid_knn = {'n_neighbors': range(1, 20)}\n",
    "grid_search_knn = GridSearchCV(KNeighborsRegressor(), param_grid_knn, cv=5, scoring='neg_mean_squared_error')\n",
    "grid_search_knn.fit(X_train, y_train)\n",
    "best_k = grid_search_knn.best_params_['n_neighbors']"
   ]
  },
  {
   "cell_type": "code",
   "execution_count": 13,
   "id": "424c2074",
   "metadata": {},
   "outputs": [
    {
     "name": "stdout",
     "output_type": "stream",
     "text": [
      "Mean Squared Error: 43.615117462676146\n"
     ]
    }
   ],
   "source": [
    "knn_model = KNeighborsRegressor(n_neighbors=best_k)\n",
    "knn_model.fit(X_train, y_train)\n",
    "y_pred_knn = knn_model.predict(X_test)\n",
    "mean_mse_knn = mean_squared_error(y_test, y_pred_knn)\n",
    "print(\"Mean Squared Error:\", mean_mse_knn)"
   ]
  },
  {
   "cell_type": "code",
   "execution_count": 14,
   "id": "770b8e11",
   "metadata": {},
   "outputs": [
    {
     "name": "stdout",
     "output_type": "stream",
     "text": [
      "Mean Squared Error (Cross-Validation): 28.085586428720063\n"
     ]
    }
   ],
   "source": [
    "cv_scores_knn = cross_val_score(knn_model, X, y, cv=5, scoring='neg_mean_squared_error')\n",
    "cv_scores_knn= -cv_scores_knn\n",
    "cv_mean_mse_knn = cv_scores_knn.mean()\n",
    "print(\"Mean Squared Error (Cross-Validation):\", cv_mean_mse_knn)"
   ]
  },
  {
   "cell_type": "code",
   "execution_count": 15,
   "id": "61b96119",
   "metadata": {},
   "outputs": [
    {
     "name": "stdout",
     "output_type": "stream",
     "text": [
      "Mean Squared Error: 91075.22140307543\n"
     ]
    }
   ],
   "source": [
    "#Support Vector Regression (SVR)\n",
    "\n",
    "from sklearn.svm import SVR\n",
    "\n",
    "svr_model = SVR(kernel='linear', C=1.0, epsilon=0.1)\n",
    "svr_model.fit(X_train, y_train)\n",
    "y_pred_svr = svr_model.predict(X_test)\n",
    "mean_mse_svr = mean_squared_error(y_test, y_pred_svr)\n",
    "print(\"Mean Squared Error:\", mean_mse_svr)"
   ]
  },
  {
   "cell_type": "code",
   "execution_count": 16,
   "id": "294187fd",
   "metadata": {},
   "outputs": [
    {
     "name": "stdout",
     "output_type": "stream",
     "text": [
      "Mean Squared Error (Cross-Validation): 26344.92175023906\n"
     ]
    }
   ],
   "source": [
    "cv_scores_svr = cross_val_score(svr_model, X, y, cv=5, scoring='neg_mean_squared_error')\n",
    "cv_scores_svr= -cv_scores_svr\n",
    "cv_mean_mse_svr = cv_scores_svr.mean()\n",
    "print(\"Mean Squared Error (Cross-Validation):\", cv_mean_mse_svr)"
   ]
  },
  {
   "cell_type": "code",
   "execution_count": 17,
   "id": "f8fefd9c",
   "metadata": {},
   "outputs": [
    {
     "name": "stdout",
     "output_type": "stream",
     "text": [
      "{'learning_rate': 0.01, 'max_depth': 3, 'n_estimators': 50}\n"
     ]
    }
   ],
   "source": [
    "#Gradient Boosting Regression\n",
    "\n",
    "from sklearn.ensemble import GradientBoostingRegressor\n",
    "\n",
    "param_grid_gbr = {\n",
    "    'n_estimators': [50, 100, 150],\n",
    "    'learning_rate': [0.01, 0.1, 0.5],\n",
    "    'max_depth': [3, 5, 7]\n",
    "}\n",
    "grid_search_gbr = GridSearchCV(GradientBoostingRegressor(random_state=42), param_grid_gbr, cv=5, scoring='neg_mean_squared_error')\n",
    "grid_search_gbr.fit(X_train, y_train)\n",
    "best_params_gbr = grid_search_gbr.best_params_\n",
    "print(best_params_gbr)"
   ]
  },
  {
   "cell_type": "code",
   "execution_count": 18,
   "id": "39b70ded",
   "metadata": {},
   "outputs": [
    {
     "name": "stdout",
     "output_type": "stream",
     "text": [
      "Mean Squared Error: 44.30706446615934\n"
     ]
    }
   ],
   "source": [
    "gbr_model = GradientBoostingRegressor(n_estimators=50, learning_rate=0.01, max_depth=3, random_state=42)\n",
    "gbr_model.fit(X_train, y_train)\n",
    "y_pred_gbr = gbr_model.predict(X_test)\n",
    "mean_mse_gbr = mean_squared_error(y_test, y_pred_gbr)\n",
    "print(\"Mean Squared Error:\", mean_mse_gbr)"
   ]
  },
  {
   "cell_type": "code",
   "execution_count": 19,
   "id": "f2cdb542",
   "metadata": {},
   "outputs": [
    {
     "name": "stdout",
     "output_type": "stream",
     "text": [
      "Mean Squared Error (Cross-Validation): 29.136919351462485\n"
     ]
    }
   ],
   "source": [
    "cv_scores_gbr = cross_val_score(gbr_model, X, y, cv=5, scoring='neg_mean_squared_error')\n",
    "cv_scores_gbr= -cv_scores_gbr\n",
    "cv_mean_mse_gbr = cv_scores_gbr.mean()\n",
    "print(\"Mean Squared Error (Cross-Validation):\", cv_mean_mse_gbr)"
   ]
  },
  {
   "cell_type": "code",
   "execution_count": 20,
   "id": "99972f26",
   "metadata": {},
   "outputs": [
    {
     "name": "stdout",
     "output_type": "stream",
     "text": [
      "{'max_depth': 3, 'min_samples_split': 10, 'n_estimators': 150}\n"
     ]
    }
   ],
   "source": [
    "#Random Forest Regression\n",
    "\n",
    "param_grid_rf = {\n",
    "    'n_estimators': [50, 100, 150],\n",
    "    'max_depth': [3, 5, 7],\n",
    "    'min_samples_split': [2, 5, 10]\n",
    "}\n",
    "grid_search_rf = GridSearchCV(RandomForestRegressor(random_state=42), param_grid_rf, cv=5, scoring='neg_mean_squared_error')\n",
    "grid_search_rf.fit(X_train, y_train)\n",
    "best_params_rf = grid_search_rf.best_params_\n",
    "print(best_params_rf)"
   ]
  },
  {
   "cell_type": "code",
   "execution_count": 21,
   "id": "2023d17a",
   "metadata": {},
   "outputs": [
    {
     "name": "stdout",
     "output_type": "stream",
     "text": [
      "Mean Squared Error: 45.240655153635224\n"
     ]
    }
   ],
   "source": [
    "rf_model = RandomForestRegressor(n_estimators=150, max_depth=3, min_samples_split=10, random_state=42)\n",
    "rf_model.fit(X_train, y_train)\n",
    "y_pred_rf = rf_model.predict(X_test)\n",
    "mean_mse_rf = mean_squared_error(y_test, y_pred_rf)\n",
    "print(\"Mean Squared Error:\", mean_mse_rf)"
   ]
  },
  {
   "cell_type": "code",
   "execution_count": 22,
   "id": "30839411",
   "metadata": {},
   "outputs": [
    {
     "name": "stdout",
     "output_type": "stream",
     "text": [
      "Mean Squared Error (Cross-Validation): 31.253626949891647\n"
     ]
    }
   ],
   "source": [
    "cv_scores_rf = cross_val_score(rf_model, X, y, cv=5, scoring='neg_mean_squared_error')\n",
    "cv_scores_rf= -cv_scores_rf\n",
    "cv_mean_mse_rf = cv_scores_rf.mean()\n",
    "print(\"Mean Squared Error (Cross-Validation):\", cv_mean_mse_rf)"
   ]
  },
  {
   "cell_type": "code",
   "execution_count": 26,
   "id": "9d68ba87",
   "metadata": {},
   "outputs": [
    {
     "name": "stdout",
     "output_type": "stream",
     "text": [
      "           Algorithm  Model accuracy score\n",
      "0  Linear Regression           6405.543796\n",
      "1                KNN             43.615117\n",
      "2                SVR          91075.221403\n",
      "3     Gradient Boost             44.307064\n",
      "4      Random Forest             45.240655\n"
     ]
    },
    {
     "data": {
      "text/html": [
       "<div>\n",
       "<style scoped>\n",
       "    .dataframe tbody tr th:only-of-type {\n",
       "        vertical-align: middle;\n",
       "    }\n",
       "\n",
       "    .dataframe tbody tr th {\n",
       "        vertical-align: top;\n",
       "    }\n",
       "\n",
       "    .dataframe thead th {\n",
       "        text-align: right;\n",
       "    }\n",
       "</style>\n",
       "<table border=\"1\" class=\"dataframe\">\n",
       "  <thead>\n",
       "    <tr style=\"text-align: right;\">\n",
       "      <th></th>\n",
       "      <th>Algorithm</th>\n",
       "      <th>CV_Score</th>\n",
       "    </tr>\n",
       "  </thead>\n",
       "  <tbody>\n",
       "    <tr>\n",
       "      <th>0</th>\n",
       "      <td>Linear Regression</td>\n",
       "      <td>5886.326086</td>\n",
       "    </tr>\n",
       "    <tr>\n",
       "      <th>1</th>\n",
       "      <td>KNN</td>\n",
       "      <td>28.085586</td>\n",
       "    </tr>\n",
       "    <tr>\n",
       "      <th>2</th>\n",
       "      <td>SVR</td>\n",
       "      <td>26344.921750</td>\n",
       "    </tr>\n",
       "    <tr>\n",
       "      <th>3</th>\n",
       "      <td>Gradient Boost</td>\n",
       "      <td>29.136919</td>\n",
       "    </tr>\n",
       "    <tr>\n",
       "      <th>4</th>\n",
       "      <td>Random Forest</td>\n",
       "      <td>31.253627</td>\n",
       "    </tr>\n",
       "  </tbody>\n",
       "</table>\n",
       "</div>"
      ],
      "text/plain": [
       "           Algorithm      CV_Score\n",
       "0  Linear Regression   5886.326086\n",
       "1                KNN     28.085586\n",
       "2                SVR  26344.921750\n",
       "3     Gradient Boost     29.136919\n",
       "4      Random Forest     31.253627"
      ]
     },
     "execution_count": 26,
     "metadata": {},
     "output_type": "execute_result"
    }
   ],
   "source": [
    "myLabels = [ 'Linear Regression','KNN','SVR','Gradient Boost','Random Forest']\n",
    "score = [  cv_mean_mse_lr,cv_mean_mse_knn,cv_mean_mse_svr,cv_mean_mse_gbr,cv_mean_mse_rf]\n",
    "Accuracy_score = [mean_mse_lr,mean_mse_knn,mean_mse_svr,mean_mse_gbr,mean_mse_rf]\n",
    "\n",
    "score_tab_acc = pd.DataFrame(list(zip(myLabels, Accuracy_score)), \n",
    "               columns =['Algorithm', 'Model accuracy score']) \n",
    "\n",
    "score_tab = pd.DataFrame(list(zip(myLabels, score)), \n",
    "               columns =['Algorithm', 'CV_Score' ]) \n",
    "print(score_tab_acc)\n",
    "\n",
    "score_tab"
   ]
  },
  {
   "cell_type": "code",
   "execution_count": null,
   "id": "65c1a617",
   "metadata": {},
   "outputs": [],
   "source": [
    "#Linear Regression performed the best"
   ]
  },
  {
   "cell_type": "code",
   "execution_count": 35,
   "id": "8ff68eff",
   "metadata": {},
   "outputs": [
    {
     "data": {
      "image/png": "[encoded data removed]",
      "text/plain": [
       "<Figure size 1200x600 with 1 Axes>"
      ]
     },
     "metadata": {},
     "output_type": "display_data"
    }
   ],
   "source": [
    "bar_width = 0.35\n",
    "r1 = np.arange(len(myLabels))\n",
    "r2 = [x + bar_width for x in r1]\n",
    "plt.figure(figsize=(12, 6))\n",
    "plt.bar(r1, Accuracy_score, color='coral', width=bar_width, edgecolor='k', alpha=0.8, label='Model accuracy score')\n",
    "plt.bar(r2, score, color='skyblue', width=bar_width, edgecolor='k', alpha=0.8, label='CV score')\n",
    "plt.xlabel('Models', fontsize=15)\n",
    "plt.ylabel('Scores', fontsize=15)\n",
    "plt.title('Comparison of Model Accuracy Scores and CV Scores', fontsize=15)\n",
    "plt.xticks([r + bar_width/2 for r in range(len(myLabels))], myLabels, rotation=45, ha='right')\n",
    "plt.legend()\n",
    "plt.tight_layout()\n",
    "plt.show()"
   ]
  }
 ],
 "metadata": {
  "kernelspec": {
   "display_name": "Python 3 (ipykernel)",
   "language": "python",
   "name": "python3"
  },
  "language_info": {
   "codemirror_mode": {
    "name": "ipython",
    "version": 3
   },
   "file_extension": ".py",
   "mimetype": "text/x-python",
   "name": "python",
   "nbconvert_exporter": "python",
   "pygments_lexer": "ipython3",
   "version": "3.11.5"
  }
 },
 "nbformat": 4,
 "nbformat_minor": 5
}

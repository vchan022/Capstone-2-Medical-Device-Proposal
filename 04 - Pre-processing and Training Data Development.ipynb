{
 "cells": [
  {
   "cell_type": "markdown",
   "id": "b8aad91b",
   "metadata": {},
   "source": [
    "# Pre-processing and Training Data Development"
   ]
  },
  {
   "cell_type": "markdown",
   "id": "1ad331e1",
   "metadata": {},
   "source": [
    "In this section, I will normalize and standardize all the features in the data as well as find feature importance."
   ]
  },
  {
   "cell_type": "code",
   "execution_count": 1,
   "id": "b536dae4",
   "metadata": {},
   "outputs": [],
   "source": [
    "import pandas as pd\n",
    "import numpy as np\n",
    "import os\n",
    "import pickle\n",
    "import matplotlib.pyplot as plt\n",
    "import seaborn as sns\n",
    "from sklearn import __version__ as sklearn_version\n",
    "from sklearn.decomposition import PCA\n",
    "from sklearn.preprocessing import scale\n",
    "from sklearn.model_selection import train_test_split, cross_validate, GridSearchCV, learning_curve\n",
    "from sklearn.preprocessing import StandardScaler, MinMaxScaler\n",
    "from sklearn.dummy import DummyRegressor\n",
    "from sklearn.linear_model import LinearRegression\n",
    "from sklearn.ensemble import RandomForestRegressor\n",
    "from sklearn.metrics import r2_score, mean_squared_error, mean_absolute_error\n",
    "from sklearn.pipeline import make_pipeline\n",
    "from sklearn.impute import SimpleImputer\n",
    "from sklearn.feature_selection import SelectKBest, f_regression\n",
    "from sklearn import preprocessing"
   ]
  },
  {
   "cell_type": "code",
   "execution_count": 2,
   "id": "f15d5bf4",
   "metadata": {},
   "outputs": [
    {
     "name": "stdout",
     "output_type": "stream",
     "text": [
      "Requirement already satisfied: joblib in c:\\users\\veron\\anaconda3\\lib\\site-packages (1.1.1)\n"
     ]
    }
   ],
   "source": [
    "!pip install joblib"
   ]
  },
  {
   "cell_type": "code",
   "execution_count": 3,
   "id": "83f5f37e",
   "metadata": {},
   "outputs": [],
   "source": [
    "import joblib"
   ]
  },
  {
   "cell_type": "markdown",
   "id": "435d9306",
   "metadata": {},
   "source": [
    "Load the data"
   ]
  },
  {
   "cell_type": "code",
   "execution_count": 4,
   "id": "8cc1df2b",
   "metadata": {
    "scrolled": true
   },
   "outputs": [
    {
     "name": "stderr",
     "output_type": "stream",
     "text": [
      "C:\\Users\\veron\\AppData\\Local\\Temp\\ipykernel_26540\\2296681516.py:1: DtypeWarning: Columns (2) have mixed types. Specify dtype option on import or set low_memory=False.\n",
      "  df = pd.read_csv('Wrangled.csv')\n"
     ]
    }
   ],
   "source": [
    "df = pd.read_csv('Wrangled.csv')"
   ]
  },
  {
   "cell_type": "code",
   "execution_count": 5,
   "id": "1ae55125",
   "metadata": {},
   "outputs": [
    {
     "data": {
      "text/html": [
       "<div>\n",
       "<style scoped>\n",
       "    .dataframe tbody tr th:only-of-type {\n",
       "        vertical-align: middle;\n",
       "    }\n",
       "\n",
       "    .dataframe tbody tr th {\n",
       "        vertical-align: top;\n",
       "    }\n",
       "\n",
       "    .dataframe thead th {\n",
       "        text-align: right;\n",
       "    }\n",
       "</style>\n",
       "<table border=\"1\" class=\"dataframe\">\n",
       "  <thead>\n",
       "    <tr style=\"text-align: right;\">\n",
       "      <th></th>\n",
       "      <th>Unnamed: 0</th>\n",
       "      <th>Rfrg_Prvdr_Geo_Lvl</th>\n",
       "      <th>Rfrg_Prvdr_Geo_Cd</th>\n",
       "      <th>Rfrg_Prvdr_Geo_Desc</th>\n",
       "      <th>BETOS_Lvl</th>\n",
       "      <th>BETOS_Cd</th>\n",
       "      <th>BETOS_Desc</th>\n",
       "      <th>HCPCS_Cd</th>\n",
       "      <th>HCPCS_Desc</th>\n",
       "      <th>Suplr_Rentl_Ind</th>\n",
       "      <th>Tot_Rfrg_Prvdrs</th>\n",
       "      <th>Tot_Suplrs</th>\n",
       "      <th>Tot_Suplr_Benes</th>\n",
       "      <th>Tot_Suplr_Clms</th>\n",
       "      <th>Tot_Suplr_Srvcs</th>\n",
       "      <th>Avg_Suplr_Sbmtd_Chrg</th>\n",
       "      <th>Avg_Suplr_Mdcr_Alowd_Amt</th>\n",
       "      <th>Avg_Suplr_Mdcr_Pymt_Amt</th>\n",
       "      <th>Avg_Suplr_Mdcr_Stdzd_Amt</th>\n",
       "    </tr>\n",
       "  </thead>\n",
       "  <tbody>\n",
       "    <tr>\n",
       "      <th>0</th>\n",
       "      <td>0</td>\n",
       "      <td>National</td>\n",
       "      <td>6.0</td>\n",
       "      <td>National</td>\n",
       "      <td>Drugs and Nutritional Products</td>\n",
       "      <td>O1C</td>\n",
       "      <td>Enteral and parenteral</td>\n",
       "      <td>B4034</td>\n",
       "      <td>Enteral feeding supply kit; syringe fed, per d...</td>\n",
       "      <td>N</td>\n",
       "      <td>28183</td>\n",
       "      <td>1745</td>\n",
       "      <td>33451.0</td>\n",
       "      <td>171371</td>\n",
       "      <td>4627387</td>\n",
       "      <td>58.266520</td>\n",
       "      <td>3.718512</td>\n",
       "      <td>2.918066</td>\n",
       "      <td>3.047039</td>\n",
       "    </tr>\n",
       "    <tr>\n",
       "      <th>1</th>\n",
       "      <td>1</td>\n",
       "      <td>National</td>\n",
       "      <td>6.0</td>\n",
       "      <td>National</td>\n",
       "      <td>Drugs and Nutritional Products</td>\n",
       "      <td>O1C</td>\n",
       "      <td>Enteral and parenteral</td>\n",
       "      <td>B4035</td>\n",
       "      <td>Enteral feeding supply kit; pump fed, per day,...</td>\n",
       "      <td>N</td>\n",
       "      <td>27342</td>\n",
       "      <td>1758</td>\n",
       "      <td>39110.0</td>\n",
       "      <td>271836</td>\n",
       "      <td>7050743</td>\n",
       "      <td>75.495042</td>\n",
       "      <td>6.433860</td>\n",
       "      <td>5.067509</td>\n",
       "      <td>5.552222</td>\n",
       "    </tr>\n",
       "    <tr>\n",
       "      <th>2</th>\n",
       "      <td>2</td>\n",
       "      <td>National</td>\n",
       "      <td>6.0</td>\n",
       "      <td>National</td>\n",
       "      <td>Drugs and Nutritional Products</td>\n",
       "      <td>O1C</td>\n",
       "      <td>Enteral and parenteral</td>\n",
       "      <td>B4036</td>\n",
       "      <td>Enteral feeding supply kit; gravity fed, per d...</td>\n",
       "      <td>N</td>\n",
       "      <td>6166</td>\n",
       "      <td>933</td>\n",
       "      <td>7171.0</td>\n",
       "      <td>41181</td>\n",
       "      <td>1116382</td>\n",
       "      <td>75.172639</td>\n",
       "      <td>5.036933</td>\n",
       "      <td>3.959289</td>\n",
       "      <td>4.100195</td>\n",
       "    </tr>\n",
       "    <tr>\n",
       "      <th>3</th>\n",
       "      <td>3</td>\n",
       "      <td>National</td>\n",
       "      <td>6.0</td>\n",
       "      <td>National</td>\n",
       "      <td>Drugs and Nutritional Products</td>\n",
       "      <td>O1C</td>\n",
       "      <td>Enteral and parenteral</td>\n",
       "      <td>B4081</td>\n",
       "      <td>Nasogastric tubing with stylet</td>\n",
       "      <td>N</td>\n",
       "      <td>14</td>\n",
       "      <td>12</td>\n",
       "      <td>13.0</td>\n",
       "      <td>20</td>\n",
       "      <td>33</td>\n",
       "      <td>113.736061</td>\n",
       "      <td>17.292727</td>\n",
       "      <td>13.833939</td>\n",
       "      <td>13.579697</td>\n",
       "    </tr>\n",
       "    <tr>\n",
       "      <th>4</th>\n",
       "      <td>4</td>\n",
       "      <td>National</td>\n",
       "      <td>6.0</td>\n",
       "      <td>National</td>\n",
       "      <td>Drugs and Nutritional Products</td>\n",
       "      <td>O1C</td>\n",
       "      <td>Enteral and parenteral</td>\n",
       "      <td>B4082</td>\n",
       "      <td>Nasogastric tubing without stylet</td>\n",
       "      <td>N</td>\n",
       "      <td>16</td>\n",
       "      <td>16</td>\n",
       "      <td>16.0</td>\n",
       "      <td>21</td>\n",
       "      <td>43</td>\n",
       "      <td>99.110930</td>\n",
       "      <td>12.532093</td>\n",
       "      <td>9.502326</td>\n",
       "      <td>9.463488</td>\n",
       "    </tr>\n",
       "  </tbody>\n",
       "</table>\n",
       "</div>"
      ],
      "text/plain": [
       "   Unnamed: 0 Rfrg_Prvdr_Geo_Lvl Rfrg_Prvdr_Geo_Cd Rfrg_Prvdr_Geo_Desc  \\\n",
       "0           0           National               6.0            National   \n",
       "1           1           National               6.0            National   \n",
       "2           2           National               6.0            National   \n",
       "3           3           National               6.0            National   \n",
       "4           4           National               6.0            National   \n",
       "\n",
       "                        BETOS_Lvl BETOS_Cd              BETOS_Desc HCPCS_Cd  \\\n",
       "0  Drugs and Nutritional Products      O1C  Enteral and parenteral    B4034   \n",
       "1  Drugs and Nutritional Products      O1C  Enteral and parenteral    B4035   \n",
       "2  Drugs and Nutritional Products      O1C  Enteral and parenteral    B4036   \n",
       "3  Drugs and Nutritional Products      O1C  Enteral and parenteral    B4081   \n",
       "4  Drugs and Nutritional Products      O1C  Enteral and parenteral    B4082   \n",
       "\n",
       "                                          HCPCS_Desc Suplr_Rentl_Ind  \\\n",
       "0  Enteral feeding supply kit; syringe fed, per d...               N   \n",
       "1  Enteral feeding supply kit; pump fed, per day,...               N   \n",
       "2  Enteral feeding supply kit; gravity fed, per d...               N   \n",
       "3                     Nasogastric tubing with stylet               N   \n",
       "4                  Nasogastric tubing without stylet               N   \n",
       "\n",
       "   Tot_Rfrg_Prvdrs  Tot_Suplrs  Tot_Suplr_Benes  Tot_Suplr_Clms  \\\n",
       "0            28183        1745          33451.0          171371   \n",
       "1            27342        1758          39110.0          271836   \n",
       "2             6166         933           7171.0           41181   \n",
       "3               14          12             13.0              20   \n",
       "4               16          16             16.0              21   \n",
       "\n",
       "   Tot_Suplr_Srvcs  Avg_Suplr_Sbmtd_Chrg  Avg_Suplr_Mdcr_Alowd_Amt  \\\n",
       "0          4627387             58.266520                  3.718512   \n",
       "1          7050743             75.495042                  6.433860   \n",
       "2          1116382             75.172639                  5.036933   \n",
       "3               33            113.736061                 17.292727   \n",
       "4               43             99.110930                 12.532093   \n",
       "\n",
       "   Avg_Suplr_Mdcr_Pymt_Amt  Avg_Suplr_Mdcr_Stdzd_Amt  \n",
       "0                 2.918066                  3.047039  \n",
       "1                 5.067509                  5.552222  \n",
       "2                 3.959289                  4.100195  \n",
       "3                13.833939                 13.579697  \n",
       "4                 9.502326                  9.463488  "
      ]
     },
     "execution_count": 5,
     "metadata": {},
     "output_type": "execute_result"
    }
   ],
   "source": [
    "df.head()"
   ]
  },
  {
   "cell_type": "markdown",
   "id": "2194547c",
   "metadata": {},
   "source": [
    "There seems to be an additional column containing the indexes of the DataFrame, we will remove this Unnamed column using the drop() method."
   ]
  },
  {
   "cell_type": "code",
   "execution_count": 6,
   "id": "fa827b7c",
   "metadata": {},
   "outputs": [],
   "source": [
    "df = df.drop(df.columns[0], axis=1)"
   ]
  },
  {
   "cell_type": "code",
   "execution_count": 7,
   "id": "fddabc7e",
   "metadata": {},
   "outputs": [
    {
     "data": {
      "text/html": [
       "<div>\n",
       "<style scoped>\n",
       "    .dataframe tbody tr th:only-of-type {\n",
       "        vertical-align: middle;\n",
       "    }\n",
       "\n",
       "    .dataframe tbody tr th {\n",
       "        vertical-align: top;\n",
       "    }\n",
       "\n",
       "    .dataframe thead th {\n",
       "        text-align: right;\n",
       "    }\n",
       "</style>\n",
       "<table border=\"1\" class=\"dataframe\">\n",
       "  <thead>\n",
       "    <tr style=\"text-align: right;\">\n",
       "      <th></th>\n",
       "      <th>Rfrg_Prvdr_Geo_Lvl</th>\n",
       "      <th>Rfrg_Prvdr_Geo_Cd</th>\n",
       "      <th>Rfrg_Prvdr_Geo_Desc</th>\n",
       "      <th>BETOS_Lvl</th>\n",
       "      <th>BETOS_Cd</th>\n",
       "      <th>BETOS_Desc</th>\n",
       "      <th>HCPCS_Cd</th>\n",
       "      <th>HCPCS_Desc</th>\n",
       "      <th>Suplr_Rentl_Ind</th>\n",
       "      <th>Tot_Rfrg_Prvdrs</th>\n",
       "      <th>Tot_Suplrs</th>\n",
       "      <th>Tot_Suplr_Benes</th>\n",
       "      <th>Tot_Suplr_Clms</th>\n",
       "      <th>Tot_Suplr_Srvcs</th>\n",
       "      <th>Avg_Suplr_Sbmtd_Chrg</th>\n",
       "      <th>Avg_Suplr_Mdcr_Alowd_Amt</th>\n",
       "      <th>Avg_Suplr_Mdcr_Pymt_Amt</th>\n",
       "      <th>Avg_Suplr_Mdcr_Stdzd_Amt</th>\n",
       "    </tr>\n",
       "  </thead>\n",
       "  <tbody>\n",
       "    <tr>\n",
       "      <th>0</th>\n",
       "      <td>National</td>\n",
       "      <td>6.0</td>\n",
       "      <td>National</td>\n",
       "      <td>Drugs and Nutritional Products</td>\n",
       "      <td>O1C</td>\n",
       "      <td>Enteral and parenteral</td>\n",
       "      <td>B4034</td>\n",
       "      <td>Enteral feeding supply kit; syringe fed, per d...</td>\n",
       "      <td>N</td>\n",
       "      <td>28183</td>\n",
       "      <td>1745</td>\n",
       "      <td>33451.0</td>\n",
       "      <td>171371</td>\n",
       "      <td>4627387</td>\n",
       "      <td>58.266520</td>\n",
       "      <td>3.718512</td>\n",
       "      <td>2.918066</td>\n",
       "      <td>3.047039</td>\n",
       "    </tr>\n",
       "    <tr>\n",
       "      <th>1</th>\n",
       "      <td>National</td>\n",
       "      <td>6.0</td>\n",
       "      <td>National</td>\n",
       "      <td>Drugs and Nutritional Products</td>\n",
       "      <td>O1C</td>\n",
       "      <td>Enteral and parenteral</td>\n",
       "      <td>B4035</td>\n",
       "      <td>Enteral feeding supply kit; pump fed, per day,...</td>\n",
       "      <td>N</td>\n",
       "      <td>27342</td>\n",
       "      <td>1758</td>\n",
       "      <td>39110.0</td>\n",
       "      <td>271836</td>\n",
       "      <td>7050743</td>\n",
       "      <td>75.495042</td>\n",
       "      <td>6.433860</td>\n",
       "      <td>5.067509</td>\n",
       "      <td>5.552222</td>\n",
       "    </tr>\n",
       "    <tr>\n",
       "      <th>2</th>\n",
       "      <td>National</td>\n",
       "      <td>6.0</td>\n",
       "      <td>National</td>\n",
       "      <td>Drugs and Nutritional Products</td>\n",
       "      <td>O1C</td>\n",
       "      <td>Enteral and parenteral</td>\n",
       "      <td>B4036</td>\n",
       "      <td>Enteral feeding supply kit; gravity fed, per d...</td>\n",
       "      <td>N</td>\n",
       "      <td>6166</td>\n",
       "      <td>933</td>\n",
       "      <td>7171.0</td>\n",
       "      <td>41181</td>\n",
       "      <td>1116382</td>\n",
       "      <td>75.172639</td>\n",
       "      <td>5.036933</td>\n",
       "      <td>3.959289</td>\n",
       "      <td>4.100195</td>\n",
       "    </tr>\n",
       "    <tr>\n",
       "      <th>3</th>\n",
       "      <td>National</td>\n",
       "      <td>6.0</td>\n",
       "      <td>National</td>\n",
       "      <td>Drugs and Nutritional Products</td>\n",
       "      <td>O1C</td>\n",
       "      <td>Enteral and parenteral</td>\n",
       "      <td>B4081</td>\n",
       "      <td>Nasogastric tubing with stylet</td>\n",
       "      <td>N</td>\n",
       "      <td>14</td>\n",
       "      <td>12</td>\n",
       "      <td>13.0</td>\n",
       "      <td>20</td>\n",
       "      <td>33</td>\n",
       "      <td>113.736061</td>\n",
       "      <td>17.292727</td>\n",
       "      <td>13.833939</td>\n",
       "      <td>13.579697</td>\n",
       "    </tr>\n",
       "    <tr>\n",
       "      <th>4</th>\n",
       "      <td>National</td>\n",
       "      <td>6.0</td>\n",
       "      <td>National</td>\n",
       "      <td>Drugs and Nutritional Products</td>\n",
       "      <td>O1C</td>\n",
       "      <td>Enteral and parenteral</td>\n",
       "      <td>B4082</td>\n",
       "      <td>Nasogastric tubing without stylet</td>\n",
       "      <td>N</td>\n",
       "      <td>16</td>\n",
       "      <td>16</td>\n",
       "      <td>16.0</td>\n",
       "      <td>21</td>\n",
       "      <td>43</td>\n",
       "      <td>99.110930</td>\n",
       "      <td>12.532093</td>\n",
       "      <td>9.502326</td>\n",
       "      <td>9.463488</td>\n",
       "    </tr>\n",
       "  </tbody>\n",
       "</table>\n",
       "</div>"
      ],
      "text/plain": [
       "  Rfrg_Prvdr_Geo_Lvl Rfrg_Prvdr_Geo_Cd Rfrg_Prvdr_Geo_Desc  \\\n",
       "0           National               6.0            National   \n",
       "1           National               6.0            National   \n",
       "2           National               6.0            National   \n",
       "3           National               6.0            National   \n",
       "4           National               6.0            National   \n",
       "\n",
       "                        BETOS_Lvl BETOS_Cd              BETOS_Desc HCPCS_Cd  \\\n",
       "0  Drugs and Nutritional Products      O1C  Enteral and parenteral    B4034   \n",
       "1  Drugs and Nutritional Products      O1C  Enteral and parenteral    B4035   \n",
       "2  Drugs and Nutritional Products      O1C  Enteral and parenteral    B4036   \n",
       "3  Drugs and Nutritional Products      O1C  Enteral and parenteral    B4081   \n",
       "4  Drugs and Nutritional Products      O1C  Enteral and parenteral    B4082   \n",
       "\n",
       "                                          HCPCS_Desc Suplr_Rentl_Ind  \\\n",
       "0  Enteral feeding supply kit; syringe fed, per d...               N   \n",
       "1  Enteral feeding supply kit; pump fed, per day,...               N   \n",
       "2  Enteral feeding supply kit; gravity fed, per d...               N   \n",
       "3                     Nasogastric tubing with stylet               N   \n",
       "4                  Nasogastric tubing without stylet               N   \n",
       "\n",
       "   Tot_Rfrg_Prvdrs  Tot_Suplrs  Tot_Suplr_Benes  Tot_Suplr_Clms  \\\n",
       "0            28183        1745          33451.0          171371   \n",
       "1            27342        1758          39110.0          271836   \n",
       "2             6166         933           7171.0           41181   \n",
       "3               14          12             13.0              20   \n",
       "4               16          16             16.0              21   \n",
       "\n",
       "   Tot_Suplr_Srvcs  Avg_Suplr_Sbmtd_Chrg  Avg_Suplr_Mdcr_Alowd_Amt  \\\n",
       "0          4627387             58.266520                  3.718512   \n",
       "1          7050743             75.495042                  6.433860   \n",
       "2          1116382             75.172639                  5.036933   \n",
       "3               33            113.736061                 17.292727   \n",
       "4               43             99.110930                 12.532093   \n",
       "\n",
       "   Avg_Suplr_Mdcr_Pymt_Amt  Avg_Suplr_Mdcr_Stdzd_Amt  \n",
       "0                 2.918066                  3.047039  \n",
       "1                 5.067509                  5.552222  \n",
       "2                 3.959289                  4.100195  \n",
       "3                13.833939                 13.579697  \n",
       "4                 9.502326                  9.463488  "
      ]
     },
     "execution_count": 7,
     "metadata": {},
     "output_type": "execute_result"
    }
   ],
   "source": [
    "df.head()"
   ]
  },
  {
   "cell_type": "markdown",
   "id": "a6da09d7",
   "metadata": {},
   "source": [
    "We will find the medical device with the most referring providers (most providers ordering this item) using the max() method."
   ]
  },
  {
   "cell_type": "code",
   "execution_count": 8,
   "id": "2a60691a",
   "metadata": {},
   "outputs": [
    {
     "data": {
      "text/html": [
       "<div>\n",
       "<style scoped>\n",
       "    .dataframe tbody tr th:only-of-type {\n",
       "        vertical-align: middle;\n",
       "    }\n",
       "\n",
       "    .dataframe tbody tr th {\n",
       "        vertical-align: top;\n",
       "    }\n",
       "\n",
       "    .dataframe thead th {\n",
       "        text-align: right;\n",
       "    }\n",
       "</style>\n",
       "<table border=\"1\" class=\"dataframe\">\n",
       "  <thead>\n",
       "    <tr style=\"text-align: right;\">\n",
       "      <th></th>\n",
       "      <th>Rfrg_Prvdr_Geo_Lvl</th>\n",
       "      <th>Rfrg_Prvdr_Geo_Cd</th>\n",
       "      <th>Rfrg_Prvdr_Geo_Desc</th>\n",
       "      <th>BETOS_Lvl</th>\n",
       "      <th>BETOS_Cd</th>\n",
       "      <th>BETOS_Desc</th>\n",
       "      <th>HCPCS_Cd</th>\n",
       "      <th>HCPCS_Desc</th>\n",
       "      <th>Suplr_Rentl_Ind</th>\n",
       "      <th>Tot_Rfrg_Prvdrs</th>\n",
       "      <th>Tot_Suplrs</th>\n",
       "      <th>Tot_Suplr_Benes</th>\n",
       "      <th>Tot_Suplr_Clms</th>\n",
       "      <th>Tot_Suplr_Srvcs</th>\n",
       "      <th>Avg_Suplr_Sbmtd_Chrg</th>\n",
       "      <th>Avg_Suplr_Mdcr_Alowd_Amt</th>\n",
       "      <th>Avg_Suplr_Mdcr_Pymt_Amt</th>\n",
       "      <th>Avg_Suplr_Mdcr_Stdzd_Amt</th>\n",
       "    </tr>\n",
       "  </thead>\n",
       "  <tbody>\n",
       "    <tr>\n",
       "      <th>592</th>\n",
       "      <td>National</td>\n",
       "      <td>6.0</td>\n",
       "      <td>National</td>\n",
       "      <td>Durable Medical Equipment</td>\n",
       "      <td>D1E</td>\n",
       "      <td>Other DME</td>\n",
       "      <td>A4253</td>\n",
       "      <td>Blood glucose test or reagent strips for home ...</td>\n",
       "      <td>N</td>\n",
       "      <td>233762</td>\n",
       "      <td>43511</td>\n",
       "      <td>1891407.0</td>\n",
       "      <td>5104070</td>\n",
       "      <td>13931820</td>\n",
       "      <td>61.932717</td>\n",
       "      <td>8.400779</td>\n",
       "      <td>5.964003</td>\n",
       "      <td>5.786099</td>\n",
       "    </tr>\n",
       "  </tbody>\n",
       "</table>\n",
       "</div>"
      ],
      "text/plain": [
       "    Rfrg_Prvdr_Geo_Lvl Rfrg_Prvdr_Geo_Cd Rfrg_Prvdr_Geo_Desc  \\\n",
       "592           National               6.0            National   \n",
       "\n",
       "                     BETOS_Lvl BETOS_Cd BETOS_Desc HCPCS_Cd  \\\n",
       "592  Durable Medical Equipment      D1E  Other DME    A4253   \n",
       "\n",
       "                                            HCPCS_Desc Suplr_Rentl_Ind  \\\n",
       "592  Blood glucose test or reagent strips for home ...               N   \n",
       "\n",
       "     Tot_Rfrg_Prvdrs  Tot_Suplrs  Tot_Suplr_Benes  Tot_Suplr_Clms  \\\n",
       "592           233762       43511        1891407.0         5104070   \n",
       "\n",
       "     Tot_Suplr_Srvcs  Avg_Suplr_Sbmtd_Chrg  Avg_Suplr_Mdcr_Alowd_Amt  \\\n",
       "592         13931820             61.932717                  8.400779   \n",
       "\n",
       "     Avg_Suplr_Mdcr_Pymt_Amt  Avg_Suplr_Mdcr_Stdzd_Amt  \n",
       "592                 5.964003                  5.786099  "
      ]
     },
     "execution_count": 8,
     "metadata": {},
     "output_type": "execute_result"
    }
   ],
   "source": [
    "tot_rfrg_prvdrs_max = df['Tot_Rfrg_Prvdrs'].max()\n",
    "df.loc[df['Tot_Rfrg_Prvdrs'] == tot_rfrg_prvdrs_max]"
   ]
  },
  {
   "cell_type": "markdown",
   "id": "e6e929bb",
   "metadata": {},
   "source": [
    "We found that the blood glucose test/reagent strip is the most ordered item, we will create a separate DataFrame for the blood glucose test/reagent strip data."
   ]
  },
  {
   "cell_type": "code",
   "execution_count": 9,
   "id": "2e93660a",
   "metadata": {},
   "outputs": [
    {
     "data": {
      "text/html": [
       "<div>\n",
       "<style scoped>\n",
       "    .dataframe tbody tr th:only-of-type {\n",
       "        vertical-align: middle;\n",
       "    }\n",
       "\n",
       "    .dataframe tbody tr th {\n",
       "        vertical-align: top;\n",
       "    }\n",
       "\n",
       "    .dataframe thead th {\n",
       "        text-align: right;\n",
       "    }\n",
       "</style>\n",
       "<table border=\"1\" class=\"dataframe\">\n",
       "  <thead>\n",
       "    <tr style=\"text-align: right;\">\n",
       "      <th></th>\n",
       "      <th>Rfrg_Prvdr_Geo_Lvl</th>\n",
       "      <th>Rfrg_Prvdr_Geo_Cd</th>\n",
       "      <th>Rfrg_Prvdr_Geo_Desc</th>\n",
       "      <th>BETOS_Lvl</th>\n",
       "      <th>BETOS_Cd</th>\n",
       "      <th>BETOS_Desc</th>\n",
       "      <th>HCPCS_Cd</th>\n",
       "      <th>HCPCS_Desc</th>\n",
       "      <th>Suplr_Rentl_Ind</th>\n",
       "      <th>Tot_Rfrg_Prvdrs</th>\n",
       "      <th>Tot_Suplrs</th>\n",
       "      <th>Tot_Suplr_Benes</th>\n",
       "      <th>Tot_Suplr_Clms</th>\n",
       "      <th>Tot_Suplr_Srvcs</th>\n",
       "      <th>Avg_Suplr_Sbmtd_Chrg</th>\n",
       "      <th>Avg_Suplr_Mdcr_Alowd_Amt</th>\n",
       "      <th>Avg_Suplr_Mdcr_Pymt_Amt</th>\n",
       "      <th>Avg_Suplr_Mdcr_Stdzd_Amt</th>\n",
       "    </tr>\n",
       "  </thead>\n",
       "  <tbody>\n",
       "    <tr>\n",
       "      <th>592</th>\n",
       "      <td>National</td>\n",
       "      <td>6.0</td>\n",
       "      <td>National</td>\n",
       "      <td>Durable Medical Equipment</td>\n",
       "      <td>D1E</td>\n",
       "      <td>Other DME</td>\n",
       "      <td>A4253</td>\n",
       "      <td>Blood glucose test or reagent strips for home ...</td>\n",
       "      <td>N</td>\n",
       "      <td>233762</td>\n",
       "      <td>43511</td>\n",
       "      <td>1891407.0</td>\n",
       "      <td>5104070</td>\n",
       "      <td>13931820</td>\n",
       "      <td>61.932717</td>\n",
       "      <td>8.400779</td>\n",
       "      <td>5.964003</td>\n",
       "      <td>5.786099</td>\n",
       "    </tr>\n",
       "    <tr>\n",
       "      <th>1999</th>\n",
       "      <td>State</td>\n",
       "      <td>1.0</td>\n",
       "      <td>Alabama</td>\n",
       "      <td>Durable Medical Equipment</td>\n",
       "      <td>D1E</td>\n",
       "      <td>Other DME</td>\n",
       "      <td>A4253</td>\n",
       "      <td>Blood glucose test or reagent strips for home ...</td>\n",
       "      <td>N</td>\n",
       "      <td>3093</td>\n",
       "      <td>1406</td>\n",
       "      <td>25059.0</td>\n",
       "      <td>64060</td>\n",
       "      <td>181067</td>\n",
       "      <td>56.558110</td>\n",
       "      <td>8.423689</td>\n",
       "      <td>6.055243</td>\n",
       "      <td>5.858798</td>\n",
       "    </tr>\n",
       "    <tr>\n",
       "      <th>2624</th>\n",
       "      <td>State</td>\n",
       "      <td>2.0</td>\n",
       "      <td>Alaska</td>\n",
       "      <td>Durable Medical Equipment</td>\n",
       "      <td>D1E</td>\n",
       "      <td>Other DME</td>\n",
       "      <td>A4253</td>\n",
       "      <td>Blood glucose test or reagent strips for home ...</td>\n",
       "      <td>N</td>\n",
       "      <td>509</td>\n",
       "      <td>204</td>\n",
       "      <td>2394.0</td>\n",
       "      <td>5877</td>\n",
       "      <td>16216</td>\n",
       "      <td>64.369821</td>\n",
       "      <td>8.403106</td>\n",
       "      <td>5.852651</td>\n",
       "      <td>5.676490</td>\n",
       "    </tr>\n",
       "    <tr>\n",
       "      <th>3186</th>\n",
       "      <td>State</td>\n",
       "      <td>4.0</td>\n",
       "      <td>Arizona</td>\n",
       "      <td>Durable Medical Equipment</td>\n",
       "      <td>D1E</td>\n",
       "      <td>Other DME</td>\n",
       "      <td>A4253</td>\n",
       "      <td>Blood glucose test or reagent strips for home ...</td>\n",
       "      <td>N</td>\n",
       "      <td>4387</td>\n",
       "      <td>2262</td>\n",
       "      <td>29371.0</td>\n",
       "      <td>70945</td>\n",
       "      <td>207369</td>\n",
       "      <td>66.860627</td>\n",
       "      <td>8.386908</td>\n",
       "      <td>6.101452</td>\n",
       "      <td>5.931097</td>\n",
       "    </tr>\n",
       "    <tr>\n",
       "      <th>3987</th>\n",
       "      <td>State</td>\n",
       "      <td>5.0</td>\n",
       "      <td>Arkansas</td>\n",
       "      <td>Durable Medical Equipment</td>\n",
       "      <td>D1E</td>\n",
       "      <td>Other DME</td>\n",
       "      <td>A4253</td>\n",
       "      <td>Blood glucose test or reagent strips for home ...</td>\n",
       "      <td>N</td>\n",
       "      <td>2258</td>\n",
       "      <td>924</td>\n",
       "      <td>19444.0</td>\n",
       "      <td>51839</td>\n",
       "      <td>139633</td>\n",
       "      <td>49.084897</td>\n",
       "      <td>8.435714</td>\n",
       "      <td>6.028881</td>\n",
       "      <td>5.825964</td>\n",
       "    </tr>\n",
       "  </tbody>\n",
       "</table>\n",
       "</div>"
      ],
      "text/plain": [
       "     Rfrg_Prvdr_Geo_Lvl Rfrg_Prvdr_Geo_Cd Rfrg_Prvdr_Geo_Desc  \\\n",
       "592            National               6.0            National   \n",
       "1999              State               1.0             Alabama   \n",
       "2624              State               2.0              Alaska   \n",
       "3186              State               4.0             Arizona   \n",
       "3987              State               5.0            Arkansas   \n",
       "\n",
       "                      BETOS_Lvl BETOS_Cd BETOS_Desc HCPCS_Cd  \\\n",
       "592   Durable Medical Equipment      D1E  Other DME    A4253   \n",
       "1999  Durable Medical Equipment      D1E  Other DME    A4253   \n",
       "2624  Durable Medical Equipment      D1E  Other DME    A4253   \n",
       "3186  Durable Medical Equipment      D1E  Other DME    A4253   \n",
       "3987  Durable Medical Equipment      D1E  Other DME    A4253   \n",
       "\n",
       "                                             HCPCS_Desc Suplr_Rentl_Ind  \\\n",
       "592   Blood glucose test or reagent strips for home ...               N   \n",
       "1999  Blood glucose test or reagent strips for home ...               N   \n",
       "2624  Blood glucose test or reagent strips for home ...               N   \n",
       "3186  Blood glucose test or reagent strips for home ...               N   \n",
       "3987  Blood glucose test or reagent strips for home ...               N   \n",
       "\n",
       "      Tot_Rfrg_Prvdrs  Tot_Suplrs  Tot_Suplr_Benes  Tot_Suplr_Clms  \\\n",
       "592            233762       43511        1891407.0         5104070   \n",
       "1999             3093        1406          25059.0           64060   \n",
       "2624              509         204           2394.0            5877   \n",
       "3186             4387        2262          29371.0           70945   \n",
       "3987             2258         924          19444.0           51839   \n",
       "\n",
       "      Tot_Suplr_Srvcs  Avg_Suplr_Sbmtd_Chrg  Avg_Suplr_Mdcr_Alowd_Amt  \\\n",
       "592          13931820             61.932717                  8.400779   \n",
       "1999           181067             56.558110                  8.423689   \n",
       "2624            16216             64.369821                  8.403106   \n",
       "3186           207369             66.860627                  8.386908   \n",
       "3987           139633             49.084897                  8.435714   \n",
       "\n",
       "      Avg_Suplr_Mdcr_Pymt_Amt  Avg_Suplr_Mdcr_Stdzd_Amt  \n",
       "592                  5.964003                  5.786099  \n",
       "1999                 6.055243                  5.858798  \n",
       "2624                 5.852651                  5.676490  \n",
       "3186                 6.101452                  5.931097  \n",
       "3987                 6.028881                  5.825964  "
      ]
     },
     "execution_count": 9,
     "metadata": {},
     "output_type": "execute_result"
    }
   ],
   "source": [
    "blood_glucose_test = df[df.HCPCS_Cd == 'A4253']\n",
    "blood_glucose_test.head()"
   ]
  },
  {
   "cell_type": "markdown",
   "id": "dd2cce9c",
   "metadata": {},
   "source": [
    "There are 59 rows with blood glucose test/reagent strip information from various states and locations. "
   ]
  },
  {
   "cell_type": "code",
   "execution_count": 10,
   "id": "2a9115a9",
   "metadata": {},
   "outputs": [
    {
     "data": {
      "text/plain": [
       "(59, 18)"
      ]
     },
     "execution_count": 10,
     "metadata": {},
     "output_type": "execute_result"
    }
   ],
   "source": [
    "blood_glucose_test.shape"
   ]
  },
  {
   "cell_type": "code",
   "execution_count": 11,
   "id": "9f4a899a",
   "metadata": {},
   "outputs": [
    {
     "data": {
      "text/plain": [
       "(40208, 18)"
      ]
     },
     "execution_count": 11,
     "metadata": {},
     "output_type": "execute_result"
    }
   ],
   "source": [
    "others = df[df.HCPCS_Cd != 'A4253']\n",
    "others.shape"
   ]
  },
  {
   "cell_type": "markdown",
   "id": "98edfd95",
   "metadata": {},
   "source": [
    "We will drop the unnecessary columns such as product descriptions and rental information."
   ]
  },
  {
   "cell_type": "code",
   "execution_count": 12,
   "id": "61f777bd",
   "metadata": {},
   "outputs": [],
   "source": [
    "blood_glucose_test = blood_glucose_test.drop(columns=['Rfrg_Prvdr_Geo_Lvl', 'Rfrg_Prvdr_Geo_Cd', 'BETOS_Lvl', 'BETOS_Cd', 'BETOS_Desc', 'HCPCS_Desc', 'Suplr_Rentl_Ind'])"
   ]
  },
  {
   "cell_type": "code",
   "execution_count": 13,
   "id": "34370407",
   "metadata": {},
   "outputs": [
    {
     "data": {
      "text/html": [
       "<div>\n",
       "<style scoped>\n",
       "    .dataframe tbody tr th:only-of-type {\n",
       "        vertical-align: middle;\n",
       "    }\n",
       "\n",
       "    .dataframe tbody tr th {\n",
       "        vertical-align: top;\n",
       "    }\n",
       "\n",
       "    .dataframe thead th {\n",
       "        text-align: right;\n",
       "    }\n",
       "</style>\n",
       "<table border=\"1\" class=\"dataframe\">\n",
       "  <thead>\n",
       "    <tr style=\"text-align: right;\">\n",
       "      <th></th>\n",
       "      <th>Rfrg_Prvdr_Geo_Desc</th>\n",
       "      <th>HCPCS_Cd</th>\n",
       "      <th>Tot_Rfrg_Prvdrs</th>\n",
       "      <th>Tot_Suplrs</th>\n",
       "      <th>Tot_Suplr_Benes</th>\n",
       "      <th>Tot_Suplr_Clms</th>\n",
       "      <th>Tot_Suplr_Srvcs</th>\n",
       "      <th>Avg_Suplr_Sbmtd_Chrg</th>\n",
       "      <th>Avg_Suplr_Mdcr_Alowd_Amt</th>\n",
       "      <th>Avg_Suplr_Mdcr_Pymt_Amt</th>\n",
       "      <th>Avg_Suplr_Mdcr_Stdzd_Amt</th>\n",
       "    </tr>\n",
       "  </thead>\n",
       "  <tbody>\n",
       "    <tr>\n",
       "      <th>592</th>\n",
       "      <td>National</td>\n",
       "      <td>A4253</td>\n",
       "      <td>233762</td>\n",
       "      <td>43511</td>\n",
       "      <td>1891407.0</td>\n",
       "      <td>5104070</td>\n",
       "      <td>13931820</td>\n",
       "      <td>61.932717</td>\n",
       "      <td>8.400779</td>\n",
       "      <td>5.964003</td>\n",
       "      <td>5.786099</td>\n",
       "    </tr>\n",
       "    <tr>\n",
       "      <th>1999</th>\n",
       "      <td>Alabama</td>\n",
       "      <td>A4253</td>\n",
       "      <td>3093</td>\n",
       "      <td>1406</td>\n",
       "      <td>25059.0</td>\n",
       "      <td>64060</td>\n",
       "      <td>181067</td>\n",
       "      <td>56.558110</td>\n",
       "      <td>8.423689</td>\n",
       "      <td>6.055243</td>\n",
       "      <td>5.858798</td>\n",
       "    </tr>\n",
       "    <tr>\n",
       "      <th>2624</th>\n",
       "      <td>Alaska</td>\n",
       "      <td>A4253</td>\n",
       "      <td>509</td>\n",
       "      <td>204</td>\n",
       "      <td>2394.0</td>\n",
       "      <td>5877</td>\n",
       "      <td>16216</td>\n",
       "      <td>64.369821</td>\n",
       "      <td>8.403106</td>\n",
       "      <td>5.852651</td>\n",
       "      <td>5.676490</td>\n",
       "    </tr>\n",
       "    <tr>\n",
       "      <th>3186</th>\n",
       "      <td>Arizona</td>\n",
       "      <td>A4253</td>\n",
       "      <td>4387</td>\n",
       "      <td>2262</td>\n",
       "      <td>29371.0</td>\n",
       "      <td>70945</td>\n",
       "      <td>207369</td>\n",
       "      <td>66.860627</td>\n",
       "      <td>8.386908</td>\n",
       "      <td>6.101452</td>\n",
       "      <td>5.931097</td>\n",
       "    </tr>\n",
       "    <tr>\n",
       "      <th>3987</th>\n",
       "      <td>Arkansas</td>\n",
       "      <td>A4253</td>\n",
       "      <td>2258</td>\n",
       "      <td>924</td>\n",
       "      <td>19444.0</td>\n",
       "      <td>51839</td>\n",
       "      <td>139633</td>\n",
       "      <td>49.084897</td>\n",
       "      <td>8.435714</td>\n",
       "      <td>6.028881</td>\n",
       "      <td>5.825964</td>\n",
       "    </tr>\n",
       "  </tbody>\n",
       "</table>\n",
       "</div>"
      ],
      "text/plain": [
       "     Rfrg_Prvdr_Geo_Desc HCPCS_Cd  Tot_Rfrg_Prvdrs  Tot_Suplrs  \\\n",
       "592             National    A4253           233762       43511   \n",
       "1999             Alabama    A4253             3093        1406   \n",
       "2624              Alaska    A4253              509         204   \n",
       "3186             Arizona    A4253             4387        2262   \n",
       "3987            Arkansas    A4253             2258         924   \n",
       "\n",
       "      Tot_Suplr_Benes  Tot_Suplr_Clms  Tot_Suplr_Srvcs  Avg_Suplr_Sbmtd_Chrg  \\\n",
       "592         1891407.0         5104070         13931820             61.932717   \n",
       "1999          25059.0           64060           181067             56.558110   \n",
       "2624           2394.0            5877            16216             64.369821   \n",
       "3186          29371.0           70945           207369             66.860627   \n",
       "3987          19444.0           51839           139633             49.084897   \n",
       "\n",
       "      Avg_Suplr_Mdcr_Alowd_Amt  Avg_Suplr_Mdcr_Pymt_Amt  \\\n",
       "592                   8.400779                 5.964003   \n",
       "1999                  8.423689                 6.055243   \n",
       "2624                  8.403106                 5.852651   \n",
       "3186                  8.386908                 6.101452   \n",
       "3987                  8.435714                 6.028881   \n",
       "\n",
       "      Avg_Suplr_Mdcr_Stdzd_Amt  \n",
       "592                   5.786099  \n",
       "1999                  5.858798  \n",
       "2624                  5.676490  \n",
       "3186                  5.931097  \n",
       "3987                  5.825964  "
      ]
     },
     "execution_count": 13,
     "metadata": {},
     "output_type": "execute_result"
    }
   ],
   "source": [
    "blood_glucose_test.head()"
   ]
  },
  {
   "cell_type": "markdown",
   "id": "dbad5356",
   "metadata": {},
   "source": [
    "Create dummy features for the categorical columns using the get_dummies() method."
   ]
  },
  {
   "cell_type": "code",
   "execution_count": 14,
   "id": "ac6f5ef7",
   "metadata": {},
   "outputs": [],
   "source": [
    "dummy_df = pd.get_dummies(blood_glucose_test['Rfrg_Prvdr_Geo_Desc'])"
   ]
  },
  {
   "cell_type": "markdown",
   "id": "ea126266",
   "metadata": {},
   "source": [
    "Double check that all of the features are now numerical using dtypes method."
   ]
  },
  {
   "cell_type": "code",
   "execution_count": 15,
   "id": "737b657d",
   "metadata": {},
   "outputs": [
    {
     "data": {
      "text/plain": [
       "Alabama                 uint8\n",
       "Alaska                  uint8\n",
       "Arizona                 uint8\n",
       "Arkansas                uint8\n",
       "Armed Forces Europe     uint8\n",
       "Armed Forces Pacific    uint8\n",
       "California              uint8\n",
       "Colorado                uint8\n",
       "Connecticut             uint8\n",
       "Delaware                uint8\n",
       "District of Columbia    uint8\n",
       "Florida                 uint8\n",
       "Foreign Country         uint8\n",
       "Georgia                 uint8\n",
       "Guam                    uint8\n",
       "Hawaii                  uint8\n",
       "Idaho                   uint8\n",
       "Illinois                uint8\n",
       "Indiana                 uint8\n",
       "Iowa                    uint8\n",
       "Kansas                  uint8\n",
       "Kentucky                uint8\n",
       "Louisiana               uint8\n",
       "Maine                   uint8\n",
       "Maryland                uint8\n",
       "Massachusetts           uint8\n",
       "Michigan                uint8\n",
       "Minnesota               uint8\n",
       "Mississippi             uint8\n",
       "Missouri                uint8\n",
       "Montana                 uint8\n",
       "National                uint8\n",
       "Nebraska                uint8\n",
       "Nevada                  uint8\n",
       "New Hampshire           uint8\n",
       "New Jersey              uint8\n",
       "New Mexico              uint8\n",
       "New York                uint8\n",
       "North Carolina          uint8\n",
       "North Dakota            uint8\n",
       "Ohio                    uint8\n",
       "Oklahoma                uint8\n",
       "Oregon                  uint8\n",
       "Pennsylvania            uint8\n",
       "Puerto Rico             uint8\n",
       "Rhode Island            uint8\n",
       "South Carolina          uint8\n",
       "South Dakota            uint8\n",
       "Tennessee               uint8\n",
       "Texas                   uint8\n",
       "Unknown                 uint8\n",
       "Utah                    uint8\n",
       "Vermont                 uint8\n",
       "Virgin Islands          uint8\n",
       "Virginia                uint8\n",
       "Washington              uint8\n",
       "West Virginia           uint8\n",
       "Wisconsin               uint8\n",
       "Wyoming                 uint8\n",
       "dtype: object"
      ]
     },
     "execution_count": 15,
     "metadata": {},
     "output_type": "execute_result"
    }
   ],
   "source": [
    "dummy_df.dtypes"
   ]
  },
  {
   "cell_type": "code",
   "execution_count": 16,
   "id": "09b89e99",
   "metadata": {},
   "outputs": [
    {
     "data": {
      "text/html": [
       "<div>\n",
       "<style scoped>\n",
       "    .dataframe tbody tr th:only-of-type {\n",
       "        vertical-align: middle;\n",
       "    }\n",
       "\n",
       "    .dataframe tbody tr th {\n",
       "        vertical-align: top;\n",
       "    }\n",
       "\n",
       "    .dataframe thead th {\n",
       "        text-align: right;\n",
       "    }\n",
       "</style>\n",
       "<table border=\"1\" class=\"dataframe\">\n",
       "  <thead>\n",
       "    <tr style=\"text-align: right;\">\n",
       "      <th></th>\n",
       "      <th>Alabama</th>\n",
       "      <th>Alaska</th>\n",
       "      <th>Arizona</th>\n",
       "      <th>Arkansas</th>\n",
       "      <th>Armed Forces Europe</th>\n",
       "      <th>Armed Forces Pacific</th>\n",
       "      <th>California</th>\n",
       "      <th>Colorado</th>\n",
       "      <th>Connecticut</th>\n",
       "      <th>Delaware</th>\n",
       "      <th>...</th>\n",
       "      <th>Texas</th>\n",
       "      <th>Unknown</th>\n",
       "      <th>Utah</th>\n",
       "      <th>Vermont</th>\n",
       "      <th>Virgin Islands</th>\n",
       "      <th>Virginia</th>\n",
       "      <th>Washington</th>\n",
       "      <th>West Virginia</th>\n",
       "      <th>Wisconsin</th>\n",
       "      <th>Wyoming</th>\n",
       "    </tr>\n",
       "  </thead>\n",
       "  <tbody>\n",
       "    <tr>\n",
       "      <th>592</th>\n",
       "      <td>0</td>\n",
       "      <td>0</td>\n",
       "      <td>0</td>\n",
       "      <td>0</td>\n",
       "      <td>0</td>\n",
       "      <td>0</td>\n",
       "      <td>0</td>\n",
       "      <td>0</td>\n",
       "      <td>0</td>\n",
       "      <td>0</td>\n",
       "      <td>...</td>\n",
       "      <td>0</td>\n",
       "      <td>0</td>\n",
       "      <td>0</td>\n",
       "      <td>0</td>\n",
       "      <td>0</td>\n",
       "      <td>0</td>\n",
       "      <td>0</td>\n",
       "      <td>0</td>\n",
       "      <td>0</td>\n",
       "      <td>0</td>\n",
       "    </tr>\n",
       "    <tr>\n",
       "      <th>1999</th>\n",
       "      <td>1</td>\n",
       "      <td>0</td>\n",
       "      <td>0</td>\n",
       "      <td>0</td>\n",
       "      <td>0</td>\n",
       "      <td>0</td>\n",
       "      <td>0</td>\n",
       "      <td>0</td>\n",
       "      <td>0</td>\n",
       "      <td>0</td>\n",
       "      <td>...</td>\n",
       "      <td>0</td>\n",
       "      <td>0</td>\n",
       "      <td>0</td>\n",
       "      <td>0</td>\n",
       "      <td>0</td>\n",
       "      <td>0</td>\n",
       "      <td>0</td>\n",
       "      <td>0</td>\n",
       "      <td>0</td>\n",
       "      <td>0</td>\n",
       "    </tr>\n",
       "    <tr>\n",
       "      <th>2624</th>\n",
       "      <td>0</td>\n",
       "      <td>1</td>\n",
       "      <td>0</td>\n",
       "      <td>0</td>\n",
       "      <td>0</td>\n",
       "      <td>0</td>\n",
       "      <td>0</td>\n",
       "      <td>0</td>\n",
       "      <td>0</td>\n",
       "      <td>0</td>\n",
       "      <td>...</td>\n",
       "      <td>0</td>\n",
       "      <td>0</td>\n",
       "      <td>0</td>\n",
       "      <td>0</td>\n",
       "      <td>0</td>\n",
       "      <td>0</td>\n",
       "      <td>0</td>\n",
       "      <td>0</td>\n",
       "      <td>0</td>\n",
       "      <td>0</td>\n",
       "    </tr>\n",
       "    <tr>\n",
       "      <th>3186</th>\n",
       "      <td>0</td>\n",
       "      <td>0</td>\n",
       "      <td>1</td>\n",
       "      <td>0</td>\n",
       "      <td>0</td>\n",
       "      <td>0</td>\n",
       "      <td>0</td>\n",
       "      <td>0</td>\n",
       "      <td>0</td>\n",
       "      <td>0</td>\n",
       "      <td>...</td>\n",
       "      <td>0</td>\n",
       "      <td>0</td>\n",
       "      <td>0</td>\n",
       "      <td>0</td>\n",
       "      <td>0</td>\n",
       "      <td>0</td>\n",
       "      <td>0</td>\n",
       "      <td>0</td>\n",
       "      <td>0</td>\n",
       "      <td>0</td>\n",
       "    </tr>\n",
       "    <tr>\n",
       "      <th>3987</th>\n",
       "      <td>0</td>\n",
       "      <td>0</td>\n",
       "      <td>0</td>\n",
       "      <td>1</td>\n",
       "      <td>0</td>\n",
       "      <td>0</td>\n",
       "      <td>0</td>\n",
       "      <td>0</td>\n",
       "      <td>0</td>\n",
       "      <td>0</td>\n",
       "      <td>...</td>\n",
       "      <td>0</td>\n",
       "      <td>0</td>\n",
       "      <td>0</td>\n",
       "      <td>0</td>\n",
       "      <td>0</td>\n",
       "      <td>0</td>\n",
       "      <td>0</td>\n",
       "      <td>0</td>\n",
       "      <td>0</td>\n",
       "      <td>0</td>\n",
       "    </tr>\n",
       "  </tbody>\n",
       "</table>\n",
       "<p>5 rows × 59 columns</p>\n",
       "</div>"
      ],
      "text/plain": [
       "      Alabama  Alaska  Arizona  Arkansas  Armed Forces Europe  \\\n",
       "592         0       0        0         0                    0   \n",
       "1999        1       0        0         0                    0   \n",
       "2624        0       1        0         0                    0   \n",
       "3186        0       0        1         0                    0   \n",
       "3987        0       0        0         1                    0   \n",
       "\n",
       "      Armed Forces Pacific  California  Colorado  Connecticut  Delaware  ...  \\\n",
       "592                      0           0         0            0         0  ...   \n",
       "1999                     0           0         0            0         0  ...   \n",
       "2624                     0           0         0            0         0  ...   \n",
       "3186                     0           0         0            0         0  ...   \n",
       "3987                     0           0         0            0         0  ...   \n",
       "\n",
       "      Texas  Unknown  Utah  Vermont  Virgin Islands  Virginia  Washington  \\\n",
       "592       0        0     0        0               0         0           0   \n",
       "1999      0        0     0        0               0         0           0   \n",
       "2624      0        0     0        0               0         0           0   \n",
       "3186      0        0     0        0               0         0           0   \n",
       "3987      0        0     0        0               0         0           0   \n",
       "\n",
       "      West Virginia  Wisconsin  Wyoming  \n",
       "592               0          0        0  \n",
       "1999              0          0        0  \n",
       "2624              0          0        0  \n",
       "3186              0          0        0  \n",
       "3987              0          0        0  \n",
       "\n",
       "[5 rows x 59 columns]"
      ]
     },
     "execution_count": 16,
     "metadata": {},
     "output_type": "execute_result"
    }
   ],
   "source": [
    "dummy_df.head()"
   ]
  },
  {
   "cell_type": "code",
   "execution_count": 17,
   "id": "4284ba66",
   "metadata": {},
   "outputs": [
    {
     "data": {
      "text/plain": [
       "(59, 59)"
      ]
     },
     "execution_count": 17,
     "metadata": {},
     "output_type": "execute_result"
    }
   ],
   "source": [
    "dummy_df.shape"
   ]
  },
  {
   "cell_type": "markdown",
   "id": "3dc1a2f5",
   "metadata": {},
   "source": [
    "Using the pd.concat() method, we will join the dummy features into the original DataFrame blood_glucose_test."
   ]
  },
  {
   "cell_type": "code",
   "execution_count": 18,
   "id": "f78ad00d",
   "metadata": {},
   "outputs": [
    {
     "data": {
      "text/html": [
       "<div>\n",
       "<style scoped>\n",
       "    .dataframe tbody tr th:only-of-type {\n",
       "        vertical-align: middle;\n",
       "    }\n",
       "\n",
       "    .dataframe tbody tr th {\n",
       "        vertical-align: top;\n",
       "    }\n",
       "\n",
       "    .dataframe thead th {\n",
       "        text-align: right;\n",
       "    }\n",
       "</style>\n",
       "<table border=\"1\" class=\"dataframe\">\n",
       "  <thead>\n",
       "    <tr style=\"text-align: right;\">\n",
       "      <th></th>\n",
       "      <th>Rfrg_Prvdr_Geo_Desc</th>\n",
       "      <th>HCPCS_Cd</th>\n",
       "      <th>Tot_Rfrg_Prvdrs</th>\n",
       "      <th>Tot_Suplrs</th>\n",
       "      <th>Tot_Suplr_Benes</th>\n",
       "      <th>Tot_Suplr_Clms</th>\n",
       "      <th>Tot_Suplr_Srvcs</th>\n",
       "      <th>Avg_Suplr_Sbmtd_Chrg</th>\n",
       "      <th>Avg_Suplr_Mdcr_Alowd_Amt</th>\n",
       "      <th>Avg_Suplr_Mdcr_Pymt_Amt</th>\n",
       "      <th>...</th>\n",
       "      <th>Texas</th>\n",
       "      <th>Unknown</th>\n",
       "      <th>Utah</th>\n",
       "      <th>Vermont</th>\n",
       "      <th>Virgin Islands</th>\n",
       "      <th>Virginia</th>\n",
       "      <th>Washington</th>\n",
       "      <th>West Virginia</th>\n",
       "      <th>Wisconsin</th>\n",
       "      <th>Wyoming</th>\n",
       "    </tr>\n",
       "  </thead>\n",
       "  <tbody>\n",
       "    <tr>\n",
       "      <th>592</th>\n",
       "      <td>National</td>\n",
       "      <td>A4253</td>\n",
       "      <td>233762</td>\n",
       "      <td>43511</td>\n",
       "      <td>1891407.0</td>\n",
       "      <td>5104070</td>\n",
       "      <td>13931820</td>\n",
       "      <td>61.932717</td>\n",
       "      <td>8.400779</td>\n",
       "      <td>5.964003</td>\n",
       "      <td>...</td>\n",
       "      <td>0</td>\n",
       "      <td>0</td>\n",
       "      <td>0</td>\n",
       "      <td>0</td>\n",
       "      <td>0</td>\n",
       "      <td>0</td>\n",
       "      <td>0</td>\n",
       "      <td>0</td>\n",
       "      <td>0</td>\n",
       "      <td>0</td>\n",
       "    </tr>\n",
       "    <tr>\n",
       "      <th>1999</th>\n",
       "      <td>Alabama</td>\n",
       "      <td>A4253</td>\n",
       "      <td>3093</td>\n",
       "      <td>1406</td>\n",
       "      <td>25059.0</td>\n",
       "      <td>64060</td>\n",
       "      <td>181067</td>\n",
       "      <td>56.558110</td>\n",
       "      <td>8.423689</td>\n",
       "      <td>6.055243</td>\n",
       "      <td>...</td>\n",
       "      <td>0</td>\n",
       "      <td>0</td>\n",
       "      <td>0</td>\n",
       "      <td>0</td>\n",
       "      <td>0</td>\n",
       "      <td>0</td>\n",
       "      <td>0</td>\n",
       "      <td>0</td>\n",
       "      <td>0</td>\n",
       "      <td>0</td>\n",
       "    </tr>\n",
       "    <tr>\n",
       "      <th>2624</th>\n",
       "      <td>Alaska</td>\n",
       "      <td>A4253</td>\n",
       "      <td>509</td>\n",
       "      <td>204</td>\n",
       "      <td>2394.0</td>\n",
       "      <td>5877</td>\n",
       "      <td>16216</td>\n",
       "      <td>64.369821</td>\n",
       "      <td>8.403106</td>\n",
       "      <td>5.852651</td>\n",
       "      <td>...</td>\n",
       "      <td>0</td>\n",
       "      <td>0</td>\n",
       "      <td>0</td>\n",
       "      <td>0</td>\n",
       "      <td>0</td>\n",
       "      <td>0</td>\n",
       "      <td>0</td>\n",
       "      <td>0</td>\n",
       "      <td>0</td>\n",
       "      <td>0</td>\n",
       "    </tr>\n",
       "    <tr>\n",
       "      <th>3186</th>\n",
       "      <td>Arizona</td>\n",
       "      <td>A4253</td>\n",
       "      <td>4387</td>\n",
       "      <td>2262</td>\n",
       "      <td>29371.0</td>\n",
       "      <td>70945</td>\n",
       "      <td>207369</td>\n",
       "      <td>66.860627</td>\n",
       "      <td>8.386908</td>\n",
       "      <td>6.101452</td>\n",
       "      <td>...</td>\n",
       "      <td>0</td>\n",
       "      <td>0</td>\n",
       "      <td>0</td>\n",
       "      <td>0</td>\n",
       "      <td>0</td>\n",
       "      <td>0</td>\n",
       "      <td>0</td>\n",
       "      <td>0</td>\n",
       "      <td>0</td>\n",
       "      <td>0</td>\n",
       "    </tr>\n",
       "    <tr>\n",
       "      <th>3987</th>\n",
       "      <td>Arkansas</td>\n",
       "      <td>A4253</td>\n",
       "      <td>2258</td>\n",
       "      <td>924</td>\n",
       "      <td>19444.0</td>\n",
       "      <td>51839</td>\n",
       "      <td>139633</td>\n",
       "      <td>49.084897</td>\n",
       "      <td>8.435714</td>\n",
       "      <td>6.028881</td>\n",
       "      <td>...</td>\n",
       "      <td>0</td>\n",
       "      <td>0</td>\n",
       "      <td>0</td>\n",
       "      <td>0</td>\n",
       "      <td>0</td>\n",
       "      <td>0</td>\n",
       "      <td>0</td>\n",
       "      <td>0</td>\n",
       "      <td>0</td>\n",
       "      <td>0</td>\n",
       "    </tr>\n",
       "  </tbody>\n",
       "</table>\n",
       "<p>5 rows × 70 columns</p>\n",
       "</div>"
      ],
      "text/plain": [
       "     Rfrg_Prvdr_Geo_Desc HCPCS_Cd  Tot_Rfrg_Prvdrs  Tot_Suplrs  \\\n",
       "592             National    A4253           233762       43511   \n",
       "1999             Alabama    A4253             3093        1406   \n",
       "2624              Alaska    A4253              509         204   \n",
       "3186             Arizona    A4253             4387        2262   \n",
       "3987            Arkansas    A4253             2258         924   \n",
       "\n",
       "      Tot_Suplr_Benes  Tot_Suplr_Clms  Tot_Suplr_Srvcs  Avg_Suplr_Sbmtd_Chrg  \\\n",
       "592         1891407.0         5104070         13931820             61.932717   \n",
       "1999          25059.0           64060           181067             56.558110   \n",
       "2624           2394.0            5877            16216             64.369821   \n",
       "3186          29371.0           70945           207369             66.860627   \n",
       "3987          19444.0           51839           139633             49.084897   \n",
       "\n",
       "      Avg_Suplr_Mdcr_Alowd_Amt  Avg_Suplr_Mdcr_Pymt_Amt  ...  Texas  Unknown  \\\n",
       "592                   8.400779                 5.964003  ...      0        0   \n",
       "1999                  8.423689                 6.055243  ...      0        0   \n",
       "2624                  8.403106                 5.852651  ...      0        0   \n",
       "3186                  8.386908                 6.101452  ...      0        0   \n",
       "3987                  8.435714                 6.028881  ...      0        0   \n",
       "\n",
       "      Utah  Vermont  Virgin Islands  Virginia  Washington  West Virginia  \\\n",
       "592      0        0               0         0           0              0   \n",
       "1999     0        0               0         0           0              0   \n",
       "2624     0        0               0         0           0              0   \n",
       "3186     0        0               0         0           0              0   \n",
       "3987     0        0               0         0           0              0   \n",
       "\n",
       "      Wisconsin  Wyoming  \n",
       "592           0        0  \n",
       "1999          0        0  \n",
       "2624          0        0  \n",
       "3186          0        0  \n",
       "3987          0        0  \n",
       "\n",
       "[5 rows x 70 columns]"
      ]
     },
     "execution_count": 18,
     "metadata": {},
     "output_type": "execute_result"
    }
   ],
   "source": [
    "blood_glucose_test = pd.concat([blood_glucose_test, dummy_df], axis=1)\n",
    "blood_glucose_test.head()"
   ]
  },
  {
   "cell_type": "markdown",
   "id": "558eebf0",
   "metadata": {},
   "source": [
    "Then drop the original Rfrg_Prvdr_Geo_Desc column containing the categorical values."
   ]
  },
  {
   "cell_type": "code",
   "execution_count": 19,
   "id": "757bdbe0",
   "metadata": {},
   "outputs": [
    {
     "data": {
      "text/html": [
       "<div>\n",
       "<style scoped>\n",
       "    .dataframe tbody tr th:only-of-type {\n",
       "        vertical-align: middle;\n",
       "    }\n",
       "\n",
       "    .dataframe tbody tr th {\n",
       "        vertical-align: top;\n",
       "    }\n",
       "\n",
       "    .dataframe thead th {\n",
       "        text-align: right;\n",
       "    }\n",
       "</style>\n",
       "<table border=\"1\" class=\"dataframe\">\n",
       "  <thead>\n",
       "    <tr style=\"text-align: right;\">\n",
       "      <th></th>\n",
       "      <th>HCPCS_Cd</th>\n",
       "      <th>Tot_Rfrg_Prvdrs</th>\n",
       "      <th>Tot_Suplrs</th>\n",
       "      <th>Tot_Suplr_Benes</th>\n",
       "      <th>Tot_Suplr_Clms</th>\n",
       "      <th>Tot_Suplr_Srvcs</th>\n",
       "      <th>Avg_Suplr_Sbmtd_Chrg</th>\n",
       "      <th>Avg_Suplr_Mdcr_Alowd_Amt</th>\n",
       "      <th>Avg_Suplr_Mdcr_Pymt_Amt</th>\n",
       "      <th>Avg_Suplr_Mdcr_Stdzd_Amt</th>\n",
       "      <th>...</th>\n",
       "      <th>Texas</th>\n",
       "      <th>Unknown</th>\n",
       "      <th>Utah</th>\n",
       "      <th>Vermont</th>\n",
       "      <th>Virgin Islands</th>\n",
       "      <th>Virginia</th>\n",
       "      <th>Washington</th>\n",
       "      <th>West Virginia</th>\n",
       "      <th>Wisconsin</th>\n",
       "      <th>Wyoming</th>\n",
       "    </tr>\n",
       "  </thead>\n",
       "  <tbody>\n",
       "    <tr>\n",
       "      <th>592</th>\n",
       "      <td>A4253</td>\n",
       "      <td>233762</td>\n",
       "      <td>43511</td>\n",
       "      <td>1891407.0</td>\n",
       "      <td>5104070</td>\n",
       "      <td>13931820</td>\n",
       "      <td>61.932717</td>\n",
       "      <td>8.400779</td>\n",
       "      <td>5.964003</td>\n",
       "      <td>5.786099</td>\n",
       "      <td>...</td>\n",
       "      <td>0</td>\n",
       "      <td>0</td>\n",
       "      <td>0</td>\n",
       "      <td>0</td>\n",
       "      <td>0</td>\n",
       "      <td>0</td>\n",
       "      <td>0</td>\n",
       "      <td>0</td>\n",
       "      <td>0</td>\n",
       "      <td>0</td>\n",
       "    </tr>\n",
       "    <tr>\n",
       "      <th>1999</th>\n",
       "      <td>A4253</td>\n",
       "      <td>3093</td>\n",
       "      <td>1406</td>\n",
       "      <td>25059.0</td>\n",
       "      <td>64060</td>\n",
       "      <td>181067</td>\n",
       "      <td>56.558110</td>\n",
       "      <td>8.423689</td>\n",
       "      <td>6.055243</td>\n",
       "      <td>5.858798</td>\n",
       "      <td>...</td>\n",
       "      <td>0</td>\n",
       "      <td>0</td>\n",
       "      <td>0</td>\n",
       "      <td>0</td>\n",
       "      <td>0</td>\n",
       "      <td>0</td>\n",
       "      <td>0</td>\n",
       "      <td>0</td>\n",
       "      <td>0</td>\n",
       "      <td>0</td>\n",
       "    </tr>\n",
       "    <tr>\n",
       "      <th>2624</th>\n",
       "      <td>A4253</td>\n",
       "      <td>509</td>\n",
       "      <td>204</td>\n",
       "      <td>2394.0</td>\n",
       "      <td>5877</td>\n",
       "      <td>16216</td>\n",
       "      <td>64.369821</td>\n",
       "      <td>8.403106</td>\n",
       "      <td>5.852651</td>\n",
       "      <td>5.676490</td>\n",
       "      <td>...</td>\n",
       "      <td>0</td>\n",
       "      <td>0</td>\n",
       "      <td>0</td>\n",
       "      <td>0</td>\n",
       "      <td>0</td>\n",
       "      <td>0</td>\n",
       "      <td>0</td>\n",
       "      <td>0</td>\n",
       "      <td>0</td>\n",
       "      <td>0</td>\n",
       "    </tr>\n",
       "    <tr>\n",
       "      <th>3186</th>\n",
       "      <td>A4253</td>\n",
       "      <td>4387</td>\n",
       "      <td>2262</td>\n",
       "      <td>29371.0</td>\n",
       "      <td>70945</td>\n",
       "      <td>207369</td>\n",
       "      <td>66.860627</td>\n",
       "      <td>8.386908</td>\n",
       "      <td>6.101452</td>\n",
       "      <td>5.931097</td>\n",
       "      <td>...</td>\n",
       "      <td>0</td>\n",
       "      <td>0</td>\n",
       "      <td>0</td>\n",
       "      <td>0</td>\n",
       "      <td>0</td>\n",
       "      <td>0</td>\n",
       "      <td>0</td>\n",
       "      <td>0</td>\n",
       "      <td>0</td>\n",
       "      <td>0</td>\n",
       "    </tr>\n",
       "    <tr>\n",
       "      <th>3987</th>\n",
       "      <td>A4253</td>\n",
       "      <td>2258</td>\n",
       "      <td>924</td>\n",
       "      <td>19444.0</td>\n",
       "      <td>51839</td>\n",
       "      <td>139633</td>\n",
       "      <td>49.084897</td>\n",
       "      <td>8.435714</td>\n",
       "      <td>6.028881</td>\n",
       "      <td>5.825964</td>\n",
       "      <td>...</td>\n",
       "      <td>0</td>\n",
       "      <td>0</td>\n",
       "      <td>0</td>\n",
       "      <td>0</td>\n",
       "      <td>0</td>\n",
       "      <td>0</td>\n",
       "      <td>0</td>\n",
       "      <td>0</td>\n",
       "      <td>0</td>\n",
       "      <td>0</td>\n",
       "    </tr>\n",
       "  </tbody>\n",
       "</table>\n",
       "<p>5 rows × 69 columns</p>\n",
       "</div>"
      ],
      "text/plain": [
       "     HCPCS_Cd  Tot_Rfrg_Prvdrs  Tot_Suplrs  Tot_Suplr_Benes  Tot_Suplr_Clms  \\\n",
       "592     A4253           233762       43511        1891407.0         5104070   \n",
       "1999    A4253             3093        1406          25059.0           64060   \n",
       "2624    A4253              509         204           2394.0            5877   \n",
       "3186    A4253             4387        2262          29371.0           70945   \n",
       "3987    A4253             2258         924          19444.0           51839   \n",
       "\n",
       "      Tot_Suplr_Srvcs  Avg_Suplr_Sbmtd_Chrg  Avg_Suplr_Mdcr_Alowd_Amt  \\\n",
       "592          13931820             61.932717                  8.400779   \n",
       "1999           181067             56.558110                  8.423689   \n",
       "2624            16216             64.369821                  8.403106   \n",
       "3186           207369             66.860627                  8.386908   \n",
       "3987           139633             49.084897                  8.435714   \n",
       "\n",
       "      Avg_Suplr_Mdcr_Pymt_Amt  Avg_Suplr_Mdcr_Stdzd_Amt  ...  Texas  Unknown  \\\n",
       "592                  5.964003                  5.786099  ...      0        0   \n",
       "1999                 6.055243                  5.858798  ...      0        0   \n",
       "2624                 5.852651                  5.676490  ...      0        0   \n",
       "3186                 6.101452                  5.931097  ...      0        0   \n",
       "3987                 6.028881                  5.825964  ...      0        0   \n",
       "\n",
       "      Utah  Vermont  Virgin Islands  Virginia  Washington  West Virginia  \\\n",
       "592      0        0               0         0           0              0   \n",
       "1999     0        0               0         0           0              0   \n",
       "2624     0        0               0         0           0              0   \n",
       "3186     0        0               0         0           0              0   \n",
       "3987     0        0               0         0           0              0   \n",
       "\n",
       "      Wisconsin  Wyoming  \n",
       "592           0        0  \n",
       "1999          0        0  \n",
       "2624          0        0  \n",
       "3186          0        0  \n",
       "3987          0        0  \n",
       "\n",
       "[5 rows x 69 columns]"
      ]
     },
     "execution_count": 19,
     "metadata": {},
     "output_type": "execute_result"
    }
   ],
   "source": [
    "blood_glucose_test.drop(['Rfrg_Prvdr_Geo_Desc'], axis=1, inplace=True)\n",
    "blood_glucose_test.head()"
   ]
  },
  {
   "cell_type": "markdown",
   "id": "82d1cf83",
   "metadata": {},
   "source": [
    "Using LabelEncoder() method to convert the HCPCS_Cd column to a numerical value."
   ]
  },
  {
   "cell_type": "code",
   "execution_count": 20,
   "id": "cfe7c589",
   "metadata": {},
   "outputs": [],
   "source": [
    "from sklearn.preprocessing import LabelEncoder\n",
    "\n",
    "label_encoder = LabelEncoder()\n",
    "blood_glucose_test['HCPCS_Cd'] = label_encoder.fit_transform(blood_glucose_test['HCPCS_Cd'])"
   ]
  },
  {
   "cell_type": "code",
   "execution_count": 21,
   "id": "bae3ce14",
   "metadata": {},
   "outputs": [
    {
     "data": {
      "text/html": [
       "<div>\n",
       "<style scoped>\n",
       "    .dataframe tbody tr th:only-of-type {\n",
       "        vertical-align: middle;\n",
       "    }\n",
       "\n",
       "    .dataframe tbody tr th {\n",
       "        vertical-align: top;\n",
       "    }\n",
       "\n",
       "    .dataframe thead th {\n",
       "        text-align: right;\n",
       "    }\n",
       "</style>\n",
       "<table border=\"1\" class=\"dataframe\">\n",
       "  <thead>\n",
       "    <tr style=\"text-align: right;\">\n",
       "      <th></th>\n",
       "      <th>HCPCS_Cd</th>\n",
       "      <th>Tot_Rfrg_Prvdrs</th>\n",
       "      <th>Tot_Suplrs</th>\n",
       "      <th>Tot_Suplr_Benes</th>\n",
       "      <th>Tot_Suplr_Clms</th>\n",
       "      <th>Tot_Suplr_Srvcs</th>\n",
       "      <th>Avg_Suplr_Sbmtd_Chrg</th>\n",
       "      <th>Avg_Suplr_Mdcr_Alowd_Amt</th>\n",
       "      <th>Avg_Suplr_Mdcr_Pymt_Amt</th>\n",
       "      <th>Avg_Suplr_Mdcr_Stdzd_Amt</th>\n",
       "      <th>...</th>\n",
       "      <th>Texas</th>\n",
       "      <th>Unknown</th>\n",
       "      <th>Utah</th>\n",
       "      <th>Vermont</th>\n",
       "      <th>Virgin Islands</th>\n",
       "      <th>Virginia</th>\n",
       "      <th>Washington</th>\n",
       "      <th>West Virginia</th>\n",
       "      <th>Wisconsin</th>\n",
       "      <th>Wyoming</th>\n",
       "    </tr>\n",
       "  </thead>\n",
       "  <tbody>\n",
       "    <tr>\n",
       "      <th>592</th>\n",
       "      <td>0</td>\n",
       "      <td>233762</td>\n",
       "      <td>43511</td>\n",
       "      <td>1891407.0</td>\n",
       "      <td>5104070</td>\n",
       "      <td>13931820</td>\n",
       "      <td>61.932717</td>\n",
       "      <td>8.400779</td>\n",
       "      <td>5.964003</td>\n",
       "      <td>5.786099</td>\n",
       "      <td>...</td>\n",
       "      <td>0</td>\n",
       "      <td>0</td>\n",
       "      <td>0</td>\n",
       "      <td>0</td>\n",
       "      <td>0</td>\n",
       "      <td>0</td>\n",
       "      <td>0</td>\n",
       "      <td>0</td>\n",
       "      <td>0</td>\n",
       "      <td>0</td>\n",
       "    </tr>\n",
       "    <tr>\n",
       "      <th>1999</th>\n",
       "      <td>0</td>\n",
       "      <td>3093</td>\n",
       "      <td>1406</td>\n",
       "      <td>25059.0</td>\n",
       "      <td>64060</td>\n",
       "      <td>181067</td>\n",
       "      <td>56.558110</td>\n",
       "      <td>8.423689</td>\n",
       "      <td>6.055243</td>\n",
       "      <td>5.858798</td>\n",
       "      <td>...</td>\n",
       "      <td>0</td>\n",
       "      <td>0</td>\n",
       "      <td>0</td>\n",
       "      <td>0</td>\n",
       "      <td>0</td>\n",
       "      <td>0</td>\n",
       "      <td>0</td>\n",
       "      <td>0</td>\n",
       "      <td>0</td>\n",
       "      <td>0</td>\n",
       "    </tr>\n",
       "    <tr>\n",
       "      <th>2624</th>\n",
       "      <td>0</td>\n",
       "      <td>509</td>\n",
       "      <td>204</td>\n",
       "      <td>2394.0</td>\n",
       "      <td>5877</td>\n",
       "      <td>16216</td>\n",
       "      <td>64.369821</td>\n",
       "      <td>8.403106</td>\n",
       "      <td>5.852651</td>\n",
       "      <td>5.676490</td>\n",
       "      <td>...</td>\n",
       "      <td>0</td>\n",
       "      <td>0</td>\n",
       "      <td>0</td>\n",
       "      <td>0</td>\n",
       "      <td>0</td>\n",
       "      <td>0</td>\n",
       "      <td>0</td>\n",
       "      <td>0</td>\n",
       "      <td>0</td>\n",
       "      <td>0</td>\n",
       "    </tr>\n",
       "    <tr>\n",
       "      <th>3186</th>\n",
       "      <td>0</td>\n",
       "      <td>4387</td>\n",
       "      <td>2262</td>\n",
       "      <td>29371.0</td>\n",
       "      <td>70945</td>\n",
       "      <td>207369</td>\n",
       "      <td>66.860627</td>\n",
       "      <td>8.386908</td>\n",
       "      <td>6.101452</td>\n",
       "      <td>5.931097</td>\n",
       "      <td>...</td>\n",
       "      <td>0</td>\n",
       "      <td>0</td>\n",
       "      <td>0</td>\n",
       "      <td>0</td>\n",
       "      <td>0</td>\n",
       "      <td>0</td>\n",
       "      <td>0</td>\n",
       "      <td>0</td>\n",
       "      <td>0</td>\n",
       "      <td>0</td>\n",
       "    </tr>\n",
       "    <tr>\n",
       "      <th>3987</th>\n",
       "      <td>0</td>\n",
       "      <td>2258</td>\n",
       "      <td>924</td>\n",
       "      <td>19444.0</td>\n",
       "      <td>51839</td>\n",
       "      <td>139633</td>\n",
       "      <td>49.084897</td>\n",
       "      <td>8.435714</td>\n",
       "      <td>6.028881</td>\n",
       "      <td>5.825964</td>\n",
       "      <td>...</td>\n",
       "      <td>0</td>\n",
       "      <td>0</td>\n",
       "      <td>0</td>\n",
       "      <td>0</td>\n",
       "      <td>0</td>\n",
       "      <td>0</td>\n",
       "      <td>0</td>\n",
       "      <td>0</td>\n",
       "      <td>0</td>\n",
       "      <td>0</td>\n",
       "    </tr>\n",
       "  </tbody>\n",
       "</table>\n",
       "<p>5 rows × 69 columns</p>\n",
       "</div>"
      ],
      "text/plain": [
       "      HCPCS_Cd  Tot_Rfrg_Prvdrs  Tot_Suplrs  Tot_Suplr_Benes  Tot_Suplr_Clms  \\\n",
       "592          0           233762       43511        1891407.0         5104070   \n",
       "1999         0             3093        1406          25059.0           64060   \n",
       "2624         0              509         204           2394.0            5877   \n",
       "3186         0             4387        2262          29371.0           70945   \n",
       "3987         0             2258         924          19444.0           51839   \n",
       "\n",
       "      Tot_Suplr_Srvcs  Avg_Suplr_Sbmtd_Chrg  Avg_Suplr_Mdcr_Alowd_Amt  \\\n",
       "592          13931820             61.932717                  8.400779   \n",
       "1999           181067             56.558110                  8.423689   \n",
       "2624            16216             64.369821                  8.403106   \n",
       "3186           207369             66.860627                  8.386908   \n",
       "3987           139633             49.084897                  8.435714   \n",
       "\n",
       "      Avg_Suplr_Mdcr_Pymt_Amt  Avg_Suplr_Mdcr_Stdzd_Amt  ...  Texas  Unknown  \\\n",
       "592                  5.964003                  5.786099  ...      0        0   \n",
       "1999                 6.055243                  5.858798  ...      0        0   \n",
       "2624                 5.852651                  5.676490  ...      0        0   \n",
       "3186                 6.101452                  5.931097  ...      0        0   \n",
       "3987                 6.028881                  5.825964  ...      0        0   \n",
       "\n",
       "      Utah  Vermont  Virgin Islands  Virginia  Washington  West Virginia  \\\n",
       "592      0        0               0         0           0              0   \n",
       "1999     0        0               0         0           0              0   \n",
       "2624     0        0               0         0           0              0   \n",
       "3186     0        0               0         0           0              0   \n",
       "3987     0        0               0         0           0              0   \n",
       "\n",
       "      Wisconsin  Wyoming  \n",
       "592           0        0  \n",
       "1999          0        0  \n",
       "2624          0        0  \n",
       "3186          0        0  \n",
       "3987          0        0  \n",
       "\n",
       "[5 rows x 69 columns]"
      ]
     },
     "execution_count": 21,
     "metadata": {},
     "output_type": "execute_result"
    }
   ],
   "source": [
    "blood_glucose_test.head()"
   ]
  },
  {
   "cell_type": "markdown",
   "id": "96b5f6b9",
   "metadata": {},
   "source": [
    "We will now split our dataset into features (X) and the target variable - purchasing price (y)"
   ]
  },
  {
   "cell_type": "code",
   "execution_count": 22,
   "id": "81d228f5",
   "metadata": {},
   "outputs": [],
   "source": [
    "X = blood_glucose_test.drop(columns='Avg_Suplr_Sbmtd_Chrg')\n",
    "y = blood_glucose_test['Avg_Suplr_Sbmtd_Chrg']"
   ]
  },
  {
   "cell_type": "markdown",
   "id": "5fdd60d8",
   "metadata": {},
   "source": [
    "Split the data into training and testing sets then make sure the shape attributes match and the dtypes are numerical."
   ]
  },
  {
   "cell_type": "code",
   "execution_count": 23,
   "id": "f62a3231",
   "metadata": {},
   "outputs": [],
   "source": [
    "X_train, X_test, y_train, y_test = train_test_split(X, y, test_size=0.2, random_state=47)"
   ]
  },
  {
   "cell_type": "code",
   "execution_count": 24,
   "id": "65748ee4",
   "metadata": {},
   "outputs": [
    {
     "data": {
      "text/plain": [
       "((47, 68), (12, 68))"
      ]
     },
     "execution_count": 24,
     "metadata": {},
     "output_type": "execute_result"
    }
   ],
   "source": [
    "X_train.shape, X_test.shape"
   ]
  },
  {
   "cell_type": "code",
   "execution_count": 25,
   "id": "a3e1214d",
   "metadata": {},
   "outputs": [
    {
     "data": {
      "text/plain": [
       "((47,), (12,))"
      ]
     },
     "execution_count": 25,
     "metadata": {},
     "output_type": "execute_result"
    }
   ],
   "source": [
    "y_train.shape, y_test.shape"
   ]
  },
  {
   "cell_type": "code",
   "execution_count": 26,
   "id": "29f0f0e5",
   "metadata": {},
   "outputs": [
    {
     "data": {
      "text/html": [
       "<div>\n",
       "<style scoped>\n",
       "    .dataframe tbody tr th:only-of-type {\n",
       "        vertical-align: middle;\n",
       "    }\n",
       "\n",
       "    .dataframe tbody tr th {\n",
       "        vertical-align: top;\n",
       "    }\n",
       "\n",
       "    .dataframe thead th {\n",
       "        text-align: right;\n",
       "    }\n",
       "</style>\n",
       "<table border=\"1\" class=\"dataframe\">\n",
       "  <thead>\n",
       "    <tr style=\"text-align: right;\">\n",
       "      <th></th>\n",
       "      <th>HCPCS_Cd</th>\n",
       "      <th>Tot_Rfrg_Prvdrs</th>\n",
       "      <th>Tot_Suplrs</th>\n",
       "      <th>Tot_Suplr_Benes</th>\n",
       "      <th>Tot_Suplr_Clms</th>\n",
       "      <th>Tot_Suplr_Srvcs</th>\n",
       "      <th>Avg_Suplr_Mdcr_Alowd_Amt</th>\n",
       "      <th>Avg_Suplr_Mdcr_Pymt_Amt</th>\n",
       "      <th>Avg_Suplr_Mdcr_Stdzd_Amt</th>\n",
       "      <th>Alabama</th>\n",
       "      <th>...</th>\n",
       "      <th>Texas</th>\n",
       "      <th>Unknown</th>\n",
       "      <th>Utah</th>\n",
       "      <th>Vermont</th>\n",
       "      <th>Virgin Islands</th>\n",
       "      <th>Virginia</th>\n",
       "      <th>Washington</th>\n",
       "      <th>West Virginia</th>\n",
       "      <th>Wisconsin</th>\n",
       "      <th>Wyoming</th>\n",
       "    </tr>\n",
       "  </thead>\n",
       "  <tbody>\n",
       "    <tr>\n",
       "      <th>23050</th>\n",
       "      <td>0</td>\n",
       "      <td>1716</td>\n",
       "      <td>945</td>\n",
       "      <td>10871.0</td>\n",
       "      <td>27241</td>\n",
       "      <td>78164</td>\n",
       "      <td>8.437167</td>\n",
       "      <td>6.118913</td>\n",
       "      <td>5.911879</td>\n",
       "      <td>0</td>\n",
       "      <td>...</td>\n",
       "      <td>0</td>\n",
       "      <td>0</td>\n",
       "      <td>0</td>\n",
       "      <td>0</td>\n",
       "      <td>0</td>\n",
       "      <td>0</td>\n",
       "      <td>0</td>\n",
       "      <td>0</td>\n",
       "      <td>0</td>\n",
       "      <td>0</td>\n",
       "    </tr>\n",
       "    <tr>\n",
       "      <th>29188</th>\n",
       "      <td>0</td>\n",
       "      <td>2659</td>\n",
       "      <td>1002</td>\n",
       "      <td>22299.0</td>\n",
       "      <td>55874</td>\n",
       "      <td>154464</td>\n",
       "      <td>8.407318</td>\n",
       "      <td>6.044145</td>\n",
       "      <td>5.861016</td>\n",
       "      <td>0</td>\n",
       "      <td>...</td>\n",
       "      <td>0</td>\n",
       "      <td>0</td>\n",
       "      <td>0</td>\n",
       "      <td>0</td>\n",
       "      <td>0</td>\n",
       "      <td>0</td>\n",
       "      <td>0</td>\n",
       "      <td>0</td>\n",
       "      <td>0</td>\n",
       "      <td>0</td>\n",
       "    </tr>\n",
       "    <tr>\n",
       "      <th>25118</th>\n",
       "      <td>0</td>\n",
       "      <td>1474</td>\n",
       "      <td>747</td>\n",
       "      <td>9548.0</td>\n",
       "      <td>24520</td>\n",
       "      <td>70740</td>\n",
       "      <td>8.422987</td>\n",
       "      <td>5.878824</td>\n",
       "      <td>5.687849</td>\n",
       "      <td>0</td>\n",
       "      <td>...</td>\n",
       "      <td>0</td>\n",
       "      <td>0</td>\n",
       "      <td>0</td>\n",
       "      <td>0</td>\n",
       "      <td>0</td>\n",
       "      <td>0</td>\n",
       "      <td>0</td>\n",
       "      <td>0</td>\n",
       "      <td>0</td>\n",
       "      <td>0</td>\n",
       "    </tr>\n",
       "    <tr>\n",
       "      <th>10643</th>\n",
       "      <td>0</td>\n",
       "      <td>1361</td>\n",
       "      <td>579</td>\n",
       "      <td>8193.0</td>\n",
       "      <td>21879</td>\n",
       "      <td>57659</td>\n",
       "      <td>8.398938</td>\n",
       "      <td>5.849704</td>\n",
       "      <td>5.677896</td>\n",
       "      <td>0</td>\n",
       "      <td>...</td>\n",
       "      <td>0</td>\n",
       "      <td>0</td>\n",
       "      <td>0</td>\n",
       "      <td>0</td>\n",
       "      <td>0</td>\n",
       "      <td>0</td>\n",
       "      <td>0</td>\n",
       "      <td>0</td>\n",
       "      <td>0</td>\n",
       "      <td>0</td>\n",
       "    </tr>\n",
       "    <tr>\n",
       "      <th>29921</th>\n",
       "      <td>0</td>\n",
       "      <td>3330</td>\n",
       "      <td>1313</td>\n",
       "      <td>18807.0</td>\n",
       "      <td>49371</td>\n",
       "      <td>141176</td>\n",
       "      <td>8.440170</td>\n",
       "      <td>5.931617</td>\n",
       "      <td>5.728350</td>\n",
       "      <td>0</td>\n",
       "      <td>...</td>\n",
       "      <td>0</td>\n",
       "      <td>0</td>\n",
       "      <td>0</td>\n",
       "      <td>0</td>\n",
       "      <td>0</td>\n",
       "      <td>0</td>\n",
       "      <td>0</td>\n",
       "      <td>0</td>\n",
       "      <td>0</td>\n",
       "      <td>0</td>\n",
       "    </tr>\n",
       "  </tbody>\n",
       "</table>\n",
       "<p>5 rows × 68 columns</p>\n",
       "</div>"
      ],
      "text/plain": [
       "       HCPCS_Cd  Tot_Rfrg_Prvdrs  Tot_Suplrs  Tot_Suplr_Benes  Tot_Suplr_Clms  \\\n",
       "23050         0             1716         945          10871.0           27241   \n",
       "29188         0             2659        1002          22299.0           55874   \n",
       "25118         0             1474         747           9548.0           24520   \n",
       "10643         0             1361         579           8193.0           21879   \n",
       "29921         0             3330        1313          18807.0           49371   \n",
       "\n",
       "       Tot_Suplr_Srvcs  Avg_Suplr_Mdcr_Alowd_Amt  Avg_Suplr_Mdcr_Pymt_Amt  \\\n",
       "23050            78164                  8.437167                 6.118913   \n",
       "29188           154464                  8.407318                 6.044145   \n",
       "25118            70740                  8.422987                 5.878824   \n",
       "10643            57659                  8.398938                 5.849704   \n",
       "29921           141176                  8.440170                 5.931617   \n",
       "\n",
       "       Avg_Suplr_Mdcr_Stdzd_Amt  Alabama  ...  Texas  Unknown  Utah  Vermont  \\\n",
       "23050                  5.911879        0  ...      0        0     0        0   \n",
       "29188                  5.861016        0  ...      0        0     0        0   \n",
       "25118                  5.687849        0  ...      0        0     0        0   \n",
       "10643                  5.677896        0  ...      0        0     0        0   \n",
       "29921                  5.728350        0  ...      0        0     0        0   \n",
       "\n",
       "       Virgin Islands  Virginia  Washington  West Virginia  Wisconsin  Wyoming  \n",
       "23050               0         0           0              0          0        0  \n",
       "29188               0         0           0              0          0        0  \n",
       "25118               0         0           0              0          0        0  \n",
       "10643               0         0           0              0          0        0  \n",
       "29921               0         0           0              0          0        0  \n",
       "\n",
       "[5 rows x 68 columns]"
      ]
     },
     "execution_count": 26,
     "metadata": {},
     "output_type": "execute_result"
    }
   ],
   "source": [
    "X_train.head()"
   ]
  },
  {
   "cell_type": "code",
   "execution_count": 27,
   "id": "5667a035",
   "metadata": {},
   "outputs": [
    {
     "data": {
      "text/plain": [
       "HCPCS_Cd             int32\n",
       "Tot_Rfrg_Prvdrs      int64\n",
       "Tot_Suplrs           int64\n",
       "Tot_Suplr_Benes    float64\n",
       "Tot_Suplr_Clms       int64\n",
       "                    ...   \n",
       "Virginia             uint8\n",
       "Washington           uint8\n",
       "West Virginia        uint8\n",
       "Wisconsin            uint8\n",
       "Wyoming              uint8\n",
       "Length: 68, dtype: object"
      ]
     },
     "execution_count": 27,
     "metadata": {},
     "output_type": "execute_result"
    }
   ],
   "source": [
    "X_train.dtypes"
   ]
  },
  {
   "cell_type": "code",
   "execution_count": 28,
   "id": "772e4a3b",
   "metadata": {},
   "outputs": [
    {
     "data": {
      "text/plain": [
       "HCPCS_Cd             int32\n",
       "Tot_Rfrg_Prvdrs      int64\n",
       "Tot_Suplrs           int64\n",
       "Tot_Suplr_Benes    float64\n",
       "Tot_Suplr_Clms       int64\n",
       "                    ...   \n",
       "Virginia             uint8\n",
       "Washington           uint8\n",
       "West Virginia        uint8\n",
       "Wisconsin            uint8\n",
       "Wyoming              uint8\n",
       "Length: 68, dtype: object"
      ]
     },
     "execution_count": 28,
     "metadata": {},
     "output_type": "execute_result"
    }
   ],
   "source": [
    "X_test.dtypes"
   ]
  },
  {
   "cell_type": "code",
   "execution_count": 29,
   "id": "2e346ae2",
   "metadata": {},
   "outputs": [
    {
     "data": {
      "text/plain": [
       "60.97952190987234"
      ]
     },
     "execution_count": 29,
     "metadata": {},
     "output_type": "execute_result"
    }
   ],
   "source": [
    "train_mean = y_train.mean()\n",
    "train_mean"
   ]
  },
  {
   "cell_type": "markdown",
   "id": "f7840d42",
   "metadata": {},
   "source": [
    "The average purchasing price for the training set is $60.98."
   ]
  },
  {
   "cell_type": "code",
   "execution_count": 30,
   "id": "7e91a624",
   "metadata": {},
   "outputs": [
    {
     "data": {
      "text/plain": [
       "array([[60.97952191]])"
      ]
     },
     "execution_count": 30,
     "metadata": {},
     "output_type": "execute_result"
    }
   ],
   "source": [
    "dumb_reg = DummyRegressor(strategy='mean')\n",
    "dumb_reg.fit(X_train, y_train)\n",
    "dumb_reg.constant_"
   ]
  },
  {
   "cell_type": "markdown",
   "id": "3a9c1db8",
   "metadata": {},
   "source": [
    "Running the dummy regressor model with strategy mean also resulted in the same purchasing price $60.98 for the training set."
   ]
  },
  {
   "cell_type": "code",
   "execution_count": 31,
   "id": "bc5ac578",
   "metadata": {},
   "outputs": [],
   "source": [
    "def r_squared(y, ypred):\n",
    "    ybar = np.sum(y) / len(y)\n",
    "    sum_sq_tot = np.sum((y - ybar)**2)\n",
    "    sum_sq_res = np.sum((y - ypred)**2)\n",
    "    R2 = 1.0 - sum_sq_tot / sum_sq_res\n",
    "    return R2"
   ]
  },
  {
   "cell_type": "code",
   "execution_count": 32,
   "id": "e199ee24",
   "metadata": {},
   "outputs": [
    {
     "data": {
      "text/plain": [
       "array([60.97952191, 60.97952191, 60.97952191, 60.97952191, 60.97952191])"
      ]
     },
     "execution_count": 32,
     "metadata": {},
     "output_type": "execute_result"
    }
   ],
   "source": [
    "y_tr_pred_ = train_mean * np.ones(len(y_train))\n",
    "y_tr_pred_[:5]"
   ]
  },
  {
   "cell_type": "code",
   "execution_count": 33,
   "id": "76da8776",
   "metadata": {},
   "outputs": [
    {
     "data": {
      "text/plain": [
       "array([60.97952191, 60.97952191, 60.97952191, 60.97952191, 60.97952191])"
      ]
     },
     "execution_count": 33,
     "metadata": {},
     "output_type": "execute_result"
    }
   ],
   "source": [
    "y_tr_pred = dumb_reg.predict(X_train)\n",
    "y_tr_pred[:5]"
   ]
  },
  {
   "cell_type": "code",
   "execution_count": 34,
   "id": "14a2d098",
   "metadata": {},
   "outputs": [
    {
     "data": {
      "text/plain": [
       "0.0"
      ]
     },
     "execution_count": 34,
     "metadata": {},
     "output_type": "execute_result"
    }
   ],
   "source": [
    "r_squared(y_train, y_tr_pred)"
   ]
  },
  {
   "cell_type": "markdown",
   "id": "75c6a85b",
   "metadata": {},
   "source": [
    "Finding the r-squared of the training set resulted in the same mean and 0.0 value, this indicates that the baseline model perfectly predicts the observed values and has no residual error."
   ]
  },
  {
   "cell_type": "code",
   "execution_count": 35,
   "id": "ba1bbae5",
   "metadata": {},
   "outputs": [
    {
     "data": {
      "text/plain": [
       "0.25134709893080365"
      ]
     },
     "execution_count": 35,
     "metadata": {},
     "output_type": "execute_result"
    }
   ],
   "source": [
    "y_te_pred = train_mean * np.ones(len(y_test))\n",
    "r_squared(y_test, y_te_pred)"
   ]
  },
  {
   "cell_type": "markdown",
   "id": "854d57a8",
   "metadata": {},
   "source": [
    "This r-squared value suggests that approximately 25.13% of the variance in y_test is explained by the predictions, this indicatese that the model does have some predictive power but still leaves a significant amount of variability in purchasing price."
   ]
  },
  {
   "cell_type": "code",
   "execution_count": 36,
   "id": "5c50257d",
   "metadata": {},
   "outputs": [],
   "source": [
    "def mae(y, ypred):\n",
    "    abs_error = np.abs(y - ypred)\n",
    "    mae = np.mean(abs_error)\n",
    "    return mae"
   ]
  },
  {
   "cell_type": "code",
   "execution_count": 37,
   "id": "33f30b6f",
   "metadata": {},
   "outputs": [
    {
     "data": {
      "text/plain": [
       "4.307658744050702"
      ]
     },
     "execution_count": 37,
     "metadata": {},
     "output_type": "execute_result"
    }
   ],
   "source": [
    "mae(y_train, y_tr_pred)"
   ]
  },
  {
   "cell_type": "code",
   "execution_count": 38,
   "id": "198d9b06",
   "metadata": {},
   "outputs": [
    {
     "data": {
      "text/plain": [
       "3.4296720807925536"
      ]
     },
     "execution_count": 38,
     "metadata": {},
     "output_type": "execute_result"
    }
   ],
   "source": [
    "mae(y_test, y_te_pred)"
   ]
  },
  {
   "cell_type": "markdown",
   "id": "b055bddd",
   "metadata": {},
   "source": [
    "Mean absolute error is telling us that on average we may expect to be off around $3 for the purchasing price based on an average of known values."
   ]
  },
  {
   "cell_type": "code",
   "execution_count": 39,
   "id": "a0027dd9",
   "metadata": {},
   "outputs": [],
   "source": [
    "def mse(y, ypred):\n",
    "    sq_error = (y - ypred)**2\n",
    "    mse = np.mean(sq_error)\n",
    "    return mse"
   ]
  },
  {
   "cell_type": "code",
   "execution_count": 40,
   "id": "61fdba0b",
   "metadata": {},
   "outputs": [
    {
     "data": {
      "text/plain": [
       "32.00916330006543"
      ]
     },
     "execution_count": 40,
     "metadata": {},
     "output_type": "execute_result"
    }
   ],
   "source": [
    "mse(y_train, y_tr_pred)"
   ]
  },
  {
   "cell_type": "code",
   "execution_count": 41,
   "id": "c55a5c59",
   "metadata": {},
   "outputs": [
    {
     "data": {
      "text/plain": [
       "20.794573332077928"
      ]
     },
     "execution_count": 41,
     "metadata": {},
     "output_type": "execute_result"
    }
   ],
   "source": [
    "mse(y_test, y_te_pred)"
   ]
  },
  {
   "cell_type": "code",
   "execution_count": 42,
   "id": "53196a76",
   "metadata": {},
   "outputs": [
    {
     "data": {
      "text/plain": [
       "array([5.65766412, 4.56010672])"
      ]
     },
     "execution_count": 42,
     "metadata": {},
     "output_type": "execute_result"
    }
   ],
   "source": [
    "np.sqrt([mse(y_train, y_tr_pred), mse(y_test, y_te_pred)])"
   ]
  },
  {
   "cell_type": "markdown",
   "id": "b2f656e3",
   "metadata": {},
   "source": [
    "The mse on the test set is lower than the mse on the training set which suggests that the model is generalizing well to unseen data and the model is not overfitting to the training data. Overall, the model seems to be performing well, with better performance observed on the test set compared to the training set, suggesting good generalization capability."
   ]
  },
  {
   "cell_type": "markdown",
   "id": "64cf3638",
   "metadata": {},
   "source": [
    "##### R-Squared"
   ]
  },
  {
   "cell_type": "code",
   "execution_count": 43,
   "id": "fb0b8e7d",
   "metadata": {},
   "outputs": [
    {
     "data": {
      "text/plain": [
       "(0.0, -0.3357324850699699)"
      ]
     },
     "execution_count": 43,
     "metadata": {},
     "output_type": "execute_result"
    }
   ],
   "source": [
    "r2_score(y_train, y_tr_pred), r2_score(y_test, y_te_pred)"
   ]
  },
  {
   "cell_type": "markdown",
   "id": "1b147e69",
   "metadata": {},
   "source": [
    "##### Mean absolute error"
   ]
  },
  {
   "cell_type": "code",
   "execution_count": 44,
   "id": "ab02ef6f",
   "metadata": {},
   "outputs": [
    {
     "data": {
      "text/plain": [
       "(4.307658744050702, 3.4296720807925536)"
      ]
     },
     "execution_count": 44,
     "metadata": {},
     "output_type": "execute_result"
    }
   ],
   "source": [
    "mean_absolute_error(y_train, y_tr_pred), mean_absolute_error(y_test, y_te_pred)"
   ]
  },
  {
   "cell_type": "markdown",
   "id": "323e828a",
   "metadata": {},
   "source": [
    "##### Mean squared error"
   ]
  },
  {
   "cell_type": "code",
   "execution_count": 45,
   "id": "2241dafe",
   "metadata": {},
   "outputs": [
    {
     "data": {
      "text/plain": [
       "(32.00916330006543, 20.794573332077928)"
      ]
     },
     "execution_count": 45,
     "metadata": {},
     "output_type": "execute_result"
    }
   ],
   "source": [
    "mean_squared_error(y_train, y_tr_pred), mean_squared_error(y_test, y_te_pred)"
   ]
  },
  {
   "cell_type": "markdown",
   "id": "5a0305c9",
   "metadata": {},
   "source": [
    "Learn the values to impute from the train set."
   ]
  },
  {
   "cell_type": "code",
   "execution_count": 46,
   "id": "49bd63fa",
   "metadata": {},
   "outputs": [
    {
     "data": {
      "text/plain": [
       "HCPCS_Cd               0.0\n",
       "Tot_Rfrg_Prvdrs     2401.0\n",
       "Tot_Suplrs          1002.0\n",
       "Tot_Suplr_Benes    19444.0\n",
       "Tot_Suplr_Clms     51313.0\n",
       "                    ...   \n",
       "Virginia               0.0\n",
       "Washington             0.0\n",
       "West Virginia          0.0\n",
       "Wisconsin              0.0\n",
       "Wyoming                0.0\n",
       "Length: 68, dtype: float64"
      ]
     },
     "execution_count": 46,
     "metadata": {},
     "output_type": "execute_result"
    }
   ],
   "source": [
    "X_defaults_median = X_train.median()\n",
    "X_defaults_median"
   ]
  },
  {
   "cell_type": "markdown",
   "id": "a09941b1",
   "metadata": {},
   "source": [
    "Apply the imputation to both train and test splits."
   ]
  },
  {
   "cell_type": "code",
   "execution_count": 47,
   "id": "10e8b556",
   "metadata": {},
   "outputs": [],
   "source": [
    "X_tr = X_train.fillna(X_defaults_median)\n",
    "X_te = X_test.fillna(X_defaults_median)"
   ]
  },
  {
   "cell_type": "markdown",
   "id": "85505273",
   "metadata": {},
   "source": [
    "Scale the data using StandardScaler()."
   ]
  },
  {
   "cell_type": "code",
   "execution_count": 48,
   "id": "d3e378fb",
   "metadata": {},
   "outputs": [],
   "source": [
    "scaler = StandardScaler()\n",
    "scaler.fit(X_tr)\n",
    "X_tr_scaled = scaler.transform(X_tr)\n",
    "X_te_scaled = scaler.transform(X_te)"
   ]
  },
  {
   "cell_type": "markdown",
   "id": "b1571e60",
   "metadata": {},
   "source": [
    "Train the model on Linear Regression."
   ]
  },
  {
   "cell_type": "code",
   "execution_count": 49,
   "id": "f9849e46",
   "metadata": {},
   "outputs": [],
   "source": [
    "lm = LinearRegression().fit(X_tr_scaled, y_train)"
   ]
  },
  {
   "cell_type": "code",
   "execution_count": 50,
   "id": "e68a1895",
   "metadata": {},
   "outputs": [],
   "source": [
    "y_tr_pred = lm.predict(X_tr_scaled)\n",
    "y_te_pred = lm.predict(X_te_scaled)"
   ]
  },
  {
   "cell_type": "code",
   "execution_count": 51,
   "id": "a10b259e",
   "metadata": {},
   "outputs": [
    {
     "data": {
      "text/plain": [
       "(1.0, -0.09966923087628543)"
      ]
     },
     "execution_count": 51,
     "metadata": {},
     "output_type": "execute_result"
    }
   ],
   "source": [
    "median_r2 = r2_score(y_train, y_tr_pred), r2_score(y_test, y_te_pred)\n",
    "median_r2"
   ]
  },
  {
   "cell_type": "markdown",
   "id": "09a240bd",
   "metadata": {},
   "source": [
    "R-squared value of 1.0 on the training set suggests that the model perfectly fits the training data after median imputation but may indicate overfitting. The negative r-squared value suggests that the model's predictions are worse than simply predicitng the mean of the purchasing price. This indicates poor model performance on the test data after median imputation. Overall, median imputation for missing values may not be suitable for improving model performance."
   ]
  },
  {
   "cell_type": "code",
   "execution_count": 52,
   "id": "70d88009",
   "metadata": {},
   "outputs": [
    {
     "data": {
      "text/plain": [
       "(4.384199858945299e-15, 3.117079137917562)"
      ]
     },
     "execution_count": 52,
     "metadata": {},
     "output_type": "execute_result"
    }
   ],
   "source": [
    "median_mae = mean_absolute_error(y_train, y_tr_pred), mean_absolute_error(y_test, y_te_pred)\n",
    "median_mae"
   ]
  },
  {
   "cell_type": "markdown",
   "id": "e7ca27be",
   "metadata": {},
   "source": [
    "On average the estimate purchasing price is within $3 of the real price, this is the same as the previously found average."
   ]
  },
  {
   "cell_type": "code",
   "execution_count": 53,
   "id": "83ec3710",
   "metadata": {},
   "outputs": [
    {
     "data": {
      "text/plain": [
       "(4.6190323641877116e-29, 3.117079137917562)"
      ]
     },
     "execution_count": 53,
     "metadata": {},
     "output_type": "execute_result"
    }
   ],
   "source": [
    "median_mse = mean_squared_error(y_train, y_tr_pred), mean_absolute_error(y_test, y_te_pred)\n",
    "median_mse"
   ]
  },
  {
   "cell_type": "markdown",
   "id": "c1b9ec0e",
   "metadata": {},
   "source": [
    "Low mae and mse on the training set suggests that the model may be overfitting to the training data after median imputation, the model is performing exceptionally well on the training data but not on the test data. The mae and mse on the test set are higher than those on the training test indicating poorer performance on unseen data. The model's predictions on the test data are not as accurate as on the training data. Overall, this may be indicating that the model is overfitting to the training data and poor generalization to unseen data after median imputation."
   ]
  },
  {
   "cell_type": "markdown",
   "id": "5f0e507a",
   "metadata": {},
   "source": [
    "Learn the values to impute from the train set."
   ]
  },
  {
   "cell_type": "code",
   "execution_count": 54,
   "id": "261ab382",
   "metadata": {},
   "outputs": [
    {
     "data": {
      "text/plain": [
       "HCPCS_Cd                0.000000\n",
       "Tot_Rfrg_Prvdrs      8621.595745\n",
       "Tot_Suplrs           2542.234043\n",
       "Tot_Suplr_Benes     69613.510638\n",
       "Tot_Suplr_Clms     186262.170213\n",
       "                       ...      \n",
       "Virginia                0.000000\n",
       "Washington              0.000000\n",
       "West Virginia           0.021277\n",
       "Wisconsin               0.000000\n",
       "Wyoming                 0.021277\n",
       "Length: 68, dtype: float64"
      ]
     },
     "execution_count": 54,
     "metadata": {},
     "output_type": "execute_result"
    }
   ],
   "source": [
    "X_defaults_mean = X_train.mean()\n",
    "X_defaults_mean"
   ]
  },
  {
   "cell_type": "markdown",
   "id": "e045baf2",
   "metadata": {},
   "source": [
    "Apply the imputation to both train and test splits."
   ]
  },
  {
   "cell_type": "code",
   "execution_count": 55,
   "id": "830476d6",
   "metadata": {},
   "outputs": [],
   "source": [
    "X_tr = X_train.fillna(X_defaults_mean)\n",
    "X_te = X_test.fillna(X_defaults_mean)"
   ]
  },
  {
   "cell_type": "markdown",
   "id": "2d7fe806",
   "metadata": {},
   "source": [
    "Scale the data."
   ]
  },
  {
   "cell_type": "code",
   "execution_count": 56,
   "id": "3657fa4f",
   "metadata": {},
   "outputs": [],
   "source": [
    "scaler = StandardScaler()\n",
    "scaler.fit(X_tr)\n",
    "X_tr_scaled = scaler.transform(X_tr)\n",
    "X_te_scaled = scaler.transform(X_te)"
   ]
  },
  {
   "cell_type": "markdown",
   "id": "8cd3a940",
   "metadata": {},
   "source": [
    "Train the model on Linear Regression."
   ]
  },
  {
   "cell_type": "code",
   "execution_count": 57,
   "id": "b7584486",
   "metadata": {},
   "outputs": [],
   "source": [
    "lm = LinearRegression().fit(X_tr_scaled, y_train)"
   ]
  },
  {
   "cell_type": "code",
   "execution_count": 58,
   "id": "3ce91f4f",
   "metadata": {},
   "outputs": [],
   "source": [
    "y_tr_pred = lm.predict(X_tr_scaled)\n",
    "y_te_pred = lm.predict(X_te_scaled)"
   ]
  },
  {
   "cell_type": "code",
   "execution_count": 59,
   "id": "19843d4a",
   "metadata": {},
   "outputs": [
    {
     "data": {
      "text/plain": [
       "(1.0, -0.09966923087628543)"
      ]
     },
     "execution_count": 59,
     "metadata": {},
     "output_type": "execute_result"
    }
   ],
   "source": [
    "r2_score(y_train, y_tr_pred), r2_score(y_test, y_te_pred)"
   ]
  },
  {
   "cell_type": "code",
   "execution_count": 60,
   "id": "0c9c50a9",
   "metadata": {},
   "outputs": [
    {
     "data": {
      "text/plain": [
       "(4.384199858945299e-15, 3.117079137917562)"
      ]
     },
     "execution_count": 60,
     "metadata": {},
     "output_type": "execute_result"
    }
   ],
   "source": [
    "mean_absolute_error(y_train, y_tr_pred), mean_absolute_error(y_test, y_te_pred)"
   ]
  },
  {
   "cell_type": "markdown",
   "id": "ca8e7aed",
   "metadata": {},
   "source": [
    "The r-squared value and mae is the same as the median imputation results."
   ]
  },
  {
   "cell_type": "code",
   "execution_count": 61,
   "id": "7414dda8",
   "metadata": {},
   "outputs": [
    {
     "data": {
      "text/plain": [
       "(4.6190323641877116e-29, 17.119560030232247)"
      ]
     },
     "execution_count": 61,
     "metadata": {},
     "output_type": "execute_result"
    }
   ],
   "source": [
    "mean_squared_error(y_train, y_tr_pred), mean_squared_error(y_test, y_te_pred)"
   ]
  },
  {
   "cell_type": "markdown",
   "id": "b93cc46a",
   "metadata": {},
   "source": [
    "However, the mse on the training set indicates a good fit to the training data but the higher mse on the test set suggests that the model may not be generalizing well to unseen data after mean imputation which may be due to overfitting to the training data. "
   ]
  },
  {
   "cell_type": "markdown",
   "id": "fd00b103",
   "metadata": {},
   "source": [
    "Define the pipeline."
   ]
  },
  {
   "cell_type": "code",
   "execution_count": 62,
   "id": "88ef4a40",
   "metadata": {},
   "outputs": [],
   "source": [
    "pipe = make_pipeline(\n",
    "    SimpleImputer(strategy='median'), \n",
    "    StandardScaler(), \n",
    "    LinearRegression()\n",
    ")"
   ]
  },
  {
   "cell_type": "code",
   "execution_count": 63,
   "id": "50bc8cd1",
   "metadata": {},
   "outputs": [
    {
     "data": {
      "text/plain": [
       "sklearn.pipeline.Pipeline"
      ]
     },
     "execution_count": 63,
     "metadata": {},
     "output_type": "execute_result"
    }
   ],
   "source": [
    "type(pipe)"
   ]
  },
  {
   "cell_type": "code",
   "execution_count": 64,
   "id": "2b8604b9",
   "metadata": {},
   "outputs": [
    {
     "data": {
      "text/plain": [
       "(True, True)"
      ]
     },
     "execution_count": 64,
     "metadata": {},
     "output_type": "execute_result"
    }
   ],
   "source": [
    "hasattr(pipe, 'fit'), hasattr(pipe, 'predict')"
   ]
  },
  {
   "cell_type": "markdown",
   "id": "5cb9b5b1",
   "metadata": {},
   "source": [
    "Fit the pipeline."
   ]
  },
  {
   "cell_type": "code",
   "execution_count": 65,
   "id": "8f312186",
   "metadata": {},
   "outputs": [
    {
     "data": {
      "text/html": [
       "<style>#sk-container-id-1 {color: black;}#sk-container-id-1 pre{padding: 0;}#sk-container-id-1 div.sk-toggleable {background-color: white;}#sk-container-id-1 label.sk-toggleable__label {cursor: pointer;display: block;width: 100%;margin-bottom: 0;padding: 0.3em;box-sizing: border-box;text-align: center;}#sk-container-id-1 label.sk-toggleable__label-arrow:before {content: \"▸\";float: left;margin-right: 0.25em;color: #696969;}#sk-container-id-1 label.sk-toggleable__label-arrow:hover:before {color: black;}#sk-container-id-1 div.sk-estimator:hover label.sk-toggleable__label-arrow:before {color: black;}#sk-container-id-1 div.sk-toggleable__content {max-height: 0;max-width: 0;overflow: hidden;text-align: left;background-color: #f0f8ff;}#sk-container-id-1 div.sk-toggleable__content pre {margin: 0.2em;color: black;border-radius: 0.25em;background-color: #f0f8ff;}#sk-container-id-1 input.sk-toggleable__control:checked~div.sk-toggleable__content {max-height: 200px;max-width: 100%;overflow: auto;}#sk-container-id-1 input.sk-toggleable__control:checked~label.sk-toggleable__label-arrow:before {content: \"▾\";}#sk-container-id-1 div.sk-estimator input.sk-toggleable__control:checked~label.sk-toggleable__label {background-color: #d4ebff;}#sk-container-id-1 div.sk-label input.sk-toggleable__control:checked~label.sk-toggleable__label {background-color: #d4ebff;}#sk-container-id-1 input.sk-hidden--visually {border: 0;clip: rect(1px 1px 1px 1px);clip: rect(1px, 1px, 1px, 1px);height: 1px;margin: -1px;overflow: hidden;padding: 0;position: absolute;width: 1px;}#sk-container-id-1 div.sk-estimator {font-family: monospace;background-color: #f0f8ff;border: 1px dotted black;border-radius: 0.25em;box-sizing: border-box;margin-bottom: 0.5em;}#sk-container-id-1 div.sk-estimator:hover {background-color: #d4ebff;}#sk-container-id-1 div.sk-parallel-item::after {content: \"\";width: 100%;border-bottom: 1px solid gray;flex-grow: 1;}#sk-container-id-1 div.sk-label:hover label.sk-toggleable__label {background-color: #d4ebff;}#sk-container-id-1 div.sk-serial::before {content: \"\";position: absolute;border-left: 1px solid gray;box-sizing: border-box;top: 0;bottom: 0;left: 50%;z-index: 0;}#sk-container-id-1 div.sk-serial {display: flex;flex-direction: column;align-items: center;background-color: white;padding-right: 0.2em;padding-left: 0.2em;position: relative;}#sk-container-id-1 div.sk-item {position: relative;z-index: 1;}#sk-container-id-1 div.sk-parallel {display: flex;align-items: stretch;justify-content: center;background-color: white;position: relative;}#sk-container-id-1 div.sk-item::before, #sk-container-id-1 div.sk-parallel-item::before {content: \"\";position: absolute;border-left: 1px solid gray;box-sizing: border-box;top: 0;bottom: 0;left: 50%;z-index: -1;}#sk-container-id-1 div.sk-parallel-item {display: flex;flex-direction: column;z-index: 1;position: relative;background-color: white;}#sk-container-id-1 div.sk-parallel-item:first-child::after {align-self: flex-end;width: 50%;}#sk-container-id-1 div.sk-parallel-item:last-child::after {align-self: flex-start;width: 50%;}#sk-container-id-1 div.sk-parallel-item:only-child::after {width: 0;}#sk-container-id-1 div.sk-dashed-wrapped {border: 1px dashed gray;margin: 0 0.4em 0.5em 0.4em;box-sizing: border-box;padding-bottom: 0.4em;background-color: white;}#sk-container-id-1 div.sk-label label {font-family: monospace;font-weight: bold;display: inline-block;line-height: 1.2em;}#sk-container-id-1 div.sk-label-container {text-align: center;}#sk-container-id-1 div.sk-container {/* jupyter's `normalize.less` sets `[hidden] { display: none; }` but bootstrap.min.css set `[hidden] { display: none !important; }` so we also need the `!important` here to be able to override the default hidden behavior on the sphinx rendered scikit-learn.org. See: https://github.com/scikit-learn/scikit-learn/issues/21755 */display: inline-block !important;position: relative;}#sk-container-id-1 div.sk-text-repr-fallback {display: none;}</style><div id=\"sk-container-id-1\" class=\"sk-top-container\"><div class=\"sk-text-repr-fallback\"><pre>Pipeline(steps=[(&#x27;simpleimputer&#x27;, SimpleImputer(strategy=&#x27;median&#x27;)),\n",
       "                (&#x27;standardscaler&#x27;, StandardScaler()),\n",
       "                (&#x27;linearregression&#x27;, LinearRegression())])</pre><b>In a Jupyter environment, please rerun this cell to show the HTML representation or trust the notebook. <br />On GitHub, the HTML representation is unable to render, please try loading this page with nbviewer.org.</b></div><div class=\"sk-container\" hidden><div class=\"sk-item sk-dashed-wrapped\"><div class=\"sk-label-container\"><div class=\"sk-label sk-toggleable\"><input class=\"sk-toggleable__control sk-hidden--visually\" id=\"sk-estimator-id-1\" type=\"checkbox\" ><label for=\"sk-estimator-id-1\" class=\"sk-toggleable__label sk-toggleable__label-arrow\">Pipeline</label><div class=\"sk-toggleable__content\"><pre>Pipeline(steps=[(&#x27;simpleimputer&#x27;, SimpleImputer(strategy=&#x27;median&#x27;)),\n",
       "                (&#x27;standardscaler&#x27;, StandardScaler()),\n",
       "                (&#x27;linearregression&#x27;, LinearRegression())])</pre></div></div></div><div class=\"sk-serial\"><div class=\"sk-item\"><div class=\"sk-estimator sk-toggleable\"><input class=\"sk-toggleable__control sk-hidden--visually\" id=\"sk-estimator-id-2\" type=\"checkbox\" ><label for=\"sk-estimator-id-2\" class=\"sk-toggleable__label sk-toggleable__label-arrow\">SimpleImputer</label><div class=\"sk-toggleable__content\"><pre>SimpleImputer(strategy=&#x27;median&#x27;)</pre></div></div></div><div class=\"sk-item\"><div class=\"sk-estimator sk-toggleable\"><input class=\"sk-toggleable__control sk-hidden--visually\" id=\"sk-estimator-id-3\" type=\"checkbox\" ><label for=\"sk-estimator-id-3\" class=\"sk-toggleable__label sk-toggleable__label-arrow\">StandardScaler</label><div class=\"sk-toggleable__content\"><pre>StandardScaler()</pre></div></div></div><div class=\"sk-item\"><div class=\"sk-estimator sk-toggleable\"><input class=\"sk-toggleable__control sk-hidden--visually\" id=\"sk-estimator-id-4\" type=\"checkbox\" ><label for=\"sk-estimator-id-4\" class=\"sk-toggleable__label sk-toggleable__label-arrow\">LinearRegression</label><div class=\"sk-toggleable__content\"><pre>LinearRegression()</pre></div></div></div></div></div></div></div>"
      ],
      "text/plain": [
       "Pipeline(steps=[('simpleimputer', SimpleImputer(strategy='median')),\n",
       "                ('standardscaler', StandardScaler()),\n",
       "                ('linearregression', LinearRegression())])"
      ]
     },
     "execution_count": 65,
     "metadata": {},
     "output_type": "execute_result"
    }
   ],
   "source": [
    "pipe.fit(X_train, y_train)"
   ]
  },
  {
   "cell_type": "markdown",
   "id": "f51dd419",
   "metadata": {},
   "source": [
    "Assess performance on the train and test set."
   ]
  },
  {
   "cell_type": "code",
   "execution_count": 66,
   "id": "80ea8ca7",
   "metadata": {},
   "outputs": [],
   "source": [
    "y_tr_pred = pipe.predict(X_train)\n",
    "y_te_pred = pipe.predict(X_test)"
   ]
  },
  {
   "cell_type": "code",
   "execution_count": 67,
   "id": "e2d7aa9d",
   "metadata": {},
   "outputs": [
    {
     "data": {
      "text/plain": [
       "(1.0, -0.09966923087628543)"
      ]
     },
     "execution_count": 67,
     "metadata": {},
     "output_type": "execute_result"
    }
   ],
   "source": [
    "r2_score(y_train, y_tr_pred), r2_score(y_test, y_te_pred)"
   ]
  },
  {
   "cell_type": "code",
   "execution_count": 68,
   "id": "8e3b428f",
   "metadata": {},
   "outputs": [
    {
     "data": {
      "text/plain": [
       "(1.0, -0.09966923087628543)"
      ]
     },
     "execution_count": 68,
     "metadata": {},
     "output_type": "execute_result"
    }
   ],
   "source": [
    "median_r2"
   ]
  },
  {
   "cell_type": "markdown",
   "id": "a84851a2",
   "metadata": {},
   "source": [
    "The r-squared value is the same as the non-pipeline results."
   ]
  },
  {
   "cell_type": "code",
   "execution_count": 69,
   "id": "41828586",
   "metadata": {},
   "outputs": [
    {
     "data": {
      "text/plain": [
       "(4.384199858945299e-15, 3.117079137917562)"
      ]
     },
     "execution_count": 69,
     "metadata": {},
     "output_type": "execute_result"
    }
   ],
   "source": [
    "mean_absolute_error(y_train, y_tr_pred), mean_absolute_error(y_test, y_te_pred)"
   ]
  },
  {
   "cell_type": "code",
   "execution_count": 70,
   "id": "84ffb02d",
   "metadata": {},
   "outputs": [
    {
     "data": {
      "text/plain": [
       "(4.384199858945299e-15, 3.117079137917562)"
      ]
     },
     "execution_count": 70,
     "metadata": {},
     "output_type": "execute_result"
    }
   ],
   "source": [
    "median_mae"
   ]
  },
  {
   "cell_type": "markdown",
   "id": "29f78369",
   "metadata": {},
   "source": [
    "The mae value is the same as the non-pipeline results."
   ]
  },
  {
   "cell_type": "code",
   "execution_count": 71,
   "id": "a1b2a9fb",
   "metadata": {},
   "outputs": [
    {
     "data": {
      "text/plain": [
       "(4.6190323641877116e-29, 17.119560030232247)"
      ]
     },
     "execution_count": 71,
     "metadata": {},
     "output_type": "execute_result"
    }
   ],
   "source": [
    "mean_squared_error(y_train, y_tr_pred), mean_squared_error(y_test, y_te_pred)"
   ]
  },
  {
   "cell_type": "code",
   "execution_count": 72,
   "id": "5afb59b6",
   "metadata": {},
   "outputs": [
    {
     "data": {
      "text/plain": [
       "(4.6190323641877116e-29, 3.117079137917562)"
      ]
     },
     "execution_count": 72,
     "metadata": {},
     "output_type": "execute_result"
    }
   ],
   "source": [
    "median_mse"
   ]
  },
  {
   "cell_type": "markdown",
   "id": "ed1f6366",
   "metadata": {},
   "source": [
    "The mse is similar to the non-pipeline results.\n",
    "\n",
    "These results confirm the pipeline is doing exactly what is expected and the results are identical to earlier steps. "
   ]
  },
  {
   "cell_type": "markdown",
   "id": "17084a8f",
   "metadata": {},
   "source": [
    "Define the pipeline."
   ]
  },
  {
   "cell_type": "code",
   "execution_count": 73,
   "id": "65ceb7e9",
   "metadata": {},
   "outputs": [],
   "source": [
    "pipe = make_pipeline(\n",
    "    SimpleImputer(strategy='median'), \n",
    "    StandardScaler(),\n",
    "    SelectKBest(score_func=f_regression),\n",
    "    LinearRegression()\n",
    ")"
   ]
  },
  {
   "cell_type": "markdown",
   "id": "981a815e",
   "metadata": {},
   "source": [
    "Fit the pipeline."
   ]
  },
  {
   "cell_type": "code",
   "execution_count": 74,
   "id": "52a854a7",
   "metadata": {},
   "outputs": [
    {
     "data": {
      "text/html": [
       "<style>#sk-container-id-2 {color: black;}#sk-container-id-2 pre{padding: 0;}#sk-container-id-2 div.sk-toggleable {background-color: white;}#sk-container-id-2 label.sk-toggleable__label {cursor: pointer;display: block;width: 100%;margin-bottom: 0;padding: 0.3em;box-sizing: border-box;text-align: center;}#sk-container-id-2 label.sk-toggleable__label-arrow:before {content: \"▸\";float: left;margin-right: 0.25em;color: #696969;}#sk-container-id-2 label.sk-toggleable__label-arrow:hover:before {color: black;}#sk-container-id-2 div.sk-estimator:hover label.sk-toggleable__label-arrow:before {color: black;}#sk-container-id-2 div.sk-toggleable__content {max-height: 0;max-width: 0;overflow: hidden;text-align: left;background-color: #f0f8ff;}#sk-container-id-2 div.sk-toggleable__content pre {margin: 0.2em;color: black;border-radius: 0.25em;background-color: #f0f8ff;}#sk-container-id-2 input.sk-toggleable__control:checked~div.sk-toggleable__content {max-height: 200px;max-width: 100%;overflow: auto;}#sk-container-id-2 input.sk-toggleable__control:checked~label.sk-toggleable__label-arrow:before {content: \"▾\";}#sk-container-id-2 div.sk-estimator input.sk-toggleable__control:checked~label.sk-toggleable__label {background-color: #d4ebff;}#sk-container-id-2 div.sk-label input.sk-toggleable__control:checked~label.sk-toggleable__label {background-color: #d4ebff;}#sk-container-id-2 input.sk-hidden--visually {border: 0;clip: rect(1px 1px 1px 1px);clip: rect(1px, 1px, 1px, 1px);height: 1px;margin: -1px;overflow: hidden;padding: 0;position: absolute;width: 1px;}#sk-container-id-2 div.sk-estimator {font-family: monospace;background-color: #f0f8ff;border: 1px dotted black;border-radius: 0.25em;box-sizing: border-box;margin-bottom: 0.5em;}#sk-container-id-2 div.sk-estimator:hover {background-color: #d4ebff;}#sk-container-id-2 div.sk-parallel-item::after {content: \"\";width: 100%;border-bottom: 1px solid gray;flex-grow: 1;}#sk-container-id-2 div.sk-label:hover label.sk-toggleable__label {background-color: #d4ebff;}#sk-container-id-2 div.sk-serial::before {content: \"\";position: absolute;border-left: 1px solid gray;box-sizing: border-box;top: 0;bottom: 0;left: 50%;z-index: 0;}#sk-container-id-2 div.sk-serial {display: flex;flex-direction: column;align-items: center;background-color: white;padding-right: 0.2em;padding-left: 0.2em;position: relative;}#sk-container-id-2 div.sk-item {position: relative;z-index: 1;}#sk-container-id-2 div.sk-parallel {display: flex;align-items: stretch;justify-content: center;background-color: white;position: relative;}#sk-container-id-2 div.sk-item::before, #sk-container-id-2 div.sk-parallel-item::before {content: \"\";position: absolute;border-left: 1px solid gray;box-sizing: border-box;top: 0;bottom: 0;left: 50%;z-index: -1;}#sk-container-id-2 div.sk-parallel-item {display: flex;flex-direction: column;z-index: 1;position: relative;background-color: white;}#sk-container-id-2 div.sk-parallel-item:first-child::after {align-self: flex-end;width: 50%;}#sk-container-id-2 div.sk-parallel-item:last-child::after {align-self: flex-start;width: 50%;}#sk-container-id-2 div.sk-parallel-item:only-child::after {width: 0;}#sk-container-id-2 div.sk-dashed-wrapped {border: 1px dashed gray;margin: 0 0.4em 0.5em 0.4em;box-sizing: border-box;padding-bottom: 0.4em;background-color: white;}#sk-container-id-2 div.sk-label label {font-family: monospace;font-weight: bold;display: inline-block;line-height: 1.2em;}#sk-container-id-2 div.sk-label-container {text-align: center;}#sk-container-id-2 div.sk-container {/* jupyter's `normalize.less` sets `[hidden] { display: none; }` but bootstrap.min.css set `[hidden] { display: none !important; }` so we also need the `!important` here to be able to override the default hidden behavior on the sphinx rendered scikit-learn.org. See: https://github.com/scikit-learn/scikit-learn/issues/21755 */display: inline-block !important;position: relative;}#sk-container-id-2 div.sk-text-repr-fallback {display: none;}</style><div id=\"sk-container-id-2\" class=\"sk-top-container\"><div class=\"sk-text-repr-fallback\"><pre>Pipeline(steps=[(&#x27;simpleimputer&#x27;, SimpleImputer(strategy=&#x27;median&#x27;)),\n",
       "                (&#x27;standardscaler&#x27;, StandardScaler()),\n",
       "                (&#x27;selectkbest&#x27;,\n",
       "                 SelectKBest(score_func=&lt;function f_regression at 0x0000014628AA62A0&gt;)),\n",
       "                (&#x27;linearregression&#x27;, LinearRegression())])</pre><b>In a Jupyter environment, please rerun this cell to show the HTML representation or trust the notebook. <br />On GitHub, the HTML representation is unable to render, please try loading this page with nbviewer.org.</b></div><div class=\"sk-container\" hidden><div class=\"sk-item sk-dashed-wrapped\"><div class=\"sk-label-container\"><div class=\"sk-label sk-toggleable\"><input class=\"sk-toggleable__control sk-hidden--visually\" id=\"sk-estimator-id-5\" type=\"checkbox\" ><label for=\"sk-estimator-id-5\" class=\"sk-toggleable__label sk-toggleable__label-arrow\">Pipeline</label><div class=\"sk-toggleable__content\"><pre>Pipeline(steps=[(&#x27;simpleimputer&#x27;, SimpleImputer(strategy=&#x27;median&#x27;)),\n",
       "                (&#x27;standardscaler&#x27;, StandardScaler()),\n",
       "                (&#x27;selectkbest&#x27;,\n",
       "                 SelectKBest(score_func=&lt;function f_regression at 0x0000014628AA62A0&gt;)),\n",
       "                (&#x27;linearregression&#x27;, LinearRegression())])</pre></div></div></div><div class=\"sk-serial\"><div class=\"sk-item\"><div class=\"sk-estimator sk-toggleable\"><input class=\"sk-toggleable__control sk-hidden--visually\" id=\"sk-estimator-id-6\" type=\"checkbox\" ><label for=\"sk-estimator-id-6\" class=\"sk-toggleable__label sk-toggleable__label-arrow\">SimpleImputer</label><div class=\"sk-toggleable__content\"><pre>SimpleImputer(strategy=&#x27;median&#x27;)</pre></div></div></div><div class=\"sk-item\"><div class=\"sk-estimator sk-toggleable\"><input class=\"sk-toggleable__control sk-hidden--visually\" id=\"sk-estimator-id-7\" type=\"checkbox\" ><label for=\"sk-estimator-id-7\" class=\"sk-toggleable__label sk-toggleable__label-arrow\">StandardScaler</label><div class=\"sk-toggleable__content\"><pre>StandardScaler()</pre></div></div></div><div class=\"sk-item\"><div class=\"sk-estimator sk-toggleable\"><input class=\"sk-toggleable__control sk-hidden--visually\" id=\"sk-estimator-id-8\" type=\"checkbox\" ><label for=\"sk-estimator-id-8\" class=\"sk-toggleable__label sk-toggleable__label-arrow\">SelectKBest</label><div class=\"sk-toggleable__content\"><pre>SelectKBest(score_func=&lt;function f_regression at 0x0000014628AA62A0&gt;)</pre></div></div></div><div class=\"sk-item\"><div class=\"sk-estimator sk-toggleable\"><input class=\"sk-toggleable__control sk-hidden--visually\" id=\"sk-estimator-id-9\" type=\"checkbox\" ><label for=\"sk-estimator-id-9\" class=\"sk-toggleable__label sk-toggleable__label-arrow\">LinearRegression</label><div class=\"sk-toggleable__content\"><pre>LinearRegression()</pre></div></div></div></div></div></div></div>"
      ],
      "text/plain": [
       "Pipeline(steps=[('simpleimputer', SimpleImputer(strategy='median')),\n",
       "                ('standardscaler', StandardScaler()),\n",
       "                ('selectkbest',\n",
       "                 SelectKBest(score_func=<function f_regression at 0x0000014628AA62A0>)),\n",
       "                ('linearregression', LinearRegression())])"
      ]
     },
     "execution_count": 74,
     "metadata": {},
     "output_type": "execute_result"
    }
   ],
   "source": [
    "pipe.fit(X_train, y_train)"
   ]
  },
  {
   "cell_type": "markdown",
   "id": "c72874bd",
   "metadata": {},
   "source": [
    "Assess performance on the train and test set."
   ]
  },
  {
   "cell_type": "code",
   "execution_count": 75,
   "id": "c2e0df4e",
   "metadata": {},
   "outputs": [],
   "source": [
    "y_tr_pred = pipe.predict(X_train)\n",
    "y_te_pred = pipe.predict(X_test)"
   ]
  },
  {
   "cell_type": "code",
   "execution_count": 76,
   "id": "5a465e1c",
   "metadata": {},
   "outputs": [
    {
     "data": {
      "text/plain": [
       "(0.6999247052439765, -0.09338736100123701)"
      ]
     },
     "execution_count": 76,
     "metadata": {},
     "output_type": "execute_result"
    }
   ],
   "source": [
    "r2_score(y_train, y_tr_pred), r2_score(y_test, y_te_pred)"
   ]
  },
  {
   "cell_type": "code",
   "execution_count": 77,
   "id": "a0b4b2ab",
   "metadata": {},
   "outputs": [
    {
     "data": {
      "text/plain": [
       "(2.2686408054245684, 2.948832395271234)"
      ]
     },
     "execution_count": 77,
     "metadata": {},
     "output_type": "execute_result"
    }
   ],
   "source": [
    "mean_absolute_error(y_train, y_tr_pred), mean_absolute_error(y_test, y_te_pred)"
   ]
  },
  {
   "cell_type": "markdown",
   "id": "a0b9446a",
   "metadata": {},
   "source": [
    "The R2 score on the training set suggests that the model explains a substantial portion of the variance in the training data but the negative R2 score on the test set indicates poor performance on unseen data which may be due to overfitting or model misspecification. \n",
    "\n",
    "The mae values are relatively low indicating reasonable performance but the R2 score on the test set suggests that the model needs improvement to generalize well to unseen data."
   ]
  },
  {
   "cell_type": "markdown",
   "id": "e1e2f74f",
   "metadata": {},
   "source": [
    "Define a new pipeline to select a different number of features."
   ]
  },
  {
   "cell_type": "code",
   "execution_count": 78,
   "id": "a0d42d87",
   "metadata": {},
   "outputs": [],
   "source": [
    "pipe15 = make_pipeline(\n",
    "    SimpleImputer(strategy='median'), \n",
    "    StandardScaler(),\n",
    "    SelectKBest(score_func=f_regression, k=15),\n",
    "    LinearRegression()\n",
    ")"
   ]
  },
  {
   "cell_type": "markdown",
   "id": "746f3c8d",
   "metadata": {},
   "source": [
    "Fit the pipeline."
   ]
  },
  {
   "cell_type": "code",
   "execution_count": 79,
   "id": "4d33cca4",
   "metadata": {},
   "outputs": [
    {
     "data": {
      "text/html": [
       "<style>#sk-container-id-3 {color: black;}#sk-container-id-3 pre{padding: 0;}#sk-container-id-3 div.sk-toggleable {background-color: white;}#sk-container-id-3 label.sk-toggleable__label {cursor: pointer;display: block;width: 100%;margin-bottom: 0;padding: 0.3em;box-sizing: border-box;text-align: center;}#sk-container-id-3 label.sk-toggleable__label-arrow:before {content: \"▸\";float: left;margin-right: 0.25em;color: #696969;}#sk-container-id-3 label.sk-toggleable__label-arrow:hover:before {color: black;}#sk-container-id-3 div.sk-estimator:hover label.sk-toggleable__label-arrow:before {color: black;}#sk-container-id-3 div.sk-toggleable__content {max-height: 0;max-width: 0;overflow: hidden;text-align: left;background-color: #f0f8ff;}#sk-container-id-3 div.sk-toggleable__content pre {margin: 0.2em;color: black;border-radius: 0.25em;background-color: #f0f8ff;}#sk-container-id-3 input.sk-toggleable__control:checked~div.sk-toggleable__content {max-height: 200px;max-width: 100%;overflow: auto;}#sk-container-id-3 input.sk-toggleable__control:checked~label.sk-toggleable__label-arrow:before {content: \"▾\";}#sk-container-id-3 div.sk-estimator input.sk-toggleable__control:checked~label.sk-toggleable__label {background-color: #d4ebff;}#sk-container-id-3 div.sk-label input.sk-toggleable__control:checked~label.sk-toggleable__label {background-color: #d4ebff;}#sk-container-id-3 input.sk-hidden--visually {border: 0;clip: rect(1px 1px 1px 1px);clip: rect(1px, 1px, 1px, 1px);height: 1px;margin: -1px;overflow: hidden;padding: 0;position: absolute;width: 1px;}#sk-container-id-3 div.sk-estimator {font-family: monospace;background-color: #f0f8ff;border: 1px dotted black;border-radius: 0.25em;box-sizing: border-box;margin-bottom: 0.5em;}#sk-container-id-3 div.sk-estimator:hover {background-color: #d4ebff;}#sk-container-id-3 div.sk-parallel-item::after {content: \"\";width: 100%;border-bottom: 1px solid gray;flex-grow: 1;}#sk-container-id-3 div.sk-label:hover label.sk-toggleable__label {background-color: #d4ebff;}#sk-container-id-3 div.sk-serial::before {content: \"\";position: absolute;border-left: 1px solid gray;box-sizing: border-box;top: 0;bottom: 0;left: 50%;z-index: 0;}#sk-container-id-3 div.sk-serial {display: flex;flex-direction: column;align-items: center;background-color: white;padding-right: 0.2em;padding-left: 0.2em;position: relative;}#sk-container-id-3 div.sk-item {position: relative;z-index: 1;}#sk-container-id-3 div.sk-parallel {display: flex;align-items: stretch;justify-content: center;background-color: white;position: relative;}#sk-container-id-3 div.sk-item::before, #sk-container-id-3 div.sk-parallel-item::before {content: \"\";position: absolute;border-left: 1px solid gray;box-sizing: border-box;top: 0;bottom: 0;left: 50%;z-index: -1;}#sk-container-id-3 div.sk-parallel-item {display: flex;flex-direction: column;z-index: 1;position: relative;background-color: white;}#sk-container-id-3 div.sk-parallel-item:first-child::after {align-self: flex-end;width: 50%;}#sk-container-id-3 div.sk-parallel-item:last-child::after {align-self: flex-start;width: 50%;}#sk-container-id-3 div.sk-parallel-item:only-child::after {width: 0;}#sk-container-id-3 div.sk-dashed-wrapped {border: 1px dashed gray;margin: 0 0.4em 0.5em 0.4em;box-sizing: border-box;padding-bottom: 0.4em;background-color: white;}#sk-container-id-3 div.sk-label label {font-family: monospace;font-weight: bold;display: inline-block;line-height: 1.2em;}#sk-container-id-3 div.sk-label-container {text-align: center;}#sk-container-id-3 div.sk-container {/* jupyter's `normalize.less` sets `[hidden] { display: none; }` but bootstrap.min.css set `[hidden] { display: none !important; }` so we also need the `!important` here to be able to override the default hidden behavior on the sphinx rendered scikit-learn.org. See: https://github.com/scikit-learn/scikit-learn/issues/21755 */display: inline-block !important;position: relative;}#sk-container-id-3 div.sk-text-repr-fallback {display: none;}</style><div id=\"sk-container-id-3\" class=\"sk-top-container\"><div class=\"sk-text-repr-fallback\"><pre>Pipeline(steps=[(&#x27;simpleimputer&#x27;, SimpleImputer(strategy=&#x27;median&#x27;)),\n",
       "                (&#x27;standardscaler&#x27;, StandardScaler()),\n",
       "                (&#x27;selectkbest&#x27;,\n",
       "                 SelectKBest(k=15,\n",
       "                             score_func=&lt;function f_regression at 0x0000014628AA62A0&gt;)),\n",
       "                (&#x27;linearregression&#x27;, LinearRegression())])</pre><b>In a Jupyter environment, please rerun this cell to show the HTML representation or trust the notebook. <br />On GitHub, the HTML representation is unable to render, please try loading this page with nbviewer.org.</b></div><div class=\"sk-container\" hidden><div class=\"sk-item sk-dashed-wrapped\"><div class=\"sk-label-container\"><div class=\"sk-label sk-toggleable\"><input class=\"sk-toggleable__control sk-hidden--visually\" id=\"sk-estimator-id-10\" type=\"checkbox\" ><label for=\"sk-estimator-id-10\" class=\"sk-toggleable__label sk-toggleable__label-arrow\">Pipeline</label><div class=\"sk-toggleable__content\"><pre>Pipeline(steps=[(&#x27;simpleimputer&#x27;, SimpleImputer(strategy=&#x27;median&#x27;)),\n",
       "                (&#x27;standardscaler&#x27;, StandardScaler()),\n",
       "                (&#x27;selectkbest&#x27;,\n",
       "                 SelectKBest(k=15,\n",
       "                             score_func=&lt;function f_regression at 0x0000014628AA62A0&gt;)),\n",
       "                (&#x27;linearregression&#x27;, LinearRegression())])</pre></div></div></div><div class=\"sk-serial\"><div class=\"sk-item\"><div class=\"sk-estimator sk-toggleable\"><input class=\"sk-toggleable__control sk-hidden--visually\" id=\"sk-estimator-id-11\" type=\"checkbox\" ><label for=\"sk-estimator-id-11\" class=\"sk-toggleable__label sk-toggleable__label-arrow\">SimpleImputer</label><div class=\"sk-toggleable__content\"><pre>SimpleImputer(strategy=&#x27;median&#x27;)</pre></div></div></div><div class=\"sk-item\"><div class=\"sk-estimator sk-toggleable\"><input class=\"sk-toggleable__control sk-hidden--visually\" id=\"sk-estimator-id-12\" type=\"checkbox\" ><label for=\"sk-estimator-id-12\" class=\"sk-toggleable__label sk-toggleable__label-arrow\">StandardScaler</label><div class=\"sk-toggleable__content\"><pre>StandardScaler()</pre></div></div></div><div class=\"sk-item\"><div class=\"sk-estimator sk-toggleable\"><input class=\"sk-toggleable__control sk-hidden--visually\" id=\"sk-estimator-id-13\" type=\"checkbox\" ><label for=\"sk-estimator-id-13\" class=\"sk-toggleable__label sk-toggleable__label-arrow\">SelectKBest</label><div class=\"sk-toggleable__content\"><pre>SelectKBest(k=15, score_func=&lt;function f_regression at 0x0000014628AA62A0&gt;)</pre></div></div></div><div class=\"sk-item\"><div class=\"sk-estimator sk-toggleable\"><input class=\"sk-toggleable__control sk-hidden--visually\" id=\"sk-estimator-id-14\" type=\"checkbox\" ><label for=\"sk-estimator-id-14\" class=\"sk-toggleable__label sk-toggleable__label-arrow\">LinearRegression</label><div class=\"sk-toggleable__content\"><pre>LinearRegression()</pre></div></div></div></div></div></div></div>"
      ],
      "text/plain": [
       "Pipeline(steps=[('simpleimputer', SimpleImputer(strategy='median')),\n",
       "                ('standardscaler', StandardScaler()),\n",
       "                ('selectkbest',\n",
       "                 SelectKBest(k=15,\n",
       "                             score_func=<function f_regression at 0x0000014628AA62A0>)),\n",
       "                ('linearregression', LinearRegression())])"
      ]
     },
     "execution_count": 79,
     "metadata": {},
     "output_type": "execute_result"
    }
   ],
   "source": [
    "pipe15.fit(X_train, y_train)"
   ]
  },
  {
   "cell_type": "markdown",
   "id": "ff73cdd0",
   "metadata": {},
   "source": [
    "Assess performance on the train and test set."
   ]
  },
  {
   "cell_type": "code",
   "execution_count": 80,
   "id": "c5dcb61a",
   "metadata": {},
   "outputs": [],
   "source": [
    "y_tr_pred = pipe15.predict(X_train)\n",
    "y_te_pred = pipe15.predict(X_test)"
   ]
  },
  {
   "cell_type": "code",
   "execution_count": 81,
   "id": "55560a3d",
   "metadata": {},
   "outputs": [
    {
     "data": {
      "text/plain": [
       "(0.8479475207519866, -0.11595577399381685)"
      ]
     },
     "execution_count": 81,
     "metadata": {},
     "output_type": "execute_result"
    }
   ],
   "source": [
    "r2_score(y_train, y_tr_pred), r2_score(y_test, y_te_pred)"
   ]
  },
  {
   "cell_type": "code",
   "execution_count": 82,
   "id": "4b42983b",
   "metadata": {},
   "outputs": [
    {
     "data": {
      "text/plain": [
       "(1.6012393131957066, 2.9042675897977612)"
      ]
     },
     "execution_count": 82,
     "metadata": {},
     "output_type": "execute_result"
    }
   ],
   "source": [
    "mean_absolute_error(y_train, y_tr_pred), mean_absolute_error(y_test, y_te_pred)"
   ]
  },
  {
   "cell_type": "markdown",
   "id": "c4088484",
   "metadata": {},
   "source": [
    "The R2 score on the training set suggests that the model explains a substantial portion of the variance in the training data but the negative R2 score on the test set indicatse poor performance on unseen data which may be due to overfitting or model misspecification.\n",
    "\n",
    "The mae values are relatively low on the training set indicating reasonable performance but the negative R2 score on the test set suggests that the model needs improvement to generalize well to unseen data."
   ]
  },
  {
   "cell_type": "markdown",
   "id": "2dac3920",
   "metadata": {},
   "source": [
    "Assessing performance using cross-validation."
   ]
  },
  {
   "cell_type": "code",
   "execution_count": 83,
   "id": "4be35e6c",
   "metadata": {},
   "outputs": [],
   "source": [
    "cv_results = cross_validate(pipe15, X_train, y_train, cv=5)"
   ]
  },
  {
   "cell_type": "code",
   "execution_count": 84,
   "id": "d9b54273",
   "metadata": {},
   "outputs": [
    {
     "data": {
      "text/plain": [
       "array([ 0.23110639, -0.46522167, -0.26141711, -0.08858772,  0.43249643])"
      ]
     },
     "execution_count": 84,
     "metadata": {},
     "output_type": "execute_result"
    }
   ],
   "source": [
    "cv_scores = cv_results['test_score']\n",
    "cv_scores"
   ]
  },
  {
   "cell_type": "code",
   "execution_count": 85,
   "id": "25a9e715",
   "metadata": {},
   "outputs": [
    {
     "data": {
      "text/plain": [
       "(-0.03032473638977502, 0.3251102174265179)"
      ]
     },
     "execution_count": 85,
     "metadata": {},
     "output_type": "execute_result"
    }
   ],
   "source": [
    "np.mean(cv_scores), np.std(cv_scores)"
   ]
  },
  {
   "cell_type": "code",
   "execution_count": 86,
   "id": "d0c43c6b",
   "metadata": {},
   "outputs": [
    {
     "data": {
      "text/plain": [
       "array([-0.68,  0.62])"
      ]
     },
     "execution_count": 86,
     "metadata": {},
     "output_type": "execute_result"
    }
   ],
   "source": [
    "np.round((np.mean(cv_scores) - 2 * np.std(cv_scores), np.mean(cv_scores) + 2 * np.std(cv_scores)), 2)"
   ]
  },
  {
   "cell_type": "markdown",
   "id": "83a1e201",
   "metadata": {},
   "source": [
    "The negative mean R-squared score and the presence of both positive and negative scores in the cross-validated results suggests that the model may not perform consistently well across different subsets of the data.\n",
    "\n",
    "The wide confidence interval indicates uncertainty about the true mean performance of the model. This could be due to factors such as model complexity, data variability, or insufficient data for training."
   ]
  },
  {
   "cell_type": "markdown",
   "id": "27639be8",
   "metadata": {},
   "source": [
    "List the names of all the parameters in a pipeline."
   ]
  },
  {
   "cell_type": "code",
   "execution_count": 87,
   "id": "f70c007f",
   "metadata": {},
   "outputs": [
    {
     "data": {
      "text/plain": [
       "dict_keys(['memory', 'steps', 'verbose', 'simpleimputer', 'standardscaler', 'selectkbest', 'linearregression', 'simpleimputer__add_indicator', 'simpleimputer__copy', 'simpleimputer__fill_value', 'simpleimputer__keep_empty_features', 'simpleimputer__missing_values', 'simpleimputer__strategy', 'standardscaler__copy', 'standardscaler__with_mean', 'standardscaler__with_std', 'selectkbest__k', 'selectkbest__score_func', 'linearregression__copy_X', 'linearregression__fit_intercept', 'linearregression__n_jobs', 'linearregression__positive'])"
      ]
     },
     "execution_count": 87,
     "metadata": {},
     "output_type": "execute_result"
    }
   ],
   "source": [
    "pipe.get_params().keys()"
   ]
  },
  {
   "cell_type": "markdown",
   "id": "00fa4870",
   "metadata": {},
   "source": [
    "Create a nest pipeline with a range of k to investigate and pass it into GridSearchCV."
   ]
  },
  {
   "cell_type": "code",
   "execution_count": 88,
   "id": "67e649ac",
   "metadata": {},
   "outputs": [],
   "source": [
    "k = [k+1 for k in range(len(X_train.columns))]\n",
    "grid_params = {'selectkbest__k': k}"
   ]
  },
  {
   "cell_type": "code",
   "execution_count": 89,
   "id": "166223c2",
   "metadata": {},
   "outputs": [],
   "source": [
    "lr_grid_cv = GridSearchCV(pipe, param_grid=grid_params, cv=5, n_jobs=-1)"
   ]
  },
  {
   "cell_type": "code",
   "execution_count": 90,
   "id": "ab023ec1",
   "metadata": {},
   "outputs": [
    {
     "data": {
      "text/html": [
       "<style>#sk-container-id-4 {color: black;}#sk-container-id-4 pre{padding: 0;}#sk-container-id-4 div.sk-toggleable {background-color: white;}#sk-container-id-4 label.sk-toggleable__label {cursor: pointer;display: block;width: 100%;margin-bottom: 0;padding: 0.3em;box-sizing: border-box;text-align: center;}#sk-container-id-4 label.sk-toggleable__label-arrow:before {content: \"▸\";float: left;margin-right: 0.25em;color: #696969;}#sk-container-id-4 label.sk-toggleable__label-arrow:hover:before {color: black;}#sk-container-id-4 div.sk-estimator:hover label.sk-toggleable__label-arrow:before {color: black;}#sk-container-id-4 div.sk-toggleable__content {max-height: 0;max-width: 0;overflow: hidden;text-align: left;background-color: #f0f8ff;}#sk-container-id-4 div.sk-toggleable__content pre {margin: 0.2em;color: black;border-radius: 0.25em;background-color: #f0f8ff;}#sk-container-id-4 input.sk-toggleable__control:checked~div.sk-toggleable__content {max-height: 200px;max-width: 100%;overflow: auto;}#sk-container-id-4 input.sk-toggleable__control:checked~label.sk-toggleable__label-arrow:before {content: \"▾\";}#sk-container-id-4 div.sk-estimator input.sk-toggleable__control:checked~label.sk-toggleable__label {background-color: #d4ebff;}#sk-container-id-4 div.sk-label input.sk-toggleable__control:checked~label.sk-toggleable__label {background-color: #d4ebff;}#sk-container-id-4 input.sk-hidden--visually {border: 0;clip: rect(1px 1px 1px 1px);clip: rect(1px, 1px, 1px, 1px);height: 1px;margin: -1px;overflow: hidden;padding: 0;position: absolute;width: 1px;}#sk-container-id-4 div.sk-estimator {font-family: monospace;background-color: #f0f8ff;border: 1px dotted black;border-radius: 0.25em;box-sizing: border-box;margin-bottom: 0.5em;}#sk-container-id-4 div.sk-estimator:hover {background-color: #d4ebff;}#sk-container-id-4 div.sk-parallel-item::after {content: \"\";width: 100%;border-bottom: 1px solid gray;flex-grow: 1;}#sk-container-id-4 div.sk-label:hover label.sk-toggleable__label {background-color: #d4ebff;}#sk-container-id-4 div.sk-serial::before {content: \"\";position: absolute;border-left: 1px solid gray;box-sizing: border-box;top: 0;bottom: 0;left: 50%;z-index: 0;}#sk-container-id-4 div.sk-serial {display: flex;flex-direction: column;align-items: center;background-color: white;padding-right: 0.2em;padding-left: 0.2em;position: relative;}#sk-container-id-4 div.sk-item {position: relative;z-index: 1;}#sk-container-id-4 div.sk-parallel {display: flex;align-items: stretch;justify-content: center;background-color: white;position: relative;}#sk-container-id-4 div.sk-item::before, #sk-container-id-4 div.sk-parallel-item::before {content: \"\";position: absolute;border-left: 1px solid gray;box-sizing: border-box;top: 0;bottom: 0;left: 50%;z-index: -1;}#sk-container-id-4 div.sk-parallel-item {display: flex;flex-direction: column;z-index: 1;position: relative;background-color: white;}#sk-container-id-4 div.sk-parallel-item:first-child::after {align-self: flex-end;width: 50%;}#sk-container-id-4 div.sk-parallel-item:last-child::after {align-self: flex-start;width: 50%;}#sk-container-id-4 div.sk-parallel-item:only-child::after {width: 0;}#sk-container-id-4 div.sk-dashed-wrapped {border: 1px dashed gray;margin: 0 0.4em 0.5em 0.4em;box-sizing: border-box;padding-bottom: 0.4em;background-color: white;}#sk-container-id-4 div.sk-label label {font-family: monospace;font-weight: bold;display: inline-block;line-height: 1.2em;}#sk-container-id-4 div.sk-label-container {text-align: center;}#sk-container-id-4 div.sk-container {/* jupyter's `normalize.less` sets `[hidden] { display: none; }` but bootstrap.min.css set `[hidden] { display: none !important; }` so we also need the `!important` here to be able to override the default hidden behavior on the sphinx rendered scikit-learn.org. See: https://github.com/scikit-learn/scikit-learn/issues/21755 */display: inline-block !important;position: relative;}#sk-container-id-4 div.sk-text-repr-fallback {display: none;}</style><div id=\"sk-container-id-4\" class=\"sk-top-container\"><div class=\"sk-text-repr-fallback\"><pre>GridSearchCV(cv=5,\n",
       "             estimator=Pipeline(steps=[(&#x27;simpleimputer&#x27;,\n",
       "                                        SimpleImputer(strategy=&#x27;median&#x27;)),\n",
       "                                       (&#x27;standardscaler&#x27;, StandardScaler()),\n",
       "                                       (&#x27;selectkbest&#x27;,\n",
       "                                        SelectKBest(score_func=&lt;function f_regression at 0x0000014628AA62A0&gt;)),\n",
       "                                       (&#x27;linearregression&#x27;,\n",
       "                                        LinearRegression())]),\n",
       "             n_jobs=-1,\n",
       "             param_grid={&#x27;selectkbest__k&#x27;: [1, 2, 3, 4, 5, 6, 7, 8, 9, 10, 11,\n",
       "                                            12, 13, 14, 15, 16, 17, 18, 19, 20,\n",
       "                                            21, 22, 23, 24, 25, 26, 27, 28, 29,\n",
       "                                            30, ...]})</pre><b>In a Jupyter environment, please rerun this cell to show the HTML representation or trust the notebook. <br />On GitHub, the HTML representation is unable to render, please try loading this page with nbviewer.org.</b></div><div class=\"sk-container\" hidden><div class=\"sk-item sk-dashed-wrapped\"><div class=\"sk-label-container\"><div class=\"sk-label sk-toggleable\"><input class=\"sk-toggleable__control sk-hidden--visually\" id=\"sk-estimator-id-15\" type=\"checkbox\" ><label for=\"sk-estimator-id-15\" class=\"sk-toggleable__label sk-toggleable__label-arrow\">GridSearchCV</label><div class=\"sk-toggleable__content\"><pre>GridSearchCV(cv=5,\n",
       "             estimator=Pipeline(steps=[(&#x27;simpleimputer&#x27;,\n",
       "                                        SimpleImputer(strategy=&#x27;median&#x27;)),\n",
       "                                       (&#x27;standardscaler&#x27;, StandardScaler()),\n",
       "                                       (&#x27;selectkbest&#x27;,\n",
       "                                        SelectKBest(score_func=&lt;function f_regression at 0x0000014628AA62A0&gt;)),\n",
       "                                       (&#x27;linearregression&#x27;,\n",
       "                                        LinearRegression())]),\n",
       "             n_jobs=-1,\n",
       "             param_grid={&#x27;selectkbest__k&#x27;: [1, 2, 3, 4, 5, 6, 7, 8, 9, 10, 11,\n",
       "                                            12, 13, 14, 15, 16, 17, 18, 19, 20,\n",
       "                                            21, 22, 23, 24, 25, 26, 27, 28, 29,\n",
       "                                            30, ...]})</pre></div></div></div><div class=\"sk-parallel\"><div class=\"sk-parallel-item\"><div class=\"sk-item\"><div class=\"sk-label-container\"><div class=\"sk-label sk-toggleable\"><input class=\"sk-toggleable__control sk-hidden--visually\" id=\"sk-estimator-id-16\" type=\"checkbox\" ><label for=\"sk-estimator-id-16\" class=\"sk-toggleable__label sk-toggleable__label-arrow\">estimator: Pipeline</label><div class=\"sk-toggleable__content\"><pre>Pipeline(steps=[(&#x27;simpleimputer&#x27;, SimpleImputer(strategy=&#x27;median&#x27;)),\n",
       "                (&#x27;standardscaler&#x27;, StandardScaler()),\n",
       "                (&#x27;selectkbest&#x27;,\n",
       "                 SelectKBest(score_func=&lt;function f_regression at 0x0000014628AA62A0&gt;)),\n",
       "                (&#x27;linearregression&#x27;, LinearRegression())])</pre></div></div></div><div class=\"sk-serial\"><div class=\"sk-item\"><div class=\"sk-serial\"><div class=\"sk-item\"><div class=\"sk-estimator sk-toggleable\"><input class=\"sk-toggleable__control sk-hidden--visually\" id=\"sk-estimator-id-17\" type=\"checkbox\" ><label for=\"sk-estimator-id-17\" class=\"sk-toggleable__label sk-toggleable__label-arrow\">SimpleImputer</label><div class=\"sk-toggleable__content\"><pre>SimpleImputer(strategy=&#x27;median&#x27;)</pre></div></div></div><div class=\"sk-item\"><div class=\"sk-estimator sk-toggleable\"><input class=\"sk-toggleable__control sk-hidden--visually\" id=\"sk-estimator-id-18\" type=\"checkbox\" ><label for=\"sk-estimator-id-18\" class=\"sk-toggleable__label sk-toggleable__label-arrow\">StandardScaler</label><div class=\"sk-toggleable__content\"><pre>StandardScaler()</pre></div></div></div><div class=\"sk-item\"><div class=\"sk-estimator sk-toggleable\"><input class=\"sk-toggleable__control sk-hidden--visually\" id=\"sk-estimator-id-19\" type=\"checkbox\" ><label for=\"sk-estimator-id-19\" class=\"sk-toggleable__label sk-toggleable__label-arrow\">SelectKBest</label><div class=\"sk-toggleable__content\"><pre>SelectKBest(score_func=&lt;function f_regression at 0x0000014628AA62A0&gt;)</pre></div></div></div><div class=\"sk-item\"><div class=\"sk-estimator sk-toggleable\"><input class=\"sk-toggleable__control sk-hidden--visually\" id=\"sk-estimator-id-20\" type=\"checkbox\" ><label for=\"sk-estimator-id-20\" class=\"sk-toggleable__label sk-toggleable__label-arrow\">LinearRegression</label><div class=\"sk-toggleable__content\"><pre>LinearRegression()</pre></div></div></div></div></div></div></div></div></div></div></div></div>"
      ],
      "text/plain": [
       "GridSearchCV(cv=5,\n",
       "             estimator=Pipeline(steps=[('simpleimputer',\n",
       "                                        SimpleImputer(strategy='median')),\n",
       "                                       ('standardscaler', StandardScaler()),\n",
       "                                       ('selectkbest',\n",
       "                                        SelectKBest(score_func=<function f_regression at 0x0000014628AA62A0>)),\n",
       "                                       ('linearregression',\n",
       "                                        LinearRegression())]),\n",
       "             n_jobs=-1,\n",
       "             param_grid={'selectkbest__k': [1, 2, 3, 4, 5, 6, 7, 8, 9, 10, 11,\n",
       "                                            12, 13, 14, 15, 16, 17, 18, 19, 20,\n",
       "                                            21, 22, 23, 24, 25, 26, 27, 28, 29,\n",
       "                                            30, ...]})"
      ]
     },
     "execution_count": 90,
     "metadata": {},
     "output_type": "execute_result"
    }
   ],
   "source": [
    "lr_grid_cv.fit(X_train, y_train)"
   ]
  },
  {
   "cell_type": "code",
   "execution_count": 91,
   "id": "9c6df5b0",
   "metadata": {},
   "outputs": [],
   "source": [
    "score_mean = lr_grid_cv.cv_results_['mean_test_score']\n",
    "score_std = lr_grid_cv.cv_results_['std_test_score']\n",
    "cv_k = [k for k in lr_grid_cv.cv_results_['param_selectkbest__k']]"
   ]
  },
  {
   "cell_type": "code",
   "execution_count": 92,
   "id": "9d28a76f",
   "metadata": {},
   "outputs": [
    {
     "data": {
      "text/plain": [
       "{'selectkbest__k': 4}"
      ]
     },
     "execution_count": 92,
     "metadata": {},
     "output_type": "execute_result"
    }
   ],
   "source": [
    "lr_grid_cv.best_params_"
   ]
  },
  {
   "cell_type": "code",
   "execution_count": 93,
   "id": "b8fa3f2e",
   "metadata": {},
   "outputs": [
    {
     "data": {
      "image/png": "[encoded data removed]",
      "text/plain": [
       "<Figure size 1000x500 with 1 Axes>"
      ]
     },
     "metadata": {},
     "output_type": "display_data"
    }
   ],
   "source": [
    "best_k = lr_grid_cv.best_params_['selectkbest__k']\n",
    "plt.subplots(figsize=(10, 5))\n",
    "plt.errorbar(cv_k, score_mean, yerr=score_std)\n",
    "plt.axvline(x=best_k, c='r', ls='--', alpha=.5)\n",
    "plt.xlabel('k')\n",
    "plt.ylabel('CV score (r-squared)')\n",
    "plt.title('Pipeline mean CV score (error bars +/- 1sd)');"
   ]
  },
  {
   "cell_type": "markdown",
   "id": "7226cdad",
   "metadata": {},
   "source": [
    "The above suggests that a good value for k is 4."
   ]
  },
  {
   "cell_type": "code",
   "execution_count": 94,
   "id": "1444514e",
   "metadata": {},
   "outputs": [],
   "source": [
    "selected = lr_grid_cv.best_estimator_.named_steps.selectkbest.get_support()"
   ]
  },
  {
   "cell_type": "code",
   "execution_count": 95,
   "id": "ddb0b9a6",
   "metadata": {},
   "outputs": [
    {
     "data": {
      "text/plain": [
       "Avg_Suplr_Mdcr_Pymt_Amt     160.274626\n",
       "Puerto Rico                  -1.384814\n",
       "Avg_Suplr_Mdcr_Alowd_Amt    -33.559312\n",
       "Avg_Suplr_Mdcr_Stdzd_Amt   -146.573691\n",
       "dtype: float64"
      ]
     },
     "execution_count": 95,
     "metadata": {},
     "output_type": "execute_result"
    }
   ],
   "source": [
    "coefs = lr_grid_cv.best_estimator_.named_steps.linearregression.coef_\n",
    "features = X_train.columns[selected]\n",
    "pd.Series(coefs, index=features).sort_values(ascending=False)"
   ]
  },
  {
   "cell_type": "markdown",
   "id": "5d8c82ac",
   "metadata": {},
   "source": [
    "The average supplier Medicare payment amount is the biggest positive feature, this makes sense as submitted claims are paid for by Medicare first and may sometimes contribute to majority of the payment. Average supplier Medicare allowed amount and average supplier Medicare standardized amount is negatively associated with purchasing price, this is suggesting that the higher the medicare allowed/standardized payment amount then the lower the purchasing price. We can interpret this as some products may be getting paid out by Medicare more than others."
   ]
  },
  {
   "cell_type": "markdown",
   "id": "09bbb6da",
   "metadata": {},
   "source": [
    "#### Random Forest Model"
   ]
  },
  {
   "cell_type": "markdown",
   "id": "a3fdd561",
   "metadata": {},
   "source": [
    "Define the pipeline."
   ]
  },
  {
   "cell_type": "code",
   "execution_count": 96,
   "id": "bbf70c42",
   "metadata": {},
   "outputs": [],
   "source": [
    "RF_pipe = make_pipeline(\n",
    "    SimpleImputer(strategy='median'),\n",
    "    StandardScaler(),\n",
    "    RandomForestRegressor(random_state=47)\n",
    ")"
   ]
  },
  {
   "cell_type": "markdown",
   "id": "98612e5a",
   "metadata": {},
   "source": [
    "Fit and assess performance using cross-validation."
   ]
  },
  {
   "cell_type": "code",
   "execution_count": 97,
   "id": "d84ecb11",
   "metadata": {},
   "outputs": [],
   "source": [
    "rf_default_cv_results = cross_validate(RF_pipe, X_train, y_train, cv=5)"
   ]
  },
  {
   "cell_type": "code",
   "execution_count": 98,
   "id": "d04aeaf5",
   "metadata": {},
   "outputs": [
    {
     "data": {
      "text/plain": [
       "array([-1.65137467,  0.22484498, -0.34189612,  0.34882302,  0.24223104])"
      ]
     },
     "execution_count": 98,
     "metadata": {},
     "output_type": "execute_result"
    }
   ],
   "source": [
    "rf_cv_scores = rf_default_cv_results['test_score']\n",
    "rf_cv_scores"
   ]
  },
  {
   "cell_type": "code",
   "execution_count": 99,
   "id": "f407242d",
   "metadata": {},
   "outputs": [
    {
     "data": {
      "text/plain": [
       "(-0.23547434976181653, 0.74801056956375)"
      ]
     },
     "execution_count": 99,
     "metadata": {},
     "output_type": "execute_result"
    }
   ],
   "source": [
    "np.mean(rf_cv_scores), np.std(rf_cv_scores)"
   ]
  },
  {
   "cell_type": "markdown",
   "id": "adf81f79",
   "metadata": {},
   "source": [
    "The negative mean R-squared score suggests that the random forest model performs worse than a model that predicts the meean of the target variable.\n",
    "\n",
    "The wide standard deviation of the cross-validation r-squared score indicates high variability in the model's performance acorss different folds of the data. "
   ]
  },
  {
   "cell_type": "markdown",
   "id": "830ec8b0",
   "metadata": {},
   "source": [
    "Hyperparameter search using GridSearchCV"
   ]
  },
  {
   "cell_type": "code",
   "execution_count": 100,
   "id": "2c69e030",
   "metadata": {},
   "outputs": [
    {
     "data": {
      "text/plain": [
       "{'randomforestregressor__n_estimators': [10,\n",
       "  12,\n",
       "  16,\n",
       "  20,\n",
       "  26,\n",
       "  33,\n",
       "  42,\n",
       "  54,\n",
       "  69,\n",
       "  88,\n",
       "  112,\n",
       "  143,\n",
       "  183,\n",
       "  233,\n",
       "  297,\n",
       "  379,\n",
       "  483,\n",
       "  615,\n",
       "  784,\n",
       "  1000],\n",
       " 'standardscaler': [StandardScaler(), None],\n",
       " 'simpleimputer__strategy': ['mean', 'median']}"
      ]
     },
     "execution_count": 100,
     "metadata": {},
     "output_type": "execute_result"
    }
   ],
   "source": [
    "n_est = [int(n) for n in np.logspace(start=1, stop=3, num=20)]\n",
    "grid_params = {\n",
    "        'randomforestregressor__n_estimators': n_est,\n",
    "        'standardscaler': [StandardScaler(), None],\n",
    "        'simpleimputer__strategy': ['mean', 'median']\n",
    "}\n",
    "grid_params"
   ]
  },
  {
   "cell_type": "code",
   "execution_count": 101,
   "id": "ca2ad791",
   "metadata": {},
   "outputs": [],
   "source": [
    "rf_grid_cv = GridSearchCV(RF_pipe, param_grid=grid_params, cv=5, n_jobs=-1)"
   ]
  },
  {
   "cell_type": "code",
   "execution_count": 102,
   "id": "5b67a5db",
   "metadata": {},
   "outputs": [
    {
     "data": {
      "text/html": [
       "<style>#sk-container-id-5 {color: black;}#sk-container-id-5 pre{padding: 0;}#sk-container-id-5 div.sk-toggleable {background-color: white;}#sk-container-id-5 label.sk-toggleable__label {cursor: pointer;display: block;width: 100%;margin-bottom: 0;padding: 0.3em;box-sizing: border-box;text-align: center;}#sk-container-id-5 label.sk-toggleable__label-arrow:before {content: \"▸\";float: left;margin-right: 0.25em;color: #696969;}#sk-container-id-5 label.sk-toggleable__label-arrow:hover:before {color: black;}#sk-container-id-5 div.sk-estimator:hover label.sk-toggleable__label-arrow:before {color: black;}#sk-container-id-5 div.sk-toggleable__content {max-height: 0;max-width: 0;overflow: hidden;text-align: left;background-color: #f0f8ff;}#sk-container-id-5 div.sk-toggleable__content pre {margin: 0.2em;color: black;border-radius: 0.25em;background-color: #f0f8ff;}#sk-container-id-5 input.sk-toggleable__control:checked~div.sk-toggleable__content {max-height: 200px;max-width: 100%;overflow: auto;}#sk-container-id-5 input.sk-toggleable__control:checked~label.sk-toggleable__label-arrow:before {content: \"▾\";}#sk-container-id-5 div.sk-estimator input.sk-toggleable__control:checked~label.sk-toggleable__label {background-color: #d4ebff;}#sk-container-id-5 div.sk-label input.sk-toggleable__control:checked~label.sk-toggleable__label {background-color: #d4ebff;}#sk-container-id-5 input.sk-hidden--visually {border: 0;clip: rect(1px 1px 1px 1px);clip: rect(1px, 1px, 1px, 1px);height: 1px;margin: -1px;overflow: hidden;padding: 0;position: absolute;width: 1px;}#sk-container-id-5 div.sk-estimator {font-family: monospace;background-color: #f0f8ff;border: 1px dotted black;border-radius: 0.25em;box-sizing: border-box;margin-bottom: 0.5em;}#sk-container-id-5 div.sk-estimator:hover {background-color: #d4ebff;}#sk-container-id-5 div.sk-parallel-item::after {content: \"\";width: 100%;border-bottom: 1px solid gray;flex-grow: 1;}#sk-container-id-5 div.sk-label:hover label.sk-toggleable__label {background-color: #d4ebff;}#sk-container-id-5 div.sk-serial::before {content: \"\";position: absolute;border-left: 1px solid gray;box-sizing: border-box;top: 0;bottom: 0;left: 50%;z-index: 0;}#sk-container-id-5 div.sk-serial {display: flex;flex-direction: column;align-items: center;background-color: white;padding-right: 0.2em;padding-left: 0.2em;position: relative;}#sk-container-id-5 div.sk-item {position: relative;z-index: 1;}#sk-container-id-5 div.sk-parallel {display: flex;align-items: stretch;justify-content: center;background-color: white;position: relative;}#sk-container-id-5 div.sk-item::before, #sk-container-id-5 div.sk-parallel-item::before {content: \"\";position: absolute;border-left: 1px solid gray;box-sizing: border-box;top: 0;bottom: 0;left: 50%;z-index: -1;}#sk-container-id-5 div.sk-parallel-item {display: flex;flex-direction: column;z-index: 1;position: relative;background-color: white;}#sk-container-id-5 div.sk-parallel-item:first-child::after {align-self: flex-end;width: 50%;}#sk-container-id-5 div.sk-parallel-item:last-child::after {align-self: flex-start;width: 50%;}#sk-container-id-5 div.sk-parallel-item:only-child::after {width: 0;}#sk-container-id-5 div.sk-dashed-wrapped {border: 1px dashed gray;margin: 0 0.4em 0.5em 0.4em;box-sizing: border-box;padding-bottom: 0.4em;background-color: white;}#sk-container-id-5 div.sk-label label {font-family: monospace;font-weight: bold;display: inline-block;line-height: 1.2em;}#sk-container-id-5 div.sk-label-container {text-align: center;}#sk-container-id-5 div.sk-container {/* jupyter's `normalize.less` sets `[hidden] { display: none; }` but bootstrap.min.css set `[hidden] { display: none !important; }` so we also need the `!important` here to be able to override the default hidden behavior on the sphinx rendered scikit-learn.org. See: https://github.com/scikit-learn/scikit-learn/issues/21755 */display: inline-block !important;position: relative;}#sk-container-id-5 div.sk-text-repr-fallback {display: none;}</style><div id=\"sk-container-id-5\" class=\"sk-top-container\"><div class=\"sk-text-repr-fallback\"><pre>GridSearchCV(cv=5,\n",
       "             estimator=Pipeline(steps=[(&#x27;simpleimputer&#x27;,\n",
       "                                        SimpleImputer(strategy=&#x27;median&#x27;)),\n",
       "                                       (&#x27;standardscaler&#x27;, StandardScaler()),\n",
       "                                       (&#x27;randomforestregressor&#x27;,\n",
       "                                        RandomForestRegressor(random_state=47))]),\n",
       "             n_jobs=-1,\n",
       "             param_grid={&#x27;randomforestregressor__n_estimators&#x27;: [10, 12, 16, 20,\n",
       "                                                                 26, 33, 42, 54,\n",
       "                                                                 69, 88, 112,\n",
       "                                                                 143, 183, 233,\n",
       "                                                                 297, 379, 483,\n",
       "                                                                 615, 784,\n",
       "                                                                 1000],\n",
       "                         &#x27;simpleimputer__strategy&#x27;: [&#x27;mean&#x27;, &#x27;median&#x27;],\n",
       "                         &#x27;standardscaler&#x27;: [StandardScaler(), None]})</pre><b>In a Jupyter environment, please rerun this cell to show the HTML representation or trust the notebook. <br />On GitHub, the HTML representation is unable to render, please try loading this page with nbviewer.org.</b></div><div class=\"sk-container\" hidden><div class=\"sk-item sk-dashed-wrapped\"><div class=\"sk-label-container\"><div class=\"sk-label sk-toggleable\"><input class=\"sk-toggleable__control sk-hidden--visually\" id=\"sk-estimator-id-21\" type=\"checkbox\" ><label for=\"sk-estimator-id-21\" class=\"sk-toggleable__label sk-toggleable__label-arrow\">GridSearchCV</label><div class=\"sk-toggleable__content\"><pre>GridSearchCV(cv=5,\n",
       "             estimator=Pipeline(steps=[(&#x27;simpleimputer&#x27;,\n",
       "                                        SimpleImputer(strategy=&#x27;median&#x27;)),\n",
       "                                       (&#x27;standardscaler&#x27;, StandardScaler()),\n",
       "                                       (&#x27;randomforestregressor&#x27;,\n",
       "                                        RandomForestRegressor(random_state=47))]),\n",
       "             n_jobs=-1,\n",
       "             param_grid={&#x27;randomforestregressor__n_estimators&#x27;: [10, 12, 16, 20,\n",
       "                                                                 26, 33, 42, 54,\n",
       "                                                                 69, 88, 112,\n",
       "                                                                 143, 183, 233,\n",
       "                                                                 297, 379, 483,\n",
       "                                                                 615, 784,\n",
       "                                                                 1000],\n",
       "                         &#x27;simpleimputer__strategy&#x27;: [&#x27;mean&#x27;, &#x27;median&#x27;],\n",
       "                         &#x27;standardscaler&#x27;: [StandardScaler(), None]})</pre></div></div></div><div class=\"sk-parallel\"><div class=\"sk-parallel-item\"><div class=\"sk-item\"><div class=\"sk-label-container\"><div class=\"sk-label sk-toggleable\"><input class=\"sk-toggleable__control sk-hidden--visually\" id=\"sk-estimator-id-22\" type=\"checkbox\" ><label for=\"sk-estimator-id-22\" class=\"sk-toggleable__label sk-toggleable__label-arrow\">estimator: Pipeline</label><div class=\"sk-toggleable__content\"><pre>Pipeline(steps=[(&#x27;simpleimputer&#x27;, SimpleImputer(strategy=&#x27;median&#x27;)),\n",
       "                (&#x27;standardscaler&#x27;, StandardScaler()),\n",
       "                (&#x27;randomforestregressor&#x27;,\n",
       "                 RandomForestRegressor(random_state=47))])</pre></div></div></div><div class=\"sk-serial\"><div class=\"sk-item\"><div class=\"sk-serial\"><div class=\"sk-item\"><div class=\"sk-estimator sk-toggleable\"><input class=\"sk-toggleable__control sk-hidden--visually\" id=\"sk-estimator-id-23\" type=\"checkbox\" ><label for=\"sk-estimator-id-23\" class=\"sk-toggleable__label sk-toggleable__label-arrow\">SimpleImputer</label><div class=\"sk-toggleable__content\"><pre>SimpleImputer(strategy=&#x27;median&#x27;)</pre></div></div></div><div class=\"sk-item\"><div class=\"sk-estimator sk-toggleable\"><input class=\"sk-toggleable__control sk-hidden--visually\" id=\"sk-estimator-id-24\" type=\"checkbox\" ><label for=\"sk-estimator-id-24\" class=\"sk-toggleable__label sk-toggleable__label-arrow\">StandardScaler</label><div class=\"sk-toggleable__content\"><pre>StandardScaler()</pre></div></div></div><div class=\"sk-item\"><div class=\"sk-estimator sk-toggleable\"><input class=\"sk-toggleable__control sk-hidden--visually\" id=\"sk-estimator-id-25\" type=\"checkbox\" ><label for=\"sk-estimator-id-25\" class=\"sk-toggleable__label sk-toggleable__label-arrow\">RandomForestRegressor</label><div class=\"sk-toggleable__content\"><pre>RandomForestRegressor(random_state=47)</pre></div></div></div></div></div></div></div></div></div></div></div></div>"
      ],
      "text/plain": [
       "GridSearchCV(cv=5,\n",
       "             estimator=Pipeline(steps=[('simpleimputer',\n",
       "                                        SimpleImputer(strategy='median')),\n",
       "                                       ('standardscaler', StandardScaler()),\n",
       "                                       ('randomforestregressor',\n",
       "                                        RandomForestRegressor(random_state=47))]),\n",
       "             n_jobs=-1,\n",
       "             param_grid={'randomforestregressor__n_estimators': [10, 12, 16, 20,\n",
       "                                                                 26, 33, 42, 54,\n",
       "                                                                 69, 88, 112,\n",
       "                                                                 143, 183, 233,\n",
       "                                                                 297, 379, 483,\n",
       "                                                                 615, 784,\n",
       "                                                                 1000],\n",
       "                         'simpleimputer__strategy': ['mean', 'median'],\n",
       "                         'standardscaler': [StandardScaler(), None]})"
      ]
     },
     "execution_count": 102,
     "metadata": {},
     "output_type": "execute_result"
    }
   ],
   "source": [
    "rf_grid_cv.fit(X_train, y_train)"
   ]
  },
  {
   "cell_type": "code",
   "execution_count": 103,
   "id": "78b7a3c2",
   "metadata": {},
   "outputs": [
    {
     "data": {
      "text/plain": [
       "{'randomforestregressor__n_estimators': 10,\n",
       " 'simpleimputer__strategy': 'mean',\n",
       " 'standardscaler': StandardScaler()}"
      ]
     },
     "execution_count": 103,
     "metadata": {},
     "output_type": "execute_result"
    }
   ],
   "source": [
    "rf_grid_cv.best_params_"
   ]
  },
  {
   "cell_type": "markdown",
   "id": "1820fc14",
   "metadata": {},
   "source": [
    "Looks like imputing the mean and scaling the features helps."
   ]
  },
  {
   "cell_type": "code",
   "execution_count": 104,
   "id": "a0a84585",
   "metadata": {},
   "outputs": [
    {
     "data": {
      "text/plain": [
       "array([-0.78547285, -0.01646868,  0.03025852,  0.24656872,  0.23064526])"
      ]
     },
     "execution_count": 104,
     "metadata": {},
     "output_type": "execute_result"
    }
   ],
   "source": [
    "rf_best_cv_results = cross_validate(rf_grid_cv.best_estimator_, X_train, y_train, cv=5)\n",
    "rf_best_scores = rf_best_cv_results['test_score']\n",
    "rf_best_scores"
   ]
  },
  {
   "cell_type": "code",
   "execution_count": 105,
   "id": "cf9e2133",
   "metadata": {},
   "outputs": [
    {
     "data": {
      "text/plain": [
       "(-0.05889380609151858, 0.37810193084498334)"
      ]
     },
     "execution_count": 105,
     "metadata": {},
     "output_type": "execute_result"
    }
   ],
   "source": [
    "np.mean(rf_best_scores), np.std(rf_best_scores)"
   ]
  },
  {
   "cell_type": "markdown",
   "id": "416acfaf",
   "metadata": {},
   "source": [
    "The negative mean r-squared score suggets that the best random forect model performs worse than a model that predicts the mean of the purchasing price, this indicates suboptimal overall performance of the model.\n",
    "\n",
    "The moderate standard deviation of the cross-validated r-squared score indicates variability in the model's performance across different folds of the data."
   ]
  },
  {
   "cell_type": "code",
   "execution_count": 106,
   "id": "e35f5776",
   "metadata": {},
   "outputs": [
    {
     "data": {
      "image/png": "[encoded data removed]",
      "text/plain": [
       "<Figure size 2000x500 with 1 Axes>"
      ]
     },
     "metadata": {},
     "output_type": "display_data"
    }
   ],
   "source": [
    "plt.subplots(figsize=(20, 5))\n",
    "imps = rf_grid_cv.best_estimator_.named_steps.randomforestregressor.feature_importances_\n",
    "rf_feat_imps = pd.Series(imps, index=X_train.columns).sort_values(ascending=False)\n",
    "rf_feat_imps.plot(kind='bar')\n",
    "plt.xlabel('features')\n",
    "plt.ylabel('importance')\n",
    "plt.title('Best random forest regressor feature importances');"
   ]
  },
  {
   "cell_type": "markdown",
   "id": "e90041bb",
   "metadata": {},
   "source": [
    "The dominant top four features in common with the linear model are:\n",
    "\n",
    "* Avg_Suplr_Mdcr_Allowd_Amt\n",
    "* Avg_Suply_Mdcr_Pymt_Amt\n",
    "* Tot_Suplrs\n",
    "* Tot_Rfrg_Prvdrs"
   ]
  },
  {
   "cell_type": "markdown",
   "id": "f185fcba",
   "metadata": {},
   "source": [
    "### Final Model Selection"
   ]
  },
  {
   "cell_type": "markdown",
   "id": "81dede34",
   "metadata": {},
   "source": [
    "Linear regression model performance"
   ]
  },
  {
   "cell_type": "code",
   "execution_count": 107,
   "id": "87c158c6",
   "metadata": {},
   "outputs": [],
   "source": [
    "lr_neg_mae = cross_validate(lr_grid_cv.best_estimator_, X_train, y_train, \n",
    "                            scoring='neg_mean_absolute_error', cv=5, n_jobs=-1)"
   ]
  },
  {
   "cell_type": "code",
   "execution_count": 108,
   "id": "d62db274",
   "metadata": {},
   "outputs": [
    {
     "data": {
      "text/plain": [
       "(3.424689264181891, 1.058065224609521)"
      ]
     },
     "execution_count": 108,
     "metadata": {},
     "output_type": "execute_result"
    }
   ],
   "source": [
    "lr_mae_mean = np.mean(-1 * lr_neg_mae['test_score'])\n",
    "lr_mae_std = np.std(-1 * lr_neg_mae['test_score'])\n",
    "lr_mae_mean, lr_mae_std"
   ]
  },
  {
   "cell_type": "code",
   "execution_count": 109,
   "id": "d7e6a321",
   "metadata": {},
   "outputs": [
    {
     "data": {
      "text/plain": [
       "3.481190247890609"
      ]
     },
     "execution_count": 109,
     "metadata": {},
     "output_type": "execute_result"
    }
   ],
   "source": [
    "mean_absolute_error(y_test, lr_grid_cv.best_estimator_.predict(X_test))"
   ]
  },
  {
   "cell_type": "markdown",
   "id": "764f8c99",
   "metadata": {},
   "source": [
    "Random forest regression model performance"
   ]
  },
  {
   "cell_type": "code",
   "execution_count": 110,
   "id": "5cc0ddad",
   "metadata": {},
   "outputs": [],
   "source": [
    "rf_neg_mae = cross_validate(rf_grid_cv.best_estimator_, X_train, y_train, \n",
    "                            scoring='neg_mean_absolute_error', cv=5, n_jobs=-1)"
   ]
  },
  {
   "cell_type": "code",
   "execution_count": 111,
   "id": "b239f3a3",
   "metadata": {},
   "outputs": [
    {
     "data": {
      "text/plain": [
       "(4.077254281992444, 0.5129983854023517)"
      ]
     },
     "execution_count": 111,
     "metadata": {},
     "output_type": "execute_result"
    }
   ],
   "source": [
    "rf_mae_mean = np.mean(-1 * rf_neg_mae['test_score'])\n",
    "rf_mae_std = np.std(-1 * rf_neg_mae['test_score'])\n",
    "rf_mae_mean, rf_mae_std"
   ]
  },
  {
   "cell_type": "code",
   "execution_count": 112,
   "id": "2b601668",
   "metadata": {},
   "outputs": [
    {
     "data": {
      "text/plain": [
       "3.306317733266665"
      ]
     },
     "execution_count": 112,
     "metadata": {},
     "output_type": "execute_result"
    }
   ],
   "source": [
    "mean_absolute_error(y_test, rf_grid_cv.best_estimator_.predict(X_test))"
   ]
  },
  {
   "cell_type": "markdown",
   "id": "50e05d4d",
   "metadata": {},
   "source": [
    "### Conclusion"
   ]
  },
  {
   "cell_type": "markdown",
   "id": "f825c3af",
   "metadata": {},
   "source": [
    "Comparing the mae on the test set, the random forest model appears to perform slightly better than the linear regression model."
   ]
  },
  {
   "cell_type": "markdown",
   "id": "cb33ccea",
   "metadata": {},
   "source": [
    "### Data Quantity Assessment"
   ]
  },
  {
   "cell_type": "code",
   "execution_count": 113,
   "id": "8f5297ad",
   "metadata": {},
   "outputs": [],
   "source": [
    "fractions = [.2, .25, .3, .35, .4, .45, .5, .6, .75, .8, 1.0]\n",
    "train_size, train_scores, test_scores = learning_curve(pipe, X_train, y_train, train_sizes=fractions)\n",
    "train_scores_mean = np.mean(train_scores, axis=1)\n",
    "train_scores_std = np.std(train_scores, axis=1)\n",
    "test_scores_mean = np.mean(test_scores, axis=1)\n",
    "test_scores_std = np.std(test_scores, axis=1)"
   ]
  },
  {
   "cell_type": "code",
   "execution_count": 114,
   "id": "978f6f5e",
   "metadata": {},
   "outputs": [
    {
     "data": {
      "image/png": "[encoded data removed]",
      "text/plain": [
       "<Figure size 1000x500 with 1 Axes>"
      ]
     },
     "metadata": {},
     "output_type": "display_data"
    }
   ],
   "source": [
    "plt.subplots(figsize=(10, 5))\n",
    "plt.errorbar(train_size, test_scores_mean, yerr=test_scores_std)\n",
    "plt.xlabel('Training set size')\n",
    "plt.ylabel('CV scores')\n",
    "plt.title('Cross-validation score as training set size increases');"
   ]
  },
  {
   "cell_type": "markdown",
   "id": "042ab74b",
   "metadata": {},
   "source": [
    "There initial rapid improvement in model scores but levels off which indicates that adding more data does not significantly improve model performance beyond a certain point."
   ]
  },
  {
   "cell_type": "markdown",
   "id": "251d64ac",
   "metadata": {},
   "source": [
    "### Save best model object from pipeline"
   ]
  },
  {
   "cell_type": "markdown",
   "id": "f34c319e",
   "metadata": {},
   "source": [
    "We will find the best model from the above cross validation and save the model as a file 'medical_device_model.pkl'."
   ]
  },
  {
   "cell_type": "code",
   "execution_count": 115,
   "id": "f83dd01c",
   "metadata": {},
   "outputs": [],
   "source": [
    "best_model = rf_grid_cv.best_estimator_\n",
    "best_model.version = '1.0'\n",
    "best_model.pandas_version = pd.__version__\n",
    "best_model.numpy_version = np.__version__\n",
    "best_model.sklearn_version = sklearn_version\n",
    "best_model.X_columns = [col for col in X_train.columns]"
   ]
  },
  {
   "cell_type": "code",
   "execution_count": 116,
   "id": "d4585dd1",
   "metadata": {},
   "outputs": [
    {
     "data": {
      "text/plain": [
       "['medical_device_model.pkl']"
      ]
     },
     "execution_count": 116,
     "metadata": {},
     "output_type": "execute_result"
    }
   ],
   "source": [
    "joblib.dump(best_model, 'medical_device_model.pkl')"
   ]
  },
  {
   "cell_type": "code",
   "execution_count": 117,
   "id": "f1942120",
   "metadata": {},
   "outputs": [],
   "source": [
    "with open('X_train.pkl', 'wb') as file:\n",
    "    pickle.dump(X_train, file)\n",
    "with open('y_train.pkl', 'wb') as file:\n",
    "    pickle.dump(y_train, file)"
   ]
  },
  {
   "cell_type": "code",
   "execution_count": 118,
   "id": "6b115692",
   "metadata": {},
   "outputs": [],
   "source": [
    "with open('X_test.pkl', 'wb') as file:\n",
    "    pickle.dump(X_test, file)\n",
    "with open('y_test.pkl', 'wb') as file:\n",
    "    pickle.dump(y_test, file)"
   ]
  }
 ],
 "metadata": {
  "kernelspec": {
   "display_name": "Python 3 (ipykernel)",
   "language": "python",
   "name": "python3"
  },
  "language_info": {
   "codemirror_mode": {
    "name": "ipython",
    "version": 3
   },
   "file_extension": ".py",
   "mimetype": "text/x-python",
   "name": "python",
   "nbconvert_exporter": "python",
   "pygments_lexer": "ipython3",
   "version": "3.11.5"
  }
 },
 "nbformat": 4,
 "nbformat_minor": 5
}

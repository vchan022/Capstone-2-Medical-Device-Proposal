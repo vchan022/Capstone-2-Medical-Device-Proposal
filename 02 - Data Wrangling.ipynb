{
 "cells": [
  {
   "cell_type": "markdown",
   "id": "d210e30f",
   "metadata": {},
   "source": [
    "# Data Wrangling"
   ]
  },
  {
   "cell_type": "markdown",
   "id": "00d9bc79",
   "metadata": {},
   "source": [
    "Medicare Durable Medical Equipment, Devices & Supplies dataset (via Data.CMS.gov)\n",
    "\n",
    "Source - [https://data.cms.gov/resources/medicare-durable-medical-equipment-devices-supplies-by-geography-and-service-data-dictionary]\n",
    "\n",
    "In this section, I will be exploring the raw dataset for any null values, duplicates, and formatting issues. The transformed data will be saved and used in the next section for further analysis."
   ]
  },
  {
   "cell_type": "code",
   "execution_count": 1,
   "id": "768f7af1",
   "metadata": {},
   "outputs": [],
   "source": [
    "import pandas as pd\n",
    "import matplotlib.pyplot as plt\n",
    "import seaborn as sns\n",
    "import os"
   ]
  },
  {
   "cell_type": "code",
   "execution_count": 2,
   "id": "33c8cd5a",
   "metadata": {},
   "outputs": [
    {
     "name": "stderr",
     "output_type": "stream",
     "text": [
      "C:\\Users\\veron\\AppData\\Local\\Temp\\ipykernel_19024\\748110536.py:1: DtypeWarning: Columns (1) have mixed types. Specify dtype option on import or set low_memory=False.\n",
      "  df = pd.read_csv(\"mup_dme_ry23_p05_v10_dy21_geor.csv\")\n"
     ]
    }
   ],
   "source": [
    "df = pd.read_csv(\"mup_dme_ry23_p05_v10_dy21_geor.csv\")"
   ]
  },
  {
   "cell_type": "code",
   "execution_count": 3,
   "id": "4a896193",
   "metadata": {},
   "outputs": [
    {
     "name": "stdout",
     "output_type": "stream",
     "text": [
      "<class 'pandas.core.frame.DataFrame'>\n",
      "RangeIndex: 40267 entries, 0 to 40266\n",
      "Data columns (total 18 columns):\n",
      " #   Column                    Non-Null Count  Dtype  \n",
      "---  ------                    --------------  -----  \n",
      " 0   Rfrg_Prvdr_Geo_Lvl        40267 non-null  object \n",
      " 1   Rfrg_Prvdr_Geo_Cd         38567 non-null  object \n",
      " 2   Rfrg_Prvdr_Geo_Desc       40267 non-null  object \n",
      " 3   BETOS_Lvl                 40267 non-null  object \n",
      " 4   BETOS_Cd                  40267 non-null  object \n",
      " 5   BETOS_Desc                40267 non-null  object \n",
      " 6   HCPCS_Cd                  40267 non-null  object \n",
      " 7   HCPCS_Desc                40267 non-null  object \n",
      " 8   Suplr_Rentl_Ind           40267 non-null  object \n",
      " 9   Tot_Rfrg_Prvdrs           40267 non-null  int64  \n",
      " 10  Tot_Suplrs                40267 non-null  int64  \n",
      " 11  Tot_Suplr_Benes           35618 non-null  float64\n",
      " 12  Tot_Suplr_Clms            40267 non-null  int64  \n",
      " 13  Tot_Suplr_Srvcs           40267 non-null  int64  \n",
      " 14  Avg_Suplr_Sbmtd_Chrg      40267 non-null  float64\n",
      " 15  Avg_Suplr_Mdcr_Alowd_Amt  40267 non-null  float64\n",
      " 16  Avg_Suplr_Mdcr_Pymt_Amt   40267 non-null  float64\n",
      " 17  Avg_Suplr_Mdcr_Stdzd_Amt  40267 non-null  float64\n",
      "dtypes: float64(5), int64(4), object(9)\n",
      "memory usage: 5.5+ MB\n"
     ]
    }
   ],
   "source": [
    "df.info()"
   ]
  },
  {
   "cell_type": "markdown",
   "id": "241e8696",
   "metadata": {},
   "source": [
    "We can see a 2 columns with some missing values and half of the columns contain strings that will need to be converted into dummy values in a later section. Below we will preview the first 5 rows of the dataset to get an idea of what the data looks like, already we can see some NaN values and strings."
   ]
  },
  {
   "cell_type": "code",
   "execution_count": 4,
   "id": "895aeaf9",
   "metadata": {},
   "outputs": [
    {
     "data": {
      "text/html": [
       "<div>\n",
       "<style scoped>\n",
       "    .dataframe tbody tr th:only-of-type {\n",
       "        vertical-align: middle;\n",
       "    }\n",
       "\n",
       "    .dataframe tbody tr th {\n",
       "        vertical-align: top;\n",
       "    }\n",
       "\n",
       "    .dataframe thead th {\n",
       "        text-align: right;\n",
       "    }\n",
       "</style>\n",
       "<table border=\"1\" class=\"dataframe\">\n",
       "  <thead>\n",
       "    <tr style=\"text-align: right;\">\n",
       "      <th></th>\n",
       "      <th>Rfrg_Prvdr_Geo_Lvl</th>\n",
       "      <th>Rfrg_Prvdr_Geo_Cd</th>\n",
       "      <th>Rfrg_Prvdr_Geo_Desc</th>\n",
       "      <th>BETOS_Lvl</th>\n",
       "      <th>BETOS_Cd</th>\n",
       "      <th>BETOS_Desc</th>\n",
       "      <th>HCPCS_Cd</th>\n",
       "      <th>HCPCS_Desc</th>\n",
       "      <th>Suplr_Rentl_Ind</th>\n",
       "      <th>Tot_Rfrg_Prvdrs</th>\n",
       "      <th>Tot_Suplrs</th>\n",
       "      <th>Tot_Suplr_Benes</th>\n",
       "      <th>Tot_Suplr_Clms</th>\n",
       "      <th>Tot_Suplr_Srvcs</th>\n",
       "      <th>Avg_Suplr_Sbmtd_Chrg</th>\n",
       "      <th>Avg_Suplr_Mdcr_Alowd_Amt</th>\n",
       "      <th>Avg_Suplr_Mdcr_Pymt_Amt</th>\n",
       "      <th>Avg_Suplr_Mdcr_Stdzd_Amt</th>\n",
       "    </tr>\n",
       "  </thead>\n",
       "  <tbody>\n",
       "    <tr>\n",
       "      <th>0</th>\n",
       "      <td>National</td>\n",
       "      <td>NaN</td>\n",
       "      <td>National</td>\n",
       "      <td>Drugs and Nutritional Products</td>\n",
       "      <td>O1C</td>\n",
       "      <td>Enteral and parenteral</td>\n",
       "      <td>B4034</td>\n",
       "      <td>Enteral feeding supply kit; syringe fed, per d...</td>\n",
       "      <td>N</td>\n",
       "      <td>28183</td>\n",
       "      <td>1745</td>\n",
       "      <td>33451.0</td>\n",
       "      <td>171371</td>\n",
       "      <td>4627387</td>\n",
       "      <td>58.266520</td>\n",
       "      <td>3.718512</td>\n",
       "      <td>2.918066</td>\n",
       "      <td>3.047039</td>\n",
       "    </tr>\n",
       "    <tr>\n",
       "      <th>1</th>\n",
       "      <td>National</td>\n",
       "      <td>NaN</td>\n",
       "      <td>National</td>\n",
       "      <td>Drugs and Nutritional Products</td>\n",
       "      <td>O1C</td>\n",
       "      <td>Enteral and parenteral</td>\n",
       "      <td>B4035</td>\n",
       "      <td>Enteral feeding supply kit; pump fed, per day,...</td>\n",
       "      <td>N</td>\n",
       "      <td>27342</td>\n",
       "      <td>1758</td>\n",
       "      <td>39110.0</td>\n",
       "      <td>271836</td>\n",
       "      <td>7050743</td>\n",
       "      <td>75.495042</td>\n",
       "      <td>6.433860</td>\n",
       "      <td>5.067509</td>\n",
       "      <td>5.552222</td>\n",
       "    </tr>\n",
       "    <tr>\n",
       "      <th>2</th>\n",
       "      <td>National</td>\n",
       "      <td>NaN</td>\n",
       "      <td>National</td>\n",
       "      <td>Drugs and Nutritional Products</td>\n",
       "      <td>O1C</td>\n",
       "      <td>Enteral and parenteral</td>\n",
       "      <td>B4036</td>\n",
       "      <td>Enteral feeding supply kit; gravity fed, per d...</td>\n",
       "      <td>N</td>\n",
       "      <td>6166</td>\n",
       "      <td>933</td>\n",
       "      <td>7171.0</td>\n",
       "      <td>41181</td>\n",
       "      <td>1116382</td>\n",
       "      <td>75.172639</td>\n",
       "      <td>5.036933</td>\n",
       "      <td>3.959289</td>\n",
       "      <td>4.100195</td>\n",
       "    </tr>\n",
       "    <tr>\n",
       "      <th>3</th>\n",
       "      <td>National</td>\n",
       "      <td>NaN</td>\n",
       "      <td>National</td>\n",
       "      <td>Drugs and Nutritional Products</td>\n",
       "      <td>O1C</td>\n",
       "      <td>Enteral and parenteral</td>\n",
       "      <td>B4081</td>\n",
       "      <td>Nasogastric tubing with stylet</td>\n",
       "      <td>N</td>\n",
       "      <td>14</td>\n",
       "      <td>12</td>\n",
       "      <td>13.0</td>\n",
       "      <td>20</td>\n",
       "      <td>33</td>\n",
       "      <td>113.736061</td>\n",
       "      <td>17.292727</td>\n",
       "      <td>13.833939</td>\n",
       "      <td>13.579697</td>\n",
       "    </tr>\n",
       "    <tr>\n",
       "      <th>4</th>\n",
       "      <td>National</td>\n",
       "      <td>NaN</td>\n",
       "      <td>National</td>\n",
       "      <td>Drugs and Nutritional Products</td>\n",
       "      <td>O1C</td>\n",
       "      <td>Enteral and parenteral</td>\n",
       "      <td>B4082</td>\n",
       "      <td>Nasogastric tubing without stylet</td>\n",
       "      <td>N</td>\n",
       "      <td>16</td>\n",
       "      <td>16</td>\n",
       "      <td>16.0</td>\n",
       "      <td>21</td>\n",
       "      <td>43</td>\n",
       "      <td>99.110930</td>\n",
       "      <td>12.532093</td>\n",
       "      <td>9.502326</td>\n",
       "      <td>9.463488</td>\n",
       "    </tr>\n",
       "  </tbody>\n",
       "</table>\n",
       "</div>"
      ],
      "text/plain": [
       "  Rfrg_Prvdr_Geo_Lvl Rfrg_Prvdr_Geo_Cd Rfrg_Prvdr_Geo_Desc  \\\n",
       "0           National               NaN            National   \n",
       "1           National               NaN            National   \n",
       "2           National               NaN            National   \n",
       "3           National               NaN            National   \n",
       "4           National               NaN            National   \n",
       "\n",
       "                        BETOS_Lvl BETOS_Cd              BETOS_Desc HCPCS_Cd  \\\n",
       "0  Drugs and Nutritional Products      O1C  Enteral and parenteral    B4034   \n",
       "1  Drugs and Nutritional Products      O1C  Enteral and parenteral    B4035   \n",
       "2  Drugs and Nutritional Products      O1C  Enteral and parenteral    B4036   \n",
       "3  Drugs and Nutritional Products      O1C  Enteral and parenteral    B4081   \n",
       "4  Drugs and Nutritional Products      O1C  Enteral and parenteral    B4082   \n",
       "\n",
       "                                          HCPCS_Desc Suplr_Rentl_Ind  \\\n",
       "0  Enteral feeding supply kit; syringe fed, per d...               N   \n",
       "1  Enteral feeding supply kit; pump fed, per day,...               N   \n",
       "2  Enteral feeding supply kit; gravity fed, per d...               N   \n",
       "3                     Nasogastric tubing with stylet               N   \n",
       "4                  Nasogastric tubing without stylet               N   \n",
       "\n",
       "   Tot_Rfrg_Prvdrs  Tot_Suplrs  Tot_Suplr_Benes  Tot_Suplr_Clms  \\\n",
       "0            28183        1745          33451.0          171371   \n",
       "1            27342        1758          39110.0          271836   \n",
       "2             6166         933           7171.0           41181   \n",
       "3               14          12             13.0              20   \n",
       "4               16          16             16.0              21   \n",
       "\n",
       "   Tot_Suplr_Srvcs  Avg_Suplr_Sbmtd_Chrg  Avg_Suplr_Mdcr_Alowd_Amt  \\\n",
       "0          4627387             58.266520                  3.718512   \n",
       "1          7050743             75.495042                  6.433860   \n",
       "2          1116382             75.172639                  5.036933   \n",
       "3               33            113.736061                 17.292727   \n",
       "4               43             99.110930                 12.532093   \n",
       "\n",
       "   Avg_Suplr_Mdcr_Pymt_Amt  Avg_Suplr_Mdcr_Stdzd_Amt  \n",
       "0                 2.918066                  3.047039  \n",
       "1                 5.067509                  5.552222  \n",
       "2                 3.959289                  4.100195  \n",
       "3                13.833939                 13.579697  \n",
       "4                 9.502326                  9.463488  "
      ]
     },
     "execution_count": 4,
     "metadata": {},
     "output_type": "execute_result"
    }
   ],
   "source": [
    "df.head()"
   ]
  },
  {
   "cell_type": "code",
   "execution_count": 5,
   "id": "6baaaee2",
   "metadata": {},
   "outputs": [
    {
     "data": {
      "text/plain": [
       "Rfrg_Prvdr_Geo_Lvl           object\n",
       "Rfrg_Prvdr_Geo_Cd            object\n",
       "Rfrg_Prvdr_Geo_Desc          object\n",
       "BETOS_Lvl                    object\n",
       "BETOS_Cd                     object\n",
       "BETOS_Desc                   object\n",
       "HCPCS_Cd                     object\n",
       "HCPCS_Desc                   object\n",
       "Suplr_Rentl_Ind              object\n",
       "Tot_Rfrg_Prvdrs               int64\n",
       "Tot_Suplrs                    int64\n",
       "Tot_Suplr_Benes             float64\n",
       "Tot_Suplr_Clms                int64\n",
       "Tot_Suplr_Srvcs               int64\n",
       "Avg_Suplr_Sbmtd_Chrg        float64\n",
       "Avg_Suplr_Mdcr_Alowd_Amt    float64\n",
       "Avg_Suplr_Mdcr_Pymt_Amt     float64\n",
       "Avg_Suplr_Mdcr_Stdzd_Amt    float64\n",
       "dtype: object"
      ]
     },
     "execution_count": 5,
     "metadata": {},
     "output_type": "execute_result"
    }
   ],
   "source": [
    "df.dtypes"
   ]
  },
  {
   "cell_type": "code",
   "execution_count": 6,
   "id": "8b6aa4fe",
   "metadata": {},
   "outputs": [
    {
     "data": {
      "text/plain": [
       "Rfrg_Prvdr_Geo_Lvl              2\n",
       "Rfrg_Prvdr_Geo_Cd              61\n",
       "Rfrg_Prvdr_Geo_Desc            61\n",
       "BETOS_Lvl                       3\n",
       "BETOS_Cd                       12\n",
       "BETOS_Desc                     12\n",
       "HCPCS_Cd                     1538\n",
       "HCPCS_Desc                   1538\n",
       "Suplr_Rentl_Ind                 2\n",
       "Tot_Rfrg_Prvdrs              2864\n",
       "Tot_Suplrs                   1309\n",
       "Tot_Suplr_Benes              4322\n",
       "Tot_Suplr_Clms               6196\n",
       "Tot_Suplr_Srvcs             11815\n",
       "Avg_Suplr_Sbmtd_Chrg        39686\n",
       "Avg_Suplr_Mdcr_Alowd_Amt    37303\n",
       "Avg_Suplr_Mdcr_Pymt_Amt     39863\n",
       "Avg_Suplr_Mdcr_Stdzd_Amt    39557\n",
       "dtype: int64"
      ]
     },
     "execution_count": 6,
     "metadata": {},
     "output_type": "execute_result"
    }
   ],
   "source": [
    "df.nunique()"
   ]
  },
  {
   "cell_type": "code",
   "execution_count": 7,
   "id": "95774fcc",
   "metadata": {},
   "outputs": [
    {
     "data": {
      "text/html": [
       "<div>\n",
       "<style scoped>\n",
       "    .dataframe tbody tr th:only-of-type {\n",
       "        vertical-align: middle;\n",
       "    }\n",
       "\n",
       "    .dataframe tbody tr th {\n",
       "        vertical-align: top;\n",
       "    }\n",
       "\n",
       "    .dataframe thead th {\n",
       "        text-align: right;\n",
       "    }\n",
       "</style>\n",
       "<table border=\"1\" class=\"dataframe\">\n",
       "  <thead>\n",
       "    <tr style=\"text-align: right;\">\n",
       "      <th></th>\n",
       "      <th>Tot_Rfrg_Prvdrs</th>\n",
       "      <th>Tot_Suplrs</th>\n",
       "      <th>Tot_Suplr_Benes</th>\n",
       "      <th>Tot_Suplr_Clms</th>\n",
       "      <th>Tot_Suplr_Srvcs</th>\n",
       "      <th>Avg_Suplr_Sbmtd_Chrg</th>\n",
       "      <th>Avg_Suplr_Mdcr_Alowd_Amt</th>\n",
       "      <th>Avg_Suplr_Mdcr_Pymt_Amt</th>\n",
       "      <th>Avg_Suplr_Mdcr_Stdzd_Amt</th>\n",
       "    </tr>\n",
       "  </thead>\n",
       "  <tbody>\n",
       "    <tr>\n",
       "      <th>count</th>\n",
       "      <td>40267.000000</td>\n",
       "      <td>40267.000000</td>\n",
       "      <td>3.561800e+04</td>\n",
       "      <td>4.026700e+04</td>\n",
       "      <td>4.026700e+04</td>\n",
       "      <td>40267.000000</td>\n",
       "      <td>40267.000000</td>\n",
       "      <td>40267.000000</td>\n",
       "      <td>40267.000000</td>\n",
       "    </tr>\n",
       "    <tr>\n",
       "      <th>mean</th>\n",
       "      <td>447.229692</td>\n",
       "      <td>89.038443</td>\n",
       "      <td>1.730871e+03</td>\n",
       "      <td>4.184466e+03</td>\n",
       "      <td>1.099592e+05</td>\n",
       "      <td>611.400398</td>\n",
       "      <td>361.336364</td>\n",
       "      <td>284.765768</td>\n",
       "      <td>279.181098</td>\n",
       "    </tr>\n",
       "    <tr>\n",
       "      <th>std</th>\n",
       "      <td>3937.726657</td>\n",
       "      <td>638.494963</td>\n",
       "      <td>2.451964e+04</td>\n",
       "      <td>6.643068e+04</td>\n",
       "      <td>4.009421e+06</td>\n",
       "      <td>2026.956852</td>\n",
       "      <td>1294.628007</td>\n",
       "      <td>1024.518576</td>\n",
       "      <td>1003.249283</td>\n",
       "    </tr>\n",
       "    <tr>\n",
       "      <th>min</th>\n",
       "      <td>1.000000</td>\n",
       "      <td>1.000000</td>\n",
       "      <td>1.100000e+01</td>\n",
       "      <td>1.100000e+01</td>\n",
       "      <td>1.100000e+01</td>\n",
       "      <td>0.002468</td>\n",
       "      <td>0.002468</td>\n",
       "      <td>0.002222</td>\n",
       "      <td>0.002222</td>\n",
       "    </tr>\n",
       "    <tr>\n",
       "      <th>25%</th>\n",
       "      <td>15.000000</td>\n",
       "      <td>7.000000</td>\n",
       "      <td>2.900000e+01</td>\n",
       "      <td>3.400000e+01</td>\n",
       "      <td>5.700000e+01</td>\n",
       "      <td>18.723226</td>\n",
       "      <td>8.881884</td>\n",
       "      <td>6.811482</td>\n",
       "      <td>6.713250</td>\n",
       "    </tr>\n",
       "    <tr>\n",
       "      <th>50%</th>\n",
       "      <td>45.000000</td>\n",
       "      <td>17.000000</td>\n",
       "      <td>8.800000e+01</td>\n",
       "      <td>1.210000e+02</td>\n",
       "      <td>3.190000e+02</td>\n",
       "      <td>94.654804</td>\n",
       "      <td>47.792544</td>\n",
       "      <td>36.605000</td>\n",
       "      <td>36.863939</td>\n",
       "    </tr>\n",
       "    <tr>\n",
       "      <th>75%</th>\n",
       "      <td>170.000000</td>\n",
       "      <td>47.000000</td>\n",
       "      <td>3.550000e+02</td>\n",
       "      <td>5.860000e+02</td>\n",
       "      <td>3.378000e+03</td>\n",
       "      <td>426.535897</td>\n",
       "      <td>213.777152</td>\n",
       "      <td>168.102759</td>\n",
       "      <td>166.523904</td>\n",
       "    </tr>\n",
       "    <tr>\n",
       "      <th>max</th>\n",
       "      <td>233762.000000</td>\n",
       "      <td>43511.000000</td>\n",
       "      <td>1.891407e+06</td>\n",
       "      <td>6.414962e+06</td>\n",
       "      <td>7.279081e+08</td>\n",
       "      <td>49184.117692</td>\n",
       "      <td>38073.511538</td>\n",
       "      <td>30458.810769</td>\n",
       "      <td>28455.966923</td>\n",
       "    </tr>\n",
       "  </tbody>\n",
       "</table>\n",
       "</div>"
      ],
      "text/plain": [
       "       Tot_Rfrg_Prvdrs    Tot_Suplrs  Tot_Suplr_Benes  Tot_Suplr_Clms  \\\n",
       "count     40267.000000  40267.000000     3.561800e+04    4.026700e+04   \n",
       "mean        447.229692     89.038443     1.730871e+03    4.184466e+03   \n",
       "std        3937.726657    638.494963     2.451964e+04    6.643068e+04   \n",
       "min           1.000000      1.000000     1.100000e+01    1.100000e+01   \n",
       "25%          15.000000      7.000000     2.900000e+01    3.400000e+01   \n",
       "50%          45.000000     17.000000     8.800000e+01    1.210000e+02   \n",
       "75%         170.000000     47.000000     3.550000e+02    5.860000e+02   \n",
       "max      233762.000000  43511.000000     1.891407e+06    6.414962e+06   \n",
       "\n",
       "       Tot_Suplr_Srvcs  Avg_Suplr_Sbmtd_Chrg  Avg_Suplr_Mdcr_Alowd_Amt  \\\n",
       "count     4.026700e+04          40267.000000              40267.000000   \n",
       "mean      1.099592e+05            611.400398                361.336364   \n",
       "std       4.009421e+06           2026.956852               1294.628007   \n",
       "min       1.100000e+01              0.002468                  0.002468   \n",
       "25%       5.700000e+01             18.723226                  8.881884   \n",
       "50%       3.190000e+02             94.654804                 47.792544   \n",
       "75%       3.378000e+03            426.535897                213.777152   \n",
       "max       7.279081e+08          49184.117692              38073.511538   \n",
       "\n",
       "       Avg_Suplr_Mdcr_Pymt_Amt  Avg_Suplr_Mdcr_Stdzd_Amt  \n",
       "count             40267.000000              40267.000000  \n",
       "mean                284.765768                279.181098  \n",
       "std                1024.518576               1003.249283  \n",
       "min                   0.002222                  0.002222  \n",
       "25%                   6.811482                  6.713250  \n",
       "50%                  36.605000                 36.863939  \n",
       "75%                 168.102759                166.523904  \n",
       "max               30458.810769              28455.966923  "
      ]
     },
     "execution_count": 7,
     "metadata": {},
     "output_type": "execute_result"
    }
   ],
   "source": [
    "df.describe()"
   ]
  },
  {
   "cell_type": "code",
   "execution_count": 8,
   "id": "8ce090f2",
   "metadata": {},
   "outputs": [
    {
     "data": {
      "text/html": [
       "<div>\n",
       "<style scoped>\n",
       "    .dataframe tbody tr th:only-of-type {\n",
       "        vertical-align: middle;\n",
       "    }\n",
       "\n",
       "    .dataframe tbody tr th {\n",
       "        vertical-align: top;\n",
       "    }\n",
       "\n",
       "    .dataframe thead th {\n",
       "        text-align: right;\n",
       "    }\n",
       "</style>\n",
       "<table border=\"1\" class=\"dataframe\">\n",
       "  <thead>\n",
       "    <tr style=\"text-align: right;\">\n",
       "      <th></th>\n",
       "      <th>count</th>\n",
       "      <th>mean</th>\n",
       "      <th>std</th>\n",
       "      <th>min</th>\n",
       "      <th>25%</th>\n",
       "      <th>50%</th>\n",
       "      <th>75%</th>\n",
       "      <th>max</th>\n",
       "    </tr>\n",
       "  </thead>\n",
       "  <tbody>\n",
       "    <tr>\n",
       "      <th>Tot_Rfrg_Prvdrs</th>\n",
       "      <td>40267.0</td>\n",
       "      <td>447.229692</td>\n",
       "      <td>3.937727e+03</td>\n",
       "      <td>1.000000</td>\n",
       "      <td>15.000000</td>\n",
       "      <td>45.000000</td>\n",
       "      <td>170.000000</td>\n",
       "      <td>2.337620e+05</td>\n",
       "    </tr>\n",
       "    <tr>\n",
       "      <th>Tot_Suplrs</th>\n",
       "      <td>40267.0</td>\n",
       "      <td>89.038443</td>\n",
       "      <td>6.384950e+02</td>\n",
       "      <td>1.000000</td>\n",
       "      <td>7.000000</td>\n",
       "      <td>17.000000</td>\n",
       "      <td>47.000000</td>\n",
       "      <td>4.351100e+04</td>\n",
       "    </tr>\n",
       "    <tr>\n",
       "      <th>Tot_Suplr_Benes</th>\n",
       "      <td>35618.0</td>\n",
       "      <td>1730.870796</td>\n",
       "      <td>2.451964e+04</td>\n",
       "      <td>11.000000</td>\n",
       "      <td>29.000000</td>\n",
       "      <td>88.000000</td>\n",
       "      <td>355.000000</td>\n",
       "      <td>1.891407e+06</td>\n",
       "    </tr>\n",
       "    <tr>\n",
       "      <th>Tot_Suplr_Clms</th>\n",
       "      <td>40267.0</td>\n",
       "      <td>4184.465567</td>\n",
       "      <td>6.643068e+04</td>\n",
       "      <td>11.000000</td>\n",
       "      <td>34.000000</td>\n",
       "      <td>121.000000</td>\n",
       "      <td>586.000000</td>\n",
       "      <td>6.414962e+06</td>\n",
       "    </tr>\n",
       "    <tr>\n",
       "      <th>Tot_Suplr_Srvcs</th>\n",
       "      <td>40267.0</td>\n",
       "      <td>109959.164676</td>\n",
       "      <td>4.009421e+06</td>\n",
       "      <td>11.000000</td>\n",
       "      <td>57.000000</td>\n",
       "      <td>319.000000</td>\n",
       "      <td>3378.000000</td>\n",
       "      <td>7.279081e+08</td>\n",
       "    </tr>\n",
       "    <tr>\n",
       "      <th>Avg_Suplr_Sbmtd_Chrg</th>\n",
       "      <td>40267.0</td>\n",
       "      <td>611.400398</td>\n",
       "      <td>2.026957e+03</td>\n",
       "      <td>0.002468</td>\n",
       "      <td>18.723226</td>\n",
       "      <td>94.654804</td>\n",
       "      <td>426.535897</td>\n",
       "      <td>4.918412e+04</td>\n",
       "    </tr>\n",
       "    <tr>\n",
       "      <th>Avg_Suplr_Mdcr_Alowd_Amt</th>\n",
       "      <td>40267.0</td>\n",
       "      <td>361.336364</td>\n",
       "      <td>1.294628e+03</td>\n",
       "      <td>0.002468</td>\n",
       "      <td>8.881884</td>\n",
       "      <td>47.792544</td>\n",
       "      <td>213.777152</td>\n",
       "      <td>3.807351e+04</td>\n",
       "    </tr>\n",
       "    <tr>\n",
       "      <th>Avg_Suplr_Mdcr_Pymt_Amt</th>\n",
       "      <td>40267.0</td>\n",
       "      <td>284.765768</td>\n",
       "      <td>1.024519e+03</td>\n",
       "      <td>0.002222</td>\n",
       "      <td>6.811482</td>\n",
       "      <td>36.605000</td>\n",
       "      <td>168.102759</td>\n",
       "      <td>3.045881e+04</td>\n",
       "    </tr>\n",
       "    <tr>\n",
       "      <th>Avg_Suplr_Mdcr_Stdzd_Amt</th>\n",
       "      <td>40267.0</td>\n",
       "      <td>279.181098</td>\n",
       "      <td>1.003249e+03</td>\n",
       "      <td>0.002222</td>\n",
       "      <td>6.713250</td>\n",
       "      <td>36.863939</td>\n",
       "      <td>166.523904</td>\n",
       "      <td>2.845597e+04</td>\n",
       "    </tr>\n",
       "  </tbody>\n",
       "</table>\n",
       "</div>"
      ],
      "text/plain": [
       "                            count           mean           std        min  \\\n",
       "Tot_Rfrg_Prvdrs           40267.0     447.229692  3.937727e+03   1.000000   \n",
       "Tot_Suplrs                40267.0      89.038443  6.384950e+02   1.000000   \n",
       "Tot_Suplr_Benes           35618.0    1730.870796  2.451964e+04  11.000000   \n",
       "Tot_Suplr_Clms            40267.0    4184.465567  6.643068e+04  11.000000   \n",
       "Tot_Suplr_Srvcs           40267.0  109959.164676  4.009421e+06  11.000000   \n",
       "Avg_Suplr_Sbmtd_Chrg      40267.0     611.400398  2.026957e+03   0.002468   \n",
       "Avg_Suplr_Mdcr_Alowd_Amt  40267.0     361.336364  1.294628e+03   0.002468   \n",
       "Avg_Suplr_Mdcr_Pymt_Amt   40267.0     284.765768  1.024519e+03   0.002222   \n",
       "Avg_Suplr_Mdcr_Stdzd_Amt  40267.0     279.181098  1.003249e+03   0.002222   \n",
       "\n",
       "                                25%         50%          75%           max  \n",
       "Tot_Rfrg_Prvdrs           15.000000   45.000000   170.000000  2.337620e+05  \n",
       "Tot_Suplrs                 7.000000   17.000000    47.000000  4.351100e+04  \n",
       "Tot_Suplr_Benes           29.000000   88.000000   355.000000  1.891407e+06  \n",
       "Tot_Suplr_Clms            34.000000  121.000000   586.000000  6.414962e+06  \n",
       "Tot_Suplr_Srvcs           57.000000  319.000000  3378.000000  7.279081e+08  \n",
       "Avg_Suplr_Sbmtd_Chrg      18.723226   94.654804   426.535897  4.918412e+04  \n",
       "Avg_Suplr_Mdcr_Alowd_Amt   8.881884   47.792544   213.777152  3.807351e+04  \n",
       "Avg_Suplr_Mdcr_Pymt_Amt    6.811482   36.605000   168.102759  3.045881e+04  \n",
       "Avg_Suplr_Mdcr_Stdzd_Amt   6.713250   36.863939   166.523904  2.845597e+04  "
      ]
     },
     "execution_count": 8,
     "metadata": {},
     "output_type": "execute_result"
    }
   ],
   "source": [
    "df.describe().T"
   ]
  },
  {
   "cell_type": "markdown",
   "id": "dd1ffefe",
   "metadata": {},
   "source": [
    "Based on the statistics of the dataset, we can conclude the following:\n",
    "\n",
    "* Average Referring Providers - 447\n",
    "* Average Suppliers - 89\n",
    "* Average Charges - $644.40"
   ]
  },
  {
   "cell_type": "code",
   "execution_count": 9,
   "id": "cd8a6bfd",
   "metadata": {},
   "outputs": [
    {
     "data": {
      "text/plain": [
       "(40267, 18)"
      ]
     },
     "execution_count": 9,
     "metadata": {},
     "output_type": "execute_result"
    }
   ],
   "source": [
    "df.shape"
   ]
  },
  {
   "cell_type": "markdown",
   "id": "a8f5b82e",
   "metadata": {},
   "source": [
    "We will now check which columns have missing values and what kinds of values are in these columns. The 2 columns with missing values are Rfrg_Prvdr_Geo_Cd and Tot_Suplr_Benes."
   ]
  },
  {
   "cell_type": "code",
   "execution_count": 10,
   "id": "2f78da2f",
   "metadata": {},
   "outputs": [
    {
     "data": {
      "text/plain": [
       "Rfrg_Prvdr_Geo_Lvl             0\n",
       "Rfrg_Prvdr_Geo_Cd           1700\n",
       "Rfrg_Prvdr_Geo_Desc            0\n",
       "BETOS_Lvl                      0\n",
       "BETOS_Cd                       0\n",
       "BETOS_Desc                     0\n",
       "HCPCS_Cd                       0\n",
       "HCPCS_Desc                     0\n",
       "Suplr_Rentl_Ind                0\n",
       "Tot_Rfrg_Prvdrs                0\n",
       "Tot_Suplrs                     0\n",
       "Tot_Suplr_Benes             4649\n",
       "Tot_Suplr_Clms                 0\n",
       "Tot_Suplr_Srvcs                0\n",
       "Avg_Suplr_Sbmtd_Chrg           0\n",
       "Avg_Suplr_Mdcr_Alowd_Amt       0\n",
       "Avg_Suplr_Mdcr_Pymt_Amt        0\n",
       "Avg_Suplr_Mdcr_Stdzd_Amt       0\n",
       "dtype: int64"
      ]
     },
     "execution_count": 10,
     "metadata": {},
     "output_type": "execute_result"
    }
   ],
   "source": [
    "df.isnull().sum()"
   ]
  },
  {
   "cell_type": "markdown",
   "id": "b99c840b",
   "metadata": {},
   "source": [
    "Rfrg_Prvdr_Geo_Cd contains categorical values and we will use the mode to fill in the missing values."
   ]
  },
  {
   "cell_type": "code",
   "execution_count": 11,
   "id": "d8805471",
   "metadata": {},
   "outputs": [
    {
     "data": {
      "text/plain": [
       "6.0     1135\n",
       "36.0    1056\n",
       "48      1053\n",
       "12.0    1043\n",
       "42.0    1005\n",
       "        ... \n",
       "66        45\n",
       "9D        39\n",
       "9C        37\n",
       "69        18\n",
       "9A         3\n",
       "Name: Rfrg_Prvdr_Geo_Cd, Length: 61, dtype: int64"
      ]
     },
     "execution_count": 11,
     "metadata": {},
     "output_type": "execute_result"
    }
   ],
   "source": [
    "df['Rfrg_Prvdr_Geo_Cd'].value_counts()"
   ]
  },
  {
   "cell_type": "code",
   "execution_count": 12,
   "id": "38f4060f",
   "metadata": {},
   "outputs": [],
   "source": [
    "df['Rfrg_Prvdr_Geo_Cd'].fillna((df['Rfrg_Prvdr_Geo_Cd'].mode()[0]), inplace=True)"
   ]
  },
  {
   "cell_type": "markdown",
   "id": "a192d25e",
   "metadata": {},
   "source": [
    "Double checking the Rfrg_Prvdr_Geo_Cd column to make sure the # of rows now match the dataset."
   ]
  },
  {
   "cell_type": "code",
   "execution_count": 13,
   "id": "4cf63fe3",
   "metadata": {},
   "outputs": [
    {
     "data": {
      "text/plain": [
       "0        6.0\n",
       "1        6.0\n",
       "2        6.0\n",
       "3        6.0\n",
       "4        6.0\n",
       "        ... \n",
       "40262     9E\n",
       "40263     9E\n",
       "40264     9E\n",
       "40265     9E\n",
       "40266     9E\n",
       "Name: Rfrg_Prvdr_Geo_Cd, Length: 40267, dtype: object"
      ]
     },
     "execution_count": 13,
     "metadata": {},
     "output_type": "execute_result"
    }
   ],
   "source": [
    "df['Rfrg_Prvdr_Geo_Cd']"
   ]
  },
  {
   "cell_type": "markdown",
   "id": "21dd2e3a",
   "metadata": {},
   "source": [
    "Tot_Suplr_Benes contains numerical values and we will use the mean to fill in missing values."
   ]
  },
  {
   "cell_type": "code",
   "execution_count": 14,
   "id": "80c3a48b",
   "metadata": {},
   "outputs": [
    {
     "data": {
      "text/plain": [
       "11.0      822\n",
       "12.0      736\n",
       "13.0      688\n",
       "15.0      607\n",
       "14.0      603\n",
       "         ... \n",
       "961.0       1\n",
       "5913.0      1\n",
       "3687.0      1\n",
       "1252.0      1\n",
       "1026.0      1\n",
       "Name: Tot_Suplr_Benes, Length: 4322, dtype: int64"
      ]
     },
     "execution_count": 14,
     "metadata": {},
     "output_type": "execute_result"
    }
   ],
   "source": [
    "df['Tot_Suplr_Benes'].value_counts()"
   ]
  },
  {
   "cell_type": "code",
   "execution_count": 15,
   "id": "22dd8ab1",
   "metadata": {},
   "outputs": [],
   "source": [
    "df['Tot_Suplr_Benes'].fillna((df['Tot_Suplr_Benes'].mean()), inplace=True)"
   ]
  },
  {
   "cell_type": "markdown",
   "id": "46f6df9a",
   "metadata": {},
   "source": [
    "Double checking the Tot_Suplr_Benes column to make sure the # of rows now match the dataset."
   ]
  },
  {
   "cell_type": "code",
   "execution_count": 16,
   "id": "3e7427fa",
   "metadata": {},
   "outputs": [
    {
     "data": {
      "text/plain": [
       "0        33451.000000\n",
       "1        39110.000000\n",
       "2         7171.000000\n",
       "3           13.000000\n",
       "4           16.000000\n",
       "             ...     \n",
       "40262       39.000000\n",
       "40263       12.000000\n",
       "40264       27.000000\n",
       "40265       31.000000\n",
       "40266     1730.870796\n",
       "Name: Tot_Suplr_Benes, Length: 40267, dtype: float64"
      ]
     },
     "execution_count": 16,
     "metadata": {},
     "output_type": "execute_result"
    }
   ],
   "source": [
    "df['Tot_Suplr_Benes']"
   ]
  },
  {
   "cell_type": "markdown",
   "id": "d5b2957f",
   "metadata": {},
   "source": [
    "Using the isnull() method to double check if our dataset still contains missing values. There are no missing values in our dataset now,"
   ]
  },
  {
   "cell_type": "code",
   "execution_count": 17,
   "id": "4978cea6",
   "metadata": {},
   "outputs": [
    {
     "data": {
      "text/plain": [
       "Rfrg_Prvdr_Geo_Lvl          0\n",
       "Rfrg_Prvdr_Geo_Cd           0\n",
       "Rfrg_Prvdr_Geo_Desc         0\n",
       "BETOS_Lvl                   0\n",
       "BETOS_Cd                    0\n",
       "BETOS_Desc                  0\n",
       "HCPCS_Cd                    0\n",
       "HCPCS_Desc                  0\n",
       "Suplr_Rentl_Ind             0\n",
       "Tot_Rfrg_Prvdrs             0\n",
       "Tot_Suplrs                  0\n",
       "Tot_Suplr_Benes             0\n",
       "Tot_Suplr_Clms              0\n",
       "Tot_Suplr_Srvcs             0\n",
       "Avg_Suplr_Sbmtd_Chrg        0\n",
       "Avg_Suplr_Mdcr_Alowd_Amt    0\n",
       "Avg_Suplr_Mdcr_Pymt_Amt     0\n",
       "Avg_Suplr_Mdcr_Stdzd_Amt    0\n",
       "dtype: int64"
      ]
     },
     "execution_count": 17,
     "metadata": {},
     "output_type": "execute_result"
    }
   ],
   "source": [
    "df.isnull().sum()"
   ]
  },
  {
   "cell_type": "markdown",
   "id": "f96750a2",
   "metadata": {},
   "source": [
    "Using the duplicated() method to check if our dataset contains any duplicated rows. From the results, there were no duplicated rows in the dataset."
   ]
  },
  {
   "cell_type": "code",
   "execution_count": 18,
   "id": "cbc072df",
   "metadata": {},
   "outputs": [
    {
     "data": {
      "text/html": [
       "<div>\n",
       "<style scoped>\n",
       "    .dataframe tbody tr th:only-of-type {\n",
       "        vertical-align: middle;\n",
       "    }\n",
       "\n",
       "    .dataframe tbody tr th {\n",
       "        vertical-align: top;\n",
       "    }\n",
       "\n",
       "    .dataframe thead th {\n",
       "        text-align: right;\n",
       "    }\n",
       "</style>\n",
       "<table border=\"1\" class=\"dataframe\">\n",
       "  <thead>\n",
       "    <tr style=\"text-align: right;\">\n",
       "      <th></th>\n",
       "      <th>Rfrg_Prvdr_Geo_Lvl</th>\n",
       "      <th>Rfrg_Prvdr_Geo_Cd</th>\n",
       "      <th>Rfrg_Prvdr_Geo_Desc</th>\n",
       "      <th>BETOS_Lvl</th>\n",
       "      <th>BETOS_Cd</th>\n",
       "      <th>BETOS_Desc</th>\n",
       "      <th>HCPCS_Cd</th>\n",
       "      <th>HCPCS_Desc</th>\n",
       "      <th>Suplr_Rentl_Ind</th>\n",
       "      <th>Tot_Rfrg_Prvdrs</th>\n",
       "      <th>Tot_Suplrs</th>\n",
       "      <th>Tot_Suplr_Benes</th>\n",
       "      <th>Tot_Suplr_Clms</th>\n",
       "      <th>Tot_Suplr_Srvcs</th>\n",
       "      <th>Avg_Suplr_Sbmtd_Chrg</th>\n",
       "      <th>Avg_Suplr_Mdcr_Alowd_Amt</th>\n",
       "      <th>Avg_Suplr_Mdcr_Pymt_Amt</th>\n",
       "      <th>Avg_Suplr_Mdcr_Stdzd_Amt</th>\n",
       "    </tr>\n",
       "  </thead>\n",
       "  <tbody>\n",
       "  </tbody>\n",
       "</table>\n",
       "</div>"
      ],
      "text/plain": [
       "Empty DataFrame\n",
       "Columns: [Rfrg_Prvdr_Geo_Lvl, Rfrg_Prvdr_Geo_Cd, Rfrg_Prvdr_Geo_Desc, BETOS_Lvl, BETOS_Cd, BETOS_Desc, HCPCS_Cd, HCPCS_Desc, Suplr_Rentl_Ind, Tot_Rfrg_Prvdrs, Tot_Suplrs, Tot_Suplr_Benes, Tot_Suplr_Clms, Tot_Suplr_Srvcs, Avg_Suplr_Sbmtd_Chrg, Avg_Suplr_Mdcr_Alowd_Amt, Avg_Suplr_Mdcr_Pymt_Amt, Avg_Suplr_Mdcr_Stdzd_Amt]\n",
       "Index: []"
      ]
     },
     "execution_count": 18,
     "metadata": {},
     "output_type": "execute_result"
    }
   ],
   "source": [
    "duplicateRowsDF=df[df.duplicated()]\n",
    "duplicateRowsDF"
   ]
  },
  {
   "cell_type": "code",
   "execution_count": 19,
   "id": "60f488b8",
   "metadata": {},
   "outputs": [
    {
     "data": {
      "text/plain": [
       "(40267, 18)"
      ]
     },
     "execution_count": 19,
     "metadata": {},
     "output_type": "execute_result"
    }
   ],
   "source": [
    "df.shape"
   ]
  },
  {
   "cell_type": "code",
   "execution_count": 20,
   "id": "17dbc417",
   "metadata": {},
   "outputs": [
    {
     "data": {
      "text/html": [
       "<div>\n",
       "<style scoped>\n",
       "    .dataframe tbody tr th:only-of-type {\n",
       "        vertical-align: middle;\n",
       "    }\n",
       "\n",
       "    .dataframe tbody tr th {\n",
       "        vertical-align: top;\n",
       "    }\n",
       "\n",
       "    .dataframe thead th {\n",
       "        text-align: right;\n",
       "    }\n",
       "</style>\n",
       "<table border=\"1\" class=\"dataframe\">\n",
       "  <thead>\n",
       "    <tr style=\"text-align: right;\">\n",
       "      <th></th>\n",
       "      <th>Rfrg_Prvdr_Geo_Lvl</th>\n",
       "      <th>Rfrg_Prvdr_Geo_Cd</th>\n",
       "      <th>Rfrg_Prvdr_Geo_Desc</th>\n",
       "      <th>BETOS_Lvl</th>\n",
       "      <th>BETOS_Cd</th>\n",
       "      <th>BETOS_Desc</th>\n",
       "      <th>HCPCS_Cd</th>\n",
       "      <th>HCPCS_Desc</th>\n",
       "      <th>Suplr_Rentl_Ind</th>\n",
       "      <th>Tot_Rfrg_Prvdrs</th>\n",
       "      <th>Tot_Suplrs</th>\n",
       "      <th>Tot_Suplr_Benes</th>\n",
       "      <th>Tot_Suplr_Clms</th>\n",
       "      <th>Tot_Suplr_Srvcs</th>\n",
       "      <th>Avg_Suplr_Sbmtd_Chrg</th>\n",
       "      <th>Avg_Suplr_Mdcr_Alowd_Amt</th>\n",
       "      <th>Avg_Suplr_Mdcr_Pymt_Amt</th>\n",
       "      <th>Avg_Suplr_Mdcr_Stdzd_Amt</th>\n",
       "    </tr>\n",
       "  </thead>\n",
       "  <tbody>\n",
       "    <tr>\n",
       "      <th>0</th>\n",
       "      <td>National</td>\n",
       "      <td>6.0</td>\n",
       "      <td>National</td>\n",
       "      <td>Drugs and Nutritional Products</td>\n",
       "      <td>O1C</td>\n",
       "      <td>Enteral and parenteral</td>\n",
       "      <td>B4034</td>\n",
       "      <td>Enteral feeding supply kit; syringe fed, per d...</td>\n",
       "      <td>N</td>\n",
       "      <td>28183</td>\n",
       "      <td>1745</td>\n",
       "      <td>33451.0</td>\n",
       "      <td>171371</td>\n",
       "      <td>4627387</td>\n",
       "      <td>58.266520</td>\n",
       "      <td>3.718512</td>\n",
       "      <td>2.918066</td>\n",
       "      <td>3.047039</td>\n",
       "    </tr>\n",
       "    <tr>\n",
       "      <th>1</th>\n",
       "      <td>National</td>\n",
       "      <td>6.0</td>\n",
       "      <td>National</td>\n",
       "      <td>Drugs and Nutritional Products</td>\n",
       "      <td>O1C</td>\n",
       "      <td>Enteral and parenteral</td>\n",
       "      <td>B4035</td>\n",
       "      <td>Enteral feeding supply kit; pump fed, per day,...</td>\n",
       "      <td>N</td>\n",
       "      <td>27342</td>\n",
       "      <td>1758</td>\n",
       "      <td>39110.0</td>\n",
       "      <td>271836</td>\n",
       "      <td>7050743</td>\n",
       "      <td>75.495042</td>\n",
       "      <td>6.433860</td>\n",
       "      <td>5.067509</td>\n",
       "      <td>5.552222</td>\n",
       "    </tr>\n",
       "    <tr>\n",
       "      <th>2</th>\n",
       "      <td>National</td>\n",
       "      <td>6.0</td>\n",
       "      <td>National</td>\n",
       "      <td>Drugs and Nutritional Products</td>\n",
       "      <td>O1C</td>\n",
       "      <td>Enteral and parenteral</td>\n",
       "      <td>B4036</td>\n",
       "      <td>Enteral feeding supply kit; gravity fed, per d...</td>\n",
       "      <td>N</td>\n",
       "      <td>6166</td>\n",
       "      <td>933</td>\n",
       "      <td>7171.0</td>\n",
       "      <td>41181</td>\n",
       "      <td>1116382</td>\n",
       "      <td>75.172639</td>\n",
       "      <td>5.036933</td>\n",
       "      <td>3.959289</td>\n",
       "      <td>4.100195</td>\n",
       "    </tr>\n",
       "    <tr>\n",
       "      <th>3</th>\n",
       "      <td>National</td>\n",
       "      <td>6.0</td>\n",
       "      <td>National</td>\n",
       "      <td>Drugs and Nutritional Products</td>\n",
       "      <td>O1C</td>\n",
       "      <td>Enteral and parenteral</td>\n",
       "      <td>B4081</td>\n",
       "      <td>Nasogastric tubing with stylet</td>\n",
       "      <td>N</td>\n",
       "      <td>14</td>\n",
       "      <td>12</td>\n",
       "      <td>13.0</td>\n",
       "      <td>20</td>\n",
       "      <td>33</td>\n",
       "      <td>113.736061</td>\n",
       "      <td>17.292727</td>\n",
       "      <td>13.833939</td>\n",
       "      <td>13.579697</td>\n",
       "    </tr>\n",
       "    <tr>\n",
       "      <th>4</th>\n",
       "      <td>National</td>\n",
       "      <td>6.0</td>\n",
       "      <td>National</td>\n",
       "      <td>Drugs and Nutritional Products</td>\n",
       "      <td>O1C</td>\n",
       "      <td>Enteral and parenteral</td>\n",
       "      <td>B4082</td>\n",
       "      <td>Nasogastric tubing without stylet</td>\n",
       "      <td>N</td>\n",
       "      <td>16</td>\n",
       "      <td>16</td>\n",
       "      <td>16.0</td>\n",
       "      <td>21</td>\n",
       "      <td>43</td>\n",
       "      <td>99.110930</td>\n",
       "      <td>12.532093</td>\n",
       "      <td>9.502326</td>\n",
       "      <td>9.463488</td>\n",
       "    </tr>\n",
       "  </tbody>\n",
       "</table>\n",
       "</div>"
      ],
      "text/plain": [
       "  Rfrg_Prvdr_Geo_Lvl Rfrg_Prvdr_Geo_Cd Rfrg_Prvdr_Geo_Desc  \\\n",
       "0           National               6.0            National   \n",
       "1           National               6.0            National   \n",
       "2           National               6.0            National   \n",
       "3           National               6.0            National   \n",
       "4           National               6.0            National   \n",
       "\n",
       "                        BETOS_Lvl BETOS_Cd              BETOS_Desc HCPCS_Cd  \\\n",
       "0  Drugs and Nutritional Products      O1C  Enteral and parenteral    B4034   \n",
       "1  Drugs and Nutritional Products      O1C  Enteral and parenteral    B4035   \n",
       "2  Drugs and Nutritional Products      O1C  Enteral and parenteral    B4036   \n",
       "3  Drugs and Nutritional Products      O1C  Enteral and parenteral    B4081   \n",
       "4  Drugs and Nutritional Products      O1C  Enteral and parenteral    B4082   \n",
       "\n",
       "                                          HCPCS_Desc Suplr_Rentl_Ind  \\\n",
       "0  Enteral feeding supply kit; syringe fed, per d...               N   \n",
       "1  Enteral feeding supply kit; pump fed, per day,...               N   \n",
       "2  Enteral feeding supply kit; gravity fed, per d...               N   \n",
       "3                     Nasogastric tubing with stylet               N   \n",
       "4                  Nasogastric tubing without stylet               N   \n",
       "\n",
       "   Tot_Rfrg_Prvdrs  Tot_Suplrs  Tot_Suplr_Benes  Tot_Suplr_Clms  \\\n",
       "0            28183        1745          33451.0          171371   \n",
       "1            27342        1758          39110.0          271836   \n",
       "2             6166         933           7171.0           41181   \n",
       "3               14          12             13.0              20   \n",
       "4               16          16             16.0              21   \n",
       "\n",
       "   Tot_Suplr_Srvcs  Avg_Suplr_Sbmtd_Chrg  Avg_Suplr_Mdcr_Alowd_Amt  \\\n",
       "0          4627387             58.266520                  3.718512   \n",
       "1          7050743             75.495042                  6.433860   \n",
       "2          1116382             75.172639                  5.036933   \n",
       "3               33            113.736061                 17.292727   \n",
       "4               43             99.110930                 12.532093   \n",
       "\n",
       "   Avg_Suplr_Mdcr_Pymt_Amt  Avg_Suplr_Mdcr_Stdzd_Amt  \n",
       "0                 2.918066                  3.047039  \n",
       "1                 5.067509                  5.552222  \n",
       "2                 3.959289                  4.100195  \n",
       "3                13.833939                 13.579697  \n",
       "4                 9.502326                  9.463488  "
      ]
     },
     "execution_count": 20,
     "metadata": {},
     "output_type": "execute_result"
    }
   ],
   "source": [
    "df.head()"
   ]
  },
  {
   "cell_type": "markdown",
   "id": "0849b880",
   "metadata": {},
   "source": [
    "We check the first 5 rows of our dataset again, we can see there are no longer any NaN values. We save this transformed data to a new file 'Wrangled.csv'."
   ]
  },
  {
   "cell_type": "code",
   "execution_count": 21,
   "id": "50931884",
   "metadata": {},
   "outputs": [],
   "source": [
    "df.to_csv('Wrangled.csv')"
   ]
  }
 ],
 "metadata": {
  "kernelspec": {
   "display_name": "Python 3 (ipykernel)",
   "language": "python",
   "name": "python3"
  },
  "language_info": {
   "codemirror_mode": {
    "name": "ipython",
    "version": 3
   },
   "file_extension": ".py",
   "mimetype": "text/x-python",
   "name": "python",
   "nbconvert_exporter": "python",
   "pygments_lexer": "ipython3",
   "version": "3.11.5"
  }
 },
 "nbformat": 4,
 "nbformat_minor": 5
}
